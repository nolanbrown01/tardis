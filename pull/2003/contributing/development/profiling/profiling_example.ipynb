{
 "cells": [
  {
   "cell_type": "markdown",
   "id": "a9336af1",
   "metadata": {},
   "source": [
    "# Basic Profile of TARDIS #"
   ]
  },
  {
   "cell_type": "markdown",
   "id": "e825ec8b",
   "metadata": {},
   "source": [
    "A profile is a set of statistics that describes how often and for how long various parts of the program execute (cProfile). A majority of TARDIS can be profiled, however, some code is Numba code, which cannot be profiled. This is because Numba compiles these functions directly to machine code; the python interpreter doesn’t see these functions and therefore it doesn’t read them.\n",
    "\n",
    "This notebook uses snakeviz, which is a graphical viewer for the output of cProfile, to visualize the results and make them interactive. In order to use SnakeViz, you must first download it via pip. The first cell loads SnakeViz and gets the notebook ready to run TARDIS."
   ]
  },
  {
   "cell_type": "code",
   "execution_count": 1,
   "id": "88cdeafd",
   "metadata": {
    "execution": {
     "iopub.execute_input": "2022-05-03T20:38:46.918861Z",
     "iopub.status.busy": "2022-05-03T20:38:46.914934Z",
     "iopub.status.idle": "2022-05-03T20:38:50.212638Z",
     "shell.execute_reply": "2022-05-03T20:38:50.212020Z"
    }
   },
   "outputs": [
    {
     "name": "stderr",
     "output_type": "stream",
     "text": [
      "/usr/share/miniconda3/envs/tardis/lib/python3.8/site-packages/setuptools_scm/git.py:105: UserWarning: \"/home/runner/work/tardis/tardis\" is shallow and may cause errors\n",
      "  warnings.warn(f'\"{wd.path}\" is shallow and may cause errors')\n"
     ]
    },
    {
     "name": "stderr",
     "output_type": "stream",
     "text": [
      "/usr/share/miniconda3/envs/tardis/lib/python3.8/site-packages/traitlets/traitlets.py:3044: FutureWarning: --rc={'figure.dpi': 96} for dict-traits is deprecated in traitlets 5.0. You can pass --rc <key=value> ... multiple times to add items to a dict.\n",
      "  warn(\n"
     ]
    },
    {
     "data": {
      "application/vnd.jupyter.widget-view+json": {
       "model_id": "e364c59da5a7456587838732e10d956f",
       "version_major": 2,
       "version_minor": 0
      },
      "text/plain": [
       "Iterations:          0/? [00:00<?, ?it/s]"
      ]
     },
     "metadata": {},
     "output_type": "display_data"
    },
    {
     "data": {
      "application/vnd.jupyter.widget-view+json": {
       "model_id": "2a78af1985cd4a4aa00b9112ebab224f",
       "version_major": 2,
       "version_minor": 0
      },
      "text/plain": [
       "Packets:             0/? [00:00<?, ?it/s]"
      ]
     },
     "metadata": {},
     "output_type": "display_data"
    }
   ],
   "source": [
    "%load_ext snakeviz\n",
    "\n",
    "from tardis import run_tardis\n",
    "from tardis.io.atom_data.util import download_atom_data\n",
    "download_atom_data('kurucz_cd23_chianti_H_He')"
   ]
  },
  {
   "cell_type": "markdown",
   "id": "156b9891",
   "metadata": {},
   "source": [
    "I am telling the cell below to use snakeviz on the function below, which is a run of TARDIS in its enteriety. An option is to add the -t flag, which will tell it to display the HTML in a new tab, instead of embedding it."
   ]
  },
  {
   "cell_type": "code",
   "execution_count": 2,
   "id": "32f39ab9",
   "metadata": {
    "execution": {
     "iopub.execute_input": "2022-05-03T20:38:50.218019Z",
     "iopub.status.busy": "2022-05-03T20:38:50.216927Z",
     "iopub.status.idle": "2022-05-03T20:40:09.504190Z",
     "shell.execute_reply": "2022-05-03T20:40:09.503435Z"
    },
    "scrolled": true
   },
   "outputs": [
    {
     "name": "stdout",
     "output_type": "stream",
     "text": [
      "[\u001b[1mtardis.plasma.standard_plasmas\u001b[0m][\u001b[1;37mINFO\u001b[0m   ]  \n",
      "\t\n",
      "\tReading Atomic Data from kurucz_cd23_chianti_H_He.h5 (\u001b[1mstandard_plasmas.py\u001b[0m:93)\n"
     ]
    },
    {
     "name": "stdout",
     "output_type": "stream",
     "text": [
      "[\u001b[1mtardis.io.atom_data.util\u001b[0m][\u001b[1;37mINFO\u001b[0m   ]  \n",
      "\t\n",
      "\tAtom Data kurucz_cd23_chianti_H_He.h5 not found in local path.\n",
      "\tExists in TARDIS Data repo /home/runner/Downloads/tardis-data/kurucz_cd23_chianti_H_He.h5 (\u001b[1mutil.py\u001b[0m:33)\n"
     ]
    },
    {
     "name": "stdout",
     "output_type": "stream",
     "text": [
      "[\u001b[1mtardis.io.atom_data.base\u001b[0m][\u001b[1;37mINFO\u001b[0m   ]  \n",
      "\tReading Atom Data with: UUID = 6f7b09e887a311e7a06b246e96350010 MD5  = 864f1753714343c41f99cb065710cace  (\u001b[1mbase.py\u001b[0m:203)\n"
     ]
    },
    {
     "name": "stdout",
     "output_type": "stream",
     "text": [
      "[\u001b[1mtardis.io.atom_data.base\u001b[0m][\u001b[1;37mINFO\u001b[0m   ]  \n",
      "\tNon provided Atomic Data: synpp_refs, photoionization_data, yg_data, two_photon_data (\u001b[1mbase.py\u001b[0m:207)\n"
     ]
    },
    {
     "name": "stdout",
     "output_type": "stream",
     "text": [
      "[\u001b[1mpy.warnings         \u001b[0m][\u001b[1;33mWARNING\u001b[0m]  \n",
      "\t/home/runner/work/tardis/tardis/tardis/plasma/properties/radiative_properties.py:93: RuntimeWarning: invalid value encountered in true_divide\n",
      "  (g_lower * n_upper) / (g_upper * n_lower)\n",
      " (\u001b[1mwarnings.py\u001b[0m:109)\n"
     ]
    },
    {
     "name": "stdout",
     "output_type": "stream",
     "text": [
      "[\u001b[1mpy.warnings         \u001b[0m][\u001b[1;33mWARNING\u001b[0m]  \n",
      "\t/home/runner/work/tardis/tardis/tardis/plasma/properties/radiative_properties.py:93: RuntimeWarning: invalid value encountered in true_divide\n",
      "  (g_lower * n_upper) / (g_upper * n_lower)\n",
      " (\u001b[1mwarnings.py\u001b[0m:109)\n"
     ]
    },
    {
     "name": "stdout",
     "output_type": "stream",
     "text": [
      "[\u001b[1mtardis.simulation.base\u001b[0m][\u001b[1;37mINFO\u001b[0m   ]  \n",
      "\t\n",
      "\tStarting iteration 1 of 20 (\u001b[1mbase.py\u001b[0m:378)\n"
     ]
    },
    {
     "data": {
      "application/vnd.jupyter.widget-view+json": {
       "model_id": "7fc7792ecfd3412d9e17b909bdef4d7e",
       "version_major": 2,
       "version_minor": 0
      },
      "text/plain": [
       "TqdmHBox(children=(HTML(value='Iterations:', layout=Layout(width='6%')), FloatProgress(value=0.0, layout=Layou…"
      ]
     },
     "metadata": {},
     "output_type": "display_data"
    },
    {
     "data": {
      "application/vnd.jupyter.widget-view+json": {
       "model_id": "cc19ce4335d74d6990b862413be63f9c",
       "version_major": 2,
       "version_minor": 0
      },
      "text/plain": [
       "TqdmHBox(children=(HTML(value='Packets:   ', layout=Layout(width='6%')), FloatProgress(value=0.0, layout=Layou…"
      ]
     },
     "metadata": {},
     "output_type": "display_data"
    },
    {
     "name": "stdout",
     "output_type": "stream",
     "text": [
      "[\u001b[1mtardis.simulation.base\u001b[0m][\u001b[1;37mINFO\u001b[0m   ]  \n",
      "\t\n",
      "\tLuminosity emitted   = 7.942e+42 erg / s\n",
      "\tLuminosity absorbed  = 2.659e+42 erg / s\n",
      "\tLuminosity requested = 1.059e+43 erg / s\n",
      " (\u001b[1mbase.py\u001b[0m:547)\n"
     ]
    },
    {
     "name": "stdout",
     "output_type": "stream",
     "text": [
      "[\u001b[1mtardis.simulation.base\u001b[0m][\u001b[1;37mINFO\u001b[0m   ]  \n",
      "\t\n",
      "\tPlasma stratification: (\u001b[1mbase.py\u001b[0m:515)\n"
     ]
    },
    {
     "data": {
      "text/html": [
       "<style  type=\"text/css\" >\n",
       "</style><table id=\"T_257e8a10_cb21_11ec_b637_0022480bb4c5\" ><thead>    <tr>        <th class=\"index_name level0\" >Shell No.</th>        <th class=\"col_heading level0 col0\" >t_rad</th>        <th class=\"col_heading level0 col1\" >next_t_rad</th>        <th class=\"col_heading level0 col2\" >w</th>        <th class=\"col_heading level0 col3\" >next_w</th>    </tr></thead><tbody>\n",
       "                <tr>\n",
       "                        <th id=\"T_257e8a10_cb21_11ec_b637_0022480bb4c5level0_row0\" class=\"row_heading level0 row0\" >0</th>\n",
       "                        <td id=\"T_257e8a10_cb21_11ec_b637_0022480bb4c5row0_col0\" class=\"data row0 col0\" >9.93e+03</td>\n",
       "                        <td id=\"T_257e8a10_cb21_11ec_b637_0022480bb4c5row0_col1\" class=\"data row0 col1\" >1.01e+04</td>\n",
       "                        <td id=\"T_257e8a10_cb21_11ec_b637_0022480bb4c5row0_col2\" class=\"data row0 col2\" >0.4</td>\n",
       "                        <td id=\"T_257e8a10_cb21_11ec_b637_0022480bb4c5row0_col3\" class=\"data row0 col3\" >0.507</td>\n",
       "            </tr>\n",
       "            <tr>\n",
       "                        <th id=\"T_257e8a10_cb21_11ec_b637_0022480bb4c5level0_row1\" class=\"row_heading level0 row1\" >5</th>\n",
       "                        <td id=\"T_257e8a10_cb21_11ec_b637_0022480bb4c5row1_col0\" class=\"data row1 col0\" >9.85e+03</td>\n",
       "                        <td id=\"T_257e8a10_cb21_11ec_b637_0022480bb4c5row1_col1\" class=\"data row1 col1\" >1.02e+04</td>\n",
       "                        <td id=\"T_257e8a10_cb21_11ec_b637_0022480bb4c5row1_col2\" class=\"data row1 col2\" >0.211</td>\n",
       "                        <td id=\"T_257e8a10_cb21_11ec_b637_0022480bb4c5row1_col3\" class=\"data row1 col3\" >0.197</td>\n",
       "            </tr>\n",
       "            <tr>\n",
       "                        <th id=\"T_257e8a10_cb21_11ec_b637_0022480bb4c5level0_row2\" class=\"row_heading level0 row2\" >10</th>\n",
       "                        <td id=\"T_257e8a10_cb21_11ec_b637_0022480bb4c5row2_col0\" class=\"data row2 col0\" >9.78e+03</td>\n",
       "                        <td id=\"T_257e8a10_cb21_11ec_b637_0022480bb4c5row2_col1\" class=\"data row2 col1\" >1.01e+04</td>\n",
       "                        <td id=\"T_257e8a10_cb21_11ec_b637_0022480bb4c5row2_col2\" class=\"data row2 col2\" >0.143</td>\n",
       "                        <td id=\"T_257e8a10_cb21_11ec_b637_0022480bb4c5row2_col3\" class=\"data row2 col3\" >0.117</td>\n",
       "            </tr>\n",
       "            <tr>\n",
       "                        <th id=\"T_257e8a10_cb21_11ec_b637_0022480bb4c5level0_row3\" class=\"row_heading level0 row3\" >15</th>\n",
       "                        <td id=\"T_257e8a10_cb21_11ec_b637_0022480bb4c5row3_col0\" class=\"data row3 col0\" >9.71e+03</td>\n",
       "                        <td id=\"T_257e8a10_cb21_11ec_b637_0022480bb4c5row3_col1\" class=\"data row3 col1\" >9.87e+03</td>\n",
       "                        <td id=\"T_257e8a10_cb21_11ec_b637_0022480bb4c5row3_col2\" class=\"data row3 col2\" >0.105</td>\n",
       "                        <td id=\"T_257e8a10_cb21_11ec_b637_0022480bb4c5row3_col3\" class=\"data row3 col3\" >0.0869</td>\n",
       "            </tr>\n",
       "    </tbody></table>"
      ],
      "text/plain": [
       "<pandas.io.formats.style.Styler at 0x7f97abdfdc40>"
      ]
     },
     "metadata": {},
     "output_type": "display_data"
    },
    {
     "name": "stdout",
     "output_type": "stream",
     "text": [
      "[\u001b[1mtardis.simulation.base\u001b[0m][\u001b[1;37mINFO\u001b[0m   ]  \n",
      "\t\n",
      "\tCurrent t_inner = 9933.952 K\n",
      "\tExpected t_inner for next iteration = 10703.212 K\n",
      " (\u001b[1mbase.py\u001b[0m:542)\n"
     ]
    },
    {
     "name": "stdout",
     "output_type": "stream",
     "text": [
      "[\u001b[1mpy.warnings         \u001b[0m][\u001b[1;33mWARNING\u001b[0m]  \n",
      "\t/home/runner/work/tardis/tardis/tardis/plasma/properties/radiative_properties.py:93: RuntimeWarning: invalid value encountered in true_divide\n",
      "  (g_lower * n_upper) / (g_upper * n_lower)\n",
      " (\u001b[1mwarnings.py\u001b[0m:109)\n"
     ]
    },
    {
     "name": "stdout",
     "output_type": "stream",
     "text": [
      "[\u001b[1mtardis.simulation.base\u001b[0m][\u001b[1;37mINFO\u001b[0m   ]  \n",
      "\t\n",
      "\tStarting iteration 2 of 20 (\u001b[1mbase.py\u001b[0m:378)\n"
     ]
    },
    {
     "name": "stdout",
     "output_type": "stream",
     "text": [
      "[\u001b[1mtardis.simulation.base\u001b[0m][\u001b[1;37mINFO\u001b[0m   ]  \n",
      "\t\n",
      "\tLuminosity emitted   = 1.071e+43 erg / s\n",
      "\tLuminosity absorbed  = 3.576e+42 erg / s\n",
      "\tLuminosity requested = 1.059e+43 erg / s\n",
      " (\u001b[1mbase.py\u001b[0m:547)\n"
     ]
    },
    {
     "name": "stdout",
     "output_type": "stream",
     "text": [
      "[\u001b[1mtardis.simulation.base\u001b[0m][\u001b[1;37mINFO\u001b[0m   ]  \n",
      "\t\n",
      "\tPlasma stratification: (\u001b[1mbase.py\u001b[0m:515)\n"
     ]
    },
    {
     "data": {
      "text/html": [
       "<style  type=\"text/css\" >\n",
       "</style><table id=\"T_261d69fa_cb21_11ec_b637_0022480bb4c5\" ><thead>    <tr>        <th class=\"index_name level0\" >Shell No.</th>        <th class=\"col_heading level0 col0\" >t_rad</th>        <th class=\"col_heading level0 col1\" >next_t_rad</th>        <th class=\"col_heading level0 col2\" >w</th>        <th class=\"col_heading level0 col3\" >next_w</th>    </tr></thead><tbody>\n",
       "                <tr>\n",
       "                        <th id=\"T_261d69fa_cb21_11ec_b637_0022480bb4c5level0_row0\" class=\"row_heading level0 row0\" >0</th>\n",
       "                        <td id=\"T_261d69fa_cb21_11ec_b637_0022480bb4c5row0_col0\" class=\"data row0 col0\" >1.01e+04</td>\n",
       "                        <td id=\"T_261d69fa_cb21_11ec_b637_0022480bb4c5row0_col1\" class=\"data row0 col1\" >1.08e+04</td>\n",
       "                        <td id=\"T_261d69fa_cb21_11ec_b637_0022480bb4c5row0_col2\" class=\"data row0 col2\" >0.507</td>\n",
       "                        <td id=\"T_261d69fa_cb21_11ec_b637_0022480bb4c5row0_col3\" class=\"data row0 col3\" >0.525</td>\n",
       "            </tr>\n",
       "            <tr>\n",
       "                        <th id=\"T_261d69fa_cb21_11ec_b637_0022480bb4c5level0_row1\" class=\"row_heading level0 row1\" >5</th>\n",
       "                        <td id=\"T_261d69fa_cb21_11ec_b637_0022480bb4c5row1_col0\" class=\"data row1 col0\" >1.02e+04</td>\n",
       "                        <td id=\"T_261d69fa_cb21_11ec_b637_0022480bb4c5row1_col1\" class=\"data row1 col1\" >1.1e+04</td>\n",
       "                        <td id=\"T_261d69fa_cb21_11ec_b637_0022480bb4c5row1_col2\" class=\"data row1 col2\" >0.197</td>\n",
       "                        <td id=\"T_261d69fa_cb21_11ec_b637_0022480bb4c5row1_col3\" class=\"data row1 col3\" >0.203</td>\n",
       "            </tr>\n",
       "            <tr>\n",
       "                        <th id=\"T_261d69fa_cb21_11ec_b637_0022480bb4c5level0_row2\" class=\"row_heading level0 row2\" >10</th>\n",
       "                        <td id=\"T_261d69fa_cb21_11ec_b637_0022480bb4c5row2_col0\" class=\"data row2 col0\" >1.01e+04</td>\n",
       "                        <td id=\"T_261d69fa_cb21_11ec_b637_0022480bb4c5row2_col1\" class=\"data row2 col1\" >1.08e+04</td>\n",
       "                        <td id=\"T_261d69fa_cb21_11ec_b637_0022480bb4c5row2_col2\" class=\"data row2 col2\" >0.117</td>\n",
       "                        <td id=\"T_261d69fa_cb21_11ec_b637_0022480bb4c5row2_col3\" class=\"data row2 col3\" >0.125</td>\n",
       "            </tr>\n",
       "            <tr>\n",
       "                        <th id=\"T_261d69fa_cb21_11ec_b637_0022480bb4c5level0_row3\" class=\"row_heading level0 row3\" >15</th>\n",
       "                        <td id=\"T_261d69fa_cb21_11ec_b637_0022480bb4c5row3_col0\" class=\"data row3 col0\" >9.87e+03</td>\n",
       "                        <td id=\"T_261d69fa_cb21_11ec_b637_0022480bb4c5row3_col1\" class=\"data row3 col1\" >1.05e+04</td>\n",
       "                        <td id=\"T_261d69fa_cb21_11ec_b637_0022480bb4c5row3_col2\" class=\"data row3 col2\" >0.0869</td>\n",
       "                        <td id=\"T_261d69fa_cb21_11ec_b637_0022480bb4c5row3_col3\" class=\"data row3 col3\" >0.0933</td>\n",
       "            </tr>\n",
       "    </tbody></table>"
      ],
      "text/plain": [
       "<pandas.io.formats.style.Styler at 0x7f97ad7d7040>"
      ]
     },
     "metadata": {},
     "output_type": "display_data"
    },
    {
     "name": "stdout",
     "output_type": "stream",
     "text": [
      "[\u001b[1mtardis.simulation.base\u001b[0m][\u001b[1;37mINFO\u001b[0m   ]  \n",
      "\t\n",
      "\tCurrent t_inner = 10703.212 K\n",
      "\tExpected t_inner for next iteration = 10673.712 K\n",
      " (\u001b[1mbase.py\u001b[0m:542)\n"
     ]
    },
    {
     "name": "stdout",
     "output_type": "stream",
     "text": [
      "[\u001b[1mtardis.simulation.base\u001b[0m][\u001b[1;37mINFO\u001b[0m   ]  \n",
      "\t\n",
      "\tStarting iteration 3 of 20 (\u001b[1mbase.py\u001b[0m:378)\n"
     ]
    },
    {
     "name": "stdout",
     "output_type": "stream",
     "text": [
      "[\u001b[1mtardis.simulation.base\u001b[0m][\u001b[1;37mINFO\u001b[0m   ]  \n",
      "\t\n",
      "\tLuminosity emitted   = 1.074e+43 erg / s\n",
      "\tLuminosity absorbed  = 3.391e+42 erg / s\n",
      "\tLuminosity requested = 1.059e+43 erg / s\n",
      " (\u001b[1mbase.py\u001b[0m:547)\n"
     ]
    },
    {
     "name": "stdout",
     "output_type": "stream",
     "text": [
      "[\u001b[1mtardis.simulation.base\u001b[0m][\u001b[1;37mINFO\u001b[0m   ]  \n",
      "\t\n",
      "\tPlasma stratification: (\u001b[1mbase.py\u001b[0m:515)\n"
     ]
    },
    {
     "data": {
      "text/html": [
       "<style  type=\"text/css\" >\n",
       "</style><table id=\"T_26b9a298_cb21_11ec_b637_0022480bb4c5\" ><thead>    <tr>        <th class=\"index_name level0\" >Shell No.</th>        <th class=\"col_heading level0 col0\" >t_rad</th>        <th class=\"col_heading level0 col1\" >next_t_rad</th>        <th class=\"col_heading level0 col2\" >w</th>        <th class=\"col_heading level0 col3\" >next_w</th>    </tr></thead><tbody>\n",
       "                <tr>\n",
       "                        <th id=\"T_26b9a298_cb21_11ec_b637_0022480bb4c5level0_row0\" class=\"row_heading level0 row0\" >0</th>\n",
       "                        <td id=\"T_26b9a298_cb21_11ec_b637_0022480bb4c5row0_col0\" class=\"data row0 col0\" >1.08e+04</td>\n",
       "                        <td id=\"T_26b9a298_cb21_11ec_b637_0022480bb4c5row0_col1\" class=\"data row0 col1\" >1.1e+04</td>\n",
       "                        <td id=\"T_26b9a298_cb21_11ec_b637_0022480bb4c5row0_col2\" class=\"data row0 col2\" >0.525</td>\n",
       "                        <td id=\"T_26b9a298_cb21_11ec_b637_0022480bb4c5row0_col3\" class=\"data row0 col3\" >0.483</td>\n",
       "            </tr>\n",
       "            <tr>\n",
       "                        <th id=\"T_26b9a298_cb21_11ec_b637_0022480bb4c5level0_row1\" class=\"row_heading level0 row1\" >5</th>\n",
       "                        <td id=\"T_26b9a298_cb21_11ec_b637_0022480bb4c5row1_col0\" class=\"data row1 col0\" >1.1e+04</td>\n",
       "                        <td id=\"T_26b9a298_cb21_11ec_b637_0022480bb4c5row1_col1\" class=\"data row1 col1\" >1.12e+04</td>\n",
       "                        <td id=\"T_26b9a298_cb21_11ec_b637_0022480bb4c5row1_col2\" class=\"data row1 col2\" >0.203</td>\n",
       "                        <td id=\"T_26b9a298_cb21_11ec_b637_0022480bb4c5row1_col3\" class=\"data row1 col3\" >0.189</td>\n",
       "            </tr>\n",
       "            <tr>\n",
       "                        <th id=\"T_26b9a298_cb21_11ec_b637_0022480bb4c5level0_row2\" class=\"row_heading level0 row2\" >10</th>\n",
       "                        <td id=\"T_26b9a298_cb21_11ec_b637_0022480bb4c5row2_col0\" class=\"data row2 col0\" >1.08e+04</td>\n",
       "                        <td id=\"T_26b9a298_cb21_11ec_b637_0022480bb4c5row2_col1\" class=\"data row2 col1\" >1.1e+04</td>\n",
       "                        <td id=\"T_26b9a298_cb21_11ec_b637_0022480bb4c5row2_col2\" class=\"data row2 col2\" >0.125</td>\n",
       "                        <td id=\"T_26b9a298_cb21_11ec_b637_0022480bb4c5row2_col3\" class=\"data row2 col3\" >0.118</td>\n",
       "            </tr>\n",
       "            <tr>\n",
       "                        <th id=\"T_26b9a298_cb21_11ec_b637_0022480bb4c5level0_row3\" class=\"row_heading level0 row3\" >15</th>\n",
       "                        <td id=\"T_26b9a298_cb21_11ec_b637_0022480bb4c5row3_col0\" class=\"data row3 col0\" >1.05e+04</td>\n",
       "                        <td id=\"T_26b9a298_cb21_11ec_b637_0022480bb4c5row3_col1\" class=\"data row3 col1\" >1.06e+04</td>\n",
       "                        <td id=\"T_26b9a298_cb21_11ec_b637_0022480bb4c5row3_col2\" class=\"data row3 col2\" >0.0933</td>\n",
       "                        <td id=\"T_26b9a298_cb21_11ec_b637_0022480bb4c5row3_col3\" class=\"data row3 col3\" >0.0895</td>\n",
       "            </tr>\n",
       "    </tbody></table>"
      ],
      "text/plain": [
       "<pandas.io.formats.style.Styler at 0x7f97abed2220>"
      ]
     },
     "metadata": {},
     "output_type": "display_data"
    },
    {
     "name": "stdout",
     "output_type": "stream",
     "text": [
      "[\u001b[1mtardis.simulation.base\u001b[0m][\u001b[1;37mINFO\u001b[0m   ]  \n",
      "\t\n",
      "\tCurrent t_inner = 10673.712 K\n",
      "\tExpected t_inner for next iteration = 10635.953 K\n",
      " (\u001b[1mbase.py\u001b[0m:542)\n"
     ]
    },
    {
     "name": "stdout",
     "output_type": "stream",
     "text": [
      "[\u001b[1mtardis.simulation.base\u001b[0m][\u001b[1;37mINFO\u001b[0m   ]  \n",
      "\t\n",
      "\tStarting iteration 4 of 20 (\u001b[1mbase.py\u001b[0m:378)\n"
     ]
    },
    {
     "name": "stdout",
     "output_type": "stream",
     "text": [
      "[\u001b[1mtardis.simulation.base\u001b[0m][\u001b[1;37mINFO\u001b[0m   ]  \n",
      "\t\n",
      "\tLuminosity emitted   = 1.058e+43 erg / s\n",
      "\tLuminosity absorbed  = 3.352e+42 erg / s\n",
      "\tLuminosity requested = 1.059e+43 erg / s\n",
      " (\u001b[1mbase.py\u001b[0m:547)\n"
     ]
    },
    {
     "name": "stdout",
     "output_type": "stream",
     "text": [
      "[\u001b[1mtardis.simulation.base\u001b[0m][\u001b[1;37mINFO\u001b[0m   ]  \n",
      "\t\n",
      "\tPlasma stratification: (\u001b[1mbase.py\u001b[0m:515)\n"
     ]
    },
    {
     "data": {
      "text/html": [
       "<style  type=\"text/css\" >\n",
       "</style><table id=\"T_27511830_cb21_11ec_b637_0022480bb4c5\" ><thead>    <tr>        <th class=\"index_name level0\" >Shell No.</th>        <th class=\"col_heading level0 col0\" >t_rad</th>        <th class=\"col_heading level0 col1\" >next_t_rad</th>        <th class=\"col_heading level0 col2\" >w</th>        <th class=\"col_heading level0 col3\" >next_w</th>    </tr></thead><tbody>\n",
       "                <tr>\n",
       "                        <th id=\"T_27511830_cb21_11ec_b637_0022480bb4c5level0_row0\" class=\"row_heading level0 row0\" >0</th>\n",
       "                        <td id=\"T_27511830_cb21_11ec_b637_0022480bb4c5row0_col0\" class=\"data row0 col0\" >1.1e+04</td>\n",
       "                        <td id=\"T_27511830_cb21_11ec_b637_0022480bb4c5row0_col1\" class=\"data row0 col1\" >1.1e+04</td>\n",
       "                        <td id=\"T_27511830_cb21_11ec_b637_0022480bb4c5row0_col2\" class=\"data row0 col2\" >0.483</td>\n",
       "                        <td id=\"T_27511830_cb21_11ec_b637_0022480bb4c5row0_col3\" class=\"data row0 col3\" >0.469</td>\n",
       "            </tr>\n",
       "            <tr>\n",
       "                        <th id=\"T_27511830_cb21_11ec_b637_0022480bb4c5level0_row1\" class=\"row_heading level0 row1\" >5</th>\n",
       "                        <td id=\"T_27511830_cb21_11ec_b637_0022480bb4c5row1_col0\" class=\"data row1 col0\" >1.12e+04</td>\n",
       "                        <td id=\"T_27511830_cb21_11ec_b637_0022480bb4c5row1_col1\" class=\"data row1 col1\" >1.12e+04</td>\n",
       "                        <td id=\"T_27511830_cb21_11ec_b637_0022480bb4c5row1_col2\" class=\"data row1 col2\" >0.189</td>\n",
       "                        <td id=\"T_27511830_cb21_11ec_b637_0022480bb4c5row1_col3\" class=\"data row1 col3\" >0.182</td>\n",
       "            </tr>\n",
       "            <tr>\n",
       "                        <th id=\"T_27511830_cb21_11ec_b637_0022480bb4c5level0_row2\" class=\"row_heading level0 row2\" >10</th>\n",
       "                        <td id=\"T_27511830_cb21_11ec_b637_0022480bb4c5row2_col0\" class=\"data row2 col0\" >1.1e+04</td>\n",
       "                        <td id=\"T_27511830_cb21_11ec_b637_0022480bb4c5row2_col1\" class=\"data row2 col1\" >1.1e+04</td>\n",
       "                        <td id=\"T_27511830_cb21_11ec_b637_0022480bb4c5row2_col2\" class=\"data row2 col2\" >0.118</td>\n",
       "                        <td id=\"T_27511830_cb21_11ec_b637_0022480bb4c5row2_col3\" class=\"data row2 col3\" >0.113</td>\n",
       "            </tr>\n",
       "            <tr>\n",
       "                        <th id=\"T_27511830_cb21_11ec_b637_0022480bb4c5level0_row3\" class=\"row_heading level0 row3\" >15</th>\n",
       "                        <td id=\"T_27511830_cb21_11ec_b637_0022480bb4c5row3_col0\" class=\"data row3 col0\" >1.06e+04</td>\n",
       "                        <td id=\"T_27511830_cb21_11ec_b637_0022480bb4c5row3_col1\" class=\"data row3 col1\" >1.07e+04</td>\n",
       "                        <td id=\"T_27511830_cb21_11ec_b637_0022480bb4c5row3_col2\" class=\"data row3 col2\" >0.0895</td>\n",
       "                        <td id=\"T_27511830_cb21_11ec_b637_0022480bb4c5row3_col3\" class=\"data row3 col3\" >0.0861</td>\n",
       "            </tr>\n",
       "    </tbody></table>"
      ],
      "text/plain": [
       "<pandas.io.formats.style.Styler at 0x7f97acbdb8b0>"
      ]
     },
     "metadata": {},
     "output_type": "display_data"
    },
    {
     "name": "stdout",
     "output_type": "stream",
     "text": [
      "[\u001b[1mtardis.simulation.base\u001b[0m][\u001b[1;37mINFO\u001b[0m   ]  \n",
      "\t\n",
      "\tCurrent t_inner = 10635.953 K\n",
      "\tExpected t_inner for next iteration = 10638.407 K\n",
      " (\u001b[1mbase.py\u001b[0m:542)\n"
     ]
    },
    {
     "name": "stdout",
     "output_type": "stream",
     "text": [
      "[\u001b[1mtardis.simulation.base\u001b[0m][\u001b[1;37mINFO\u001b[0m   ]  \n",
      "\t\n",
      "\tStarting iteration 5 of 20 (\u001b[1mbase.py\u001b[0m:378)\n"
     ]
    },
    {
     "name": "stdout",
     "output_type": "stream",
     "text": [
      "[\u001b[1mtardis.simulation.base\u001b[0m][\u001b[1;37mINFO\u001b[0m   ]  \n",
      "\t\n",
      "\tLuminosity emitted   = 1.055e+43 erg / s\n",
      "\tLuminosity absorbed  = 3.399e+42 erg / s\n",
      "\tLuminosity requested = 1.059e+43 erg / s\n",
      " (\u001b[1mbase.py\u001b[0m:547)\n"
     ]
    },
    {
     "name": "stdout",
     "output_type": "stream",
     "text": [
      "[\u001b[1mtardis.simulation.base\u001b[0m][\u001b[1;37mINFO\u001b[0m   ]  \n",
      "\tIteration converged 1/4 consecutive times. (\u001b[1mbase.py\u001b[0m:259)\n"
     ]
    },
    {
     "name": "stdout",
     "output_type": "stream",
     "text": [
      "[\u001b[1mtardis.simulation.base\u001b[0m][\u001b[1;37mINFO\u001b[0m   ]  \n",
      "\t\n",
      "\tPlasma stratification: (\u001b[1mbase.py\u001b[0m:515)\n"
     ]
    },
    {
     "data": {
      "text/html": [
       "<style  type=\"text/css\" >\n",
       "</style><table id=\"T_27ec6830_cb21_11ec_b637_0022480bb4c5\" ><thead>    <tr>        <th class=\"index_name level0\" >Shell No.</th>        <th class=\"col_heading level0 col0\" >t_rad</th>        <th class=\"col_heading level0 col1\" >next_t_rad</th>        <th class=\"col_heading level0 col2\" >w</th>        <th class=\"col_heading level0 col3\" >next_w</th>    </tr></thead><tbody>\n",
       "                <tr>\n",
       "                        <th id=\"T_27ec6830_cb21_11ec_b637_0022480bb4c5level0_row0\" class=\"row_heading level0 row0\" >0</th>\n",
       "                        <td id=\"T_27ec6830_cb21_11ec_b637_0022480bb4c5row0_col0\" class=\"data row0 col0\" >1.1e+04</td>\n",
       "                        <td id=\"T_27ec6830_cb21_11ec_b637_0022480bb4c5row0_col1\" class=\"data row0 col1\" >1.1e+04</td>\n",
       "                        <td id=\"T_27ec6830_cb21_11ec_b637_0022480bb4c5row0_col2\" class=\"data row0 col2\" >0.469</td>\n",
       "                        <td id=\"T_27ec6830_cb21_11ec_b637_0022480bb4c5row0_col3\" class=\"data row0 col3\" >0.479</td>\n",
       "            </tr>\n",
       "            <tr>\n",
       "                        <th id=\"T_27ec6830_cb21_11ec_b637_0022480bb4c5level0_row1\" class=\"row_heading level0 row1\" >5</th>\n",
       "                        <td id=\"T_27ec6830_cb21_11ec_b637_0022480bb4c5row1_col0\" class=\"data row1 col0\" >1.12e+04</td>\n",
       "                        <td id=\"T_27ec6830_cb21_11ec_b637_0022480bb4c5row1_col1\" class=\"data row1 col1\" >1.13e+04</td>\n",
       "                        <td id=\"T_27ec6830_cb21_11ec_b637_0022480bb4c5row1_col2\" class=\"data row1 col2\" >0.182</td>\n",
       "                        <td id=\"T_27ec6830_cb21_11ec_b637_0022480bb4c5row1_col3\" class=\"data row1 col3\" >0.178</td>\n",
       "            </tr>\n",
       "            <tr>\n",
       "                        <th id=\"T_27ec6830_cb21_11ec_b637_0022480bb4c5level0_row2\" class=\"row_heading level0 row2\" >10</th>\n",
       "                        <td id=\"T_27ec6830_cb21_11ec_b637_0022480bb4c5row2_col0\" class=\"data row2 col0\" >1.1e+04</td>\n",
       "                        <td id=\"T_27ec6830_cb21_11ec_b637_0022480bb4c5row2_col1\" class=\"data row2 col1\" >1.1e+04</td>\n",
       "                        <td id=\"T_27ec6830_cb21_11ec_b637_0022480bb4c5row2_col2\" class=\"data row2 col2\" >0.113</td>\n",
       "                        <td id=\"T_27ec6830_cb21_11ec_b637_0022480bb4c5row2_col3\" class=\"data row2 col3\" >0.113</td>\n",
       "            </tr>\n",
       "            <tr>\n",
       "                        <th id=\"T_27ec6830_cb21_11ec_b637_0022480bb4c5level0_row3\" class=\"row_heading level0 row3\" >15</th>\n",
       "                        <td id=\"T_27ec6830_cb21_11ec_b637_0022480bb4c5row3_col0\" class=\"data row3 col0\" >1.07e+04</td>\n",
       "                        <td id=\"T_27ec6830_cb21_11ec_b637_0022480bb4c5row3_col1\" class=\"data row3 col1\" >1.07e+04</td>\n",
       "                        <td id=\"T_27ec6830_cb21_11ec_b637_0022480bb4c5row3_col2\" class=\"data row3 col2\" >0.0861</td>\n",
       "                        <td id=\"T_27ec6830_cb21_11ec_b637_0022480bb4c5row3_col3\" class=\"data row3 col3\" >0.0839</td>\n",
       "            </tr>\n",
       "    </tbody></table>"
      ],
      "text/plain": [
       "<pandas.io.formats.style.Styler at 0x7f97abdfd520>"
      ]
     },
     "metadata": {},
     "output_type": "display_data"
    },
    {
     "name": "stdout",
     "output_type": "stream",
     "text": [
      "[\u001b[1mtardis.simulation.base\u001b[0m][\u001b[1;37mINFO\u001b[0m   ]  \n",
      "\t\n",
      "\tCurrent t_inner = 10638.407 K\n",
      "\tExpected t_inner for next iteration = 10650.202 K\n",
      " (\u001b[1mbase.py\u001b[0m:542)\n"
     ]
    },
    {
     "name": "stdout",
     "output_type": "stream",
     "text": [
      "[\u001b[1mtardis.simulation.base\u001b[0m][\u001b[1;37mINFO\u001b[0m   ]  \n",
      "\t\n",
      "\tStarting iteration 6 of 20 (\u001b[1mbase.py\u001b[0m:378)\n"
     ]
    },
    {
     "name": "stdout",
     "output_type": "stream",
     "text": [
      "[\u001b[1mtardis.simulation.base\u001b[0m][\u001b[1;37mINFO\u001b[0m   ]  \n",
      "\t\n",
      "\tLuminosity emitted   = 1.061e+43 erg / s\n",
      "\tLuminosity absorbed  = 3.398e+42 erg / s\n",
      "\tLuminosity requested = 1.059e+43 erg / s\n",
      " (\u001b[1mbase.py\u001b[0m:547)\n"
     ]
    },
    {
     "name": "stdout",
     "output_type": "stream",
     "text": [
      "[\u001b[1mtardis.simulation.base\u001b[0m][\u001b[1;37mINFO\u001b[0m   ]  \n",
      "\tIteration converged 2/4 consecutive times. (\u001b[1mbase.py\u001b[0m:259)\n"
     ]
    },
    {
     "name": "stdout",
     "output_type": "stream",
     "text": [
      "[\u001b[1mtardis.simulation.base\u001b[0m][\u001b[1;37mINFO\u001b[0m   ]  \n",
      "\t\n",
      "\tPlasma stratification: (\u001b[1mbase.py\u001b[0m:515)\n"
     ]
    },
    {
     "data": {
      "text/html": [
       "<style  type=\"text/css\" >\n",
       "</style><table id=\"T_28890ed8_cb21_11ec_b637_0022480bb4c5\" ><thead>    <tr>        <th class=\"index_name level0\" >Shell No.</th>        <th class=\"col_heading level0 col0\" >t_rad</th>        <th class=\"col_heading level0 col1\" >next_t_rad</th>        <th class=\"col_heading level0 col2\" >w</th>        <th class=\"col_heading level0 col3\" >next_w</th>    </tr></thead><tbody>\n",
       "                <tr>\n",
       "                        <th id=\"T_28890ed8_cb21_11ec_b637_0022480bb4c5level0_row0\" class=\"row_heading level0 row0\" >0</th>\n",
       "                        <td id=\"T_28890ed8_cb21_11ec_b637_0022480bb4c5row0_col0\" class=\"data row0 col0\" >1.1e+04</td>\n",
       "                        <td id=\"T_28890ed8_cb21_11ec_b637_0022480bb4c5row0_col1\" class=\"data row0 col1\" >1.1e+04</td>\n",
       "                        <td id=\"T_28890ed8_cb21_11ec_b637_0022480bb4c5row0_col2\" class=\"data row0 col2\" >0.479</td>\n",
       "                        <td id=\"T_28890ed8_cb21_11ec_b637_0022480bb4c5row0_col3\" class=\"data row0 col3\" >0.47</td>\n",
       "            </tr>\n",
       "            <tr>\n",
       "                        <th id=\"T_28890ed8_cb21_11ec_b637_0022480bb4c5level0_row1\" class=\"row_heading level0 row1\" >5</th>\n",
       "                        <td id=\"T_28890ed8_cb21_11ec_b637_0022480bb4c5row1_col0\" class=\"data row1 col0\" >1.13e+04</td>\n",
       "                        <td id=\"T_28890ed8_cb21_11ec_b637_0022480bb4c5row1_col1\" class=\"data row1 col1\" >1.12e+04</td>\n",
       "                        <td id=\"T_28890ed8_cb21_11ec_b637_0022480bb4c5row1_col2\" class=\"data row1 col2\" >0.178</td>\n",
       "                        <td id=\"T_28890ed8_cb21_11ec_b637_0022480bb4c5row1_col3\" class=\"data row1 col3\" >0.185</td>\n",
       "            </tr>\n",
       "            <tr>\n",
       "                        <th id=\"T_28890ed8_cb21_11ec_b637_0022480bb4c5level0_row2\" class=\"row_heading level0 row2\" >10</th>\n",
       "                        <td id=\"T_28890ed8_cb21_11ec_b637_0022480bb4c5row2_col0\" class=\"data row2 col0\" >1.1e+04</td>\n",
       "                        <td id=\"T_28890ed8_cb21_11ec_b637_0022480bb4c5row2_col1\" class=\"data row2 col1\" >1.11e+04</td>\n",
       "                        <td id=\"T_28890ed8_cb21_11ec_b637_0022480bb4c5row2_col2\" class=\"data row2 col2\" >0.113</td>\n",
       "                        <td id=\"T_28890ed8_cb21_11ec_b637_0022480bb4c5row2_col3\" class=\"data row2 col3\" >0.112</td>\n",
       "            </tr>\n",
       "            <tr>\n",
       "                        <th id=\"T_28890ed8_cb21_11ec_b637_0022480bb4c5level0_row3\" class=\"row_heading level0 row3\" >15</th>\n",
       "                        <td id=\"T_28890ed8_cb21_11ec_b637_0022480bb4c5row3_col0\" class=\"data row3 col0\" >1.07e+04</td>\n",
       "                        <td id=\"T_28890ed8_cb21_11ec_b637_0022480bb4c5row3_col1\" class=\"data row3 col1\" >1.07e+04</td>\n",
       "                        <td id=\"T_28890ed8_cb21_11ec_b637_0022480bb4c5row3_col2\" class=\"data row3 col2\" >0.0839</td>\n",
       "                        <td id=\"T_28890ed8_cb21_11ec_b637_0022480bb4c5row3_col3\" class=\"data row3 col3\" >0.0856</td>\n",
       "            </tr>\n",
       "    </tbody></table>"
      ],
      "text/plain": [
       "<pandas.io.formats.style.Styler at 0x7f97aa920340>"
      ]
     },
     "metadata": {},
     "output_type": "display_data"
    },
    {
     "name": "stdout",
     "output_type": "stream",
     "text": [
      "[\u001b[1mtardis.simulation.base\u001b[0m][\u001b[1;37mINFO\u001b[0m   ]  \n",
      "\t\n",
      "\tCurrent t_inner = 10650.202 K\n",
      "\tExpected t_inner for next iteration = 10645.955 K\n",
      " (\u001b[1mbase.py\u001b[0m:542)\n"
     ]
    },
    {
     "name": "stdout",
     "output_type": "stream",
     "text": [
      "[\u001b[1mtardis.simulation.base\u001b[0m][\u001b[1;37mINFO\u001b[0m   ]  \n",
      "\t\n",
      "\tStarting iteration 7 of 20 (\u001b[1mbase.py\u001b[0m:378)\n"
     ]
    },
    {
     "name": "stdout",
     "output_type": "stream",
     "text": [
      "[\u001b[1mtardis.simulation.base\u001b[0m][\u001b[1;37mINFO\u001b[0m   ]  \n",
      "\t\n",
      "\tLuminosity emitted   = 1.061e+43 erg / s\n",
      "\tLuminosity absorbed  = 3.382e+42 erg / s\n",
      "\tLuminosity requested = 1.059e+43 erg / s\n",
      " (\u001b[1mbase.py\u001b[0m:547)\n"
     ]
    },
    {
     "name": "stdout",
     "output_type": "stream",
     "text": [
      "[\u001b[1mtardis.simulation.base\u001b[0m][\u001b[1;37mINFO\u001b[0m   ]  \n",
      "\tIteration converged 3/4 consecutive times. (\u001b[1mbase.py\u001b[0m:259)\n"
     ]
    },
    {
     "name": "stdout",
     "output_type": "stream",
     "text": [
      "[\u001b[1mtardis.simulation.base\u001b[0m][\u001b[1;37mINFO\u001b[0m   ]  \n",
      "\t\n",
      "\tPlasma stratification: (\u001b[1mbase.py\u001b[0m:515)\n"
     ]
    },
    {
     "data": {
      "text/html": [
       "<style  type=\"text/css\" >\n",
       "</style><table id=\"T_29248a52_cb21_11ec_b637_0022480bb4c5\" ><thead>    <tr>        <th class=\"index_name level0\" >Shell No.</th>        <th class=\"col_heading level0 col0\" >t_rad</th>        <th class=\"col_heading level0 col1\" >next_t_rad</th>        <th class=\"col_heading level0 col2\" >w</th>        <th class=\"col_heading level0 col3\" >next_w</th>    </tr></thead><tbody>\n",
       "                <tr>\n",
       "                        <th id=\"T_29248a52_cb21_11ec_b637_0022480bb4c5level0_row0\" class=\"row_heading level0 row0\" >0</th>\n",
       "                        <td id=\"T_29248a52_cb21_11ec_b637_0022480bb4c5row0_col0\" class=\"data row0 col0\" >1.1e+04</td>\n",
       "                        <td id=\"T_29248a52_cb21_11ec_b637_0022480bb4c5row0_col1\" class=\"data row0 col1\" >1.1e+04</td>\n",
       "                        <td id=\"T_29248a52_cb21_11ec_b637_0022480bb4c5row0_col2\" class=\"data row0 col2\" >0.47</td>\n",
       "                        <td id=\"T_29248a52_cb21_11ec_b637_0022480bb4c5row0_col3\" class=\"data row0 col3\" >0.47</td>\n",
       "            </tr>\n",
       "            <tr>\n",
       "                        <th id=\"T_29248a52_cb21_11ec_b637_0022480bb4c5level0_row1\" class=\"row_heading level0 row1\" >5</th>\n",
       "                        <td id=\"T_29248a52_cb21_11ec_b637_0022480bb4c5row1_col0\" class=\"data row1 col0\" >1.12e+04</td>\n",
       "                        <td id=\"T_29248a52_cb21_11ec_b637_0022480bb4c5row1_col1\" class=\"data row1 col1\" >1.13e+04</td>\n",
       "                        <td id=\"T_29248a52_cb21_11ec_b637_0022480bb4c5row1_col2\" class=\"data row1 col2\" >0.185</td>\n",
       "                        <td id=\"T_29248a52_cb21_11ec_b637_0022480bb4c5row1_col3\" class=\"data row1 col3\" >0.178</td>\n",
       "            </tr>\n",
       "            <tr>\n",
       "                        <th id=\"T_29248a52_cb21_11ec_b637_0022480bb4c5level0_row2\" class=\"row_heading level0 row2\" >10</th>\n",
       "                        <td id=\"T_29248a52_cb21_11ec_b637_0022480bb4c5row2_col0\" class=\"data row2 col0\" >1.11e+04</td>\n",
       "                        <td id=\"T_29248a52_cb21_11ec_b637_0022480bb4c5row2_col1\" class=\"data row2 col1\" >1.11e+04</td>\n",
       "                        <td id=\"T_29248a52_cb21_11ec_b637_0022480bb4c5row2_col2\" class=\"data row2 col2\" >0.112</td>\n",
       "                        <td id=\"T_29248a52_cb21_11ec_b637_0022480bb4c5row2_col3\" class=\"data row2 col3\" >0.112</td>\n",
       "            </tr>\n",
       "            <tr>\n",
       "                        <th id=\"T_29248a52_cb21_11ec_b637_0022480bb4c5level0_row3\" class=\"row_heading level0 row3\" >15</th>\n",
       "                        <td id=\"T_29248a52_cb21_11ec_b637_0022480bb4c5row3_col0\" class=\"data row3 col0\" >1.07e+04</td>\n",
       "                        <td id=\"T_29248a52_cb21_11ec_b637_0022480bb4c5row3_col1\" class=\"data row3 col1\" >1.07e+04</td>\n",
       "                        <td id=\"T_29248a52_cb21_11ec_b637_0022480bb4c5row3_col2\" class=\"data row3 col2\" >0.0856</td>\n",
       "                        <td id=\"T_29248a52_cb21_11ec_b637_0022480bb4c5row3_col3\" class=\"data row3 col3\" >0.086</td>\n",
       "            </tr>\n",
       "    </tbody></table>"
      ],
      "text/plain": [
       "<pandas.io.formats.style.Styler at 0x7f97acbb4d00>"
      ]
     },
     "metadata": {},
     "output_type": "display_data"
    },
    {
     "name": "stdout",
     "output_type": "stream",
     "text": [
      "[\u001b[1mtardis.simulation.base\u001b[0m][\u001b[1;37mINFO\u001b[0m   ]  \n",
      "\t\n",
      "\tCurrent t_inner = 10645.955 K\n",
      "\tExpected t_inner for next iteration = 10642.050 K\n",
      " (\u001b[1mbase.py\u001b[0m:542)\n"
     ]
    },
    {
     "name": "stdout",
     "output_type": "stream",
     "text": [
      "[\u001b[1mtardis.simulation.base\u001b[0m][\u001b[1;37mINFO\u001b[0m   ]  \n",
      "\t\n",
      "\tStarting iteration 8 of 20 (\u001b[1mbase.py\u001b[0m:378)\n"
     ]
    },
    {
     "name": "stdout",
     "output_type": "stream",
     "text": [
      "[\u001b[1mtardis.simulation.base\u001b[0m][\u001b[1;37mINFO\u001b[0m   ]  \n",
      "\t\n",
      "\tLuminosity emitted   = 1.062e+43 erg / s\n",
      "\tLuminosity absorbed  = 3.350e+42 erg / s\n",
      "\tLuminosity requested = 1.059e+43 erg / s\n",
      " (\u001b[1mbase.py\u001b[0m:547)\n"
     ]
    },
    {
     "name": "stdout",
     "output_type": "stream",
     "text": [
      "[\u001b[1mtardis.simulation.base\u001b[0m][\u001b[1;37mINFO\u001b[0m   ]  \n",
      "\tIteration converged 4/4 consecutive times. (\u001b[1mbase.py\u001b[0m:259)\n"
     ]
    },
    {
     "name": "stdout",
     "output_type": "stream",
     "text": [
      "[\u001b[1mtardis.simulation.base\u001b[0m][\u001b[1;37mINFO\u001b[0m   ]  \n",
      "\t\n",
      "\tPlasma stratification: (\u001b[1mbase.py\u001b[0m:515)\n"
     ]
    },
    {
     "data": {
      "text/html": [
       "<style  type=\"text/css\" >\n",
       "</style><table id=\"T_29c281ee_cb21_11ec_b637_0022480bb4c5\" ><thead>    <tr>        <th class=\"index_name level0\" >Shell No.</th>        <th class=\"col_heading level0 col0\" >t_rad</th>        <th class=\"col_heading level0 col1\" >next_t_rad</th>        <th class=\"col_heading level0 col2\" >w</th>        <th class=\"col_heading level0 col3\" >next_w</th>    </tr></thead><tbody>\n",
       "                <tr>\n",
       "                        <th id=\"T_29c281ee_cb21_11ec_b637_0022480bb4c5level0_row0\" class=\"row_heading level0 row0\" >0</th>\n",
       "                        <td id=\"T_29c281ee_cb21_11ec_b637_0022480bb4c5row0_col0\" class=\"data row0 col0\" >1.1e+04</td>\n",
       "                        <td id=\"T_29c281ee_cb21_11ec_b637_0022480bb4c5row0_col1\" class=\"data row0 col1\" >1.11e+04</td>\n",
       "                        <td id=\"T_29c281ee_cb21_11ec_b637_0022480bb4c5row0_col2\" class=\"data row0 col2\" >0.47</td>\n",
       "                        <td id=\"T_29c281ee_cb21_11ec_b637_0022480bb4c5row0_col3\" class=\"data row0 col3\" >0.472</td>\n",
       "            </tr>\n",
       "            <tr>\n",
       "                        <th id=\"T_29c281ee_cb21_11ec_b637_0022480bb4c5level0_row1\" class=\"row_heading level0 row1\" >5</th>\n",
       "                        <td id=\"T_29c281ee_cb21_11ec_b637_0022480bb4c5row1_col0\" class=\"data row1 col0\" >1.13e+04</td>\n",
       "                        <td id=\"T_29c281ee_cb21_11ec_b637_0022480bb4c5row1_col1\" class=\"data row1 col1\" >1.14e+04</td>\n",
       "                        <td id=\"T_29c281ee_cb21_11ec_b637_0022480bb4c5row1_col2\" class=\"data row1 col2\" >0.178</td>\n",
       "                        <td id=\"T_29c281ee_cb21_11ec_b637_0022480bb4c5row1_col3\" class=\"data row1 col3\" >0.175</td>\n",
       "            </tr>\n",
       "            <tr>\n",
       "                        <th id=\"T_29c281ee_cb21_11ec_b637_0022480bb4c5level0_row2\" class=\"row_heading level0 row2\" >10</th>\n",
       "                        <td id=\"T_29c281ee_cb21_11ec_b637_0022480bb4c5row2_col0\" class=\"data row2 col0\" >1.11e+04</td>\n",
       "                        <td id=\"T_29c281ee_cb21_11ec_b637_0022480bb4c5row2_col1\" class=\"data row2 col1\" >1.11e+04</td>\n",
       "                        <td id=\"T_29c281ee_cb21_11ec_b637_0022480bb4c5row2_col2\" class=\"data row2 col2\" >0.112</td>\n",
       "                        <td id=\"T_29c281ee_cb21_11ec_b637_0022480bb4c5row2_col3\" class=\"data row2 col3\" >0.111</td>\n",
       "            </tr>\n",
       "            <tr>\n",
       "                        <th id=\"T_29c281ee_cb21_11ec_b637_0022480bb4c5level0_row3\" class=\"row_heading level0 row3\" >15</th>\n",
       "                        <td id=\"T_29c281ee_cb21_11ec_b637_0022480bb4c5row3_col0\" class=\"data row3 col0\" >1.07e+04</td>\n",
       "                        <td id=\"T_29c281ee_cb21_11ec_b637_0022480bb4c5row3_col1\" class=\"data row3 col1\" >1.07e+04</td>\n",
       "                        <td id=\"T_29c281ee_cb21_11ec_b637_0022480bb4c5row3_col2\" class=\"data row3 col2\" >0.086</td>\n",
       "                        <td id=\"T_29c281ee_cb21_11ec_b637_0022480bb4c5row3_col3\" class=\"data row3 col3\" >0.084</td>\n",
       "            </tr>\n",
       "    </tbody></table>"
      ],
      "text/plain": [
       "<pandas.io.formats.style.Styler at 0x7f97aa920880>"
      ]
     },
     "metadata": {},
     "output_type": "display_data"
    },
    {
     "name": "stdout",
     "output_type": "stream",
     "text": [
      "[\u001b[1mtardis.simulation.base\u001b[0m][\u001b[1;37mINFO\u001b[0m   ]  \n",
      "\t\n",
      "\tCurrent t_inner = 10642.050 K\n",
      "\tExpected t_inner for next iteration = 10636.106 K\n",
      " (\u001b[1mbase.py\u001b[0m:542)\n"
     ]
    },
    {
     "name": "stdout",
     "output_type": "stream",
     "text": [
      "[\u001b[1mtardis.simulation.base\u001b[0m][\u001b[1;37mINFO\u001b[0m   ]  \n",
      "\t\n",
      "\tStarting iteration 9 of 20 (\u001b[1mbase.py\u001b[0m:378)\n"
     ]
    },
    {
     "name": "stdout",
     "output_type": "stream",
     "text": [
      "[\u001b[1mtardis.simulation.base\u001b[0m][\u001b[1;37mINFO\u001b[0m   ]  \n",
      "\t\n",
      "\tLuminosity emitted   = 1.052e+43 erg / s\n",
      "\tLuminosity absorbed  = 3.411e+42 erg / s\n",
      "\tLuminosity requested = 1.059e+43 erg / s\n",
      " (\u001b[1mbase.py\u001b[0m:547)\n"
     ]
    },
    {
     "name": "stdout",
     "output_type": "stream",
     "text": [
      "[\u001b[1mtardis.simulation.base\u001b[0m][\u001b[1;37mINFO\u001b[0m   ]  \n",
      "\tIteration converged 5/4 consecutive times. (\u001b[1mbase.py\u001b[0m:259)\n"
     ]
    },
    {
     "name": "stdout",
     "output_type": "stream",
     "text": [
      "[\u001b[1mtardis.simulation.base\u001b[0m][\u001b[1;37mINFO\u001b[0m   ]  \n",
      "\t\n",
      "\tPlasma stratification: (\u001b[1mbase.py\u001b[0m:515)\n"
     ]
    },
    {
     "data": {
      "text/html": [
       "<style  type=\"text/css\" >\n",
       "</style><table id=\"T_2a5ee32c_cb21_11ec_b637_0022480bb4c5\" ><thead>    <tr>        <th class=\"index_name level0\" >Shell No.</th>        <th class=\"col_heading level0 col0\" >t_rad</th>        <th class=\"col_heading level0 col1\" >next_t_rad</th>        <th class=\"col_heading level0 col2\" >w</th>        <th class=\"col_heading level0 col3\" >next_w</th>    </tr></thead><tbody>\n",
       "                <tr>\n",
       "                        <th id=\"T_2a5ee32c_cb21_11ec_b637_0022480bb4c5level0_row0\" class=\"row_heading level0 row0\" >0</th>\n",
       "                        <td id=\"T_2a5ee32c_cb21_11ec_b637_0022480bb4c5row0_col0\" class=\"data row0 col0\" >1.11e+04</td>\n",
       "                        <td id=\"T_2a5ee32c_cb21_11ec_b637_0022480bb4c5row0_col1\" class=\"data row0 col1\" >1.11e+04</td>\n",
       "                        <td id=\"T_2a5ee32c_cb21_11ec_b637_0022480bb4c5row0_col2\" class=\"data row0 col2\" >0.472</td>\n",
       "                        <td id=\"T_2a5ee32c_cb21_11ec_b637_0022480bb4c5row0_col3\" class=\"data row0 col3\" >0.469</td>\n",
       "            </tr>\n",
       "            <tr>\n",
       "                        <th id=\"T_2a5ee32c_cb21_11ec_b637_0022480bb4c5level0_row1\" class=\"row_heading level0 row1\" >5</th>\n",
       "                        <td id=\"T_2a5ee32c_cb21_11ec_b637_0022480bb4c5row1_col0\" class=\"data row1 col0\" >1.14e+04</td>\n",
       "                        <td id=\"T_2a5ee32c_cb21_11ec_b637_0022480bb4c5row1_col1\" class=\"data row1 col1\" >1.15e+04</td>\n",
       "                        <td id=\"T_2a5ee32c_cb21_11ec_b637_0022480bb4c5row1_col2\" class=\"data row1 col2\" >0.175</td>\n",
       "                        <td id=\"T_2a5ee32c_cb21_11ec_b637_0022480bb4c5row1_col3\" class=\"data row1 col3\" >0.17</td>\n",
       "            </tr>\n",
       "            <tr>\n",
       "                        <th id=\"T_2a5ee32c_cb21_11ec_b637_0022480bb4c5level0_row2\" class=\"row_heading level0 row2\" >10</th>\n",
       "                        <td id=\"T_2a5ee32c_cb21_11ec_b637_0022480bb4c5row2_col0\" class=\"data row2 col0\" >1.11e+04</td>\n",
       "                        <td id=\"T_2a5ee32c_cb21_11ec_b637_0022480bb4c5row2_col1\" class=\"data row2 col1\" >1.11e+04</td>\n",
       "                        <td id=\"T_2a5ee32c_cb21_11ec_b637_0022480bb4c5row2_col2\" class=\"data row2 col2\" >0.111</td>\n",
       "                        <td id=\"T_2a5ee32c_cb21_11ec_b637_0022480bb4c5row2_col3\" class=\"data row2 col3\" >0.109</td>\n",
       "            </tr>\n",
       "            <tr>\n",
       "                        <th id=\"T_2a5ee32c_cb21_11ec_b637_0022480bb4c5level0_row3\" class=\"row_heading level0 row3\" >15</th>\n",
       "                        <td id=\"T_2a5ee32c_cb21_11ec_b637_0022480bb4c5row3_col0\" class=\"data row3 col0\" >1.07e+04</td>\n",
       "                        <td id=\"T_2a5ee32c_cb21_11ec_b637_0022480bb4c5row3_col1\" class=\"data row3 col1\" >1.08e+04</td>\n",
       "                        <td id=\"T_2a5ee32c_cb21_11ec_b637_0022480bb4c5row3_col2\" class=\"data row3 col2\" >0.084</td>\n",
       "                        <td id=\"T_2a5ee32c_cb21_11ec_b637_0022480bb4c5row3_col3\" class=\"data row3 col3\" >0.0822</td>\n",
       "            </tr>\n",
       "    </tbody></table>"
      ],
      "text/plain": [
       "<pandas.io.formats.style.Styler at 0x7f97aa91cc40>"
      ]
     },
     "metadata": {},
     "output_type": "display_data"
    },
    {
     "name": "stdout",
     "output_type": "stream",
     "text": [
      "[\u001b[1mtardis.simulation.base\u001b[0m][\u001b[1;37mINFO\u001b[0m   ]  \n",
      "\t\n",
      "\tCurrent t_inner = 10636.106 K\n",
      "\tExpected t_inner for next iteration = 10654.313 K\n",
      " (\u001b[1mbase.py\u001b[0m:542)\n"
     ]
    },
    {
     "name": "stdout",
     "output_type": "stream",
     "text": [
      "[\u001b[1mtardis.simulation.base\u001b[0m][\u001b[1;37mINFO\u001b[0m   ]  \n",
      "\t\n",
      "\tStarting iteration 10 of 20 (\u001b[1mbase.py\u001b[0m:378)\n"
     ]
    },
    {
     "name": "stdout",
     "output_type": "stream",
     "text": [
      "[\u001b[1mtardis.simulation.base\u001b[0m][\u001b[1;37mINFO\u001b[0m   ]  \n",
      "\t\n",
      "\tLuminosity emitted   = 1.070e+43 erg / s\n",
      "\tLuminosity absorbed  = 3.335e+42 erg / s\n",
      "\tLuminosity requested = 1.059e+43 erg / s\n",
      " (\u001b[1mbase.py\u001b[0m:547)\n"
     ]
    },
    {
     "name": "stdout",
     "output_type": "stream",
     "text": [
      "[\u001b[1mtardis.simulation.base\u001b[0m][\u001b[1;37mINFO\u001b[0m   ]  \n",
      "\t\n",
      "\tPlasma stratification: (\u001b[1mbase.py\u001b[0m:515)\n"
     ]
    },
    {
     "data": {
      "text/html": [
       "<style  type=\"text/css\" >\n",
       "</style><table id=\"T_2afb883a_cb21_11ec_b637_0022480bb4c5\" ><thead>    <tr>        <th class=\"index_name level0\" >Shell No.</th>        <th class=\"col_heading level0 col0\" >t_rad</th>        <th class=\"col_heading level0 col1\" >next_t_rad</th>        <th class=\"col_heading level0 col2\" >w</th>        <th class=\"col_heading level0 col3\" >next_w</th>    </tr></thead><tbody>\n",
       "                <tr>\n",
       "                        <th id=\"T_2afb883a_cb21_11ec_b637_0022480bb4c5level0_row0\" class=\"row_heading level0 row0\" >0</th>\n",
       "                        <td id=\"T_2afb883a_cb21_11ec_b637_0022480bb4c5row0_col0\" class=\"data row0 col0\" >1.11e+04</td>\n",
       "                        <td id=\"T_2afb883a_cb21_11ec_b637_0022480bb4c5row0_col1\" class=\"data row0 col1\" >1.1e+04</td>\n",
       "                        <td id=\"T_2afb883a_cb21_11ec_b637_0022480bb4c5row0_col2\" class=\"data row0 col2\" >0.469</td>\n",
       "                        <td id=\"T_2afb883a_cb21_11ec_b637_0022480bb4c5row0_col3\" class=\"data row0 col3\" >0.475</td>\n",
       "            </tr>\n",
       "            <tr>\n",
       "                        <th id=\"T_2afb883a_cb21_11ec_b637_0022480bb4c5level0_row1\" class=\"row_heading level0 row1\" >5</th>\n",
       "                        <td id=\"T_2afb883a_cb21_11ec_b637_0022480bb4c5row1_col0\" class=\"data row1 col0\" >1.15e+04</td>\n",
       "                        <td id=\"T_2afb883a_cb21_11ec_b637_0022480bb4c5row1_col1\" class=\"data row1 col1\" >1.14e+04</td>\n",
       "                        <td id=\"T_2afb883a_cb21_11ec_b637_0022480bb4c5row1_col2\" class=\"data row1 col2\" >0.17</td>\n",
       "                        <td id=\"T_2afb883a_cb21_11ec_b637_0022480bb4c5row1_col3\" class=\"data row1 col3\" >0.177</td>\n",
       "            </tr>\n",
       "            <tr>\n",
       "                        <th id=\"T_2afb883a_cb21_11ec_b637_0022480bb4c5level0_row2\" class=\"row_heading level0 row2\" >10</th>\n",
       "                        <td id=\"T_2afb883a_cb21_11ec_b637_0022480bb4c5row2_col0\" class=\"data row2 col0\" >1.11e+04</td>\n",
       "                        <td id=\"T_2afb883a_cb21_11ec_b637_0022480bb4c5row2_col1\" class=\"data row2 col1\" >1.11e+04</td>\n",
       "                        <td id=\"T_2afb883a_cb21_11ec_b637_0022480bb4c5row2_col2\" class=\"data row2 col2\" >0.109</td>\n",
       "                        <td id=\"T_2afb883a_cb21_11ec_b637_0022480bb4c5row2_col3\" class=\"data row2 col3\" >0.112</td>\n",
       "            </tr>\n",
       "            <tr>\n",
       "                        <th id=\"T_2afb883a_cb21_11ec_b637_0022480bb4c5level0_row3\" class=\"row_heading level0 row3\" >15</th>\n",
       "                        <td id=\"T_2afb883a_cb21_11ec_b637_0022480bb4c5row3_col0\" class=\"data row3 col0\" >1.08e+04</td>\n",
       "                        <td id=\"T_2afb883a_cb21_11ec_b637_0022480bb4c5row3_col1\" class=\"data row3 col1\" >1.06e+04</td>\n",
       "                        <td id=\"T_2afb883a_cb21_11ec_b637_0022480bb4c5row3_col2\" class=\"data row3 col2\" >0.0822</td>\n",
       "                        <td id=\"T_2afb883a_cb21_11ec_b637_0022480bb4c5row3_col3\" class=\"data row3 col3\" >0.0878</td>\n",
       "            </tr>\n",
       "    </tbody></table>"
      ],
      "text/plain": [
       "<pandas.io.formats.style.Styler at 0x7f97aa908580>"
      ]
     },
     "metadata": {},
     "output_type": "display_data"
    },
    {
     "name": "stdout",
     "output_type": "stream",
     "text": [
      "[\u001b[1mtardis.simulation.base\u001b[0m][\u001b[1;37mINFO\u001b[0m   ]  \n",
      "\t\n",
      "\tCurrent t_inner = 10654.313 K\n",
      "\tExpected t_inner for next iteration = 10628.190 K\n",
      " (\u001b[1mbase.py\u001b[0m:542)\n"
     ]
    },
    {
     "name": "stdout",
     "output_type": "stream",
     "text": [
      "[\u001b[1mtardis.simulation.base\u001b[0m][\u001b[1;37mINFO\u001b[0m   ]  \n",
      "\t\n",
      "\tStarting iteration 11 of 20 (\u001b[1mbase.py\u001b[0m:378)\n"
     ]
    },
    {
     "name": "stdout",
     "output_type": "stream",
     "text": [
      "[\u001b[1mtardis.simulation.base\u001b[0m][\u001b[1;37mINFO\u001b[0m   ]  \n",
      "\t\n",
      "\tLuminosity emitted   = 1.053e+43 erg / s\n",
      "\tLuminosity absorbed  = 3.363e+42 erg / s\n",
      "\tLuminosity requested = 1.059e+43 erg / s\n",
      " (\u001b[1mbase.py\u001b[0m:547)\n"
     ]
    },
    {
     "name": "stdout",
     "output_type": "stream",
     "text": [
      "[\u001b[1mtardis.simulation.base\u001b[0m][\u001b[1;37mINFO\u001b[0m   ]  \n",
      "\tIteration converged 1/4 consecutive times. (\u001b[1mbase.py\u001b[0m:259)\n"
     ]
    },
    {
     "name": "stdout",
     "output_type": "stream",
     "text": [
      "[\u001b[1mtardis.simulation.base\u001b[0m][\u001b[1;37mINFO\u001b[0m   ]  \n",
      "\t\n",
      "\tPlasma stratification: (\u001b[1mbase.py\u001b[0m:515)\n"
     ]
    },
    {
     "data": {
      "text/html": [
       "<style  type=\"text/css\" >\n",
       "</style><table id=\"T_2b94cc02_cb21_11ec_b637_0022480bb4c5\" ><thead>    <tr>        <th class=\"index_name level0\" >Shell No.</th>        <th class=\"col_heading level0 col0\" >t_rad</th>        <th class=\"col_heading level0 col1\" >next_t_rad</th>        <th class=\"col_heading level0 col2\" >w</th>        <th class=\"col_heading level0 col3\" >next_w</th>    </tr></thead><tbody>\n",
       "                <tr>\n",
       "                        <th id=\"T_2b94cc02_cb21_11ec_b637_0022480bb4c5level0_row0\" class=\"row_heading level0 row0\" >0</th>\n",
       "                        <td id=\"T_2b94cc02_cb21_11ec_b637_0022480bb4c5row0_col0\" class=\"data row0 col0\" >1.1e+04</td>\n",
       "                        <td id=\"T_2b94cc02_cb21_11ec_b637_0022480bb4c5row0_col1\" class=\"data row0 col1\" >1.1e+04</td>\n",
       "                        <td id=\"T_2b94cc02_cb21_11ec_b637_0022480bb4c5row0_col2\" class=\"data row0 col2\" >0.475</td>\n",
       "                        <td id=\"T_2b94cc02_cb21_11ec_b637_0022480bb4c5row0_col3\" class=\"data row0 col3\" >0.472</td>\n",
       "            </tr>\n",
       "            <tr>\n",
       "                        <th id=\"T_2b94cc02_cb21_11ec_b637_0022480bb4c5level0_row1\" class=\"row_heading level0 row1\" >5</th>\n",
       "                        <td id=\"T_2b94cc02_cb21_11ec_b637_0022480bb4c5row1_col0\" class=\"data row1 col0\" >1.14e+04</td>\n",
       "                        <td id=\"T_2b94cc02_cb21_11ec_b637_0022480bb4c5row1_col1\" class=\"data row1 col1\" >1.12e+04</td>\n",
       "                        <td id=\"T_2b94cc02_cb21_11ec_b637_0022480bb4c5row1_col2\" class=\"data row1 col2\" >0.177</td>\n",
       "                        <td id=\"T_2b94cc02_cb21_11ec_b637_0022480bb4c5row1_col3\" class=\"data row1 col3\" >0.184</td>\n",
       "            </tr>\n",
       "            <tr>\n",
       "                        <th id=\"T_2b94cc02_cb21_11ec_b637_0022480bb4c5level0_row2\" class=\"row_heading level0 row2\" >10</th>\n",
       "                        <td id=\"T_2b94cc02_cb21_11ec_b637_0022480bb4c5row2_col0\" class=\"data row2 col0\" >1.11e+04</td>\n",
       "                        <td id=\"T_2b94cc02_cb21_11ec_b637_0022480bb4c5row2_col1\" class=\"data row2 col1\" >1.1e+04</td>\n",
       "                        <td id=\"T_2b94cc02_cb21_11ec_b637_0022480bb4c5row2_col2\" class=\"data row2 col2\" >0.112</td>\n",
       "                        <td id=\"T_2b94cc02_cb21_11ec_b637_0022480bb4c5row2_col3\" class=\"data row2 col3\" >0.114</td>\n",
       "            </tr>\n",
       "            <tr>\n",
       "                        <th id=\"T_2b94cc02_cb21_11ec_b637_0022480bb4c5level0_row3\" class=\"row_heading level0 row3\" >15</th>\n",
       "                        <td id=\"T_2b94cc02_cb21_11ec_b637_0022480bb4c5row3_col0\" class=\"data row3 col0\" >1.06e+04</td>\n",
       "                        <td id=\"T_2b94cc02_cb21_11ec_b637_0022480bb4c5row3_col1\" class=\"data row3 col1\" >1.06e+04</td>\n",
       "                        <td id=\"T_2b94cc02_cb21_11ec_b637_0022480bb4c5row3_col2\" class=\"data row3 col2\" >0.0878</td>\n",
       "                        <td id=\"T_2b94cc02_cb21_11ec_b637_0022480bb4c5row3_col3\" class=\"data row3 col3\" >0.0859</td>\n",
       "            </tr>\n",
       "    </tbody></table>"
      ],
      "text/plain": [
       "<pandas.io.formats.style.Styler at 0x7f97aa926100>"
      ]
     },
     "metadata": {},
     "output_type": "display_data"
    },
    {
     "name": "stdout",
     "output_type": "stream",
     "text": [
      "[\u001b[1mtardis.simulation.base\u001b[0m][\u001b[1;37mINFO\u001b[0m   ]  \n",
      "\t\n",
      "\tCurrent t_inner = 10628.190 K\n",
      "\tExpected t_inner for next iteration = 10644.054 K\n",
      " (\u001b[1mbase.py\u001b[0m:542)\n"
     ]
    },
    {
     "name": "stdout",
     "output_type": "stream",
     "text": [
      "[\u001b[1mtardis.simulation.base\u001b[0m][\u001b[1;37mINFO\u001b[0m   ]  \n",
      "\t\n",
      "\tStarting iteration 12 of 20 (\u001b[1mbase.py\u001b[0m:378)\n"
     ]
    },
    {
     "name": "stdout",
     "output_type": "stream",
     "text": [
      "[\u001b[1mtardis.simulation.base\u001b[0m][\u001b[1;37mINFO\u001b[0m   ]  \n",
      "\t\n",
      "\tLuminosity emitted   = 1.056e+43 erg / s\n",
      "\tLuminosity absorbed  = 3.420e+42 erg / s\n",
      "\tLuminosity requested = 1.059e+43 erg / s\n",
      " (\u001b[1mbase.py\u001b[0m:547)\n"
     ]
    },
    {
     "name": "stdout",
     "output_type": "stream",
     "text": [
      "[\u001b[1mtardis.simulation.base\u001b[0m][\u001b[1;37mINFO\u001b[0m   ]  \n",
      "\t\n",
      "\tPlasma stratification: (\u001b[1mbase.py\u001b[0m:515)\n"
     ]
    },
    {
     "data": {
      "text/html": [
       "<style  type=\"text/css\" >\n",
       "</style><table id=\"T_2c31d8ee_cb21_11ec_b637_0022480bb4c5\" ><thead>    <tr>        <th class=\"index_name level0\" >Shell No.</th>        <th class=\"col_heading level0 col0\" >t_rad</th>        <th class=\"col_heading level0 col1\" >next_t_rad</th>        <th class=\"col_heading level0 col2\" >w</th>        <th class=\"col_heading level0 col3\" >next_w</th>    </tr></thead><tbody>\n",
       "                <tr>\n",
       "                        <th id=\"T_2c31d8ee_cb21_11ec_b637_0022480bb4c5level0_row0\" class=\"row_heading level0 row0\" >0</th>\n",
       "                        <td id=\"T_2c31d8ee_cb21_11ec_b637_0022480bb4c5row0_col0\" class=\"data row0 col0\" >1.1e+04</td>\n",
       "                        <td id=\"T_2c31d8ee_cb21_11ec_b637_0022480bb4c5row0_col1\" class=\"data row0 col1\" >1.11e+04</td>\n",
       "                        <td id=\"T_2c31d8ee_cb21_11ec_b637_0022480bb4c5row0_col2\" class=\"data row0 col2\" >0.472</td>\n",
       "                        <td id=\"T_2c31d8ee_cb21_11ec_b637_0022480bb4c5row0_col3\" class=\"data row0 col3\" >0.467</td>\n",
       "            </tr>\n",
       "            <tr>\n",
       "                        <th id=\"T_2c31d8ee_cb21_11ec_b637_0022480bb4c5level0_row1\" class=\"row_heading level0 row1\" >5</th>\n",
       "                        <td id=\"T_2c31d8ee_cb21_11ec_b637_0022480bb4c5row1_col0\" class=\"data row1 col0\" >1.12e+04</td>\n",
       "                        <td id=\"T_2c31d8ee_cb21_11ec_b637_0022480bb4c5row1_col1\" class=\"data row1 col1\" >1.13e+04</td>\n",
       "                        <td id=\"T_2c31d8ee_cb21_11ec_b637_0022480bb4c5row1_col2\" class=\"data row1 col2\" >0.184</td>\n",
       "                        <td id=\"T_2c31d8ee_cb21_11ec_b637_0022480bb4c5row1_col3\" class=\"data row1 col3\" >0.176</td>\n",
       "            </tr>\n",
       "            <tr>\n",
       "                        <th id=\"T_2c31d8ee_cb21_11ec_b637_0022480bb4c5level0_row2\" class=\"row_heading level0 row2\" >10</th>\n",
       "                        <td id=\"T_2c31d8ee_cb21_11ec_b637_0022480bb4c5row2_col0\" class=\"data row2 col0\" >1.1e+04</td>\n",
       "                        <td id=\"T_2c31d8ee_cb21_11ec_b637_0022480bb4c5row2_col1\" class=\"data row2 col1\" >1.11e+04</td>\n",
       "                        <td id=\"T_2c31d8ee_cb21_11ec_b637_0022480bb4c5row2_col2\" class=\"data row2 col2\" >0.114</td>\n",
       "                        <td id=\"T_2c31d8ee_cb21_11ec_b637_0022480bb4c5row2_col3\" class=\"data row2 col3\" >0.11</td>\n",
       "            </tr>\n",
       "            <tr>\n",
       "                        <th id=\"T_2c31d8ee_cb21_11ec_b637_0022480bb4c5level0_row3\" class=\"row_heading level0 row3\" >15</th>\n",
       "                        <td id=\"T_2c31d8ee_cb21_11ec_b637_0022480bb4c5row3_col0\" class=\"data row3 col0\" >1.06e+04</td>\n",
       "                        <td id=\"T_2c31d8ee_cb21_11ec_b637_0022480bb4c5row3_col1\" class=\"data row3 col1\" >1.08e+04</td>\n",
       "                        <td id=\"T_2c31d8ee_cb21_11ec_b637_0022480bb4c5row3_col2\" class=\"data row3 col2\" >0.0859</td>\n",
       "                        <td id=\"T_2c31d8ee_cb21_11ec_b637_0022480bb4c5row3_col3\" class=\"data row3 col3\" >0.0821</td>\n",
       "            </tr>\n",
       "    </tbody></table>"
      ],
      "text/plain": [
       "<pandas.io.formats.style.Styler at 0x7f97abdfd520>"
      ]
     },
     "metadata": {},
     "output_type": "display_data"
    },
    {
     "name": "stdout",
     "output_type": "stream",
     "text": [
      "[\u001b[1mtardis.simulation.base\u001b[0m][\u001b[1;37mINFO\u001b[0m   ]  \n",
      "\t\n",
      "\tCurrent t_inner = 10644.054 K\n",
      "\tExpected t_inner for next iteration = 10653.543 K\n",
      " (\u001b[1mbase.py\u001b[0m:542)\n"
     ]
    },
    {
     "name": "stdout",
     "output_type": "stream",
     "text": [
      "[\u001b[1mtardis.simulation.base\u001b[0m][\u001b[1;37mINFO\u001b[0m   ]  \n",
      "\t\n",
      "\tStarting iteration 13 of 20 (\u001b[1mbase.py\u001b[0m:378)\n"
     ]
    },
    {
     "name": "stdout",
     "output_type": "stream",
     "text": [
      "[\u001b[1mtardis.simulation.base\u001b[0m][\u001b[1;37mINFO\u001b[0m   ]  \n",
      "\t\n",
      "\tLuminosity emitted   = 1.062e+43 erg / s\n",
      "\tLuminosity absorbed  = 3.406e+42 erg / s\n",
      "\tLuminosity requested = 1.059e+43 erg / s\n",
      " (\u001b[1mbase.py\u001b[0m:547)\n"
     ]
    },
    {
     "name": "stdout",
     "output_type": "stream",
     "text": [
      "[\u001b[1mtardis.simulation.base\u001b[0m][\u001b[1;37mINFO\u001b[0m   ]  \n",
      "\tIteration converged 1/4 consecutive times. (\u001b[1mbase.py\u001b[0m:259)\n"
     ]
    },
    {
     "name": "stdout",
     "output_type": "stream",
     "text": [
      "[\u001b[1mtardis.simulation.base\u001b[0m][\u001b[1;37mINFO\u001b[0m   ]  \n",
      "\t\n",
      "\tPlasma stratification: (\u001b[1mbase.py\u001b[0m:515)\n"
     ]
    },
    {
     "data": {
      "text/html": [
       "<style  type=\"text/css\" >\n",
       "</style><table id=\"T_2cd2a986_cb21_11ec_b637_0022480bb4c5\" ><thead>    <tr>        <th class=\"index_name level0\" >Shell No.</th>        <th class=\"col_heading level0 col0\" >t_rad</th>        <th class=\"col_heading level0 col1\" >next_t_rad</th>        <th class=\"col_heading level0 col2\" >w</th>        <th class=\"col_heading level0 col3\" >next_w</th>    </tr></thead><tbody>\n",
       "                <tr>\n",
       "                        <th id=\"T_2cd2a986_cb21_11ec_b637_0022480bb4c5level0_row0\" class=\"row_heading level0 row0\" >0</th>\n",
       "                        <td id=\"T_2cd2a986_cb21_11ec_b637_0022480bb4c5row0_col0\" class=\"data row0 col0\" >1.11e+04</td>\n",
       "                        <td id=\"T_2cd2a986_cb21_11ec_b637_0022480bb4c5row0_col1\" class=\"data row0 col1\" >1.11e+04</td>\n",
       "                        <td id=\"T_2cd2a986_cb21_11ec_b637_0022480bb4c5row0_col2\" class=\"data row0 col2\" >0.467</td>\n",
       "                        <td id=\"T_2cd2a986_cb21_11ec_b637_0022480bb4c5row0_col3\" class=\"data row0 col3\" >0.466</td>\n",
       "            </tr>\n",
       "            <tr>\n",
       "                        <th id=\"T_2cd2a986_cb21_11ec_b637_0022480bb4c5level0_row1\" class=\"row_heading level0 row1\" >5</th>\n",
       "                        <td id=\"T_2cd2a986_cb21_11ec_b637_0022480bb4c5row1_col0\" class=\"data row1 col0\" >1.13e+04</td>\n",
       "                        <td id=\"T_2cd2a986_cb21_11ec_b637_0022480bb4c5row1_col1\" class=\"data row1 col1\" >1.13e+04</td>\n",
       "                        <td id=\"T_2cd2a986_cb21_11ec_b637_0022480bb4c5row1_col2\" class=\"data row1 col2\" >0.176</td>\n",
       "                        <td id=\"T_2cd2a986_cb21_11ec_b637_0022480bb4c5row1_col3\" class=\"data row1 col3\" >0.18</td>\n",
       "            </tr>\n",
       "            <tr>\n",
       "                        <th id=\"T_2cd2a986_cb21_11ec_b637_0022480bb4c5level0_row2\" class=\"row_heading level0 row2\" >10</th>\n",
       "                        <td id=\"T_2cd2a986_cb21_11ec_b637_0022480bb4c5row2_col0\" class=\"data row2 col0\" >1.11e+04</td>\n",
       "                        <td id=\"T_2cd2a986_cb21_11ec_b637_0022480bb4c5row2_col1\" class=\"data row2 col1\" >1.11e+04</td>\n",
       "                        <td id=\"T_2cd2a986_cb21_11ec_b637_0022480bb4c5row2_col2\" class=\"data row2 col2\" >0.11</td>\n",
       "                        <td id=\"T_2cd2a986_cb21_11ec_b637_0022480bb4c5row2_col3\" class=\"data row2 col3\" >0.111</td>\n",
       "            </tr>\n",
       "            <tr>\n",
       "                        <th id=\"T_2cd2a986_cb21_11ec_b637_0022480bb4c5level0_row3\" class=\"row_heading level0 row3\" >15</th>\n",
       "                        <td id=\"T_2cd2a986_cb21_11ec_b637_0022480bb4c5row3_col0\" class=\"data row3 col0\" >1.08e+04</td>\n",
       "                        <td id=\"T_2cd2a986_cb21_11ec_b637_0022480bb4c5row3_col1\" class=\"data row3 col1\" >1.08e+04</td>\n",
       "                        <td id=\"T_2cd2a986_cb21_11ec_b637_0022480bb4c5row3_col2\" class=\"data row3 col2\" >0.0821</td>\n",
       "                        <td id=\"T_2cd2a986_cb21_11ec_b637_0022480bb4c5row3_col3\" class=\"data row3 col3\" >0.0841</td>\n",
       "            </tr>\n",
       "    </tbody></table>"
      ],
      "text/plain": [
       "<pandas.io.formats.style.Styler at 0x7f97aa926550>"
      ]
     },
     "metadata": {},
     "output_type": "display_data"
    },
    {
     "name": "stdout",
     "output_type": "stream",
     "text": [
      "[\u001b[1mtardis.simulation.base\u001b[0m][\u001b[1;37mINFO\u001b[0m   ]  \n",
      "\t\n",
      "\tCurrent t_inner = 10653.543 K\n",
      "\tExpected t_inner for next iteration = 10647.277 K\n",
      " (\u001b[1mbase.py\u001b[0m:542)\n"
     ]
    },
    {
     "name": "stdout",
     "output_type": "stream",
     "text": [
      "[\u001b[1mtardis.simulation.base\u001b[0m][\u001b[1;37mINFO\u001b[0m   ]  \n",
      "\t\n",
      "\tStarting iteration 14 of 20 (\u001b[1mbase.py\u001b[0m:378)\n"
     ]
    },
    {
     "name": "stdout",
     "output_type": "stream",
     "text": [
      "[\u001b[1mtardis.simulation.base\u001b[0m][\u001b[1;37mINFO\u001b[0m   ]  \n",
      "\t\n",
      "\tLuminosity emitted   = 1.063e+43 erg / s\n",
      "\tLuminosity absorbed  = 3.369e+42 erg / s\n",
      "\tLuminosity requested = 1.059e+43 erg / s\n",
      " (\u001b[1mbase.py\u001b[0m:547)\n"
     ]
    },
    {
     "name": "stdout",
     "output_type": "stream",
     "text": [
      "[\u001b[1mtardis.simulation.base\u001b[0m][\u001b[1;37mINFO\u001b[0m   ]  \n",
      "\tIteration converged 2/4 consecutive times. (\u001b[1mbase.py\u001b[0m:259)\n"
     ]
    },
    {
     "name": "stdout",
     "output_type": "stream",
     "text": [
      "[\u001b[1mtardis.simulation.base\u001b[0m][\u001b[1;37mINFO\u001b[0m   ]  \n",
      "\t\n",
      "\tPlasma stratification: (\u001b[1mbase.py\u001b[0m:515)\n"
     ]
    },
    {
     "data": {
      "text/html": [
       "<style  type=\"text/css\" >\n",
       "</style><table id=\"T_2d70aa0a_cb21_11ec_b637_0022480bb4c5\" ><thead>    <tr>        <th class=\"index_name level0\" >Shell No.</th>        <th class=\"col_heading level0 col0\" >t_rad</th>        <th class=\"col_heading level0 col1\" >next_t_rad</th>        <th class=\"col_heading level0 col2\" >w</th>        <th class=\"col_heading level0 col3\" >next_w</th>    </tr></thead><tbody>\n",
       "                <tr>\n",
       "                        <th id=\"T_2d70aa0a_cb21_11ec_b637_0022480bb4c5level0_row0\" class=\"row_heading level0 row0\" >0</th>\n",
       "                        <td id=\"T_2d70aa0a_cb21_11ec_b637_0022480bb4c5row0_col0\" class=\"data row0 col0\" >1.11e+04</td>\n",
       "                        <td id=\"T_2d70aa0a_cb21_11ec_b637_0022480bb4c5row0_col1\" class=\"data row0 col1\" >1.11e+04</td>\n",
       "                        <td id=\"T_2d70aa0a_cb21_11ec_b637_0022480bb4c5row0_col2\" class=\"data row0 col2\" >0.466</td>\n",
       "                        <td id=\"T_2d70aa0a_cb21_11ec_b637_0022480bb4c5row0_col3\" class=\"data row0 col3\" >0.469</td>\n",
       "            </tr>\n",
       "            <tr>\n",
       "                        <th id=\"T_2d70aa0a_cb21_11ec_b637_0022480bb4c5level0_row1\" class=\"row_heading level0 row1\" >5</th>\n",
       "                        <td id=\"T_2d70aa0a_cb21_11ec_b637_0022480bb4c5row1_col0\" class=\"data row1 col0\" >1.13e+04</td>\n",
       "                        <td id=\"T_2d70aa0a_cb21_11ec_b637_0022480bb4c5row1_col1\" class=\"data row1 col1\" >1.13e+04</td>\n",
       "                        <td id=\"T_2d70aa0a_cb21_11ec_b637_0022480bb4c5row1_col2\" class=\"data row1 col2\" >0.18</td>\n",
       "                        <td id=\"T_2d70aa0a_cb21_11ec_b637_0022480bb4c5row1_col3\" class=\"data row1 col3\" >0.182</td>\n",
       "            </tr>\n",
       "            <tr>\n",
       "                        <th id=\"T_2d70aa0a_cb21_11ec_b637_0022480bb4c5level0_row2\" class=\"row_heading level0 row2\" >10</th>\n",
       "                        <td id=\"T_2d70aa0a_cb21_11ec_b637_0022480bb4c5row2_col0\" class=\"data row2 col0\" >1.11e+04</td>\n",
       "                        <td id=\"T_2d70aa0a_cb21_11ec_b637_0022480bb4c5row2_col1\" class=\"data row2 col1\" >1.1e+04</td>\n",
       "                        <td id=\"T_2d70aa0a_cb21_11ec_b637_0022480bb4c5row2_col2\" class=\"data row2 col2\" >0.111</td>\n",
       "                        <td id=\"T_2d70aa0a_cb21_11ec_b637_0022480bb4c5row2_col3\" class=\"data row2 col3\" >0.113</td>\n",
       "            </tr>\n",
       "            <tr>\n",
       "                        <th id=\"T_2d70aa0a_cb21_11ec_b637_0022480bb4c5level0_row3\" class=\"row_heading level0 row3\" >15</th>\n",
       "                        <td id=\"T_2d70aa0a_cb21_11ec_b637_0022480bb4c5row3_col0\" class=\"data row3 col0\" >1.08e+04</td>\n",
       "                        <td id=\"T_2d70aa0a_cb21_11ec_b637_0022480bb4c5row3_col1\" class=\"data row3 col1\" >1.07e+04</td>\n",
       "                        <td id=\"T_2d70aa0a_cb21_11ec_b637_0022480bb4c5row3_col2\" class=\"data row3 col2\" >0.0841</td>\n",
       "                        <td id=\"T_2d70aa0a_cb21_11ec_b637_0022480bb4c5row3_col3\" class=\"data row3 col3\" >0.0854</td>\n",
       "            </tr>\n",
       "    </tbody></table>"
      ],
      "text/plain": [
       "<pandas.io.formats.style.Styler at 0x7f97aa920fd0>"
      ]
     },
     "metadata": {},
     "output_type": "display_data"
    },
    {
     "name": "stdout",
     "output_type": "stream",
     "text": [
      "[\u001b[1mtardis.simulation.base\u001b[0m][\u001b[1;37mINFO\u001b[0m   ]  \n",
      "\t\n",
      "\tCurrent t_inner = 10647.277 K\n",
      "\tExpected t_inner for next iteration = 10638.875 K\n",
      " (\u001b[1mbase.py\u001b[0m:542)\n"
     ]
    },
    {
     "name": "stdout",
     "output_type": "stream",
     "text": [
      "[\u001b[1mtardis.simulation.base\u001b[0m][\u001b[1;37mINFO\u001b[0m   ]  \n",
      "\t\n",
      "\tStarting iteration 15 of 20 (\u001b[1mbase.py\u001b[0m:378)\n"
     ]
    },
    {
     "name": "stdout",
     "output_type": "stream",
     "text": [
      "[\u001b[1mtardis.simulation.base\u001b[0m][\u001b[1;37mINFO\u001b[0m   ]  \n",
      "\t\n",
      "\tLuminosity emitted   = 1.053e+43 erg / s\n",
      "\tLuminosity absorbed  = 3.417e+42 erg / s\n",
      "\tLuminosity requested = 1.059e+43 erg / s\n",
      " (\u001b[1mbase.py\u001b[0m:547)\n"
     ]
    },
    {
     "name": "stdout",
     "output_type": "stream",
     "text": [
      "[\u001b[1mtardis.simulation.base\u001b[0m][\u001b[1;37mINFO\u001b[0m   ]  \n",
      "\tIteration converged 3/4 consecutive times. (\u001b[1mbase.py\u001b[0m:259)\n"
     ]
    },
    {
     "name": "stdout",
     "output_type": "stream",
     "text": [
      "[\u001b[1mtardis.simulation.base\u001b[0m][\u001b[1;37mINFO\u001b[0m   ]  \n",
      "\t\n",
      "\tPlasma stratification: (\u001b[1mbase.py\u001b[0m:515)\n"
     ]
    },
    {
     "data": {
      "text/html": [
       "<style  type=\"text/css\" >\n",
       "</style><table id=\"T_2e0d8f6e_cb21_11ec_b637_0022480bb4c5\" ><thead>    <tr>        <th class=\"index_name level0\" >Shell No.</th>        <th class=\"col_heading level0 col0\" >t_rad</th>        <th class=\"col_heading level0 col1\" >next_t_rad</th>        <th class=\"col_heading level0 col2\" >w</th>        <th class=\"col_heading level0 col3\" >next_w</th>    </tr></thead><tbody>\n",
       "                <tr>\n",
       "                        <th id=\"T_2e0d8f6e_cb21_11ec_b637_0022480bb4c5level0_row0\" class=\"row_heading level0 row0\" >0</th>\n",
       "                        <td id=\"T_2e0d8f6e_cb21_11ec_b637_0022480bb4c5row0_col0\" class=\"data row0 col0\" >1.11e+04</td>\n",
       "                        <td id=\"T_2e0d8f6e_cb21_11ec_b637_0022480bb4c5row0_col1\" class=\"data row0 col1\" >1.1e+04</td>\n",
       "                        <td id=\"T_2e0d8f6e_cb21_11ec_b637_0022480bb4c5row0_col2\" class=\"data row0 col2\" >0.469</td>\n",
       "                        <td id=\"T_2e0d8f6e_cb21_11ec_b637_0022480bb4c5row0_col3\" class=\"data row0 col3\" >0.484</td>\n",
       "            </tr>\n",
       "            <tr>\n",
       "                        <th id=\"T_2e0d8f6e_cb21_11ec_b637_0022480bb4c5level0_row1\" class=\"row_heading level0 row1\" >5</th>\n",
       "                        <td id=\"T_2e0d8f6e_cb21_11ec_b637_0022480bb4c5row1_col0\" class=\"data row1 col0\" >1.13e+04</td>\n",
       "                        <td id=\"T_2e0d8f6e_cb21_11ec_b637_0022480bb4c5row1_col1\" class=\"data row1 col1\" >1.13e+04</td>\n",
       "                        <td id=\"T_2e0d8f6e_cb21_11ec_b637_0022480bb4c5row1_col2\" class=\"data row1 col2\" >0.182</td>\n",
       "                        <td id=\"T_2e0d8f6e_cb21_11ec_b637_0022480bb4c5row1_col3\" class=\"data row1 col3\" >0.181</td>\n",
       "            </tr>\n",
       "            <tr>\n",
       "                        <th id=\"T_2e0d8f6e_cb21_11ec_b637_0022480bb4c5level0_row2\" class=\"row_heading level0 row2\" >10</th>\n",
       "                        <td id=\"T_2e0d8f6e_cb21_11ec_b637_0022480bb4c5row2_col0\" class=\"data row2 col0\" >1.1e+04</td>\n",
       "                        <td id=\"T_2e0d8f6e_cb21_11ec_b637_0022480bb4c5row2_col1\" class=\"data row2 col1\" >1.1e+04</td>\n",
       "                        <td id=\"T_2e0d8f6e_cb21_11ec_b637_0022480bb4c5row2_col2\" class=\"data row2 col2\" >0.113</td>\n",
       "                        <td id=\"T_2e0d8f6e_cb21_11ec_b637_0022480bb4c5row2_col3\" class=\"data row2 col3\" >0.113</td>\n",
       "            </tr>\n",
       "            <tr>\n",
       "                        <th id=\"T_2e0d8f6e_cb21_11ec_b637_0022480bb4c5level0_row3\" class=\"row_heading level0 row3\" >15</th>\n",
       "                        <td id=\"T_2e0d8f6e_cb21_11ec_b637_0022480bb4c5row3_col0\" class=\"data row3 col0\" >1.07e+04</td>\n",
       "                        <td id=\"T_2e0d8f6e_cb21_11ec_b637_0022480bb4c5row3_col1\" class=\"data row3 col1\" >1.07e+04</td>\n",
       "                        <td id=\"T_2e0d8f6e_cb21_11ec_b637_0022480bb4c5row3_col2\" class=\"data row3 col2\" >0.0854</td>\n",
       "                        <td id=\"T_2e0d8f6e_cb21_11ec_b637_0022480bb4c5row3_col3\" class=\"data row3 col3\" >0.0858</td>\n",
       "            </tr>\n",
       "    </tbody></table>"
      ],
      "text/plain": [
       "<pandas.io.formats.style.Styler at 0x7f97aa926a90>"
      ]
     },
     "metadata": {},
     "output_type": "display_data"
    },
    {
     "name": "stdout",
     "output_type": "stream",
     "text": [
      "[\u001b[1mtardis.simulation.base\u001b[0m][\u001b[1;37mINFO\u001b[0m   ]  \n",
      "\t\n",
      "\tCurrent t_inner = 10638.875 K\n",
      "\tExpected t_inner for next iteration = 10655.125 K\n",
      " (\u001b[1mbase.py\u001b[0m:542)\n"
     ]
    },
    {
     "name": "stdout",
     "output_type": "stream",
     "text": [
      "[\u001b[1mtardis.simulation.base\u001b[0m][\u001b[1;37mINFO\u001b[0m   ]  \n",
      "\t\n",
      "\tStarting iteration 16 of 20 (\u001b[1mbase.py\u001b[0m:378)\n"
     ]
    },
    {
     "name": "stdout",
     "output_type": "stream",
     "text": [
      "[\u001b[1mtardis.simulation.base\u001b[0m][\u001b[1;37mINFO\u001b[0m   ]  \n",
      "\t\n",
      "\tLuminosity emitted   = 1.059e+43 erg / s\n",
      "\tLuminosity absorbed  = 3.445e+42 erg / s\n",
      "\tLuminosity requested = 1.059e+43 erg / s\n",
      " (\u001b[1mbase.py\u001b[0m:547)\n"
     ]
    },
    {
     "name": "stdout",
     "output_type": "stream",
     "text": [
      "[\u001b[1mtardis.simulation.base\u001b[0m][\u001b[1;37mINFO\u001b[0m   ]  \n",
      "\tIteration converged 4/4 consecutive times. (\u001b[1mbase.py\u001b[0m:259)\n"
     ]
    },
    {
     "name": "stdout",
     "output_type": "stream",
     "text": [
      "[\u001b[1mtardis.simulation.base\u001b[0m][\u001b[1;37mINFO\u001b[0m   ]  \n",
      "\t\n",
      "\tPlasma stratification: (\u001b[1mbase.py\u001b[0m:515)\n"
     ]
    },
    {
     "data": {
      "text/html": [
       "<style  type=\"text/css\" >\n",
       "</style><table id=\"T_2ea70bbc_cb21_11ec_b637_0022480bb4c5\" ><thead>    <tr>        <th class=\"index_name level0\" >Shell No.</th>        <th class=\"col_heading level0 col0\" >t_rad</th>        <th class=\"col_heading level0 col1\" >next_t_rad</th>        <th class=\"col_heading level0 col2\" >w</th>        <th class=\"col_heading level0 col3\" >next_w</th>    </tr></thead><tbody>\n",
       "                <tr>\n",
       "                        <th id=\"T_2ea70bbc_cb21_11ec_b637_0022480bb4c5level0_row0\" class=\"row_heading level0 row0\" >0</th>\n",
       "                        <td id=\"T_2ea70bbc_cb21_11ec_b637_0022480bb4c5row0_col0\" class=\"data row0 col0\" >1.1e+04</td>\n",
       "                        <td id=\"T_2ea70bbc_cb21_11ec_b637_0022480bb4c5row0_col1\" class=\"data row0 col1\" >1.1e+04</td>\n",
       "                        <td id=\"T_2ea70bbc_cb21_11ec_b637_0022480bb4c5row0_col2\" class=\"data row0 col2\" >0.484</td>\n",
       "                        <td id=\"T_2ea70bbc_cb21_11ec_b637_0022480bb4c5row0_col3\" class=\"data row0 col3\" >0.472</td>\n",
       "            </tr>\n",
       "            <tr>\n",
       "                        <th id=\"T_2ea70bbc_cb21_11ec_b637_0022480bb4c5level0_row1\" class=\"row_heading level0 row1\" >5</th>\n",
       "                        <td id=\"T_2ea70bbc_cb21_11ec_b637_0022480bb4c5row1_col0\" class=\"data row1 col0\" >1.13e+04</td>\n",
       "                        <td id=\"T_2ea70bbc_cb21_11ec_b637_0022480bb4c5row1_col1\" class=\"data row1 col1\" >1.13e+04</td>\n",
       "                        <td id=\"T_2ea70bbc_cb21_11ec_b637_0022480bb4c5row1_col2\" class=\"data row1 col2\" >0.181</td>\n",
       "                        <td id=\"T_2ea70bbc_cb21_11ec_b637_0022480bb4c5row1_col3\" class=\"data row1 col3\" >0.177</td>\n",
       "            </tr>\n",
       "            <tr>\n",
       "                        <th id=\"T_2ea70bbc_cb21_11ec_b637_0022480bb4c5level0_row2\" class=\"row_heading level0 row2\" >10</th>\n",
       "                        <td id=\"T_2ea70bbc_cb21_11ec_b637_0022480bb4c5row2_col0\" class=\"data row2 col0\" >1.1e+04</td>\n",
       "                        <td id=\"T_2ea70bbc_cb21_11ec_b637_0022480bb4c5row2_col1\" class=\"data row2 col1\" >1.1e+04</td>\n",
       "                        <td id=\"T_2ea70bbc_cb21_11ec_b637_0022480bb4c5row2_col2\" class=\"data row2 col2\" >0.113</td>\n",
       "                        <td id=\"T_2ea70bbc_cb21_11ec_b637_0022480bb4c5row2_col3\" class=\"data row2 col3\" >0.113</td>\n",
       "            </tr>\n",
       "            <tr>\n",
       "                        <th id=\"T_2ea70bbc_cb21_11ec_b637_0022480bb4c5level0_row3\" class=\"row_heading level0 row3\" >15</th>\n",
       "                        <td id=\"T_2ea70bbc_cb21_11ec_b637_0022480bb4c5row3_col0\" class=\"data row3 col0\" >1.07e+04</td>\n",
       "                        <td id=\"T_2ea70bbc_cb21_11ec_b637_0022480bb4c5row3_col1\" class=\"data row3 col1\" >1.06e+04</td>\n",
       "                        <td id=\"T_2ea70bbc_cb21_11ec_b637_0022480bb4c5row3_col2\" class=\"data row3 col2\" >0.0858</td>\n",
       "                        <td id=\"T_2ea70bbc_cb21_11ec_b637_0022480bb4c5row3_col3\" class=\"data row3 col3\" >0.0858</td>\n",
       "            </tr>\n",
       "    </tbody></table>"
      ],
      "text/plain": [
       "<pandas.io.formats.style.Styler at 0x7f97aa934b20>"
      ]
     },
     "metadata": {},
     "output_type": "display_data"
    },
    {
     "name": "stdout",
     "output_type": "stream",
     "text": [
      "[\u001b[1mtardis.simulation.base\u001b[0m][\u001b[1;37mINFO\u001b[0m   ]  \n",
      "\t\n",
      "\tCurrent t_inner = 10655.125 K\n",
      "\tExpected t_inner for next iteration = 10655.561 K\n",
      " (\u001b[1mbase.py\u001b[0m:542)\n"
     ]
    },
    {
     "name": "stdout",
     "output_type": "stream",
     "text": [
      "[\u001b[1mtardis.simulation.base\u001b[0m][\u001b[1;37mINFO\u001b[0m   ]  \n",
      "\t\n",
      "\tStarting iteration 17 of 20 (\u001b[1mbase.py\u001b[0m:378)\n"
     ]
    },
    {
     "name": "stdout",
     "output_type": "stream",
     "text": [
      "[\u001b[1mtardis.simulation.base\u001b[0m][\u001b[1;37mINFO\u001b[0m   ]  \n",
      "\t\n",
      "\tLuminosity emitted   = 1.067e+43 erg / s\n",
      "\tLuminosity absorbed  = 3.372e+42 erg / s\n",
      "\tLuminosity requested = 1.059e+43 erg / s\n",
      " (\u001b[1mbase.py\u001b[0m:547)\n"
     ]
    },
    {
     "name": "stdout",
     "output_type": "stream",
     "text": [
      "[\u001b[1mtardis.simulation.base\u001b[0m][\u001b[1;37mINFO\u001b[0m   ]  \n",
      "\t\n",
      "\tPlasma stratification: (\u001b[1mbase.py\u001b[0m:515)\n"
     ]
    },
    {
     "data": {
      "text/html": [
       "<style  type=\"text/css\" >\n",
       "</style><table id=\"T_2f413ce6_cb21_11ec_b637_0022480bb4c5\" ><thead>    <tr>        <th class=\"index_name level0\" >Shell No.</th>        <th class=\"col_heading level0 col0\" >t_rad</th>        <th class=\"col_heading level0 col1\" >next_t_rad</th>        <th class=\"col_heading level0 col2\" >w</th>        <th class=\"col_heading level0 col3\" >next_w</th>    </tr></thead><tbody>\n",
       "                <tr>\n",
       "                        <th id=\"T_2f413ce6_cb21_11ec_b637_0022480bb4c5level0_row0\" class=\"row_heading level0 row0\" >0</th>\n",
       "                        <td id=\"T_2f413ce6_cb21_11ec_b637_0022480bb4c5row0_col0\" class=\"data row0 col0\" >1.1e+04</td>\n",
       "                        <td id=\"T_2f413ce6_cb21_11ec_b637_0022480bb4c5row0_col1\" class=\"data row0 col1\" >1.11e+04</td>\n",
       "                        <td id=\"T_2f413ce6_cb21_11ec_b637_0022480bb4c5row0_col2\" class=\"data row0 col2\" >0.472</td>\n",
       "                        <td id=\"T_2f413ce6_cb21_11ec_b637_0022480bb4c5row0_col3\" class=\"data row0 col3\" >0.468</td>\n",
       "            </tr>\n",
       "            <tr>\n",
       "                        <th id=\"T_2f413ce6_cb21_11ec_b637_0022480bb4c5level0_row1\" class=\"row_heading level0 row1\" >5</th>\n",
       "                        <td id=\"T_2f413ce6_cb21_11ec_b637_0022480bb4c5row1_col0\" class=\"data row1 col0\" >1.13e+04</td>\n",
       "                        <td id=\"T_2f413ce6_cb21_11ec_b637_0022480bb4c5row1_col1\" class=\"data row1 col1\" >1.14e+04</td>\n",
       "                        <td id=\"T_2f413ce6_cb21_11ec_b637_0022480bb4c5row1_col2\" class=\"data row1 col2\" >0.177</td>\n",
       "                        <td id=\"T_2f413ce6_cb21_11ec_b637_0022480bb4c5row1_col3\" class=\"data row1 col3\" >0.175</td>\n",
       "            </tr>\n",
       "            <tr>\n",
       "                        <th id=\"T_2f413ce6_cb21_11ec_b637_0022480bb4c5level0_row2\" class=\"row_heading level0 row2\" >10</th>\n",
       "                        <td id=\"T_2f413ce6_cb21_11ec_b637_0022480bb4c5row2_col0\" class=\"data row2 col0\" >1.1e+04</td>\n",
       "                        <td id=\"T_2f413ce6_cb21_11ec_b637_0022480bb4c5row2_col1\" class=\"data row2 col1\" >1.11e+04</td>\n",
       "                        <td id=\"T_2f413ce6_cb21_11ec_b637_0022480bb4c5row2_col2\" class=\"data row2 col2\" >0.113</td>\n",
       "                        <td id=\"T_2f413ce6_cb21_11ec_b637_0022480bb4c5row2_col3\" class=\"data row2 col3\" >0.11</td>\n",
       "            </tr>\n",
       "            <tr>\n",
       "                        <th id=\"T_2f413ce6_cb21_11ec_b637_0022480bb4c5level0_row3\" class=\"row_heading level0 row3\" >15</th>\n",
       "                        <td id=\"T_2f413ce6_cb21_11ec_b637_0022480bb4c5row3_col0\" class=\"data row3 col0\" >1.06e+04</td>\n",
       "                        <td id=\"T_2f413ce6_cb21_11ec_b637_0022480bb4c5row3_col1\" class=\"data row3 col1\" >1.08e+04</td>\n",
       "                        <td id=\"T_2f413ce6_cb21_11ec_b637_0022480bb4c5row3_col2\" class=\"data row3 col2\" >0.0858</td>\n",
       "                        <td id=\"T_2f413ce6_cb21_11ec_b637_0022480bb4c5row3_col3\" class=\"data row3 col3\" >0.0816</td>\n",
       "            </tr>\n",
       "    </tbody></table>"
      ],
      "text/plain": [
       "<pandas.io.formats.style.Styler at 0x7f97aa8df700>"
      ]
     },
     "metadata": {},
     "output_type": "display_data"
    },
    {
     "name": "stdout",
     "output_type": "stream",
     "text": [
      "[\u001b[1mtardis.simulation.base\u001b[0m][\u001b[1;37mINFO\u001b[0m   ]  \n",
      "\t\n",
      "\tCurrent t_inner = 10655.561 K\n",
      "\tExpected t_inner for next iteration = 10636.536 K\n",
      " (\u001b[1mbase.py\u001b[0m:542)\n"
     ]
    },
    {
     "name": "stdout",
     "output_type": "stream",
     "text": [
      "[\u001b[1mtardis.simulation.base\u001b[0m][\u001b[1;37mINFO\u001b[0m   ]  \n",
      "\t\n",
      "\tStarting iteration 18 of 20 (\u001b[1mbase.py\u001b[0m:378)\n"
     ]
    },
    {
     "name": "stdout",
     "output_type": "stream",
     "text": [
      "[\u001b[1mtardis.simulation.base\u001b[0m][\u001b[1;37mINFO\u001b[0m   ]  \n",
      "\t\n",
      "\tLuminosity emitted   = 1.057e+43 erg / s\n",
      "\tLuminosity absorbed  = 3.365e+42 erg / s\n",
      "\tLuminosity requested = 1.059e+43 erg / s\n",
      " (\u001b[1mbase.py\u001b[0m:547)\n"
     ]
    },
    {
     "name": "stdout",
     "output_type": "stream",
     "text": [
      "[\u001b[1mtardis.simulation.base\u001b[0m][\u001b[1;37mINFO\u001b[0m   ]  \n",
      "\tIteration converged 1/4 consecutive times. (\u001b[1mbase.py\u001b[0m:259)\n"
     ]
    },
    {
     "name": "stdout",
     "output_type": "stream",
     "text": [
      "[\u001b[1mtardis.simulation.base\u001b[0m][\u001b[1;37mINFO\u001b[0m   ]  \n",
      "\t\n",
      "\tPlasma stratification: (\u001b[1mbase.py\u001b[0m:515)\n"
     ]
    },
    {
     "data": {
      "text/html": [
       "<style  type=\"text/css\" >\n",
       "</style><table id=\"T_2fdb14e2_cb21_11ec_b637_0022480bb4c5\" ><thead>    <tr>        <th class=\"index_name level0\" >Shell No.</th>        <th class=\"col_heading level0 col0\" >t_rad</th>        <th class=\"col_heading level0 col1\" >next_t_rad</th>        <th class=\"col_heading level0 col2\" >w</th>        <th class=\"col_heading level0 col3\" >next_w</th>    </tr></thead><tbody>\n",
       "                <tr>\n",
       "                        <th id=\"T_2fdb14e2_cb21_11ec_b637_0022480bb4c5level0_row0\" class=\"row_heading level0 row0\" >0</th>\n",
       "                        <td id=\"T_2fdb14e2_cb21_11ec_b637_0022480bb4c5row0_col0\" class=\"data row0 col0\" >1.11e+04</td>\n",
       "                        <td id=\"T_2fdb14e2_cb21_11ec_b637_0022480bb4c5row0_col1\" class=\"data row0 col1\" >1.11e+04</td>\n",
       "                        <td id=\"T_2fdb14e2_cb21_11ec_b637_0022480bb4c5row0_col2\" class=\"data row0 col2\" >0.468</td>\n",
       "                        <td id=\"T_2fdb14e2_cb21_11ec_b637_0022480bb4c5row0_col3\" class=\"data row0 col3\" >0.464</td>\n",
       "            </tr>\n",
       "            <tr>\n",
       "                        <th id=\"T_2fdb14e2_cb21_11ec_b637_0022480bb4c5level0_row1\" class=\"row_heading level0 row1\" >5</th>\n",
       "                        <td id=\"T_2fdb14e2_cb21_11ec_b637_0022480bb4c5row1_col0\" class=\"data row1 col0\" >1.14e+04</td>\n",
       "                        <td id=\"T_2fdb14e2_cb21_11ec_b637_0022480bb4c5row1_col1\" class=\"data row1 col1\" >1.13e+04</td>\n",
       "                        <td id=\"T_2fdb14e2_cb21_11ec_b637_0022480bb4c5row1_col2\" class=\"data row1 col2\" >0.175</td>\n",
       "                        <td id=\"T_2fdb14e2_cb21_11ec_b637_0022480bb4c5row1_col3\" class=\"data row1 col3\" >0.177</td>\n",
       "            </tr>\n",
       "            <tr>\n",
       "                        <th id=\"T_2fdb14e2_cb21_11ec_b637_0022480bb4c5level0_row2\" class=\"row_heading level0 row2\" >10</th>\n",
       "                        <td id=\"T_2fdb14e2_cb21_11ec_b637_0022480bb4c5row2_col0\" class=\"data row2 col0\" >1.11e+04</td>\n",
       "                        <td id=\"T_2fdb14e2_cb21_11ec_b637_0022480bb4c5row2_col1\" class=\"data row2 col1\" >1.1e+04</td>\n",
       "                        <td id=\"T_2fdb14e2_cb21_11ec_b637_0022480bb4c5row2_col2\" class=\"data row2 col2\" >0.11</td>\n",
       "                        <td id=\"T_2fdb14e2_cb21_11ec_b637_0022480bb4c5row2_col3\" class=\"data row2 col3\" >0.113</td>\n",
       "            </tr>\n",
       "            <tr>\n",
       "                        <th id=\"T_2fdb14e2_cb21_11ec_b637_0022480bb4c5level0_row3\" class=\"row_heading level0 row3\" >15</th>\n",
       "                        <td id=\"T_2fdb14e2_cb21_11ec_b637_0022480bb4c5row3_col0\" class=\"data row3 col0\" >1.08e+04</td>\n",
       "                        <td id=\"T_2fdb14e2_cb21_11ec_b637_0022480bb4c5row3_col1\" class=\"data row3 col1\" >1.07e+04</td>\n",
       "                        <td id=\"T_2fdb14e2_cb21_11ec_b637_0022480bb4c5row3_col2\" class=\"data row3 col2\" >0.0816</td>\n",
       "                        <td id=\"T_2fdb14e2_cb21_11ec_b637_0022480bb4c5row3_col3\" class=\"data row3 col3\" >0.0848</td>\n",
       "            </tr>\n",
       "    </tbody></table>"
      ],
      "text/plain": [
       "<pandas.io.formats.style.Styler at 0x7f97aa8dfe50>"
      ]
     },
     "metadata": {},
     "output_type": "display_data"
    },
    {
     "name": "stdout",
     "output_type": "stream",
     "text": [
      "[\u001b[1mtardis.simulation.base\u001b[0m][\u001b[1;37mINFO\u001b[0m   ]  \n",
      "\t\n",
      "\tCurrent t_inner = 10636.536 K\n",
      "\tExpected t_inner for next iteration = 10641.692 K\n",
      " (\u001b[1mbase.py\u001b[0m:542)\n"
     ]
    },
    {
     "name": "stdout",
     "output_type": "stream",
     "text": [
      "[\u001b[1mtardis.simulation.base\u001b[0m][\u001b[1;37mINFO\u001b[0m   ]  \n",
      "\t\n",
      "\tStarting iteration 19 of 20 (\u001b[1mbase.py\u001b[0m:378)\n"
     ]
    },
    {
     "name": "stdout",
     "output_type": "stream",
     "text": [
      "[\u001b[1mtardis.simulation.base\u001b[0m][\u001b[1;37mINFO\u001b[0m   ]  \n",
      "\t\n",
      "\tLuminosity emitted   = 1.056e+43 erg / s\n",
      "\tLuminosity absorbed  = 3.405e+42 erg / s\n",
      "\tLuminosity requested = 1.059e+43 erg / s\n",
      " (\u001b[1mbase.py\u001b[0m:547)\n"
     ]
    },
    {
     "name": "stdout",
     "output_type": "stream",
     "text": [
      "[\u001b[1mtardis.simulation.base\u001b[0m][\u001b[1;37mINFO\u001b[0m   ]  \n",
      "\tIteration converged 2/4 consecutive times. (\u001b[1mbase.py\u001b[0m:259)\n"
     ]
    },
    {
     "name": "stdout",
     "output_type": "stream",
     "text": [
      "[\u001b[1mtardis.simulation.base\u001b[0m][\u001b[1;37mINFO\u001b[0m   ]  \n",
      "\t\n",
      "\tPlasma stratification: (\u001b[1mbase.py\u001b[0m:515)\n"
     ]
    },
    {
     "data": {
      "text/html": [
       "<style  type=\"text/css\" >\n",
       "</style><table id=\"T_3077dcc8_cb21_11ec_b637_0022480bb4c5\" ><thead>    <tr>        <th class=\"index_name level0\" >Shell No.</th>        <th class=\"col_heading level0 col0\" >t_rad</th>        <th class=\"col_heading level0 col1\" >next_t_rad</th>        <th class=\"col_heading level0 col2\" >w</th>        <th class=\"col_heading level0 col3\" >next_w</th>    </tr></thead><tbody>\n",
       "                <tr>\n",
       "                        <th id=\"T_3077dcc8_cb21_11ec_b637_0022480bb4c5level0_row0\" class=\"row_heading level0 row0\" >0</th>\n",
       "                        <td id=\"T_3077dcc8_cb21_11ec_b637_0022480bb4c5row0_col0\" class=\"data row0 col0\" >1.11e+04</td>\n",
       "                        <td id=\"T_3077dcc8_cb21_11ec_b637_0022480bb4c5row0_col1\" class=\"data row0 col1\" >1.11e+04</td>\n",
       "                        <td id=\"T_3077dcc8_cb21_11ec_b637_0022480bb4c5row0_col2\" class=\"data row0 col2\" >0.464</td>\n",
       "                        <td id=\"T_3077dcc8_cb21_11ec_b637_0022480bb4c5row0_col3\" class=\"data row0 col3\" >0.466</td>\n",
       "            </tr>\n",
       "            <tr>\n",
       "                        <th id=\"T_3077dcc8_cb21_11ec_b637_0022480bb4c5level0_row1\" class=\"row_heading level0 row1\" >5</th>\n",
       "                        <td id=\"T_3077dcc8_cb21_11ec_b637_0022480bb4c5row1_col0\" class=\"data row1 col0\" >1.13e+04</td>\n",
       "                        <td id=\"T_3077dcc8_cb21_11ec_b637_0022480bb4c5row1_col1\" class=\"data row1 col1\" >1.13e+04</td>\n",
       "                        <td id=\"T_3077dcc8_cb21_11ec_b637_0022480bb4c5row1_col2\" class=\"data row1 col2\" >0.177</td>\n",
       "                        <td id=\"T_3077dcc8_cb21_11ec_b637_0022480bb4c5row1_col3\" class=\"data row1 col3\" >0.177</td>\n",
       "            </tr>\n",
       "            <tr>\n",
       "                        <th id=\"T_3077dcc8_cb21_11ec_b637_0022480bb4c5level0_row2\" class=\"row_heading level0 row2\" >10</th>\n",
       "                        <td id=\"T_3077dcc8_cb21_11ec_b637_0022480bb4c5row2_col0\" class=\"data row2 col0\" >1.1e+04</td>\n",
       "                        <td id=\"T_3077dcc8_cb21_11ec_b637_0022480bb4c5row2_col1\" class=\"data row2 col1\" >1.11e+04</td>\n",
       "                        <td id=\"T_3077dcc8_cb21_11ec_b637_0022480bb4c5row2_col2\" class=\"data row2 col2\" >0.113</td>\n",
       "                        <td id=\"T_3077dcc8_cb21_11ec_b637_0022480bb4c5row2_col3\" class=\"data row2 col3\" >0.111</td>\n",
       "            </tr>\n",
       "            <tr>\n",
       "                        <th id=\"T_3077dcc8_cb21_11ec_b637_0022480bb4c5level0_row3\" class=\"row_heading level0 row3\" >15</th>\n",
       "                        <td id=\"T_3077dcc8_cb21_11ec_b637_0022480bb4c5row3_col0\" class=\"data row3 col0\" >1.07e+04</td>\n",
       "                        <td id=\"T_3077dcc8_cb21_11ec_b637_0022480bb4c5row3_col1\" class=\"data row3 col1\" >1.07e+04</td>\n",
       "                        <td id=\"T_3077dcc8_cb21_11ec_b637_0022480bb4c5row3_col2\" class=\"data row3 col2\" >0.0848</td>\n",
       "                        <td id=\"T_3077dcc8_cb21_11ec_b637_0022480bb4c5row3_col3\" class=\"data row3 col3\" >0.0853</td>\n",
       "            </tr>\n",
       "    </tbody></table>"
      ],
      "text/plain": [
       "<pandas.io.formats.style.Styler at 0x7f97aa920880>"
      ]
     },
     "metadata": {},
     "output_type": "display_data"
    },
    {
     "name": "stdout",
     "output_type": "stream",
     "text": [
      "[\u001b[1mtardis.simulation.base\u001b[0m][\u001b[1;37mINFO\u001b[0m   ]  \n",
      "\t\n",
      "\tCurrent t_inner = 10641.692 K\n",
      "\tExpected t_inner for next iteration = 10650.463 K\n",
      " (\u001b[1mbase.py\u001b[0m:542)\n"
     ]
    },
    {
     "name": "stdout",
     "output_type": "stream",
     "text": [
      "[\u001b[1mtardis.simulation.base\u001b[0m][\u001b[1;37mINFO\u001b[0m   ]  \n",
      "\t\n",
      "\tStarting iteration 20 of 20 (\u001b[1mbase.py\u001b[0m:378)\n"
     ]
    },
    {
     "name": "stdout",
     "output_type": "stream",
     "text": [
      "[\u001b[1mtardis.simulation.base\u001b[0m][\u001b[1;37mINFO\u001b[0m   ]  \n",
      "\t\n",
      "\tLuminosity emitted   = 1.061e+43 erg / s\n",
      "\tLuminosity absorbed  = 3.401e+42 erg / s\n",
      "\tLuminosity requested = 1.059e+43 erg / s\n",
      " (\u001b[1mbase.py\u001b[0m:547)\n"
     ]
    },
    {
     "name": "stdout",
     "output_type": "stream",
     "text": [
      "[\u001b[1mtardis.simulation.base\u001b[0m][\u001b[1;37mINFO\u001b[0m   ]  \n",
      "\t\n",
      "\tSimulation finished in 20 iterations \n",
      "\tSimulation took 69.04 s\n",
      " (\u001b[1mbase.py\u001b[0m:468)\n"
     ]
    },
    {
     "name": "stdout",
     "output_type": "stream",
     "text": [
      " "
     ]
    },
    {
     "name": "stdout",
     "output_type": "stream",
     "text": [
      "\n",
      "*** Profile stats marshalled to file '/tmp/tmpfva8tb7d'.\n",
      "Embedding SnakeViz in this document...\n"
     ]
    },
    {
     "data": {
      "text/html": [
       "\n",
       "<iframe id='snakeviz-375ee090-cb21-11ec-b637-0022480bb4c5' frameborder=0 seamless width='100%' height='1000'></iframe>\n",
       "<script>document.getElementById(\"snakeviz-375ee090-cb21-11ec-b637-0022480bb4c5\").setAttribute(\"src\", \"http://\" + document.location.hostname + \":8080/snakeviz/%2Ftmp%2Ftmpfva8tb7d\")</script>\n"
      ],
      "text/plain": [
       "<IPython.core.display.HTML object>"
      ]
     },
     "metadata": {},
     "output_type": "display_data"
    }
   ],
   "source": [
    "%%snakeviz\n",
    "\n",
    "run_tardis('tardis_example.yml')"
   ]
  },
  {
   "cell_type": "markdown",
   "id": "4b52662e",
   "metadata": {},
   "source": [
    "As SnakeViz uses a web browser to create the HTML to display, when this notebook is run the HTML isn’t viewable. In order to view this a picture of the HTML output is saved and displayed below.\n",
    "\n",
    "The SnakeViz visualization gives two things. At the top is a stack trace, where you can see which functions call others, and how long those functions take in respect to the caller function. At the bottom is all of the information that cProfile provides.\n",
    "\n",
    "The bottom left montecarlo_radial1d is montecarlo_main_loop. This function does a majority of the computation, yet there is nothing below it. This is because it, and all the functions that it calls, are Numba functions. montecarlo_main_loop is visible as montecarlo_radial1d calls it, but the functions that it calls are not visible as it is a Numba function.\n",
    "\n",
    "If the SnakeViz is run again without restarting the kernel, then the times will decrease and more time will be spent in montecarlo_main_loop relative to montecarlo_radial1d, as the Numba functions will have all compiled.\n",
    "\n",
    "If you run this notebook the HTML from cell 2 will be displayed at the bottom without issue; the lower cell is  just a solution to display the SnakeViz output without having access to the HTML."
   ]
  },
  {
   "cell_type": "markdown",
   "id": "65b28478",
   "metadata": {},
   "source": [
    "![](tardis_prof.png)"
   ]
  }
 ],
 "metadata": {
  "celltoolbar": "Raw Cell Format",
  "kernelspec": {
   "display_name": "Python 3",
   "language": "python",
   "name": "python3"
  },
  "language_info": {
   "codemirror_mode": {
    "name": "ipython",
    "version": 3
   },
   "file_extension": ".py",
   "mimetype": "text/x-python",
   "name": "python",
   "nbconvert_exporter": "python",
   "pygments_lexer": "ipython3",
   "version": "3.8.13"
  },
  "widgets": {
   "application/vnd.jupyter.widget-state+json": {
    "state": {
     "0429fb75ceda497f91fe149b7debe69a": {
      "model_module": "@jupyter-widgets/base",
      "model_module_version": "1.2.0",
      "model_name": "LayoutModel",
      "state": {
       "_model_module": "@jupyter-widgets/base",
       "_model_module_version": "1.2.0",
       "_model_name": "LayoutModel",
       "_view_count": null,
       "_view_module": "@jupyter-widgets/base",
       "_view_module_version": "1.2.0",
       "_view_name": "LayoutView",
       "align_content": null,
       "align_items": null,
       "align_self": null,
       "border": null,
       "bottom": null,
       "display": null,
       "flex": null,
       "flex_flow": null,
       "grid_area": null,
       "grid_auto_columns": null,
       "grid_auto_flow": null,
       "grid_auto_rows": null,
       "grid_column": null,
       "grid_gap": null,
       "grid_row": null,
       "grid_template_areas": null,
       "grid_template_columns": null,
       "grid_template_rows": null,
       "height": null,
       "justify_content": null,
       "justify_items": null,
       "left": null,
       "margin": null,
       "max_height": null,
       "max_width": null,
       "min_height": null,
       "min_width": null,
       "object_fit": null,
       "object_position": null,
       "order": null,
       "overflow": null,
       "overflow_x": null,
       "overflow_y": null,
       "padding": null,
       "right": null,
       "top": null,
       "visibility": null,
       "width": null
      }
     },
     "0d83d98ab05d41b0b49c1ac4c17c799a": {
      "model_module": "@jupyter-widgets/controls",
      "model_module_version": "1.5.0",
      "model_name": "HTMLModel",
      "state": {
       "_dom_classes": [],
       "_model_module": "@jupyter-widgets/controls",
       "_model_module_version": "1.5.0",
       "_model_name": "HTMLModel",
       "_view_count": null,
       "_view_module": "@jupyter-widgets/controls",
       "_view_module_version": "1.5.0",
       "_view_name": "HTMLView",
       "description": "",
       "description_tooltip": null,
       "layout": "IPY_MODEL_b929882bc7f74b7aa1f4cd032f018abd",
       "placeholder": "​",
       "style": "IPY_MODEL_31619612717d440eb099ca39ff82ea18",
       "value": "0/? [00:00&lt;?, ?it/s]"
      }
     },
     "14f799ef06734945896bd7f94f97f236": {
      "model_module": "@jupyter-widgets/base",
      "model_module_version": "1.2.0",
      "model_name": "LayoutModel",
      "state": {
       "_model_module": "@jupyter-widgets/base",
       "_model_module_version": "1.2.0",
       "_model_name": "LayoutModel",
       "_view_count": null,
       "_view_module": "@jupyter-widgets/base",
       "_view_module_version": "1.2.0",
       "_view_name": "LayoutView",
       "align_content": null,
       "align_items": null,
       "align_self": null,
       "border": null,
       "bottom": null,
       "display": null,
       "flex": null,
       "flex_flow": null,
       "grid_area": null,
       "grid_auto_columns": null,
       "grid_auto_flow": null,
       "grid_auto_rows": null,
       "grid_column": null,
       "grid_gap": null,
       "grid_row": null,
       "grid_template_areas": null,
       "grid_template_columns": null,
       "grid_template_rows": null,
       "height": null,
       "justify_content": null,
       "justify_items": null,
       "left": null,
       "margin": null,
       "max_height": null,
       "max_width": null,
       "min_height": null,
       "min_width": null,
       "object_fit": null,
       "object_position": null,
       "order": null,
       "overflow": null,
       "overflow_x": null,
       "overflow_y": null,
       "padding": null,
       "right": null,
       "top": null,
       "visibility": null,
       "width": null
      }
     },
     "17c67d1c28574fac9f5c1540482edcee": {
      "model_module": "@jupyter-widgets/base",
      "model_module_version": "1.2.0",
      "model_name": "LayoutModel",
      "state": {
       "_model_module": "@jupyter-widgets/base",
       "_model_module_version": "1.2.0",
       "_model_name": "LayoutModel",
       "_view_count": null,
       "_view_module": "@jupyter-widgets/base",
       "_view_module_version": "1.2.0",
       "_view_name": "LayoutView",
       "align_content": null,
       "align_items": null,
       "align_self": null,
       "border": null,
       "bottom": null,
       "display": null,
       "flex": null,
       "flex_flow": null,
       "grid_area": null,
       "grid_auto_columns": null,
       "grid_auto_flow": null,
       "grid_auto_rows": null,
       "grid_column": null,
       "grid_gap": null,
       "grid_row": null,
       "grid_template_areas": null,
       "grid_template_columns": null,
       "grid_template_rows": null,
       "height": null,
       "justify_content": null,
       "justify_items": null,
       "left": null,
       "margin": null,
       "max_height": null,
       "max_width": null,
       "min_height": null,
       "min_width": null,
       "object_fit": null,
       "object_position": null,
       "order": null,
       "overflow": null,
       "overflow_x": null,
       "overflow_y": null,
       "padding": null,
       "right": null,
       "top": null,
       "visibility": null,
       "width": null
      }
     },
     "1f8819d09cdd4138bfc1f91950441512": {
      "model_module": "@jupyter-widgets/controls",
      "model_module_version": "1.5.0",
      "model_name": "DescriptionStyleModel",
      "state": {
       "_model_module": "@jupyter-widgets/controls",
       "_model_module_version": "1.5.0",
       "_model_name": "DescriptionStyleModel",
       "_view_count": null,
       "_view_module": "@jupyter-widgets/base",
       "_view_module_version": "1.2.0",
       "_view_name": "StyleView",
       "description_width": ""
      }
     },
     "2a78af1985cd4a4aa00b9112ebab224f": {
      "model_module": "@jupyter-widgets/controls",
      "model_module_version": "1.5.0",
      "model_name": "HBoxModel",
      "state": {
       "_dom_classes": [],
       "_model_module": "@jupyter-widgets/controls",
       "_model_module_version": "1.5.0",
       "_model_name": "HBoxModel",
       "_view_count": null,
       "_view_module": "@jupyter-widgets/controls",
       "_view_module_version": "1.5.0",
       "_view_name": "HBoxView",
       "box_style": "",
       "children": [
        "IPY_MODEL_2c51524ebfe74fe2906bb523d108ec02",
        "IPY_MODEL_83e87055e0444b5f9834a76086aa815c",
        "IPY_MODEL_0d83d98ab05d41b0b49c1ac4c17c799a"
       ],
       "layout": "IPY_MODEL_65415e84560e46e694b74dd73f37dc04"
      }
     },
     "2b4df855fa4a411ea5ebe9ff158ae88b": {
      "model_module": "@jupyter-widgets/base",
      "model_module_version": "1.2.0",
      "model_name": "LayoutModel",
      "state": {
       "_model_module": "@jupyter-widgets/base",
       "_model_module_version": "1.2.0",
       "_model_name": "LayoutModel",
       "_view_count": null,
       "_view_module": "@jupyter-widgets/base",
       "_view_module_version": "1.2.0",
       "_view_name": "LayoutView",
       "align_content": null,
       "align_items": null,
       "align_self": null,
       "border": null,
       "bottom": null,
       "display": null,
       "flex": null,
       "flex_flow": null,
       "grid_area": null,
       "grid_auto_columns": null,
       "grid_auto_flow": null,
       "grid_auto_rows": null,
       "grid_column": null,
       "grid_gap": null,
       "grid_row": null,
       "grid_template_areas": null,
       "grid_template_columns": null,
       "grid_template_rows": null,
       "height": null,
       "justify_content": null,
       "justify_items": null,
       "left": null,
       "margin": null,
       "max_height": null,
       "max_width": null,
       "min_height": null,
       "min_width": null,
       "object_fit": null,
       "object_position": null,
       "order": null,
       "overflow": null,
       "overflow_x": null,
       "overflow_y": null,
       "padding": null,
       "right": null,
       "top": null,
       "visibility": null,
       "width": null
      }
     },
     "2c51524ebfe74fe2906bb523d108ec02": {
      "model_module": "@jupyter-widgets/controls",
      "model_module_version": "1.5.0",
      "model_name": "HTMLModel",
      "state": {
       "_dom_classes": [],
       "_model_module": "@jupyter-widgets/controls",
       "_model_module_version": "1.5.0",
       "_model_name": "HTMLModel",
       "_view_count": null,
       "_view_module": "@jupyter-widgets/controls",
       "_view_module_version": "1.5.0",
       "_view_name": "HTMLView",
       "description": "",
       "description_tooltip": null,
       "layout": "IPY_MODEL_0429fb75ceda497f91fe149b7debe69a",
       "placeholder": "​",
       "style": "IPY_MODEL_f484470a45704c67a74d841e21e595f2",
       "value": "Packets:   "
      }
     },
     "31619612717d440eb099ca39ff82ea18": {
      "model_module": "@jupyter-widgets/controls",
      "model_module_version": "1.5.0",
      "model_name": "DescriptionStyleModel",
      "state": {
       "_model_module": "@jupyter-widgets/controls",
       "_model_module_version": "1.5.0",
       "_model_name": "DescriptionStyleModel",
       "_view_count": null,
       "_view_module": "@jupyter-widgets/base",
       "_view_module_version": "1.2.0",
       "_view_name": "StyleView",
       "description_width": ""
      }
     },
     "3d05a038623b480894ae4db858f04b26": {
      "model_module": "@jupyter-widgets/base",
      "model_module_version": "1.2.0",
      "model_name": "LayoutModel",
      "state": {
       "_model_module": "@jupyter-widgets/base",
       "_model_module_version": "1.2.0",
       "_model_name": "LayoutModel",
       "_view_count": null,
       "_view_module": "@jupyter-widgets/base",
       "_view_module_version": "1.2.0",
       "_view_name": "LayoutView",
       "align_content": null,
       "align_items": null,
       "align_self": null,
       "border": null,
       "bottom": null,
       "display": null,
       "flex": null,
       "flex_flow": null,
       "grid_area": null,
       "grid_auto_columns": null,
       "grid_auto_flow": null,
       "grid_auto_rows": null,
       "grid_column": null,
       "grid_gap": null,
       "grid_row": null,
       "grid_template_areas": null,
       "grid_template_columns": null,
       "grid_template_rows": null,
       "height": null,
       "justify_content": null,
       "justify_items": null,
       "left": null,
       "margin": null,
       "max_height": null,
       "max_width": null,
       "min_height": null,
       "min_width": null,
       "object_fit": null,
       "object_position": null,
       "order": null,
       "overflow": null,
       "overflow_x": null,
       "overflow_y": null,
       "padding": null,
       "right": null,
       "top": null,
       "visibility": null,
       "width": "6%"
      }
     },
     "3f16e4512ad748e8a19176864e1f38c6": {
      "model_module": "@jupyter-widgets/base",
      "model_module_version": "1.2.0",
      "model_name": "LayoutModel",
      "state": {
       "_model_module": "@jupyter-widgets/base",
       "_model_module_version": "1.2.0",
       "_model_name": "LayoutModel",
       "_view_count": null,
       "_view_module": "@jupyter-widgets/base",
       "_view_module_version": "1.2.0",
       "_view_name": "LayoutView",
       "align_content": null,
       "align_items": null,
       "align_self": null,
       "border": null,
       "bottom": null,
       "display": null,
       "flex": null,
       "flex_flow": null,
       "grid_area": null,
       "grid_auto_columns": null,
       "grid_auto_flow": null,
       "grid_auto_rows": null,
       "grid_column": null,
       "grid_gap": null,
       "grid_row": null,
       "grid_template_areas": null,
       "grid_template_columns": null,
       "grid_template_rows": null,
       "height": null,
       "justify_content": null,
       "justify_items": null,
       "left": null,
       "margin": null,
       "max_height": null,
       "max_width": null,
       "min_height": null,
       "min_width": null,
       "object_fit": null,
       "object_position": null,
       "order": null,
       "overflow": null,
       "overflow_x": null,
       "overflow_y": null,
       "padding": null,
       "right": null,
       "top": null,
       "visibility": null,
       "width": null
      }
     },
     "4562e2d2569f4cba8c3d779e8f4f8f50": {
      "model_module": "@jupyter-widgets/controls",
      "model_module_version": "1.5.0",
      "model_name": "HTMLModel",
      "state": {
       "_dom_classes": [],
       "_model_module": "@jupyter-widgets/controls",
       "_model_module_version": "1.5.0",
       "_model_name": "HTMLModel",
       "_view_count": null,
       "_view_module": "@jupyter-widgets/controls",
       "_view_module_version": "1.5.0",
       "_view_name": "HTMLView",
       "description": "",
       "description_tooltip": null,
       "layout": "IPY_MODEL_9ec9a4ef5dab4d3f94f72c9c9109f741",
       "placeholder": "​",
       "style": "IPY_MODEL_1f8819d09cdd4138bfc1f91950441512",
       "value": "Iterations:"
      }
     },
     "4797bec336894e46b58d35ff4858bf75": {
      "model_module": "@jupyter-widgets/controls",
      "model_module_version": "1.5.0",
      "model_name": "HTMLModel",
      "state": {
       "_dom_classes": [],
       "_model_module": "@jupyter-widgets/controls",
       "_model_module_version": "1.5.0",
       "_model_name": "HTMLModel",
       "_view_count": null,
       "_view_module": "@jupyter-widgets/controls",
       "_view_module_version": "1.5.0",
       "_view_name": "HTMLView",
       "description": "",
       "description_tooltip": null,
       "layout": "IPY_MODEL_3f16e4512ad748e8a19176864e1f38c6",
       "placeholder": "​",
       "style": "IPY_MODEL_e1bb2d7d35fd44e68303a8b2f6db0838",
       "value": "0/? [00:00&lt;?, ?it/s]"
      }
     },
     "4bf149829efa4bd393cf71a20ba29ccf": {
      "model_module": "@jupyter-widgets/controls",
      "model_module_version": "1.5.0",
      "model_name": "ProgressStyleModel",
      "state": {
       "_model_module": "@jupyter-widgets/controls",
       "_model_module_version": "1.5.0",
       "_model_name": "ProgressStyleModel",
       "_view_count": null,
       "_view_module": "@jupyter-widgets/base",
       "_view_module_version": "1.2.0",
       "_view_name": "StyleView",
       "bar_color": null,
       "description_width": ""
      }
     },
     "4ea139786b944b749ac2503169fb52b9": {
      "model_module": "@jupyter-widgets/controls",
      "model_module_version": "1.5.0",
      "model_name": "ProgressStyleModel",
      "state": {
       "_model_module": "@jupyter-widgets/controls",
       "_model_module_version": "1.5.0",
       "_model_name": "ProgressStyleModel",
       "_view_count": null,
       "_view_module": "@jupyter-widgets/base",
       "_view_module_version": "1.2.0",
       "_view_name": "StyleView",
       "bar_color": null,
       "description_width": ""
      }
     },
     "54bc32d9e1a942de9612ea95b9298899": {
      "model_module": "@jupyter-widgets/controls",
      "model_module_version": "1.5.0",
      "model_name": "HTMLModel",
      "state": {
       "_dom_classes": [],
       "_model_module": "@jupyter-widgets/controls",
       "_model_module_version": "1.5.0",
       "_model_name": "HTMLModel",
       "_view_count": null,
       "_view_module": "@jupyter-widgets/controls",
       "_view_module_version": "1.5.0",
       "_view_name": "HTMLView",
       "description": "",
       "description_tooltip": null,
       "layout": "IPY_MODEL_795624c97ce24b2c8f0029d3b63852a5",
       "placeholder": "​",
       "style": "IPY_MODEL_60dcaeebe7634680a235df90bac1b017",
       "value": "Iterations:"
      }
     },
     "5e5c2ef6b3954840b418da0f8e61eb67": {
      "model_module": "@jupyter-widgets/output",
      "model_module_version": "1.0.0",
      "model_name": "OutputModel",
      "state": {
       "_dom_classes": [],
       "_model_module": "@jupyter-widgets/output",
       "_model_module_version": "1.0.0",
       "_model_name": "OutputModel",
       "_view_count": null,
       "_view_module": "@jupyter-widgets/output",
       "_view_module_version": "1.0.0",
       "_view_name": "OutputView",
       "layout": "IPY_MODEL_17c67d1c28574fac9f5c1540482edcee",
       "msg_id": "",
       "outputs": []
      }
     },
     "60dcaeebe7634680a235df90bac1b017": {
      "model_module": "@jupyter-widgets/controls",
      "model_module_version": "1.5.0",
      "model_name": "DescriptionStyleModel",
      "state": {
       "_model_module": "@jupyter-widgets/controls",
       "_model_module_version": "1.5.0",
       "_model_name": "DescriptionStyleModel",
       "_view_count": null,
       "_view_module": "@jupyter-widgets/base",
       "_view_module_version": "1.2.0",
       "_view_name": "StyleView",
       "description_width": ""
      }
     },
     "62e37df2b0544ac3acc4cf4a2a294f92": {
      "model_module": "@jupyter-widgets/controls",
      "model_module_version": "1.5.0",
      "model_name": "DescriptionStyleModel",
      "state": {
       "_model_module": "@jupyter-widgets/controls",
       "_model_module_version": "1.5.0",
       "_model_name": "DescriptionStyleModel",
       "_view_count": null,
       "_view_module": "@jupyter-widgets/base",
       "_view_module_version": "1.2.0",
       "_view_name": "StyleView",
       "description_width": ""
      }
     },
     "65415e84560e46e694b74dd73f37dc04": {
      "model_module": "@jupyter-widgets/base",
      "model_module_version": "1.2.0",
      "model_name": "LayoutModel",
      "state": {
       "_model_module": "@jupyter-widgets/base",
       "_model_module_version": "1.2.0",
       "_model_name": "LayoutModel",
       "_view_count": null,
       "_view_module": "@jupyter-widgets/base",
       "_view_module_version": "1.2.0",
       "_view_name": "LayoutView",
       "align_content": null,
       "align_items": null,
       "align_self": null,
       "border": null,
       "bottom": null,
       "display": null,
       "flex": null,
       "flex_flow": null,
       "grid_area": null,
       "grid_auto_columns": null,
       "grid_auto_flow": null,
       "grid_auto_rows": null,
       "grid_column": null,
       "grid_gap": null,
       "grid_row": null,
       "grid_template_areas": null,
       "grid_template_columns": null,
       "grid_template_rows": null,
       "height": null,
       "justify_content": null,
       "justify_items": null,
       "left": null,
       "margin": null,
       "max_height": null,
       "max_width": null,
       "min_height": null,
       "min_width": null,
       "object_fit": null,
       "object_position": null,
       "order": null,
       "overflow": null,
       "overflow_x": null,
       "overflow_y": null,
       "padding": null,
       "right": null,
       "top": null,
       "visibility": null,
       "width": null
      }
     },
     "66bc8bd0597d4599abeba6450d23b575": {
      "model_module": "@jupyter-widgets/base",
      "model_module_version": "1.2.0",
      "model_name": "LayoutModel",
      "state": {
       "_model_module": "@jupyter-widgets/base",
       "_model_module_version": "1.2.0",
       "_model_name": "LayoutModel",
       "_view_count": null,
       "_view_module": "@jupyter-widgets/base",
       "_view_module_version": "1.2.0",
       "_view_name": "LayoutView",
       "align_content": null,
       "align_items": null,
       "align_self": null,
       "border": null,
       "bottom": null,
       "display": null,
       "flex": null,
       "flex_flow": null,
       "grid_area": null,
       "grid_auto_columns": null,
       "grid_auto_flow": null,
       "grid_auto_rows": null,
       "grid_column": null,
       "grid_gap": null,
       "grid_row": null,
       "grid_template_areas": null,
       "grid_template_columns": null,
       "grid_template_rows": null,
       "height": null,
       "justify_content": null,
       "justify_items": null,
       "left": null,
       "margin": null,
       "max_height": null,
       "max_width": null,
       "min_height": null,
       "min_width": null,
       "object_fit": null,
       "object_position": null,
       "order": null,
       "overflow": null,
       "overflow_x": null,
       "overflow_y": null,
       "padding": null,
       "right": null,
       "top": null,
       "visibility": null,
       "width": null
      }
     },
     "6c679815e7284964bdf9ec3866fc29ee": {
      "model_module": "@jupyter-widgets/base",
      "model_module_version": "1.2.0",
      "model_name": "LayoutModel",
      "state": {
       "_model_module": "@jupyter-widgets/base",
       "_model_module_version": "1.2.0",
       "_model_name": "LayoutModel",
       "_view_count": null,
       "_view_module": "@jupyter-widgets/base",
       "_view_module_version": "1.2.0",
       "_view_name": "LayoutView",
       "align_content": null,
       "align_items": null,
       "align_self": null,
       "border": null,
       "bottom": null,
       "display": null,
       "flex": null,
       "flex_flow": null,
       "grid_area": null,
       "grid_auto_columns": null,
       "grid_auto_flow": null,
       "grid_auto_rows": null,
       "grid_column": null,
       "grid_gap": null,
       "grid_row": null,
       "grid_template_areas": null,
       "grid_template_columns": null,
       "grid_template_rows": null,
       "height": null,
       "justify_content": null,
       "justify_items": null,
       "left": null,
       "margin": null,
       "max_height": null,
       "max_width": null,
       "min_height": null,
       "min_width": null,
       "object_fit": null,
       "object_position": null,
       "order": null,
       "overflow": null,
       "overflow_x": null,
       "overflow_y": null,
       "padding": null,
       "right": null,
       "top": null,
       "visibility": null,
       "width": "20px"
      }
     },
     "7304c13f98f642b8864e6a051c692f99": {
      "model_module": "@jupyter-widgets/controls",
      "model_module_version": "1.5.0",
      "model_name": "DescriptionStyleModel",
      "state": {
       "_model_module": "@jupyter-widgets/controls",
       "_model_module_version": "1.5.0",
       "_model_name": "DescriptionStyleModel",
       "_view_count": null,
       "_view_module": "@jupyter-widgets/base",
       "_view_module_version": "1.2.0",
       "_view_name": "StyleView",
       "description_width": ""
      }
     },
     "795624c97ce24b2c8f0029d3b63852a5": {
      "model_module": "@jupyter-widgets/base",
      "model_module_version": "1.2.0",
      "model_name": "LayoutModel",
      "state": {
       "_model_module": "@jupyter-widgets/base",
       "_model_module_version": "1.2.0",
       "_model_name": "LayoutModel",
       "_view_count": null,
       "_view_module": "@jupyter-widgets/base",
       "_view_module_version": "1.2.0",
       "_view_name": "LayoutView",
       "align_content": null,
       "align_items": null,
       "align_self": null,
       "border": null,
       "bottom": null,
       "display": null,
       "flex": null,
       "flex_flow": null,
       "grid_area": null,
       "grid_auto_columns": null,
       "grid_auto_flow": null,
       "grid_auto_rows": null,
       "grid_column": null,
       "grid_gap": null,
       "grid_row": null,
       "grid_template_areas": null,
       "grid_template_columns": null,
       "grid_template_rows": null,
       "height": null,
       "justify_content": null,
       "justify_items": null,
       "left": null,
       "margin": null,
       "max_height": null,
       "max_width": null,
       "min_height": null,
       "min_width": null,
       "object_fit": null,
       "object_position": null,
       "order": null,
       "overflow": null,
       "overflow_x": null,
       "overflow_y": null,
       "padding": null,
       "right": null,
       "top": null,
       "visibility": null,
       "width": "6%"
      }
     },
     "7e54fcb55a5447aa82c380446f780653": {
      "model_module": "@jupyter-widgets/controls",
      "model_module_version": "1.5.0",
      "model_name": "ProgressStyleModel",
      "state": {
       "_model_module": "@jupyter-widgets/controls",
       "_model_module_version": "1.5.0",
       "_model_name": "ProgressStyleModel",
       "_view_count": null,
       "_view_module": "@jupyter-widgets/base",
       "_view_module_version": "1.2.0",
       "_view_name": "StyleView",
       "bar_color": null,
       "description_width": ""
      }
     },
     "7fc7792ecfd3412d9e17b909bdef4d7e": {
      "model_module": "@jupyter-widgets/controls",
      "model_module_version": "1.5.0",
      "model_name": "HBoxModel",
      "state": {
       "_dom_classes": [],
       "_model_module": "@jupyter-widgets/controls",
       "_model_module_version": "1.5.0",
       "_model_name": "HBoxModel",
       "_view_count": null,
       "_view_module": "@jupyter-widgets/controls",
       "_view_module_version": "1.5.0",
       "_view_name": "HBoxView",
       "box_style": "",
       "children": [
        "IPY_MODEL_54bc32d9e1a942de9612ea95b9298899",
        "IPY_MODEL_e7491223755b41329d14fda45c75807f",
        "IPY_MODEL_84fb3f217e164d15827dbfd1feccd878"
       ],
       "layout": "IPY_MODEL_b247d07affd345838570a1eb401a60f7"
      }
     },
     "83e87055e0444b5f9834a76086aa815c": {
      "model_module": "@jupyter-widgets/controls",
      "model_module_version": "1.5.0",
      "model_name": "FloatProgressModel",
      "state": {
       "_dom_classes": [],
       "_model_module": "@jupyter-widgets/controls",
       "_model_module_version": "1.5.0",
       "_model_name": "FloatProgressModel",
       "_view_count": null,
       "_view_module": "@jupyter-widgets/controls",
       "_view_module_version": "1.5.0",
       "_view_name": "ProgressView",
       "bar_style": "info",
       "description": "",
       "description_tooltip": null,
       "layout": "IPY_MODEL_aeb9c87d25ca4fb08b7872b778b2dc37",
       "max": 1.0,
       "min": 0.0,
       "orientation": "horizontal",
       "style": "IPY_MODEL_87ede22639f6497791a7673702661f77",
       "value": 0.0
      }
     },
     "84fb3f217e164d15827dbfd1feccd878": {
      "model_module": "@jupyter-widgets/controls",
      "model_module_version": "1.5.0",
      "model_name": "HTMLModel",
      "state": {
       "_dom_classes": [],
       "_model_module": "@jupyter-widgets/controls",
       "_model_module_version": "1.5.0",
       "_model_name": "HTMLModel",
       "_view_count": null,
       "_view_module": "@jupyter-widgets/controls",
       "_view_module_version": "1.5.0",
       "_view_name": "HTMLView",
       "description": "",
       "description_tooltip": null,
       "layout": "IPY_MODEL_f57258325e7c4963a5b21295d43ff8c8",
       "placeholder": "​",
       "style": "IPY_MODEL_62e37df2b0544ac3acc4cf4a2a294f92",
       "value": "20/20 [00:29&lt;00:00,  3.75s/it]"
      }
     },
     "87ede22639f6497791a7673702661f77": {
      "model_module": "@jupyter-widgets/controls",
      "model_module_version": "1.5.0",
      "model_name": "ProgressStyleModel",
      "state": {
       "_model_module": "@jupyter-widgets/controls",
       "_model_module_version": "1.5.0",
       "_model_name": "ProgressStyleModel",
       "_view_count": null,
       "_view_module": "@jupyter-widgets/base",
       "_view_module_version": "1.2.0",
       "_view_name": "StyleView",
       "bar_color": null,
       "description_width": ""
      }
     },
     "880202e2c0cd4423ae0686401887ce9b": {
      "model_module": "@jupyter-widgets/base",
      "model_module_version": "1.2.0",
      "model_name": "LayoutModel",
      "state": {
       "_model_module": "@jupyter-widgets/base",
       "_model_module_version": "1.2.0",
       "_model_name": "LayoutModel",
       "_view_count": null,
       "_view_module": "@jupyter-widgets/base",
       "_view_module_version": "1.2.0",
       "_view_name": "LayoutView",
       "align_content": null,
       "align_items": null,
       "align_self": null,
       "border": null,
       "bottom": null,
       "display": null,
       "flex": null,
       "flex_flow": null,
       "grid_area": null,
       "grid_auto_columns": null,
       "grid_auto_flow": null,
       "grid_auto_rows": null,
       "grid_column": null,
       "grid_gap": null,
       "grid_row": null,
       "grid_template_areas": null,
       "grid_template_columns": null,
       "grid_template_rows": null,
       "height": null,
       "justify_content": null,
       "justify_items": null,
       "left": null,
       "margin": null,
       "max_height": null,
       "max_width": null,
       "min_height": null,
       "min_width": null,
       "object_fit": null,
       "object_position": null,
       "order": null,
       "overflow": null,
       "overflow_x": null,
       "overflow_y": null,
       "padding": null,
       "right": null,
       "top": null,
       "visibility": null,
       "width": null
      }
     },
     "8b5f6b1bed314bc39b163bb85b1e966b": {
      "model_module": "@jupyter-widgets/controls",
      "model_module_version": "1.5.0",
      "model_name": "FloatProgressModel",
      "state": {
       "_dom_classes": [],
       "_model_module": "@jupyter-widgets/controls",
       "_model_module_version": "1.5.0",
       "_model_name": "FloatProgressModel",
       "_view_count": null,
       "_view_module": "@jupyter-widgets/controls",
       "_view_module_version": "1.5.0",
       "_view_name": "ProgressView",
       "bar_style": "info",
       "description": "",
       "description_tooltip": null,
       "layout": "IPY_MODEL_6c679815e7284964bdf9ec3866fc29ee",
       "max": 1.0,
       "min": 0.0,
       "orientation": "horizontal",
       "style": "IPY_MODEL_4ea139786b944b749ac2503169fb52b9",
       "value": 0.0
      }
     },
     "9658d4e68b844227b4219b1b1bb10271": {
      "model_module": "@jupyter-widgets/controls",
      "model_module_version": "1.5.0",
      "model_name": "HTMLModel",
      "state": {
       "_dom_classes": [],
       "_model_module": "@jupyter-widgets/controls",
       "_model_module_version": "1.5.0",
       "_model_name": "HTMLModel",
       "_view_count": null,
       "_view_module": "@jupyter-widgets/controls",
       "_view_module_version": "1.5.0",
       "_view_name": "HTMLView",
       "description": "",
       "description_tooltip": null,
       "layout": "IPY_MODEL_14f799ef06734945896bd7f94f97f236",
       "placeholder": "​",
       "style": "IPY_MODEL_ada3db8f1f6c4488af45dd1103d77b5c",
       "value": "99527/100000 [00:09&lt;00:00, 10293.76it/s]"
      }
     },
     "9ec9a4ef5dab4d3f94f72c9c9109f741": {
      "model_module": "@jupyter-widgets/base",
      "model_module_version": "1.2.0",
      "model_name": "LayoutModel",
      "state": {
       "_model_module": "@jupyter-widgets/base",
       "_model_module_version": "1.2.0",
       "_model_name": "LayoutModel",
       "_view_count": null,
       "_view_module": "@jupyter-widgets/base",
       "_view_module_version": "1.2.0",
       "_view_name": "LayoutView",
       "align_content": null,
       "align_items": null,
       "align_self": null,
       "border": null,
       "bottom": null,
       "display": null,
       "flex": null,
       "flex_flow": null,
       "grid_area": null,
       "grid_auto_columns": null,
       "grid_auto_flow": null,
       "grid_auto_rows": null,
       "grid_column": null,
       "grid_gap": null,
       "grid_row": null,
       "grid_template_areas": null,
       "grid_template_columns": null,
       "grid_template_rows": null,
       "height": null,
       "justify_content": null,
       "justify_items": null,
       "left": null,
       "margin": null,
       "max_height": null,
       "max_width": null,
       "min_height": null,
       "min_width": null,
       "object_fit": null,
       "object_position": null,
       "order": null,
       "overflow": null,
       "overflow_x": null,
       "overflow_y": null,
       "padding": null,
       "right": null,
       "top": null,
       "visibility": null,
       "width": null
      }
     },
     "9f14c62bbf914e6f87d3cecef735651b": {
      "model_module": "@jupyter-widgets/controls",
      "model_module_version": "1.5.0",
      "model_name": "HTMLModel",
      "state": {
       "_dom_classes": [],
       "_model_module": "@jupyter-widgets/controls",
       "_model_module_version": "1.5.0",
       "_model_name": "HTMLModel",
       "_view_count": null,
       "_view_module": "@jupyter-widgets/controls",
       "_view_module_version": "1.5.0",
       "_view_name": "HTMLView",
       "description": "",
       "description_tooltip": null,
       "layout": "IPY_MODEL_3d05a038623b480894ae4db858f04b26",
       "placeholder": "​",
       "style": "IPY_MODEL_7304c13f98f642b8864e6a051c692f99",
       "value": "Packets:   "
      }
     },
     "ada3db8f1f6c4488af45dd1103d77b5c": {
      "model_module": "@jupyter-widgets/controls",
      "model_module_version": "1.5.0",
      "model_name": "DescriptionStyleModel",
      "state": {
       "_model_module": "@jupyter-widgets/controls",
       "_model_module_version": "1.5.0",
       "_model_name": "DescriptionStyleModel",
       "_view_count": null,
       "_view_module": "@jupyter-widgets/base",
       "_view_module_version": "1.2.0",
       "_view_name": "StyleView",
       "description_width": ""
      }
     },
     "aeb9c87d25ca4fb08b7872b778b2dc37": {
      "model_module": "@jupyter-widgets/base",
      "model_module_version": "1.2.0",
      "model_name": "LayoutModel",
      "state": {
       "_model_module": "@jupyter-widgets/base",
       "_model_module_version": "1.2.0",
       "_model_name": "LayoutModel",
       "_view_count": null,
       "_view_module": "@jupyter-widgets/base",
       "_view_module_version": "1.2.0",
       "_view_name": "LayoutView",
       "align_content": null,
       "align_items": null,
       "align_self": null,
       "border": null,
       "bottom": null,
       "display": null,
       "flex": null,
       "flex_flow": null,
       "grid_area": null,
       "grid_auto_columns": null,
       "grid_auto_flow": null,
       "grid_auto_rows": null,
       "grid_column": null,
       "grid_gap": null,
       "grid_row": null,
       "grid_template_areas": null,
       "grid_template_columns": null,
       "grid_template_rows": null,
       "height": null,
       "justify_content": null,
       "justify_items": null,
       "left": null,
       "margin": null,
       "max_height": null,
       "max_width": null,
       "min_height": null,
       "min_width": null,
       "object_fit": null,
       "object_position": null,
       "order": null,
       "overflow": null,
       "overflow_x": null,
       "overflow_y": null,
       "padding": null,
       "right": null,
       "top": null,
       "visibility": null,
       "width": "20px"
      }
     },
     "b247d07affd345838570a1eb401a60f7": {
      "model_module": "@jupyter-widgets/base",
      "model_module_version": "1.2.0",
      "model_name": "LayoutModel",
      "state": {
       "_model_module": "@jupyter-widgets/base",
       "_model_module_version": "1.2.0",
       "_model_name": "LayoutModel",
       "_view_count": null,
       "_view_module": "@jupyter-widgets/base",
       "_view_module_version": "1.2.0",
       "_view_name": "LayoutView",
       "align_content": null,
       "align_items": null,
       "align_self": null,
       "border": null,
       "bottom": null,
       "display": null,
       "flex": null,
       "flex_flow": null,
       "grid_area": null,
       "grid_auto_columns": null,
       "grid_auto_flow": null,
       "grid_auto_rows": null,
       "grid_column": null,
       "grid_gap": null,
       "grid_row": null,
       "grid_template_areas": null,
       "grid_template_columns": null,
       "grid_template_rows": null,
       "height": null,
       "justify_content": null,
       "justify_items": null,
       "left": null,
       "margin": null,
       "max_height": null,
       "max_width": null,
       "min_height": null,
       "min_width": null,
       "object_fit": null,
       "object_position": null,
       "order": null,
       "overflow": null,
       "overflow_x": null,
       "overflow_y": null,
       "padding": null,
       "right": null,
       "top": null,
       "visibility": null,
       "width": null
      }
     },
     "b929882bc7f74b7aa1f4cd032f018abd": {
      "model_module": "@jupyter-widgets/base",
      "model_module_version": "1.2.0",
      "model_name": "LayoutModel",
      "state": {
       "_model_module": "@jupyter-widgets/base",
       "_model_module_version": "1.2.0",
       "_model_name": "LayoutModel",
       "_view_count": null,
       "_view_module": "@jupyter-widgets/base",
       "_view_module_version": "1.2.0",
       "_view_name": "LayoutView",
       "align_content": null,
       "align_items": null,
       "align_self": null,
       "border": null,
       "bottom": null,
       "display": null,
       "flex": null,
       "flex_flow": null,
       "grid_area": null,
       "grid_auto_columns": null,
       "grid_auto_flow": null,
       "grid_auto_rows": null,
       "grid_column": null,
       "grid_gap": null,
       "grid_row": null,
       "grid_template_areas": null,
       "grid_template_columns": null,
       "grid_template_rows": null,
       "height": null,
       "justify_content": null,
       "justify_items": null,
       "left": null,
       "margin": null,
       "max_height": null,
       "max_width": null,
       "min_height": null,
       "min_width": null,
       "object_fit": null,
       "object_position": null,
       "order": null,
       "overflow": null,
       "overflow_x": null,
       "overflow_y": null,
       "padding": null,
       "right": null,
       "top": null,
       "visibility": null,
       "width": null
      }
     },
     "c0ad2fa861c7410ca1009eed3e04c3f7": {
      "model_module": "@jupyter-widgets/base",
      "model_module_version": "1.2.0",
      "model_name": "LayoutModel",
      "state": {
       "_model_module": "@jupyter-widgets/base",
       "_model_module_version": "1.2.0",
       "_model_name": "LayoutModel",
       "_view_count": null,
       "_view_module": "@jupyter-widgets/base",
       "_view_module_version": "1.2.0",
       "_view_name": "LayoutView",
       "align_content": null,
       "align_items": null,
       "align_self": null,
       "border": null,
       "bottom": null,
       "display": null,
       "flex": null,
       "flex_flow": null,
       "grid_area": null,
       "grid_auto_columns": null,
       "grid_auto_flow": null,
       "grid_auto_rows": null,
       "grid_column": null,
       "grid_gap": null,
       "grid_row": null,
       "grid_template_areas": null,
       "grid_template_columns": null,
       "grid_template_rows": null,
       "height": null,
       "justify_content": null,
       "justify_items": null,
       "left": null,
       "margin": null,
       "max_height": null,
       "max_width": null,
       "min_height": null,
       "min_width": null,
       "object_fit": null,
       "object_position": null,
       "order": null,
       "overflow": null,
       "overflow_x": null,
       "overflow_y": null,
       "padding": null,
       "right": null,
       "top": null,
       "visibility": null,
       "width": "60%"
      }
     },
     "c1b4575461eb4132880c4e68246ebafc": {
      "model_module": "@jupyter-widgets/controls",
      "model_module_version": "1.5.0",
      "model_name": "FloatProgressModel",
      "state": {
       "_dom_classes": [],
       "_model_module": "@jupyter-widgets/controls",
       "_model_module_version": "1.5.0",
       "_model_name": "FloatProgressModel",
       "_view_count": null,
       "_view_module": "@jupyter-widgets/controls",
       "_view_module_version": "1.5.0",
       "_view_name": "ProgressView",
       "bar_style": "",
       "description": "",
       "description_tooltip": null,
       "layout": "IPY_MODEL_c0ad2fa861c7410ca1009eed3e04c3f7",
       "max": 100000.0,
       "min": 0.0,
       "orientation": "horizontal",
       "style": "IPY_MODEL_4bf149829efa4bd393cf71a20ba29ccf",
       "value": 99527.0
      }
     },
     "cc19ce4335d74d6990b862413be63f9c": {
      "model_module": "@jupyter-widgets/controls",
      "model_module_version": "1.5.0",
      "model_name": "HBoxModel",
      "state": {
       "_dom_classes": [],
       "_model_module": "@jupyter-widgets/controls",
       "_model_module_version": "1.5.0",
       "_model_name": "HBoxModel",
       "_view_count": null,
       "_view_module": "@jupyter-widgets/controls",
       "_view_module_version": "1.5.0",
       "_view_name": "HBoxView",
       "box_style": "",
       "children": [
        "IPY_MODEL_9f14c62bbf914e6f87d3cecef735651b",
        "IPY_MODEL_c1b4575461eb4132880c4e68246ebafc",
        "IPY_MODEL_9658d4e68b844227b4219b1b1bb10271"
       ],
       "layout": "IPY_MODEL_2b4df855fa4a411ea5ebe9ff158ae88b"
      }
     },
     "e1bb2d7d35fd44e68303a8b2f6db0838": {
      "model_module": "@jupyter-widgets/controls",
      "model_module_version": "1.5.0",
      "model_name": "DescriptionStyleModel",
      "state": {
       "_model_module": "@jupyter-widgets/controls",
       "_model_module_version": "1.5.0",
       "_model_name": "DescriptionStyleModel",
       "_view_count": null,
       "_view_module": "@jupyter-widgets/base",
       "_view_module_version": "1.2.0",
       "_view_name": "StyleView",
       "description_width": ""
      }
     },
     "e364c59da5a7456587838732e10d956f": {
      "model_module": "@jupyter-widgets/controls",
      "model_module_version": "1.5.0",
      "model_name": "HBoxModel",
      "state": {
       "_dom_classes": [],
       "_model_module": "@jupyter-widgets/controls",
       "_model_module_version": "1.5.0",
       "_model_name": "HBoxModel",
       "_view_count": null,
       "_view_module": "@jupyter-widgets/controls",
       "_view_module_version": "1.5.0",
       "_view_name": "HBoxView",
       "box_style": "",
       "children": [
        "IPY_MODEL_4562e2d2569f4cba8c3d779e8f4f8f50",
        "IPY_MODEL_8b5f6b1bed314bc39b163bb85b1e966b",
        "IPY_MODEL_4797bec336894e46b58d35ff4858bf75"
       ],
       "layout": "IPY_MODEL_66bc8bd0597d4599abeba6450d23b575"
      }
     },
     "e7491223755b41329d14fda45c75807f": {
      "model_module": "@jupyter-widgets/controls",
      "model_module_version": "1.5.0",
      "model_name": "FloatProgressModel",
      "state": {
       "_dom_classes": [],
       "_model_module": "@jupyter-widgets/controls",
       "_model_module_version": "1.5.0",
       "_model_name": "FloatProgressModel",
       "_view_count": null,
       "_view_module": "@jupyter-widgets/controls",
       "_view_module_version": "1.5.0",
       "_view_name": "ProgressView",
       "bar_style": "",
       "description": "",
       "description_tooltip": null,
       "layout": "IPY_MODEL_ec682b8abb6548ef97e18d5e377ba60e",
       "max": 20.0,
       "min": 0.0,
       "orientation": "horizontal",
       "style": "IPY_MODEL_7e54fcb55a5447aa82c380446f780653",
       "value": 20.0
      }
     },
     "ea70476851414c32bdf838ca6da7ff5b": {
      "model_module": "@jupyter-widgets/output",
      "model_module_version": "1.0.0",
      "model_name": "OutputModel",
      "state": {
       "_dom_classes": [],
       "_model_module": "@jupyter-widgets/output",
       "_model_module_version": "1.0.0",
       "_model_name": "OutputModel",
       "_view_count": null,
       "_view_module": "@jupyter-widgets/output",
       "_view_module_version": "1.0.0",
       "_view_name": "OutputView",
       "layout": "IPY_MODEL_880202e2c0cd4423ae0686401887ce9b",
       "msg_id": "",
       "outputs": []
      }
     },
     "ec682b8abb6548ef97e18d5e377ba60e": {
      "model_module": "@jupyter-widgets/base",
      "model_module_version": "1.2.0",
      "model_name": "LayoutModel",
      "state": {
       "_model_module": "@jupyter-widgets/base",
       "_model_module_version": "1.2.0",
       "_model_name": "LayoutModel",
       "_view_count": null,
       "_view_module": "@jupyter-widgets/base",
       "_view_module_version": "1.2.0",
       "_view_name": "LayoutView",
       "align_content": null,
       "align_items": null,
       "align_self": null,
       "border": null,
       "bottom": null,
       "display": null,
       "flex": null,
       "flex_flow": null,
       "grid_area": null,
       "grid_auto_columns": null,
       "grid_auto_flow": null,
       "grid_auto_rows": null,
       "grid_column": null,
       "grid_gap": null,
       "grid_row": null,
       "grid_template_areas": null,
       "grid_template_columns": null,
       "grid_template_rows": null,
       "height": null,
       "justify_content": null,
       "justify_items": null,
       "left": null,
       "margin": null,
       "max_height": null,
       "max_width": null,
       "min_height": null,
       "min_width": null,
       "object_fit": null,
       "object_position": null,
       "order": null,
       "overflow": null,
       "overflow_x": null,
       "overflow_y": null,
       "padding": null,
       "right": null,
       "top": null,
       "visibility": null,
       "width": "60%"
      }
     },
     "f484470a45704c67a74d841e21e595f2": {
      "model_module": "@jupyter-widgets/controls",
      "model_module_version": "1.5.0",
      "model_name": "DescriptionStyleModel",
      "state": {
       "_model_module": "@jupyter-widgets/controls",
       "_model_module_version": "1.5.0",
       "_model_name": "DescriptionStyleModel",
       "_view_count": null,
       "_view_module": "@jupyter-widgets/base",
       "_view_module_version": "1.2.0",
       "_view_name": "StyleView",
       "description_width": ""
      }
     },
     "f57258325e7c4963a5b21295d43ff8c8": {
      "model_module": "@jupyter-widgets/base",
      "model_module_version": "1.2.0",
      "model_name": "LayoutModel",
      "state": {
       "_model_module": "@jupyter-widgets/base",
       "_model_module_version": "1.2.0",
       "_model_name": "LayoutModel",
       "_view_count": null,
       "_view_module": "@jupyter-widgets/base",
       "_view_module_version": "1.2.0",
       "_view_name": "LayoutView",
       "align_content": null,
       "align_items": null,
       "align_self": null,
       "border": null,
       "bottom": null,
       "display": null,
       "flex": null,
       "flex_flow": null,
       "grid_area": null,
       "grid_auto_columns": null,
       "grid_auto_flow": null,
       "grid_auto_rows": null,
       "grid_column": null,
       "grid_gap": null,
       "grid_row": null,
       "grid_template_areas": null,
       "grid_template_columns": null,
       "grid_template_rows": null,
       "height": null,
       "justify_content": null,
       "justify_items": null,
       "left": null,
       "margin": null,
       "max_height": null,
       "max_width": null,
       "min_height": null,
       "min_width": null,
       "object_fit": null,
       "object_position": null,
       "order": null,
       "overflow": null,
       "overflow_x": null,
       "overflow_y": null,
       "padding": null,
       "right": null,
       "top": null,
       "visibility": null,
       "width": null
      }
     }
    },
    "version_major": 2,
    "version_minor": 0
   }
  }
 },
 "nbformat": 4,
 "nbformat_minor": 5
}
