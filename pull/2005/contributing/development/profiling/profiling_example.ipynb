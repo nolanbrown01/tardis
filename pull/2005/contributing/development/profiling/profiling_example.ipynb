{
 "cells": [
  {
   "cell_type": "markdown",
   "id": "a9336af1",
   "metadata": {},
   "source": [
    "# Basic Profile of TARDIS #"
   ]
  },
  {
   "cell_type": "markdown",
   "id": "e825ec8b",
   "metadata": {},
   "source": [
    "A profile is a set of statistics that describes how often and for how long various parts of the program execute (cProfile). A majority of TARDIS can be profiled, however, some code is Numba code, which cannot be profiled. This is because Numba compiles these functions directly to machine code; the python interpreter doesn’t see these functions and therefore it doesn’t read them.\n",
    "\n",
    "This notebook uses snakeviz, which is a graphical viewer for the output of cProfile, to visualize the results and make them interactive. In order to use SnakeViz, you must first download it via pip. The first cell loads SnakeViz and gets the notebook ready to run TARDIS."
   ]
  },
  {
   "cell_type": "code",
   "execution_count": 1,
   "id": "88cdeafd",
   "metadata": {
    "execution": {
     "iopub.execute_input": "2022-05-04T16:19:05.855720Z",
     "iopub.status.busy": "2022-05-04T16:19:05.855324Z",
     "iopub.status.idle": "2022-05-04T16:19:08.938196Z",
     "shell.execute_reply": "2022-05-04T16:19:08.937639Z"
    }
   },
   "outputs": [
    {
     "name": "stderr",
     "output_type": "stream",
     "text": [
      "/usr/share/miniconda3/envs/tardis/lib/python3.8/site-packages/setuptools_scm/git.py:105: UserWarning: \"/home/runner/work/tardis/tardis\" is shallow and may cause errors\n",
      "  warnings.warn(f'\"{wd.path}\" is shallow and may cause errors')\n"
     ]
    },
    {
     "data": {
      "application/vnd.jupyter.widget-view+json": {
       "model_id": "4b181a24190a4067bcd33efb4e8630f9",
       "version_major": 2,
       "version_minor": 0
      },
      "text/plain": [
       "Iterations:          0/? [00:00<?, ?it/s]"
      ]
     },
     "metadata": {},
     "output_type": "display_data"
    },
    {
     "data": {
      "application/vnd.jupyter.widget-view+json": {
       "model_id": "9bd8e09512884f70894805aa5a108fca",
       "version_major": 2,
       "version_minor": 0
      },
      "text/plain": [
       "Packets:             0/? [00:00<?, ?it/s]"
      ]
     },
     "metadata": {},
     "output_type": "display_data"
    }
   ],
   "source": [
    "%load_ext snakeviz\n",
    "\n",
    "from tardis import run_tardis\n",
    "from tardis.io.atom_data.util import download_atom_data\n",
    "download_atom_data('kurucz_cd23_chianti_H_He')"
   ]
  },
  {
   "cell_type": "markdown",
   "id": "156b9891",
   "metadata": {},
   "source": [
    "I am telling the cell below to use snakeviz on the function below, which is a run of TARDIS in its enteriety. An option is to add the -t flag, which will tell it to display the HTML in a new tab, instead of embedding it."
   ]
  },
  {
   "cell_type": "code",
   "execution_count": 2,
   "id": "32f39ab9",
   "metadata": {
    "execution": {
     "iopub.execute_input": "2022-05-04T16:19:08.943653Z",
     "iopub.status.busy": "2022-05-04T16:19:08.942589Z",
     "iopub.status.idle": "2022-05-04T16:20:24.305567Z",
     "shell.execute_reply": "2022-05-04T16:20:24.304807Z"
    },
    "scrolled": true
   },
   "outputs": [
    {
     "name": "stdout",
     "output_type": "stream",
     "text": [
      "[\u001b[1mtardis.plasma.standard_plasmas\u001b[0m][\u001b[1;37mINFO\u001b[0m   ]  \n",
      "\t\n",
      "\tReading Atomic Data from kurucz_cd23_chianti_H_He.h5 (\u001b[1mstandard_plasmas.py\u001b[0m:93)\n"
     ]
    },
    {
     "name": "stdout",
     "output_type": "stream",
     "text": [
      "[\u001b[1mtardis.io.atom_data.util\u001b[0m][\u001b[1;37mINFO\u001b[0m   ]  \n",
      "\t\n",
      "\tAtom Data kurucz_cd23_chianti_H_He.h5 not found in local path.\n",
      "\tExists in TARDIS Data repo /home/runner/Downloads/tardis-data/kurucz_cd23_chianti_H_He.h5 (\u001b[1mutil.py\u001b[0m:33)\n"
     ]
    },
    {
     "name": "stdout",
     "output_type": "stream",
     "text": [
      "[\u001b[1mtardis.io.atom_data.base\u001b[0m][\u001b[1;37mINFO\u001b[0m   ]  \n",
      "\tReading Atom Data with: UUID = 6f7b09e887a311e7a06b246e96350010 MD5  = 864f1753714343c41f99cb065710cace  (\u001b[1mbase.py\u001b[0m:203)\n"
     ]
    },
    {
     "name": "stdout",
     "output_type": "stream",
     "text": [
      "[\u001b[1mtardis.io.atom_data.base\u001b[0m][\u001b[1;37mINFO\u001b[0m   ]  \n",
      "\tNon provided Atomic Data: synpp_refs, photoionization_data, yg_data, two_photon_data (\u001b[1mbase.py\u001b[0m:207)\n"
     ]
    },
    {
     "name": "stdout",
     "output_type": "stream",
     "text": [
      "[\u001b[1mpy.warnings         \u001b[0m][\u001b[1;33mWARNING\u001b[0m]  \n",
      "\t/home/runner/work/tardis/tardis/tardis/plasma/properties/radiative_properties.py:93: RuntimeWarning: invalid value encountered in true_divide\n",
      "  (g_lower * n_upper) / (g_upper * n_lower)\n",
      " (\u001b[1mwarnings.py\u001b[0m:109)\n"
     ]
    },
    {
     "name": "stdout",
     "output_type": "stream",
     "text": [
      "[\u001b[1mpy.warnings         \u001b[0m][\u001b[1;33mWARNING\u001b[0m]  \n",
      "\t/home/runner/work/tardis/tardis/tardis/plasma/properties/radiative_properties.py:93: RuntimeWarning: invalid value encountered in true_divide\n",
      "  (g_lower * n_upper) / (g_upper * n_lower)\n",
      " (\u001b[1mwarnings.py\u001b[0m:109)\n"
     ]
    },
    {
     "name": "stdout",
     "output_type": "stream",
     "text": [
      "[\u001b[1mtardis.simulation.base\u001b[0m][\u001b[1;37mINFO\u001b[0m   ]  \n",
      "\t\n",
      "\tStarting iteration 1 of 20 (\u001b[1mbase.py\u001b[0m:378)\n"
     ]
    },
    {
     "data": {
      "application/vnd.jupyter.widget-view+json": {
       "model_id": "767b2acc0cf548af87e106b49ead2339",
       "version_major": 2,
       "version_minor": 0
      },
      "text/plain": [
       "TqdmHBox(children=(HTML(value='Iterations:', layout=Layout(width='6%')), FloatProgress(value=0.0, layout=Layou…"
      ]
     },
     "metadata": {},
     "output_type": "display_data"
    },
    {
     "data": {
      "application/vnd.jupyter.widget-view+json": {
       "model_id": "60171b5ee6c94b1abdef1b9344292746",
       "version_major": 2,
       "version_minor": 0
      },
      "text/plain": [
       "TqdmHBox(children=(HTML(value='Packets:   ', layout=Layout(width='6%')), FloatProgress(value=0.0, layout=Layou…"
      ]
     },
     "metadata": {},
     "output_type": "display_data"
    },
    {
     "name": "stdout",
     "output_type": "stream",
     "text": [
      "[\u001b[1mtardis.simulation.base\u001b[0m][\u001b[1;37mINFO\u001b[0m   ]  \n",
      "\t\n",
      "\tLuminosity emitted   = 7.942e+42 erg / s\n",
      "\tLuminosity absorbed  = 2.659e+42 erg / s\n",
      "\tLuminosity requested = 1.059e+43 erg / s\n",
      " (\u001b[1mbase.py\u001b[0m:547)\n"
     ]
    },
    {
     "name": "stdout",
     "output_type": "stream",
     "text": [
      "[\u001b[1mtardis.simulation.base\u001b[0m][\u001b[1;37mINFO\u001b[0m   ]  \n",
      "\t\n",
      "\tPlasma stratification: (\u001b[1mbase.py\u001b[0m:515)\n"
     ]
    },
    {
     "data": {
      "text/html": [
       "<style  type=\"text/css\" >\n",
       "</style><table id=\"T_07d6fe5c_cbc6_11ec_ae89_000d3a8cf9bd\" ><thead>    <tr>        <th class=\"index_name level0\" >Shell No.</th>        <th class=\"col_heading level0 col0\" >t_rad</th>        <th class=\"col_heading level0 col1\" >next_t_rad</th>        <th class=\"col_heading level0 col2\" >w</th>        <th class=\"col_heading level0 col3\" >next_w</th>    </tr></thead><tbody>\n",
       "                <tr>\n",
       "                        <th id=\"T_07d6fe5c_cbc6_11ec_ae89_000d3a8cf9bdlevel0_row0\" class=\"row_heading level0 row0\" >0</th>\n",
       "                        <td id=\"T_07d6fe5c_cbc6_11ec_ae89_000d3a8cf9bdrow0_col0\" class=\"data row0 col0\" >9.93e+03</td>\n",
       "                        <td id=\"T_07d6fe5c_cbc6_11ec_ae89_000d3a8cf9bdrow0_col1\" class=\"data row0 col1\" >1.01e+04</td>\n",
       "                        <td id=\"T_07d6fe5c_cbc6_11ec_ae89_000d3a8cf9bdrow0_col2\" class=\"data row0 col2\" >0.4</td>\n",
       "                        <td id=\"T_07d6fe5c_cbc6_11ec_ae89_000d3a8cf9bdrow0_col3\" class=\"data row0 col3\" >0.507</td>\n",
       "            </tr>\n",
       "            <tr>\n",
       "                        <th id=\"T_07d6fe5c_cbc6_11ec_ae89_000d3a8cf9bdlevel0_row1\" class=\"row_heading level0 row1\" >5</th>\n",
       "                        <td id=\"T_07d6fe5c_cbc6_11ec_ae89_000d3a8cf9bdrow1_col0\" class=\"data row1 col0\" >9.85e+03</td>\n",
       "                        <td id=\"T_07d6fe5c_cbc6_11ec_ae89_000d3a8cf9bdrow1_col1\" class=\"data row1 col1\" >1.02e+04</td>\n",
       "                        <td id=\"T_07d6fe5c_cbc6_11ec_ae89_000d3a8cf9bdrow1_col2\" class=\"data row1 col2\" >0.211</td>\n",
       "                        <td id=\"T_07d6fe5c_cbc6_11ec_ae89_000d3a8cf9bdrow1_col3\" class=\"data row1 col3\" >0.197</td>\n",
       "            </tr>\n",
       "            <tr>\n",
       "                        <th id=\"T_07d6fe5c_cbc6_11ec_ae89_000d3a8cf9bdlevel0_row2\" class=\"row_heading level0 row2\" >10</th>\n",
       "                        <td id=\"T_07d6fe5c_cbc6_11ec_ae89_000d3a8cf9bdrow2_col0\" class=\"data row2 col0\" >9.78e+03</td>\n",
       "                        <td id=\"T_07d6fe5c_cbc6_11ec_ae89_000d3a8cf9bdrow2_col1\" class=\"data row2 col1\" >1.01e+04</td>\n",
       "                        <td id=\"T_07d6fe5c_cbc6_11ec_ae89_000d3a8cf9bdrow2_col2\" class=\"data row2 col2\" >0.143</td>\n",
       "                        <td id=\"T_07d6fe5c_cbc6_11ec_ae89_000d3a8cf9bdrow2_col3\" class=\"data row2 col3\" >0.117</td>\n",
       "            </tr>\n",
       "            <tr>\n",
       "                        <th id=\"T_07d6fe5c_cbc6_11ec_ae89_000d3a8cf9bdlevel0_row3\" class=\"row_heading level0 row3\" >15</th>\n",
       "                        <td id=\"T_07d6fe5c_cbc6_11ec_ae89_000d3a8cf9bdrow3_col0\" class=\"data row3 col0\" >9.71e+03</td>\n",
       "                        <td id=\"T_07d6fe5c_cbc6_11ec_ae89_000d3a8cf9bdrow3_col1\" class=\"data row3 col1\" >9.87e+03</td>\n",
       "                        <td id=\"T_07d6fe5c_cbc6_11ec_ae89_000d3a8cf9bdrow3_col2\" class=\"data row3 col2\" >0.105</td>\n",
       "                        <td id=\"T_07d6fe5c_cbc6_11ec_ae89_000d3a8cf9bdrow3_col3\" class=\"data row3 col3\" >0.0869</td>\n",
       "            </tr>\n",
       "    </tbody></table>"
      ],
      "text/plain": [
       "<pandas.io.formats.style.Styler at 0x7fc8514f7970>"
      ]
     },
     "metadata": {},
     "output_type": "display_data"
    },
    {
     "name": "stdout",
     "output_type": "stream",
     "text": [
      "[\u001b[1mtardis.simulation.base\u001b[0m][\u001b[1;37mINFO\u001b[0m   ]  \n",
      "\t\n",
      "\tCurrent t_inner = 9933.952 K\n",
      "\tExpected t_inner for next iteration = 10703.212 K\n",
      " (\u001b[1mbase.py\u001b[0m:542)\n"
     ]
    },
    {
     "name": "stdout",
     "output_type": "stream",
     "text": [
      "[\u001b[1mpy.warnings         \u001b[0m][\u001b[1;33mWARNING\u001b[0m]  \n",
      "\t/home/runner/work/tardis/tardis/tardis/plasma/properties/radiative_properties.py:93: RuntimeWarning: invalid value encountered in true_divide\n",
      "  (g_lower * n_upper) / (g_upper * n_lower)\n",
      " (\u001b[1mwarnings.py\u001b[0m:109)\n"
     ]
    },
    {
     "name": "stdout",
     "output_type": "stream",
     "text": [
      "[\u001b[1mtardis.simulation.base\u001b[0m][\u001b[1;37mINFO\u001b[0m   ]  \n",
      "\t\n",
      "\tStarting iteration 2 of 20 (\u001b[1mbase.py\u001b[0m:378)\n"
     ]
    },
    {
     "name": "stdout",
     "output_type": "stream",
     "text": [
      "[\u001b[1mtardis.simulation.base\u001b[0m][\u001b[1;37mINFO\u001b[0m   ]  \n",
      "\t\n",
      "\tLuminosity emitted   = 1.071e+43 erg / s\n",
      "\tLuminosity absorbed  = 3.576e+42 erg / s\n",
      "\tLuminosity requested = 1.059e+43 erg / s\n",
      " (\u001b[1mbase.py\u001b[0m:547)\n"
     ]
    },
    {
     "name": "stdout",
     "output_type": "stream",
     "text": [
      "[\u001b[1mtardis.simulation.base\u001b[0m][\u001b[1;37mINFO\u001b[0m   ]  \n",
      "\t\n",
      "\tPlasma stratification: (\u001b[1mbase.py\u001b[0m:515)\n"
     ]
    },
    {
     "data": {
      "text/html": [
       "<style  type=\"text/css\" >\n",
       "</style><table id=\"T_08650670_cbc6_11ec_ae89_000d3a8cf9bd\" ><thead>    <tr>        <th class=\"index_name level0\" >Shell No.</th>        <th class=\"col_heading level0 col0\" >t_rad</th>        <th class=\"col_heading level0 col1\" >next_t_rad</th>        <th class=\"col_heading level0 col2\" >w</th>        <th class=\"col_heading level0 col3\" >next_w</th>    </tr></thead><tbody>\n",
       "                <tr>\n",
       "                        <th id=\"T_08650670_cbc6_11ec_ae89_000d3a8cf9bdlevel0_row0\" class=\"row_heading level0 row0\" >0</th>\n",
       "                        <td id=\"T_08650670_cbc6_11ec_ae89_000d3a8cf9bdrow0_col0\" class=\"data row0 col0\" >1.01e+04</td>\n",
       "                        <td id=\"T_08650670_cbc6_11ec_ae89_000d3a8cf9bdrow0_col1\" class=\"data row0 col1\" >1.08e+04</td>\n",
       "                        <td id=\"T_08650670_cbc6_11ec_ae89_000d3a8cf9bdrow0_col2\" class=\"data row0 col2\" >0.507</td>\n",
       "                        <td id=\"T_08650670_cbc6_11ec_ae89_000d3a8cf9bdrow0_col3\" class=\"data row0 col3\" >0.525</td>\n",
       "            </tr>\n",
       "            <tr>\n",
       "                        <th id=\"T_08650670_cbc6_11ec_ae89_000d3a8cf9bdlevel0_row1\" class=\"row_heading level0 row1\" >5</th>\n",
       "                        <td id=\"T_08650670_cbc6_11ec_ae89_000d3a8cf9bdrow1_col0\" class=\"data row1 col0\" >1.02e+04</td>\n",
       "                        <td id=\"T_08650670_cbc6_11ec_ae89_000d3a8cf9bdrow1_col1\" class=\"data row1 col1\" >1.1e+04</td>\n",
       "                        <td id=\"T_08650670_cbc6_11ec_ae89_000d3a8cf9bdrow1_col2\" class=\"data row1 col2\" >0.197</td>\n",
       "                        <td id=\"T_08650670_cbc6_11ec_ae89_000d3a8cf9bdrow1_col3\" class=\"data row1 col3\" >0.203</td>\n",
       "            </tr>\n",
       "            <tr>\n",
       "                        <th id=\"T_08650670_cbc6_11ec_ae89_000d3a8cf9bdlevel0_row2\" class=\"row_heading level0 row2\" >10</th>\n",
       "                        <td id=\"T_08650670_cbc6_11ec_ae89_000d3a8cf9bdrow2_col0\" class=\"data row2 col0\" >1.01e+04</td>\n",
       "                        <td id=\"T_08650670_cbc6_11ec_ae89_000d3a8cf9bdrow2_col1\" class=\"data row2 col1\" >1.08e+04</td>\n",
       "                        <td id=\"T_08650670_cbc6_11ec_ae89_000d3a8cf9bdrow2_col2\" class=\"data row2 col2\" >0.117</td>\n",
       "                        <td id=\"T_08650670_cbc6_11ec_ae89_000d3a8cf9bdrow2_col3\" class=\"data row2 col3\" >0.125</td>\n",
       "            </tr>\n",
       "            <tr>\n",
       "                        <th id=\"T_08650670_cbc6_11ec_ae89_000d3a8cf9bdlevel0_row3\" class=\"row_heading level0 row3\" >15</th>\n",
       "                        <td id=\"T_08650670_cbc6_11ec_ae89_000d3a8cf9bdrow3_col0\" class=\"data row3 col0\" >9.87e+03</td>\n",
       "                        <td id=\"T_08650670_cbc6_11ec_ae89_000d3a8cf9bdrow3_col1\" class=\"data row3 col1\" >1.05e+04</td>\n",
       "                        <td id=\"T_08650670_cbc6_11ec_ae89_000d3a8cf9bdrow3_col2\" class=\"data row3 col2\" >0.0869</td>\n",
       "                        <td id=\"T_08650670_cbc6_11ec_ae89_000d3a8cf9bdrow3_col3\" class=\"data row3 col3\" >0.0933</td>\n",
       "            </tr>\n",
       "    </tbody></table>"
      ],
      "text/plain": [
       "<pandas.io.formats.style.Styler at 0x7fc8528ac9a0>"
      ]
     },
     "metadata": {},
     "output_type": "display_data"
    },
    {
     "name": "stdout",
     "output_type": "stream",
     "text": [
      "[\u001b[1mtardis.simulation.base\u001b[0m][\u001b[1;37mINFO\u001b[0m   ]  \n",
      "\t\n",
      "\tCurrent t_inner = 10703.212 K\n",
      "\tExpected t_inner for next iteration = 10673.712 K\n",
      " (\u001b[1mbase.py\u001b[0m:542)\n"
     ]
    },
    {
     "name": "stdout",
     "output_type": "stream",
     "text": [
      "[\u001b[1mtardis.simulation.base\u001b[0m][\u001b[1;37mINFO\u001b[0m   ]  \n",
      "\t\n",
      "\tStarting iteration 3 of 20 (\u001b[1mbase.py\u001b[0m:378)\n"
     ]
    },
    {
     "name": "stdout",
     "output_type": "stream",
     "text": [
      "[\u001b[1mtardis.simulation.base\u001b[0m][\u001b[1;37mINFO\u001b[0m   ]  \n",
      "\t\n",
      "\tLuminosity emitted   = 1.074e+43 erg / s\n",
      "\tLuminosity absorbed  = 3.391e+42 erg / s\n",
      "\tLuminosity requested = 1.059e+43 erg / s\n",
      " (\u001b[1mbase.py\u001b[0m:547)\n"
     ]
    },
    {
     "name": "stdout",
     "output_type": "stream",
     "text": [
      "[\u001b[1mtardis.simulation.base\u001b[0m][\u001b[1;37mINFO\u001b[0m   ]  \n",
      "\t\n",
      "\tPlasma stratification: (\u001b[1mbase.py\u001b[0m:515)\n"
     ]
    },
    {
     "data": {
      "text/html": [
       "<style  type=\"text/css\" >\n",
       "</style><table id=\"T_08f0816e_cbc6_11ec_ae89_000d3a8cf9bd\" ><thead>    <tr>        <th class=\"index_name level0\" >Shell No.</th>        <th class=\"col_heading level0 col0\" >t_rad</th>        <th class=\"col_heading level0 col1\" >next_t_rad</th>        <th class=\"col_heading level0 col2\" >w</th>        <th class=\"col_heading level0 col3\" >next_w</th>    </tr></thead><tbody>\n",
       "                <tr>\n",
       "                        <th id=\"T_08f0816e_cbc6_11ec_ae89_000d3a8cf9bdlevel0_row0\" class=\"row_heading level0 row0\" >0</th>\n",
       "                        <td id=\"T_08f0816e_cbc6_11ec_ae89_000d3a8cf9bdrow0_col0\" class=\"data row0 col0\" >1.08e+04</td>\n",
       "                        <td id=\"T_08f0816e_cbc6_11ec_ae89_000d3a8cf9bdrow0_col1\" class=\"data row0 col1\" >1.1e+04</td>\n",
       "                        <td id=\"T_08f0816e_cbc6_11ec_ae89_000d3a8cf9bdrow0_col2\" class=\"data row0 col2\" >0.525</td>\n",
       "                        <td id=\"T_08f0816e_cbc6_11ec_ae89_000d3a8cf9bdrow0_col3\" class=\"data row0 col3\" >0.483</td>\n",
       "            </tr>\n",
       "            <tr>\n",
       "                        <th id=\"T_08f0816e_cbc6_11ec_ae89_000d3a8cf9bdlevel0_row1\" class=\"row_heading level0 row1\" >5</th>\n",
       "                        <td id=\"T_08f0816e_cbc6_11ec_ae89_000d3a8cf9bdrow1_col0\" class=\"data row1 col0\" >1.1e+04</td>\n",
       "                        <td id=\"T_08f0816e_cbc6_11ec_ae89_000d3a8cf9bdrow1_col1\" class=\"data row1 col1\" >1.12e+04</td>\n",
       "                        <td id=\"T_08f0816e_cbc6_11ec_ae89_000d3a8cf9bdrow1_col2\" class=\"data row1 col2\" >0.203</td>\n",
       "                        <td id=\"T_08f0816e_cbc6_11ec_ae89_000d3a8cf9bdrow1_col3\" class=\"data row1 col3\" >0.189</td>\n",
       "            </tr>\n",
       "            <tr>\n",
       "                        <th id=\"T_08f0816e_cbc6_11ec_ae89_000d3a8cf9bdlevel0_row2\" class=\"row_heading level0 row2\" >10</th>\n",
       "                        <td id=\"T_08f0816e_cbc6_11ec_ae89_000d3a8cf9bdrow2_col0\" class=\"data row2 col0\" >1.08e+04</td>\n",
       "                        <td id=\"T_08f0816e_cbc6_11ec_ae89_000d3a8cf9bdrow2_col1\" class=\"data row2 col1\" >1.1e+04</td>\n",
       "                        <td id=\"T_08f0816e_cbc6_11ec_ae89_000d3a8cf9bdrow2_col2\" class=\"data row2 col2\" >0.125</td>\n",
       "                        <td id=\"T_08f0816e_cbc6_11ec_ae89_000d3a8cf9bdrow2_col3\" class=\"data row2 col3\" >0.118</td>\n",
       "            </tr>\n",
       "            <tr>\n",
       "                        <th id=\"T_08f0816e_cbc6_11ec_ae89_000d3a8cf9bdlevel0_row3\" class=\"row_heading level0 row3\" >15</th>\n",
       "                        <td id=\"T_08f0816e_cbc6_11ec_ae89_000d3a8cf9bdrow3_col0\" class=\"data row3 col0\" >1.05e+04</td>\n",
       "                        <td id=\"T_08f0816e_cbc6_11ec_ae89_000d3a8cf9bdrow3_col1\" class=\"data row3 col1\" >1.06e+04</td>\n",
       "                        <td id=\"T_08f0816e_cbc6_11ec_ae89_000d3a8cf9bdrow3_col2\" class=\"data row3 col2\" >0.0933</td>\n",
       "                        <td id=\"T_08f0816e_cbc6_11ec_ae89_000d3a8cf9bdrow3_col3\" class=\"data row3 col3\" >0.0895</td>\n",
       "            </tr>\n",
       "    </tbody></table>"
      ],
      "text/plain": [
       "<pandas.io.formats.style.Styler at 0x7fc852e1ab20>"
      ]
     },
     "metadata": {},
     "output_type": "display_data"
    },
    {
     "name": "stdout",
     "output_type": "stream",
     "text": [
      "[\u001b[1mtardis.simulation.base\u001b[0m][\u001b[1;37mINFO\u001b[0m   ]  \n",
      "\t\n",
      "\tCurrent t_inner = 10673.712 K\n",
      "\tExpected t_inner for next iteration = 10635.953 K\n",
      " (\u001b[1mbase.py\u001b[0m:542)\n"
     ]
    },
    {
     "name": "stdout",
     "output_type": "stream",
     "text": [
      "[\u001b[1mtardis.simulation.base\u001b[0m][\u001b[1;37mINFO\u001b[0m   ]  \n",
      "\t\n",
      "\tStarting iteration 4 of 20 (\u001b[1mbase.py\u001b[0m:378)\n"
     ]
    },
    {
     "name": "stdout",
     "output_type": "stream",
     "text": [
      "[\u001b[1mtardis.simulation.base\u001b[0m][\u001b[1;37mINFO\u001b[0m   ]  \n",
      "\t\n",
      "\tLuminosity emitted   = 1.058e+43 erg / s\n",
      "\tLuminosity absorbed  = 3.352e+42 erg / s\n",
      "\tLuminosity requested = 1.059e+43 erg / s\n",
      " (\u001b[1mbase.py\u001b[0m:547)\n"
     ]
    },
    {
     "name": "stdout",
     "output_type": "stream",
     "text": [
      "[\u001b[1mtardis.simulation.base\u001b[0m][\u001b[1;37mINFO\u001b[0m   ]  \n",
      "\t\n",
      "\tPlasma stratification: (\u001b[1mbase.py\u001b[0m:515)\n"
     ]
    },
    {
     "data": {
      "text/html": [
       "<style  type=\"text/css\" >\n",
       "</style><table id=\"T_0979b0d8_cbc6_11ec_ae89_000d3a8cf9bd\" ><thead>    <tr>        <th class=\"index_name level0\" >Shell No.</th>        <th class=\"col_heading level0 col0\" >t_rad</th>        <th class=\"col_heading level0 col1\" >next_t_rad</th>        <th class=\"col_heading level0 col2\" >w</th>        <th class=\"col_heading level0 col3\" >next_w</th>    </tr></thead><tbody>\n",
       "                <tr>\n",
       "                        <th id=\"T_0979b0d8_cbc6_11ec_ae89_000d3a8cf9bdlevel0_row0\" class=\"row_heading level0 row0\" >0</th>\n",
       "                        <td id=\"T_0979b0d8_cbc6_11ec_ae89_000d3a8cf9bdrow0_col0\" class=\"data row0 col0\" >1.1e+04</td>\n",
       "                        <td id=\"T_0979b0d8_cbc6_11ec_ae89_000d3a8cf9bdrow0_col1\" class=\"data row0 col1\" >1.1e+04</td>\n",
       "                        <td id=\"T_0979b0d8_cbc6_11ec_ae89_000d3a8cf9bdrow0_col2\" class=\"data row0 col2\" >0.483</td>\n",
       "                        <td id=\"T_0979b0d8_cbc6_11ec_ae89_000d3a8cf9bdrow0_col3\" class=\"data row0 col3\" >0.469</td>\n",
       "            </tr>\n",
       "            <tr>\n",
       "                        <th id=\"T_0979b0d8_cbc6_11ec_ae89_000d3a8cf9bdlevel0_row1\" class=\"row_heading level0 row1\" >5</th>\n",
       "                        <td id=\"T_0979b0d8_cbc6_11ec_ae89_000d3a8cf9bdrow1_col0\" class=\"data row1 col0\" >1.12e+04</td>\n",
       "                        <td id=\"T_0979b0d8_cbc6_11ec_ae89_000d3a8cf9bdrow1_col1\" class=\"data row1 col1\" >1.12e+04</td>\n",
       "                        <td id=\"T_0979b0d8_cbc6_11ec_ae89_000d3a8cf9bdrow1_col2\" class=\"data row1 col2\" >0.189</td>\n",
       "                        <td id=\"T_0979b0d8_cbc6_11ec_ae89_000d3a8cf9bdrow1_col3\" class=\"data row1 col3\" >0.182</td>\n",
       "            </tr>\n",
       "            <tr>\n",
       "                        <th id=\"T_0979b0d8_cbc6_11ec_ae89_000d3a8cf9bdlevel0_row2\" class=\"row_heading level0 row2\" >10</th>\n",
       "                        <td id=\"T_0979b0d8_cbc6_11ec_ae89_000d3a8cf9bdrow2_col0\" class=\"data row2 col0\" >1.1e+04</td>\n",
       "                        <td id=\"T_0979b0d8_cbc6_11ec_ae89_000d3a8cf9bdrow2_col1\" class=\"data row2 col1\" >1.1e+04</td>\n",
       "                        <td id=\"T_0979b0d8_cbc6_11ec_ae89_000d3a8cf9bdrow2_col2\" class=\"data row2 col2\" >0.118</td>\n",
       "                        <td id=\"T_0979b0d8_cbc6_11ec_ae89_000d3a8cf9bdrow2_col3\" class=\"data row2 col3\" >0.113</td>\n",
       "            </tr>\n",
       "            <tr>\n",
       "                        <th id=\"T_0979b0d8_cbc6_11ec_ae89_000d3a8cf9bdlevel0_row3\" class=\"row_heading level0 row3\" >15</th>\n",
       "                        <td id=\"T_0979b0d8_cbc6_11ec_ae89_000d3a8cf9bdrow3_col0\" class=\"data row3 col0\" >1.06e+04</td>\n",
       "                        <td id=\"T_0979b0d8_cbc6_11ec_ae89_000d3a8cf9bdrow3_col1\" class=\"data row3 col1\" >1.07e+04</td>\n",
       "                        <td id=\"T_0979b0d8_cbc6_11ec_ae89_000d3a8cf9bdrow3_col2\" class=\"data row3 col2\" >0.0895</td>\n",
       "                        <td id=\"T_0979b0d8_cbc6_11ec_ae89_000d3a8cf9bdrow3_col3\" class=\"data row3 col3\" >0.0861</td>\n",
       "            </tr>\n",
       "    </tbody></table>"
      ],
      "text/plain": [
       "<pandas.io.formats.style.Styler at 0x7fc852e09e20>"
      ]
     },
     "metadata": {},
     "output_type": "display_data"
    },
    {
     "name": "stdout",
     "output_type": "stream",
     "text": [
      "[\u001b[1mtardis.simulation.base\u001b[0m][\u001b[1;37mINFO\u001b[0m   ]  \n",
      "\t\n",
      "\tCurrent t_inner = 10635.953 K\n",
      "\tExpected t_inner for next iteration = 10638.407 K\n",
      " (\u001b[1mbase.py\u001b[0m:542)\n"
     ]
    },
    {
     "name": "stdout",
     "output_type": "stream",
     "text": [
      "[\u001b[1mtardis.simulation.base\u001b[0m][\u001b[1;37mINFO\u001b[0m   ]  \n",
      "\t\n",
      "\tStarting iteration 5 of 20 (\u001b[1mbase.py\u001b[0m:378)\n"
     ]
    },
    {
     "name": "stdout",
     "output_type": "stream",
     "text": [
      "[\u001b[1mtardis.simulation.base\u001b[0m][\u001b[1;37mINFO\u001b[0m   ]  \n",
      "\t\n",
      "\tLuminosity emitted   = 1.055e+43 erg / s\n",
      "\tLuminosity absorbed  = 3.399e+42 erg / s\n",
      "\tLuminosity requested = 1.059e+43 erg / s\n",
      " (\u001b[1mbase.py\u001b[0m:547)\n"
     ]
    },
    {
     "name": "stdout",
     "output_type": "stream",
     "text": [
      "[\u001b[1mtardis.simulation.base\u001b[0m][\u001b[1;37mINFO\u001b[0m   ]  \n",
      "\tIteration converged 1/4 consecutive times. (\u001b[1mbase.py\u001b[0m:259)\n"
     ]
    },
    {
     "name": "stdout",
     "output_type": "stream",
     "text": [
      "[\u001b[1mtardis.simulation.base\u001b[0m][\u001b[1;37mINFO\u001b[0m   ]  \n",
      "\t\n",
      "\tPlasma stratification: (\u001b[1mbase.py\u001b[0m:515)\n"
     ]
    },
    {
     "data": {
      "text/html": [
       "<style  type=\"text/css\" >\n",
       "</style><table id=\"T_0a064de0_cbc6_11ec_ae89_000d3a8cf9bd\" ><thead>    <tr>        <th class=\"index_name level0\" >Shell No.</th>        <th class=\"col_heading level0 col0\" >t_rad</th>        <th class=\"col_heading level0 col1\" >next_t_rad</th>        <th class=\"col_heading level0 col2\" >w</th>        <th class=\"col_heading level0 col3\" >next_w</th>    </tr></thead><tbody>\n",
       "                <tr>\n",
       "                        <th id=\"T_0a064de0_cbc6_11ec_ae89_000d3a8cf9bdlevel0_row0\" class=\"row_heading level0 row0\" >0</th>\n",
       "                        <td id=\"T_0a064de0_cbc6_11ec_ae89_000d3a8cf9bdrow0_col0\" class=\"data row0 col0\" >1.1e+04</td>\n",
       "                        <td id=\"T_0a064de0_cbc6_11ec_ae89_000d3a8cf9bdrow0_col1\" class=\"data row0 col1\" >1.1e+04</td>\n",
       "                        <td id=\"T_0a064de0_cbc6_11ec_ae89_000d3a8cf9bdrow0_col2\" class=\"data row0 col2\" >0.469</td>\n",
       "                        <td id=\"T_0a064de0_cbc6_11ec_ae89_000d3a8cf9bdrow0_col3\" class=\"data row0 col3\" >0.479</td>\n",
       "            </tr>\n",
       "            <tr>\n",
       "                        <th id=\"T_0a064de0_cbc6_11ec_ae89_000d3a8cf9bdlevel0_row1\" class=\"row_heading level0 row1\" >5</th>\n",
       "                        <td id=\"T_0a064de0_cbc6_11ec_ae89_000d3a8cf9bdrow1_col0\" class=\"data row1 col0\" >1.12e+04</td>\n",
       "                        <td id=\"T_0a064de0_cbc6_11ec_ae89_000d3a8cf9bdrow1_col1\" class=\"data row1 col1\" >1.13e+04</td>\n",
       "                        <td id=\"T_0a064de0_cbc6_11ec_ae89_000d3a8cf9bdrow1_col2\" class=\"data row1 col2\" >0.182</td>\n",
       "                        <td id=\"T_0a064de0_cbc6_11ec_ae89_000d3a8cf9bdrow1_col3\" class=\"data row1 col3\" >0.178</td>\n",
       "            </tr>\n",
       "            <tr>\n",
       "                        <th id=\"T_0a064de0_cbc6_11ec_ae89_000d3a8cf9bdlevel0_row2\" class=\"row_heading level0 row2\" >10</th>\n",
       "                        <td id=\"T_0a064de0_cbc6_11ec_ae89_000d3a8cf9bdrow2_col0\" class=\"data row2 col0\" >1.1e+04</td>\n",
       "                        <td id=\"T_0a064de0_cbc6_11ec_ae89_000d3a8cf9bdrow2_col1\" class=\"data row2 col1\" >1.1e+04</td>\n",
       "                        <td id=\"T_0a064de0_cbc6_11ec_ae89_000d3a8cf9bdrow2_col2\" class=\"data row2 col2\" >0.113</td>\n",
       "                        <td id=\"T_0a064de0_cbc6_11ec_ae89_000d3a8cf9bdrow2_col3\" class=\"data row2 col3\" >0.113</td>\n",
       "            </tr>\n",
       "            <tr>\n",
       "                        <th id=\"T_0a064de0_cbc6_11ec_ae89_000d3a8cf9bdlevel0_row3\" class=\"row_heading level0 row3\" >15</th>\n",
       "                        <td id=\"T_0a064de0_cbc6_11ec_ae89_000d3a8cf9bdrow3_col0\" class=\"data row3 col0\" >1.07e+04</td>\n",
       "                        <td id=\"T_0a064de0_cbc6_11ec_ae89_000d3a8cf9bdrow3_col1\" class=\"data row3 col1\" >1.07e+04</td>\n",
       "                        <td id=\"T_0a064de0_cbc6_11ec_ae89_000d3a8cf9bdrow3_col2\" class=\"data row3 col2\" >0.0861</td>\n",
       "                        <td id=\"T_0a064de0_cbc6_11ec_ae89_000d3a8cf9bdrow3_col3\" class=\"data row3 col3\" >0.0839</td>\n",
       "            </tr>\n",
       "    </tbody></table>"
      ],
      "text/plain": [
       "<pandas.io.formats.style.Styler at 0x7fc8528acc10>"
      ]
     },
     "metadata": {},
     "output_type": "display_data"
    },
    {
     "name": "stdout",
     "output_type": "stream",
     "text": [
      "[\u001b[1mtardis.simulation.base\u001b[0m][\u001b[1;37mINFO\u001b[0m   ]  \n",
      "\t\n",
      "\tCurrent t_inner = 10638.407 K\n",
      "\tExpected t_inner for next iteration = 10650.202 K\n",
      " (\u001b[1mbase.py\u001b[0m:542)\n"
     ]
    },
    {
     "name": "stdout",
     "output_type": "stream",
     "text": [
      "[\u001b[1mtardis.simulation.base\u001b[0m][\u001b[1;37mINFO\u001b[0m   ]  \n",
      "\t\n",
      "\tStarting iteration 6 of 20 (\u001b[1mbase.py\u001b[0m:378)\n"
     ]
    },
    {
     "name": "stdout",
     "output_type": "stream",
     "text": [
      "[\u001b[1mtardis.simulation.base\u001b[0m][\u001b[1;37mINFO\u001b[0m   ]  \n",
      "\t\n",
      "\tLuminosity emitted   = 1.061e+43 erg / s\n",
      "\tLuminosity absorbed  = 3.398e+42 erg / s\n",
      "\tLuminosity requested = 1.059e+43 erg / s\n",
      " (\u001b[1mbase.py\u001b[0m:547)\n"
     ]
    },
    {
     "name": "stdout",
     "output_type": "stream",
     "text": [
      "[\u001b[1mtardis.simulation.base\u001b[0m][\u001b[1;37mINFO\u001b[0m   ]  \n",
      "\tIteration converged 2/4 consecutive times. (\u001b[1mbase.py\u001b[0m:259)\n"
     ]
    },
    {
     "name": "stdout",
     "output_type": "stream",
     "text": [
      "[\u001b[1mtardis.simulation.base\u001b[0m][\u001b[1;37mINFO\u001b[0m   ]  \n",
      "\t\n",
      "\tPlasma stratification: (\u001b[1mbase.py\u001b[0m:515)\n"
     ]
    },
    {
     "data": {
      "text/html": [
       "<style  type=\"text/css\" >\n",
       "</style><table id=\"T_0abdb69c_cbc6_11ec_ae89_000d3a8cf9bd\" ><thead>    <tr>        <th class=\"index_name level0\" >Shell No.</th>        <th class=\"col_heading level0 col0\" >t_rad</th>        <th class=\"col_heading level0 col1\" >next_t_rad</th>        <th class=\"col_heading level0 col2\" >w</th>        <th class=\"col_heading level0 col3\" >next_w</th>    </tr></thead><tbody>\n",
       "                <tr>\n",
       "                        <th id=\"T_0abdb69c_cbc6_11ec_ae89_000d3a8cf9bdlevel0_row0\" class=\"row_heading level0 row0\" >0</th>\n",
       "                        <td id=\"T_0abdb69c_cbc6_11ec_ae89_000d3a8cf9bdrow0_col0\" class=\"data row0 col0\" >1.1e+04</td>\n",
       "                        <td id=\"T_0abdb69c_cbc6_11ec_ae89_000d3a8cf9bdrow0_col1\" class=\"data row0 col1\" >1.1e+04</td>\n",
       "                        <td id=\"T_0abdb69c_cbc6_11ec_ae89_000d3a8cf9bdrow0_col2\" class=\"data row0 col2\" >0.479</td>\n",
       "                        <td id=\"T_0abdb69c_cbc6_11ec_ae89_000d3a8cf9bdrow0_col3\" class=\"data row0 col3\" >0.47</td>\n",
       "            </tr>\n",
       "            <tr>\n",
       "                        <th id=\"T_0abdb69c_cbc6_11ec_ae89_000d3a8cf9bdlevel0_row1\" class=\"row_heading level0 row1\" >5</th>\n",
       "                        <td id=\"T_0abdb69c_cbc6_11ec_ae89_000d3a8cf9bdrow1_col0\" class=\"data row1 col0\" >1.13e+04</td>\n",
       "                        <td id=\"T_0abdb69c_cbc6_11ec_ae89_000d3a8cf9bdrow1_col1\" class=\"data row1 col1\" >1.12e+04</td>\n",
       "                        <td id=\"T_0abdb69c_cbc6_11ec_ae89_000d3a8cf9bdrow1_col2\" class=\"data row1 col2\" >0.178</td>\n",
       "                        <td id=\"T_0abdb69c_cbc6_11ec_ae89_000d3a8cf9bdrow1_col3\" class=\"data row1 col3\" >0.185</td>\n",
       "            </tr>\n",
       "            <tr>\n",
       "                        <th id=\"T_0abdb69c_cbc6_11ec_ae89_000d3a8cf9bdlevel0_row2\" class=\"row_heading level0 row2\" >10</th>\n",
       "                        <td id=\"T_0abdb69c_cbc6_11ec_ae89_000d3a8cf9bdrow2_col0\" class=\"data row2 col0\" >1.1e+04</td>\n",
       "                        <td id=\"T_0abdb69c_cbc6_11ec_ae89_000d3a8cf9bdrow2_col1\" class=\"data row2 col1\" >1.11e+04</td>\n",
       "                        <td id=\"T_0abdb69c_cbc6_11ec_ae89_000d3a8cf9bdrow2_col2\" class=\"data row2 col2\" >0.113</td>\n",
       "                        <td id=\"T_0abdb69c_cbc6_11ec_ae89_000d3a8cf9bdrow2_col3\" class=\"data row2 col3\" >0.112</td>\n",
       "            </tr>\n",
       "            <tr>\n",
       "                        <th id=\"T_0abdb69c_cbc6_11ec_ae89_000d3a8cf9bdlevel0_row3\" class=\"row_heading level0 row3\" >15</th>\n",
       "                        <td id=\"T_0abdb69c_cbc6_11ec_ae89_000d3a8cf9bdrow3_col0\" class=\"data row3 col0\" >1.07e+04</td>\n",
       "                        <td id=\"T_0abdb69c_cbc6_11ec_ae89_000d3a8cf9bdrow3_col1\" class=\"data row3 col1\" >1.07e+04</td>\n",
       "                        <td id=\"T_0abdb69c_cbc6_11ec_ae89_000d3a8cf9bdrow3_col2\" class=\"data row3 col2\" >0.0839</td>\n",
       "                        <td id=\"T_0abdb69c_cbc6_11ec_ae89_000d3a8cf9bdrow3_col3\" class=\"data row3 col3\" >0.0856</td>\n",
       "            </tr>\n",
       "    </tbody></table>"
      ],
      "text/plain": [
       "<pandas.io.formats.style.Styler at 0x7fc8528acfa0>"
      ]
     },
     "metadata": {},
     "output_type": "display_data"
    },
    {
     "name": "stdout",
     "output_type": "stream",
     "text": [
      "[\u001b[1mtardis.simulation.base\u001b[0m][\u001b[1;37mINFO\u001b[0m   ]  \n",
      "\t\n",
      "\tCurrent t_inner = 10650.202 K\n",
      "\tExpected t_inner for next iteration = 10645.955 K\n",
      " (\u001b[1mbase.py\u001b[0m:542)\n"
     ]
    },
    {
     "name": "stdout",
     "output_type": "stream",
     "text": [
      "[\u001b[1mtardis.simulation.base\u001b[0m][\u001b[1;37mINFO\u001b[0m   ]  \n",
      "\t\n",
      "\tStarting iteration 7 of 20 (\u001b[1mbase.py\u001b[0m:378)\n"
     ]
    },
    {
     "name": "stdout",
     "output_type": "stream",
     "text": [
      "[\u001b[1mtardis.simulation.base\u001b[0m][\u001b[1;37mINFO\u001b[0m   ]  \n",
      "\t\n",
      "\tLuminosity emitted   = 1.061e+43 erg / s\n",
      "\tLuminosity absorbed  = 3.382e+42 erg / s\n",
      "\tLuminosity requested = 1.059e+43 erg / s\n",
      " (\u001b[1mbase.py\u001b[0m:547)\n"
     ]
    },
    {
     "name": "stdout",
     "output_type": "stream",
     "text": [
      "[\u001b[1mtardis.simulation.base\u001b[0m][\u001b[1;37mINFO\u001b[0m   ]  \n",
      "\tIteration converged 3/4 consecutive times. (\u001b[1mbase.py\u001b[0m:259)\n"
     ]
    },
    {
     "name": "stdout",
     "output_type": "stream",
     "text": [
      "[\u001b[1mtardis.simulation.base\u001b[0m][\u001b[1;37mINFO\u001b[0m   ]  \n",
      "\t\n",
      "\tPlasma stratification: (\u001b[1mbase.py\u001b[0m:515)\n"
     ]
    },
    {
     "data": {
      "text/html": [
       "<style  type=\"text/css\" >\n",
       "</style><table id=\"T_0b487c3c_cbc6_11ec_ae89_000d3a8cf9bd\" ><thead>    <tr>        <th class=\"index_name level0\" >Shell No.</th>        <th class=\"col_heading level0 col0\" >t_rad</th>        <th class=\"col_heading level0 col1\" >next_t_rad</th>        <th class=\"col_heading level0 col2\" >w</th>        <th class=\"col_heading level0 col3\" >next_w</th>    </tr></thead><tbody>\n",
       "                <tr>\n",
       "                        <th id=\"T_0b487c3c_cbc6_11ec_ae89_000d3a8cf9bdlevel0_row0\" class=\"row_heading level0 row0\" >0</th>\n",
       "                        <td id=\"T_0b487c3c_cbc6_11ec_ae89_000d3a8cf9bdrow0_col0\" class=\"data row0 col0\" >1.1e+04</td>\n",
       "                        <td id=\"T_0b487c3c_cbc6_11ec_ae89_000d3a8cf9bdrow0_col1\" class=\"data row0 col1\" >1.1e+04</td>\n",
       "                        <td id=\"T_0b487c3c_cbc6_11ec_ae89_000d3a8cf9bdrow0_col2\" class=\"data row0 col2\" >0.47</td>\n",
       "                        <td id=\"T_0b487c3c_cbc6_11ec_ae89_000d3a8cf9bdrow0_col3\" class=\"data row0 col3\" >0.47</td>\n",
       "            </tr>\n",
       "            <tr>\n",
       "                        <th id=\"T_0b487c3c_cbc6_11ec_ae89_000d3a8cf9bdlevel0_row1\" class=\"row_heading level0 row1\" >5</th>\n",
       "                        <td id=\"T_0b487c3c_cbc6_11ec_ae89_000d3a8cf9bdrow1_col0\" class=\"data row1 col0\" >1.12e+04</td>\n",
       "                        <td id=\"T_0b487c3c_cbc6_11ec_ae89_000d3a8cf9bdrow1_col1\" class=\"data row1 col1\" >1.13e+04</td>\n",
       "                        <td id=\"T_0b487c3c_cbc6_11ec_ae89_000d3a8cf9bdrow1_col2\" class=\"data row1 col2\" >0.185</td>\n",
       "                        <td id=\"T_0b487c3c_cbc6_11ec_ae89_000d3a8cf9bdrow1_col3\" class=\"data row1 col3\" >0.178</td>\n",
       "            </tr>\n",
       "            <tr>\n",
       "                        <th id=\"T_0b487c3c_cbc6_11ec_ae89_000d3a8cf9bdlevel0_row2\" class=\"row_heading level0 row2\" >10</th>\n",
       "                        <td id=\"T_0b487c3c_cbc6_11ec_ae89_000d3a8cf9bdrow2_col0\" class=\"data row2 col0\" >1.11e+04</td>\n",
       "                        <td id=\"T_0b487c3c_cbc6_11ec_ae89_000d3a8cf9bdrow2_col1\" class=\"data row2 col1\" >1.11e+04</td>\n",
       "                        <td id=\"T_0b487c3c_cbc6_11ec_ae89_000d3a8cf9bdrow2_col2\" class=\"data row2 col2\" >0.112</td>\n",
       "                        <td id=\"T_0b487c3c_cbc6_11ec_ae89_000d3a8cf9bdrow2_col3\" class=\"data row2 col3\" >0.112</td>\n",
       "            </tr>\n",
       "            <tr>\n",
       "                        <th id=\"T_0b487c3c_cbc6_11ec_ae89_000d3a8cf9bdlevel0_row3\" class=\"row_heading level0 row3\" >15</th>\n",
       "                        <td id=\"T_0b487c3c_cbc6_11ec_ae89_000d3a8cf9bdrow3_col0\" class=\"data row3 col0\" >1.07e+04</td>\n",
       "                        <td id=\"T_0b487c3c_cbc6_11ec_ae89_000d3a8cf9bdrow3_col1\" class=\"data row3 col1\" >1.07e+04</td>\n",
       "                        <td id=\"T_0b487c3c_cbc6_11ec_ae89_000d3a8cf9bdrow3_col2\" class=\"data row3 col2\" >0.0856</td>\n",
       "                        <td id=\"T_0b487c3c_cbc6_11ec_ae89_000d3a8cf9bdrow3_col3\" class=\"data row3 col3\" >0.086</td>\n",
       "            </tr>\n",
       "    </tbody></table>"
      ],
      "text/plain": [
       "<pandas.io.formats.style.Styler at 0x7fc85026b1c0>"
      ]
     },
     "metadata": {},
     "output_type": "display_data"
    },
    {
     "name": "stdout",
     "output_type": "stream",
     "text": [
      "[\u001b[1mtardis.simulation.base\u001b[0m][\u001b[1;37mINFO\u001b[0m   ]  \n",
      "\t\n",
      "\tCurrent t_inner = 10645.955 K\n",
      "\tExpected t_inner for next iteration = 10642.050 K\n",
      " (\u001b[1mbase.py\u001b[0m:542)\n"
     ]
    },
    {
     "name": "stdout",
     "output_type": "stream",
     "text": [
      "[\u001b[1mtardis.simulation.base\u001b[0m][\u001b[1;37mINFO\u001b[0m   ]  \n",
      "\t\n",
      "\tStarting iteration 8 of 20 (\u001b[1mbase.py\u001b[0m:378)\n"
     ]
    },
    {
     "name": "stdout",
     "output_type": "stream",
     "text": [
      "[\u001b[1mtardis.simulation.base\u001b[0m][\u001b[1;37mINFO\u001b[0m   ]  \n",
      "\t\n",
      "\tLuminosity emitted   = 1.062e+43 erg / s\n",
      "\tLuminosity absorbed  = 3.350e+42 erg / s\n",
      "\tLuminosity requested = 1.059e+43 erg / s\n",
      " (\u001b[1mbase.py\u001b[0m:547)\n"
     ]
    },
    {
     "name": "stdout",
     "output_type": "stream",
     "text": [
      "[\u001b[1mtardis.simulation.base\u001b[0m][\u001b[1;37mINFO\u001b[0m   ]  \n",
      "\tIteration converged 4/4 consecutive times. (\u001b[1mbase.py\u001b[0m:259)\n"
     ]
    },
    {
     "name": "stdout",
     "output_type": "stream",
     "text": [
      "[\u001b[1mtardis.simulation.base\u001b[0m][\u001b[1;37mINFO\u001b[0m   ]  \n",
      "\t\n",
      "\tPlasma stratification: (\u001b[1mbase.py\u001b[0m:515)\n"
     ]
    },
    {
     "data": {
      "text/html": [
       "<style  type=\"text/css\" >\n",
       "</style><table id=\"T_0bd1b6be_cbc6_11ec_ae89_000d3a8cf9bd\" ><thead>    <tr>        <th class=\"index_name level0\" >Shell No.</th>        <th class=\"col_heading level0 col0\" >t_rad</th>        <th class=\"col_heading level0 col1\" >next_t_rad</th>        <th class=\"col_heading level0 col2\" >w</th>        <th class=\"col_heading level0 col3\" >next_w</th>    </tr></thead><tbody>\n",
       "                <tr>\n",
       "                        <th id=\"T_0bd1b6be_cbc6_11ec_ae89_000d3a8cf9bdlevel0_row0\" class=\"row_heading level0 row0\" >0</th>\n",
       "                        <td id=\"T_0bd1b6be_cbc6_11ec_ae89_000d3a8cf9bdrow0_col0\" class=\"data row0 col0\" >1.1e+04</td>\n",
       "                        <td id=\"T_0bd1b6be_cbc6_11ec_ae89_000d3a8cf9bdrow0_col1\" class=\"data row0 col1\" >1.11e+04</td>\n",
       "                        <td id=\"T_0bd1b6be_cbc6_11ec_ae89_000d3a8cf9bdrow0_col2\" class=\"data row0 col2\" >0.47</td>\n",
       "                        <td id=\"T_0bd1b6be_cbc6_11ec_ae89_000d3a8cf9bdrow0_col3\" class=\"data row0 col3\" >0.472</td>\n",
       "            </tr>\n",
       "            <tr>\n",
       "                        <th id=\"T_0bd1b6be_cbc6_11ec_ae89_000d3a8cf9bdlevel0_row1\" class=\"row_heading level0 row1\" >5</th>\n",
       "                        <td id=\"T_0bd1b6be_cbc6_11ec_ae89_000d3a8cf9bdrow1_col0\" class=\"data row1 col0\" >1.13e+04</td>\n",
       "                        <td id=\"T_0bd1b6be_cbc6_11ec_ae89_000d3a8cf9bdrow1_col1\" class=\"data row1 col1\" >1.14e+04</td>\n",
       "                        <td id=\"T_0bd1b6be_cbc6_11ec_ae89_000d3a8cf9bdrow1_col2\" class=\"data row1 col2\" >0.178</td>\n",
       "                        <td id=\"T_0bd1b6be_cbc6_11ec_ae89_000d3a8cf9bdrow1_col3\" class=\"data row1 col3\" >0.175</td>\n",
       "            </tr>\n",
       "            <tr>\n",
       "                        <th id=\"T_0bd1b6be_cbc6_11ec_ae89_000d3a8cf9bdlevel0_row2\" class=\"row_heading level0 row2\" >10</th>\n",
       "                        <td id=\"T_0bd1b6be_cbc6_11ec_ae89_000d3a8cf9bdrow2_col0\" class=\"data row2 col0\" >1.11e+04</td>\n",
       "                        <td id=\"T_0bd1b6be_cbc6_11ec_ae89_000d3a8cf9bdrow2_col1\" class=\"data row2 col1\" >1.11e+04</td>\n",
       "                        <td id=\"T_0bd1b6be_cbc6_11ec_ae89_000d3a8cf9bdrow2_col2\" class=\"data row2 col2\" >0.112</td>\n",
       "                        <td id=\"T_0bd1b6be_cbc6_11ec_ae89_000d3a8cf9bdrow2_col3\" class=\"data row2 col3\" >0.111</td>\n",
       "            </tr>\n",
       "            <tr>\n",
       "                        <th id=\"T_0bd1b6be_cbc6_11ec_ae89_000d3a8cf9bdlevel0_row3\" class=\"row_heading level0 row3\" >15</th>\n",
       "                        <td id=\"T_0bd1b6be_cbc6_11ec_ae89_000d3a8cf9bdrow3_col0\" class=\"data row3 col0\" >1.07e+04</td>\n",
       "                        <td id=\"T_0bd1b6be_cbc6_11ec_ae89_000d3a8cf9bdrow3_col1\" class=\"data row3 col1\" >1.07e+04</td>\n",
       "                        <td id=\"T_0bd1b6be_cbc6_11ec_ae89_000d3a8cf9bdrow3_col2\" class=\"data row3 col2\" >0.086</td>\n",
       "                        <td id=\"T_0bd1b6be_cbc6_11ec_ae89_000d3a8cf9bdrow3_col3\" class=\"data row3 col3\" >0.084</td>\n",
       "            </tr>\n",
       "    </tbody></table>"
      ],
      "text/plain": [
       "<pandas.io.formats.style.Styler at 0x7fc850c5ebb0>"
      ]
     },
     "metadata": {},
     "output_type": "display_data"
    },
    {
     "name": "stdout",
     "output_type": "stream",
     "text": [
      "[\u001b[1mtardis.simulation.base\u001b[0m][\u001b[1;37mINFO\u001b[0m   ]  \n",
      "\t\n",
      "\tCurrent t_inner = 10642.050 K\n",
      "\tExpected t_inner for next iteration = 10636.106 K\n",
      " (\u001b[1mbase.py\u001b[0m:542)\n"
     ]
    },
    {
     "name": "stdout",
     "output_type": "stream",
     "text": [
      "[\u001b[1mtardis.simulation.base\u001b[0m][\u001b[1;37mINFO\u001b[0m   ]  \n",
      "\t\n",
      "\tStarting iteration 9 of 20 (\u001b[1mbase.py\u001b[0m:378)\n"
     ]
    },
    {
     "name": "stdout",
     "output_type": "stream",
     "text": [
      "[\u001b[1mtardis.simulation.base\u001b[0m][\u001b[1;37mINFO\u001b[0m   ]  \n",
      "\t\n",
      "\tLuminosity emitted   = 1.052e+43 erg / s\n",
      "\tLuminosity absorbed  = 3.411e+42 erg / s\n",
      "\tLuminosity requested = 1.059e+43 erg / s\n",
      " (\u001b[1mbase.py\u001b[0m:547)\n"
     ]
    },
    {
     "name": "stdout",
     "output_type": "stream",
     "text": [
      "[\u001b[1mtardis.simulation.base\u001b[0m][\u001b[1;37mINFO\u001b[0m   ]  \n",
      "\tIteration converged 5/4 consecutive times. (\u001b[1mbase.py\u001b[0m:259)\n"
     ]
    },
    {
     "name": "stdout",
     "output_type": "stream",
     "text": [
      "[\u001b[1mtardis.simulation.base\u001b[0m][\u001b[1;37mINFO\u001b[0m   ]  \n",
      "\t\n",
      "\tPlasma stratification: (\u001b[1mbase.py\u001b[0m:515)\n"
     ]
    },
    {
     "data": {
      "text/html": [
       "<style  type=\"text/css\" >\n",
       "</style><table id=\"T_0c5e47c8_cbc6_11ec_ae89_000d3a8cf9bd\" ><thead>    <tr>        <th class=\"index_name level0\" >Shell No.</th>        <th class=\"col_heading level0 col0\" >t_rad</th>        <th class=\"col_heading level0 col1\" >next_t_rad</th>        <th class=\"col_heading level0 col2\" >w</th>        <th class=\"col_heading level0 col3\" >next_w</th>    </tr></thead><tbody>\n",
       "                <tr>\n",
       "                        <th id=\"T_0c5e47c8_cbc6_11ec_ae89_000d3a8cf9bdlevel0_row0\" class=\"row_heading level0 row0\" >0</th>\n",
       "                        <td id=\"T_0c5e47c8_cbc6_11ec_ae89_000d3a8cf9bdrow0_col0\" class=\"data row0 col0\" >1.11e+04</td>\n",
       "                        <td id=\"T_0c5e47c8_cbc6_11ec_ae89_000d3a8cf9bdrow0_col1\" class=\"data row0 col1\" >1.11e+04</td>\n",
       "                        <td id=\"T_0c5e47c8_cbc6_11ec_ae89_000d3a8cf9bdrow0_col2\" class=\"data row0 col2\" >0.472</td>\n",
       "                        <td id=\"T_0c5e47c8_cbc6_11ec_ae89_000d3a8cf9bdrow0_col3\" class=\"data row0 col3\" >0.469</td>\n",
       "            </tr>\n",
       "            <tr>\n",
       "                        <th id=\"T_0c5e47c8_cbc6_11ec_ae89_000d3a8cf9bdlevel0_row1\" class=\"row_heading level0 row1\" >5</th>\n",
       "                        <td id=\"T_0c5e47c8_cbc6_11ec_ae89_000d3a8cf9bdrow1_col0\" class=\"data row1 col0\" >1.14e+04</td>\n",
       "                        <td id=\"T_0c5e47c8_cbc6_11ec_ae89_000d3a8cf9bdrow1_col1\" class=\"data row1 col1\" >1.15e+04</td>\n",
       "                        <td id=\"T_0c5e47c8_cbc6_11ec_ae89_000d3a8cf9bdrow1_col2\" class=\"data row1 col2\" >0.175</td>\n",
       "                        <td id=\"T_0c5e47c8_cbc6_11ec_ae89_000d3a8cf9bdrow1_col3\" class=\"data row1 col3\" >0.17</td>\n",
       "            </tr>\n",
       "            <tr>\n",
       "                        <th id=\"T_0c5e47c8_cbc6_11ec_ae89_000d3a8cf9bdlevel0_row2\" class=\"row_heading level0 row2\" >10</th>\n",
       "                        <td id=\"T_0c5e47c8_cbc6_11ec_ae89_000d3a8cf9bdrow2_col0\" class=\"data row2 col0\" >1.11e+04</td>\n",
       "                        <td id=\"T_0c5e47c8_cbc6_11ec_ae89_000d3a8cf9bdrow2_col1\" class=\"data row2 col1\" >1.11e+04</td>\n",
       "                        <td id=\"T_0c5e47c8_cbc6_11ec_ae89_000d3a8cf9bdrow2_col2\" class=\"data row2 col2\" >0.111</td>\n",
       "                        <td id=\"T_0c5e47c8_cbc6_11ec_ae89_000d3a8cf9bdrow2_col3\" class=\"data row2 col3\" >0.109</td>\n",
       "            </tr>\n",
       "            <tr>\n",
       "                        <th id=\"T_0c5e47c8_cbc6_11ec_ae89_000d3a8cf9bdlevel0_row3\" class=\"row_heading level0 row3\" >15</th>\n",
       "                        <td id=\"T_0c5e47c8_cbc6_11ec_ae89_000d3a8cf9bdrow3_col0\" class=\"data row3 col0\" >1.07e+04</td>\n",
       "                        <td id=\"T_0c5e47c8_cbc6_11ec_ae89_000d3a8cf9bdrow3_col1\" class=\"data row3 col1\" >1.08e+04</td>\n",
       "                        <td id=\"T_0c5e47c8_cbc6_11ec_ae89_000d3a8cf9bdrow3_col2\" class=\"data row3 col2\" >0.084</td>\n",
       "                        <td id=\"T_0c5e47c8_cbc6_11ec_ae89_000d3a8cf9bdrow3_col3\" class=\"data row3 col3\" >0.0822</td>\n",
       "            </tr>\n",
       "    </tbody></table>"
      ],
      "text/plain": [
       "<pandas.io.formats.style.Styler at 0x7fc85026b6a0>"
      ]
     },
     "metadata": {},
     "output_type": "display_data"
    },
    {
     "name": "stdout",
     "output_type": "stream",
     "text": [
      "[\u001b[1mtardis.simulation.base\u001b[0m][\u001b[1;37mINFO\u001b[0m   ]  \n",
      "\t\n",
      "\tCurrent t_inner = 10636.106 K\n",
      "\tExpected t_inner for next iteration = 10654.313 K\n",
      " (\u001b[1mbase.py\u001b[0m:542)\n"
     ]
    },
    {
     "name": "stdout",
     "output_type": "stream",
     "text": [
      "[\u001b[1mtardis.simulation.base\u001b[0m][\u001b[1;37mINFO\u001b[0m   ]  \n",
      "\t\n",
      "\tStarting iteration 10 of 20 (\u001b[1mbase.py\u001b[0m:378)\n"
     ]
    },
    {
     "name": "stdout",
     "output_type": "stream",
     "text": [
      "[\u001b[1mtardis.simulation.base\u001b[0m][\u001b[1;37mINFO\u001b[0m   ]  \n",
      "\t\n",
      "\tLuminosity emitted   = 1.070e+43 erg / s\n",
      "\tLuminosity absorbed  = 3.335e+42 erg / s\n",
      "\tLuminosity requested = 1.059e+43 erg / s\n",
      " (\u001b[1mbase.py\u001b[0m:547)\n"
     ]
    },
    {
     "name": "stdout",
     "output_type": "stream",
     "text": [
      "[\u001b[1mtardis.simulation.base\u001b[0m][\u001b[1;37mINFO\u001b[0m   ]  \n",
      "\t\n",
      "\tPlasma stratification: (\u001b[1mbase.py\u001b[0m:515)\n"
     ]
    },
    {
     "data": {
      "text/html": [
       "<style  type=\"text/css\" >\n",
       "</style><table id=\"T_0ceb91f0_cbc6_11ec_ae89_000d3a8cf9bd\" ><thead>    <tr>        <th class=\"index_name level0\" >Shell No.</th>        <th class=\"col_heading level0 col0\" >t_rad</th>        <th class=\"col_heading level0 col1\" >next_t_rad</th>        <th class=\"col_heading level0 col2\" >w</th>        <th class=\"col_heading level0 col3\" >next_w</th>    </tr></thead><tbody>\n",
       "                <tr>\n",
       "                        <th id=\"T_0ceb91f0_cbc6_11ec_ae89_000d3a8cf9bdlevel0_row0\" class=\"row_heading level0 row0\" >0</th>\n",
       "                        <td id=\"T_0ceb91f0_cbc6_11ec_ae89_000d3a8cf9bdrow0_col0\" class=\"data row0 col0\" >1.11e+04</td>\n",
       "                        <td id=\"T_0ceb91f0_cbc6_11ec_ae89_000d3a8cf9bdrow0_col1\" class=\"data row0 col1\" >1.1e+04</td>\n",
       "                        <td id=\"T_0ceb91f0_cbc6_11ec_ae89_000d3a8cf9bdrow0_col2\" class=\"data row0 col2\" >0.469</td>\n",
       "                        <td id=\"T_0ceb91f0_cbc6_11ec_ae89_000d3a8cf9bdrow0_col3\" class=\"data row0 col3\" >0.475</td>\n",
       "            </tr>\n",
       "            <tr>\n",
       "                        <th id=\"T_0ceb91f0_cbc6_11ec_ae89_000d3a8cf9bdlevel0_row1\" class=\"row_heading level0 row1\" >5</th>\n",
       "                        <td id=\"T_0ceb91f0_cbc6_11ec_ae89_000d3a8cf9bdrow1_col0\" class=\"data row1 col0\" >1.15e+04</td>\n",
       "                        <td id=\"T_0ceb91f0_cbc6_11ec_ae89_000d3a8cf9bdrow1_col1\" class=\"data row1 col1\" >1.14e+04</td>\n",
       "                        <td id=\"T_0ceb91f0_cbc6_11ec_ae89_000d3a8cf9bdrow1_col2\" class=\"data row1 col2\" >0.17</td>\n",
       "                        <td id=\"T_0ceb91f0_cbc6_11ec_ae89_000d3a8cf9bdrow1_col3\" class=\"data row1 col3\" >0.177</td>\n",
       "            </tr>\n",
       "            <tr>\n",
       "                        <th id=\"T_0ceb91f0_cbc6_11ec_ae89_000d3a8cf9bdlevel0_row2\" class=\"row_heading level0 row2\" >10</th>\n",
       "                        <td id=\"T_0ceb91f0_cbc6_11ec_ae89_000d3a8cf9bdrow2_col0\" class=\"data row2 col0\" >1.11e+04</td>\n",
       "                        <td id=\"T_0ceb91f0_cbc6_11ec_ae89_000d3a8cf9bdrow2_col1\" class=\"data row2 col1\" >1.11e+04</td>\n",
       "                        <td id=\"T_0ceb91f0_cbc6_11ec_ae89_000d3a8cf9bdrow2_col2\" class=\"data row2 col2\" >0.109</td>\n",
       "                        <td id=\"T_0ceb91f0_cbc6_11ec_ae89_000d3a8cf9bdrow2_col3\" class=\"data row2 col3\" >0.112</td>\n",
       "            </tr>\n",
       "            <tr>\n",
       "                        <th id=\"T_0ceb91f0_cbc6_11ec_ae89_000d3a8cf9bdlevel0_row3\" class=\"row_heading level0 row3\" >15</th>\n",
       "                        <td id=\"T_0ceb91f0_cbc6_11ec_ae89_000d3a8cf9bdrow3_col0\" class=\"data row3 col0\" >1.08e+04</td>\n",
       "                        <td id=\"T_0ceb91f0_cbc6_11ec_ae89_000d3a8cf9bdrow3_col1\" class=\"data row3 col1\" >1.06e+04</td>\n",
       "                        <td id=\"T_0ceb91f0_cbc6_11ec_ae89_000d3a8cf9bdrow3_col2\" class=\"data row3 col2\" >0.0822</td>\n",
       "                        <td id=\"T_0ceb91f0_cbc6_11ec_ae89_000d3a8cf9bdrow3_col3\" class=\"data row3 col3\" >0.0878</td>\n",
       "            </tr>\n",
       "    </tbody></table>"
      ],
      "text/plain": [
       "<pandas.io.formats.style.Styler at 0x7fc8528acd90>"
      ]
     },
     "metadata": {},
     "output_type": "display_data"
    },
    {
     "name": "stdout",
     "output_type": "stream",
     "text": [
      "[\u001b[1mtardis.simulation.base\u001b[0m][\u001b[1;37mINFO\u001b[0m   ]  \n",
      "\t\n",
      "\tCurrent t_inner = 10654.313 K\n",
      "\tExpected t_inner for next iteration = 10628.190 K\n",
      " (\u001b[1mbase.py\u001b[0m:542)\n"
     ]
    },
    {
     "name": "stdout",
     "output_type": "stream",
     "text": [
      "[\u001b[1mtardis.simulation.base\u001b[0m][\u001b[1;37mINFO\u001b[0m   ]  \n",
      "\t\n",
      "\tStarting iteration 11 of 20 (\u001b[1mbase.py\u001b[0m:378)\n"
     ]
    },
    {
     "name": "stdout",
     "output_type": "stream",
     "text": [
      "[\u001b[1mtardis.simulation.base\u001b[0m][\u001b[1;37mINFO\u001b[0m   ]  \n",
      "\t\n",
      "\tLuminosity emitted   = 1.053e+43 erg / s\n",
      "\tLuminosity absorbed  = 3.363e+42 erg / s\n",
      "\tLuminosity requested = 1.059e+43 erg / s\n",
      " (\u001b[1mbase.py\u001b[0m:547)\n"
     ]
    },
    {
     "name": "stdout",
     "output_type": "stream",
     "text": [
      "[\u001b[1mtardis.simulation.base\u001b[0m][\u001b[1;37mINFO\u001b[0m   ]  \n",
      "\tIteration converged 1/4 consecutive times. (\u001b[1mbase.py\u001b[0m:259)\n"
     ]
    },
    {
     "name": "stdout",
     "output_type": "stream",
     "text": [
      "[\u001b[1mtardis.simulation.base\u001b[0m][\u001b[1;37mINFO\u001b[0m   ]  \n",
      "\t\n",
      "\tPlasma stratification: (\u001b[1mbase.py\u001b[0m:515)\n"
     ]
    },
    {
     "data": {
      "text/html": [
       "<style  type=\"text/css\" >\n",
       "</style><table id=\"T_0d77a5c8_cbc6_11ec_ae89_000d3a8cf9bd\" ><thead>    <tr>        <th class=\"index_name level0\" >Shell No.</th>        <th class=\"col_heading level0 col0\" >t_rad</th>        <th class=\"col_heading level0 col1\" >next_t_rad</th>        <th class=\"col_heading level0 col2\" >w</th>        <th class=\"col_heading level0 col3\" >next_w</th>    </tr></thead><tbody>\n",
       "                <tr>\n",
       "                        <th id=\"T_0d77a5c8_cbc6_11ec_ae89_000d3a8cf9bdlevel0_row0\" class=\"row_heading level0 row0\" >0</th>\n",
       "                        <td id=\"T_0d77a5c8_cbc6_11ec_ae89_000d3a8cf9bdrow0_col0\" class=\"data row0 col0\" >1.1e+04</td>\n",
       "                        <td id=\"T_0d77a5c8_cbc6_11ec_ae89_000d3a8cf9bdrow0_col1\" class=\"data row0 col1\" >1.1e+04</td>\n",
       "                        <td id=\"T_0d77a5c8_cbc6_11ec_ae89_000d3a8cf9bdrow0_col2\" class=\"data row0 col2\" >0.475</td>\n",
       "                        <td id=\"T_0d77a5c8_cbc6_11ec_ae89_000d3a8cf9bdrow0_col3\" class=\"data row0 col3\" >0.472</td>\n",
       "            </tr>\n",
       "            <tr>\n",
       "                        <th id=\"T_0d77a5c8_cbc6_11ec_ae89_000d3a8cf9bdlevel0_row1\" class=\"row_heading level0 row1\" >5</th>\n",
       "                        <td id=\"T_0d77a5c8_cbc6_11ec_ae89_000d3a8cf9bdrow1_col0\" class=\"data row1 col0\" >1.14e+04</td>\n",
       "                        <td id=\"T_0d77a5c8_cbc6_11ec_ae89_000d3a8cf9bdrow1_col1\" class=\"data row1 col1\" >1.12e+04</td>\n",
       "                        <td id=\"T_0d77a5c8_cbc6_11ec_ae89_000d3a8cf9bdrow1_col2\" class=\"data row1 col2\" >0.177</td>\n",
       "                        <td id=\"T_0d77a5c8_cbc6_11ec_ae89_000d3a8cf9bdrow1_col3\" class=\"data row1 col3\" >0.184</td>\n",
       "            </tr>\n",
       "            <tr>\n",
       "                        <th id=\"T_0d77a5c8_cbc6_11ec_ae89_000d3a8cf9bdlevel0_row2\" class=\"row_heading level0 row2\" >10</th>\n",
       "                        <td id=\"T_0d77a5c8_cbc6_11ec_ae89_000d3a8cf9bdrow2_col0\" class=\"data row2 col0\" >1.11e+04</td>\n",
       "                        <td id=\"T_0d77a5c8_cbc6_11ec_ae89_000d3a8cf9bdrow2_col1\" class=\"data row2 col1\" >1.1e+04</td>\n",
       "                        <td id=\"T_0d77a5c8_cbc6_11ec_ae89_000d3a8cf9bdrow2_col2\" class=\"data row2 col2\" >0.112</td>\n",
       "                        <td id=\"T_0d77a5c8_cbc6_11ec_ae89_000d3a8cf9bdrow2_col3\" class=\"data row2 col3\" >0.114</td>\n",
       "            </tr>\n",
       "            <tr>\n",
       "                        <th id=\"T_0d77a5c8_cbc6_11ec_ae89_000d3a8cf9bdlevel0_row3\" class=\"row_heading level0 row3\" >15</th>\n",
       "                        <td id=\"T_0d77a5c8_cbc6_11ec_ae89_000d3a8cf9bdrow3_col0\" class=\"data row3 col0\" >1.06e+04</td>\n",
       "                        <td id=\"T_0d77a5c8_cbc6_11ec_ae89_000d3a8cf9bdrow3_col1\" class=\"data row3 col1\" >1.06e+04</td>\n",
       "                        <td id=\"T_0d77a5c8_cbc6_11ec_ae89_000d3a8cf9bdrow3_col2\" class=\"data row3 col2\" >0.0878</td>\n",
       "                        <td id=\"T_0d77a5c8_cbc6_11ec_ae89_000d3a8cf9bdrow3_col3\" class=\"data row3 col3\" >0.0859</td>\n",
       "            </tr>\n",
       "    </tbody></table>"
      ],
      "text/plain": [
       "<pandas.io.formats.style.Styler at 0x7fc8528ac730>"
      ]
     },
     "metadata": {},
     "output_type": "display_data"
    },
    {
     "name": "stdout",
     "output_type": "stream",
     "text": [
      "[\u001b[1mtardis.simulation.base\u001b[0m][\u001b[1;37mINFO\u001b[0m   ]  \n",
      "\t\n",
      "\tCurrent t_inner = 10628.190 K\n",
      "\tExpected t_inner for next iteration = 10644.054 K\n",
      " (\u001b[1mbase.py\u001b[0m:542)\n"
     ]
    },
    {
     "name": "stdout",
     "output_type": "stream",
     "text": [
      "[\u001b[1mtardis.simulation.base\u001b[0m][\u001b[1;37mINFO\u001b[0m   ]  \n",
      "\t\n",
      "\tStarting iteration 12 of 20 (\u001b[1mbase.py\u001b[0m:378)\n"
     ]
    },
    {
     "name": "stdout",
     "output_type": "stream",
     "text": [
      "[\u001b[1mtardis.simulation.base\u001b[0m][\u001b[1;37mINFO\u001b[0m   ]  \n",
      "\t\n",
      "\tLuminosity emitted   = 1.056e+43 erg / s\n",
      "\tLuminosity absorbed  = 3.420e+42 erg / s\n",
      "\tLuminosity requested = 1.059e+43 erg / s\n",
      " (\u001b[1mbase.py\u001b[0m:547)\n"
     ]
    },
    {
     "name": "stdout",
     "output_type": "stream",
     "text": [
      "[\u001b[1mtardis.simulation.base\u001b[0m][\u001b[1;37mINFO\u001b[0m   ]  \n",
      "\t\n",
      "\tPlasma stratification: (\u001b[1mbase.py\u001b[0m:515)\n"
     ]
    },
    {
     "data": {
      "text/html": [
       "<style  type=\"text/css\" >\n",
       "</style><table id=\"T_0e051444_cbc6_11ec_ae89_000d3a8cf9bd\" ><thead>    <tr>        <th class=\"index_name level0\" >Shell No.</th>        <th class=\"col_heading level0 col0\" >t_rad</th>        <th class=\"col_heading level0 col1\" >next_t_rad</th>        <th class=\"col_heading level0 col2\" >w</th>        <th class=\"col_heading level0 col3\" >next_w</th>    </tr></thead><tbody>\n",
       "                <tr>\n",
       "                        <th id=\"T_0e051444_cbc6_11ec_ae89_000d3a8cf9bdlevel0_row0\" class=\"row_heading level0 row0\" >0</th>\n",
       "                        <td id=\"T_0e051444_cbc6_11ec_ae89_000d3a8cf9bdrow0_col0\" class=\"data row0 col0\" >1.1e+04</td>\n",
       "                        <td id=\"T_0e051444_cbc6_11ec_ae89_000d3a8cf9bdrow0_col1\" class=\"data row0 col1\" >1.11e+04</td>\n",
       "                        <td id=\"T_0e051444_cbc6_11ec_ae89_000d3a8cf9bdrow0_col2\" class=\"data row0 col2\" >0.472</td>\n",
       "                        <td id=\"T_0e051444_cbc6_11ec_ae89_000d3a8cf9bdrow0_col3\" class=\"data row0 col3\" >0.467</td>\n",
       "            </tr>\n",
       "            <tr>\n",
       "                        <th id=\"T_0e051444_cbc6_11ec_ae89_000d3a8cf9bdlevel0_row1\" class=\"row_heading level0 row1\" >5</th>\n",
       "                        <td id=\"T_0e051444_cbc6_11ec_ae89_000d3a8cf9bdrow1_col0\" class=\"data row1 col0\" >1.12e+04</td>\n",
       "                        <td id=\"T_0e051444_cbc6_11ec_ae89_000d3a8cf9bdrow1_col1\" class=\"data row1 col1\" >1.13e+04</td>\n",
       "                        <td id=\"T_0e051444_cbc6_11ec_ae89_000d3a8cf9bdrow1_col2\" class=\"data row1 col2\" >0.184</td>\n",
       "                        <td id=\"T_0e051444_cbc6_11ec_ae89_000d3a8cf9bdrow1_col3\" class=\"data row1 col3\" >0.176</td>\n",
       "            </tr>\n",
       "            <tr>\n",
       "                        <th id=\"T_0e051444_cbc6_11ec_ae89_000d3a8cf9bdlevel0_row2\" class=\"row_heading level0 row2\" >10</th>\n",
       "                        <td id=\"T_0e051444_cbc6_11ec_ae89_000d3a8cf9bdrow2_col0\" class=\"data row2 col0\" >1.1e+04</td>\n",
       "                        <td id=\"T_0e051444_cbc6_11ec_ae89_000d3a8cf9bdrow2_col1\" class=\"data row2 col1\" >1.11e+04</td>\n",
       "                        <td id=\"T_0e051444_cbc6_11ec_ae89_000d3a8cf9bdrow2_col2\" class=\"data row2 col2\" >0.114</td>\n",
       "                        <td id=\"T_0e051444_cbc6_11ec_ae89_000d3a8cf9bdrow2_col3\" class=\"data row2 col3\" >0.11</td>\n",
       "            </tr>\n",
       "            <tr>\n",
       "                        <th id=\"T_0e051444_cbc6_11ec_ae89_000d3a8cf9bdlevel0_row3\" class=\"row_heading level0 row3\" >15</th>\n",
       "                        <td id=\"T_0e051444_cbc6_11ec_ae89_000d3a8cf9bdrow3_col0\" class=\"data row3 col0\" >1.06e+04</td>\n",
       "                        <td id=\"T_0e051444_cbc6_11ec_ae89_000d3a8cf9bdrow3_col1\" class=\"data row3 col1\" >1.08e+04</td>\n",
       "                        <td id=\"T_0e051444_cbc6_11ec_ae89_000d3a8cf9bdrow3_col2\" class=\"data row3 col2\" >0.0859</td>\n",
       "                        <td id=\"T_0e051444_cbc6_11ec_ae89_000d3a8cf9bdrow3_col3\" class=\"data row3 col3\" >0.0821</td>\n",
       "            </tr>\n",
       "    </tbody></table>"
      ],
      "text/plain": [
       "<pandas.io.formats.style.Styler at 0x7fc8502770d0>"
      ]
     },
     "metadata": {},
     "output_type": "display_data"
    },
    {
     "name": "stdout",
     "output_type": "stream",
     "text": [
      "[\u001b[1mtardis.simulation.base\u001b[0m][\u001b[1;37mINFO\u001b[0m   ]  \n",
      "\t\n",
      "\tCurrent t_inner = 10644.054 K\n",
      "\tExpected t_inner for next iteration = 10653.543 K\n",
      " (\u001b[1mbase.py\u001b[0m:542)\n"
     ]
    },
    {
     "name": "stdout",
     "output_type": "stream",
     "text": [
      "[\u001b[1mtardis.simulation.base\u001b[0m][\u001b[1;37mINFO\u001b[0m   ]  \n",
      "\t\n",
      "\tStarting iteration 13 of 20 (\u001b[1mbase.py\u001b[0m:378)\n"
     ]
    },
    {
     "name": "stdout",
     "output_type": "stream",
     "text": [
      "[\u001b[1mtardis.simulation.base\u001b[0m][\u001b[1;37mINFO\u001b[0m   ]  \n",
      "\t\n",
      "\tLuminosity emitted   = 1.062e+43 erg / s\n",
      "\tLuminosity absorbed  = 3.406e+42 erg / s\n",
      "\tLuminosity requested = 1.059e+43 erg / s\n",
      " (\u001b[1mbase.py\u001b[0m:547)\n"
     ]
    },
    {
     "name": "stdout",
     "output_type": "stream",
     "text": [
      "[\u001b[1mtardis.simulation.base\u001b[0m][\u001b[1;37mINFO\u001b[0m   ]  \n",
      "\tIteration converged 1/4 consecutive times. (\u001b[1mbase.py\u001b[0m:259)\n"
     ]
    },
    {
     "name": "stdout",
     "output_type": "stream",
     "text": [
      "[\u001b[1mtardis.simulation.base\u001b[0m][\u001b[1;37mINFO\u001b[0m   ]  \n",
      "\t\n",
      "\tPlasma stratification: (\u001b[1mbase.py\u001b[0m:515)\n"
     ]
    },
    {
     "data": {
      "text/html": [
       "<style  type=\"text/css\" >\n",
       "</style><table id=\"T_0e90d6f0_cbc6_11ec_ae89_000d3a8cf9bd\" ><thead>    <tr>        <th class=\"index_name level0\" >Shell No.</th>        <th class=\"col_heading level0 col0\" >t_rad</th>        <th class=\"col_heading level0 col1\" >next_t_rad</th>        <th class=\"col_heading level0 col2\" >w</th>        <th class=\"col_heading level0 col3\" >next_w</th>    </tr></thead><tbody>\n",
       "                <tr>\n",
       "                        <th id=\"T_0e90d6f0_cbc6_11ec_ae89_000d3a8cf9bdlevel0_row0\" class=\"row_heading level0 row0\" >0</th>\n",
       "                        <td id=\"T_0e90d6f0_cbc6_11ec_ae89_000d3a8cf9bdrow0_col0\" class=\"data row0 col0\" >1.11e+04</td>\n",
       "                        <td id=\"T_0e90d6f0_cbc6_11ec_ae89_000d3a8cf9bdrow0_col1\" class=\"data row0 col1\" >1.11e+04</td>\n",
       "                        <td id=\"T_0e90d6f0_cbc6_11ec_ae89_000d3a8cf9bdrow0_col2\" class=\"data row0 col2\" >0.467</td>\n",
       "                        <td id=\"T_0e90d6f0_cbc6_11ec_ae89_000d3a8cf9bdrow0_col3\" class=\"data row0 col3\" >0.466</td>\n",
       "            </tr>\n",
       "            <tr>\n",
       "                        <th id=\"T_0e90d6f0_cbc6_11ec_ae89_000d3a8cf9bdlevel0_row1\" class=\"row_heading level0 row1\" >5</th>\n",
       "                        <td id=\"T_0e90d6f0_cbc6_11ec_ae89_000d3a8cf9bdrow1_col0\" class=\"data row1 col0\" >1.13e+04</td>\n",
       "                        <td id=\"T_0e90d6f0_cbc6_11ec_ae89_000d3a8cf9bdrow1_col1\" class=\"data row1 col1\" >1.13e+04</td>\n",
       "                        <td id=\"T_0e90d6f0_cbc6_11ec_ae89_000d3a8cf9bdrow1_col2\" class=\"data row1 col2\" >0.176</td>\n",
       "                        <td id=\"T_0e90d6f0_cbc6_11ec_ae89_000d3a8cf9bdrow1_col3\" class=\"data row1 col3\" >0.18</td>\n",
       "            </tr>\n",
       "            <tr>\n",
       "                        <th id=\"T_0e90d6f0_cbc6_11ec_ae89_000d3a8cf9bdlevel0_row2\" class=\"row_heading level0 row2\" >10</th>\n",
       "                        <td id=\"T_0e90d6f0_cbc6_11ec_ae89_000d3a8cf9bdrow2_col0\" class=\"data row2 col0\" >1.11e+04</td>\n",
       "                        <td id=\"T_0e90d6f0_cbc6_11ec_ae89_000d3a8cf9bdrow2_col1\" class=\"data row2 col1\" >1.11e+04</td>\n",
       "                        <td id=\"T_0e90d6f0_cbc6_11ec_ae89_000d3a8cf9bdrow2_col2\" class=\"data row2 col2\" >0.11</td>\n",
       "                        <td id=\"T_0e90d6f0_cbc6_11ec_ae89_000d3a8cf9bdrow2_col3\" class=\"data row2 col3\" >0.111</td>\n",
       "            </tr>\n",
       "            <tr>\n",
       "                        <th id=\"T_0e90d6f0_cbc6_11ec_ae89_000d3a8cf9bdlevel0_row3\" class=\"row_heading level0 row3\" >15</th>\n",
       "                        <td id=\"T_0e90d6f0_cbc6_11ec_ae89_000d3a8cf9bdrow3_col0\" class=\"data row3 col0\" >1.08e+04</td>\n",
       "                        <td id=\"T_0e90d6f0_cbc6_11ec_ae89_000d3a8cf9bdrow3_col1\" class=\"data row3 col1\" >1.08e+04</td>\n",
       "                        <td id=\"T_0e90d6f0_cbc6_11ec_ae89_000d3a8cf9bdrow3_col2\" class=\"data row3 col2\" >0.0821</td>\n",
       "                        <td id=\"T_0e90d6f0_cbc6_11ec_ae89_000d3a8cf9bdrow3_col3\" class=\"data row3 col3\" >0.0841</td>\n",
       "            </tr>\n",
       "    </tbody></table>"
      ],
      "text/plain": [
       "<pandas.io.formats.style.Styler at 0x7fc850277160>"
      ]
     },
     "metadata": {},
     "output_type": "display_data"
    },
    {
     "name": "stdout",
     "output_type": "stream",
     "text": [
      "[\u001b[1mtardis.simulation.base\u001b[0m][\u001b[1;37mINFO\u001b[0m   ]  \n",
      "\t\n",
      "\tCurrent t_inner = 10653.543 K\n",
      "\tExpected t_inner for next iteration = 10647.277 K\n",
      " (\u001b[1mbase.py\u001b[0m:542)\n"
     ]
    },
    {
     "name": "stdout",
     "output_type": "stream",
     "text": [
      "[\u001b[1mtardis.simulation.base\u001b[0m][\u001b[1;37mINFO\u001b[0m   ]  \n",
      "\t\n",
      "\tStarting iteration 14 of 20 (\u001b[1mbase.py\u001b[0m:378)\n"
     ]
    },
    {
     "name": "stdout",
     "output_type": "stream",
     "text": [
      "[\u001b[1mtardis.simulation.base\u001b[0m][\u001b[1;37mINFO\u001b[0m   ]  \n",
      "\t\n",
      "\tLuminosity emitted   = 1.063e+43 erg / s\n",
      "\tLuminosity absorbed  = 3.369e+42 erg / s\n",
      "\tLuminosity requested = 1.059e+43 erg / s\n",
      " (\u001b[1mbase.py\u001b[0m:547)\n"
     ]
    },
    {
     "name": "stdout",
     "output_type": "stream",
     "text": [
      "[\u001b[1mtardis.simulation.base\u001b[0m][\u001b[1;37mINFO\u001b[0m   ]  \n",
      "\tIteration converged 2/4 consecutive times. (\u001b[1mbase.py\u001b[0m:259)\n"
     ]
    },
    {
     "name": "stdout",
     "output_type": "stream",
     "text": [
      "[\u001b[1mtardis.simulation.base\u001b[0m][\u001b[1;37mINFO\u001b[0m   ]  \n",
      "\t\n",
      "\tPlasma stratification: (\u001b[1mbase.py\u001b[0m:515)\n"
     ]
    },
    {
     "data": {
      "text/html": [
       "<style  type=\"text/css\" >\n",
       "</style><table id=\"T_0f1ab550_cbc6_11ec_ae89_000d3a8cf9bd\" ><thead>    <tr>        <th class=\"index_name level0\" >Shell No.</th>        <th class=\"col_heading level0 col0\" >t_rad</th>        <th class=\"col_heading level0 col1\" >next_t_rad</th>        <th class=\"col_heading level0 col2\" >w</th>        <th class=\"col_heading level0 col3\" >next_w</th>    </tr></thead><tbody>\n",
       "                <tr>\n",
       "                        <th id=\"T_0f1ab550_cbc6_11ec_ae89_000d3a8cf9bdlevel0_row0\" class=\"row_heading level0 row0\" >0</th>\n",
       "                        <td id=\"T_0f1ab550_cbc6_11ec_ae89_000d3a8cf9bdrow0_col0\" class=\"data row0 col0\" >1.11e+04</td>\n",
       "                        <td id=\"T_0f1ab550_cbc6_11ec_ae89_000d3a8cf9bdrow0_col1\" class=\"data row0 col1\" >1.11e+04</td>\n",
       "                        <td id=\"T_0f1ab550_cbc6_11ec_ae89_000d3a8cf9bdrow0_col2\" class=\"data row0 col2\" >0.466</td>\n",
       "                        <td id=\"T_0f1ab550_cbc6_11ec_ae89_000d3a8cf9bdrow0_col3\" class=\"data row0 col3\" >0.469</td>\n",
       "            </tr>\n",
       "            <tr>\n",
       "                        <th id=\"T_0f1ab550_cbc6_11ec_ae89_000d3a8cf9bdlevel0_row1\" class=\"row_heading level0 row1\" >5</th>\n",
       "                        <td id=\"T_0f1ab550_cbc6_11ec_ae89_000d3a8cf9bdrow1_col0\" class=\"data row1 col0\" >1.13e+04</td>\n",
       "                        <td id=\"T_0f1ab550_cbc6_11ec_ae89_000d3a8cf9bdrow1_col1\" class=\"data row1 col1\" >1.13e+04</td>\n",
       "                        <td id=\"T_0f1ab550_cbc6_11ec_ae89_000d3a8cf9bdrow1_col2\" class=\"data row1 col2\" >0.18</td>\n",
       "                        <td id=\"T_0f1ab550_cbc6_11ec_ae89_000d3a8cf9bdrow1_col3\" class=\"data row1 col3\" >0.182</td>\n",
       "            </tr>\n",
       "            <tr>\n",
       "                        <th id=\"T_0f1ab550_cbc6_11ec_ae89_000d3a8cf9bdlevel0_row2\" class=\"row_heading level0 row2\" >10</th>\n",
       "                        <td id=\"T_0f1ab550_cbc6_11ec_ae89_000d3a8cf9bdrow2_col0\" class=\"data row2 col0\" >1.11e+04</td>\n",
       "                        <td id=\"T_0f1ab550_cbc6_11ec_ae89_000d3a8cf9bdrow2_col1\" class=\"data row2 col1\" >1.1e+04</td>\n",
       "                        <td id=\"T_0f1ab550_cbc6_11ec_ae89_000d3a8cf9bdrow2_col2\" class=\"data row2 col2\" >0.111</td>\n",
       "                        <td id=\"T_0f1ab550_cbc6_11ec_ae89_000d3a8cf9bdrow2_col3\" class=\"data row2 col3\" >0.113</td>\n",
       "            </tr>\n",
       "            <tr>\n",
       "                        <th id=\"T_0f1ab550_cbc6_11ec_ae89_000d3a8cf9bdlevel0_row3\" class=\"row_heading level0 row3\" >15</th>\n",
       "                        <td id=\"T_0f1ab550_cbc6_11ec_ae89_000d3a8cf9bdrow3_col0\" class=\"data row3 col0\" >1.08e+04</td>\n",
       "                        <td id=\"T_0f1ab550_cbc6_11ec_ae89_000d3a8cf9bdrow3_col1\" class=\"data row3 col1\" >1.07e+04</td>\n",
       "                        <td id=\"T_0f1ab550_cbc6_11ec_ae89_000d3a8cf9bdrow3_col2\" class=\"data row3 col2\" >0.0841</td>\n",
       "                        <td id=\"T_0f1ab550_cbc6_11ec_ae89_000d3a8cf9bdrow3_col3\" class=\"data row3 col3\" >0.0854</td>\n",
       "            </tr>\n",
       "    </tbody></table>"
      ],
      "text/plain": [
       "<pandas.io.formats.style.Styler at 0x7fc85022be50>"
      ]
     },
     "metadata": {},
     "output_type": "display_data"
    },
    {
     "name": "stdout",
     "output_type": "stream",
     "text": [
      "[\u001b[1mtardis.simulation.base\u001b[0m][\u001b[1;37mINFO\u001b[0m   ]  \n",
      "\t\n",
      "\tCurrent t_inner = 10647.277 K\n",
      "\tExpected t_inner for next iteration = 10638.875 K\n",
      " (\u001b[1mbase.py\u001b[0m:542)\n"
     ]
    },
    {
     "name": "stdout",
     "output_type": "stream",
     "text": [
      "[\u001b[1mtardis.simulation.base\u001b[0m][\u001b[1;37mINFO\u001b[0m   ]  \n",
      "\t\n",
      "\tStarting iteration 15 of 20 (\u001b[1mbase.py\u001b[0m:378)\n"
     ]
    },
    {
     "name": "stdout",
     "output_type": "stream",
     "text": [
      "[\u001b[1mtardis.simulation.base\u001b[0m][\u001b[1;37mINFO\u001b[0m   ]  \n",
      "\t\n",
      "\tLuminosity emitted   = 1.053e+43 erg / s\n",
      "\tLuminosity absorbed  = 3.417e+42 erg / s\n",
      "\tLuminosity requested = 1.059e+43 erg / s\n",
      " (\u001b[1mbase.py\u001b[0m:547)\n"
     ]
    },
    {
     "name": "stdout",
     "output_type": "stream",
     "text": [
      "[\u001b[1mtardis.simulation.base\u001b[0m][\u001b[1;37mINFO\u001b[0m   ]  \n",
      "\tIteration converged 3/4 consecutive times. (\u001b[1mbase.py\u001b[0m:259)\n"
     ]
    },
    {
     "name": "stdout",
     "output_type": "stream",
     "text": [
      "[\u001b[1mtardis.simulation.base\u001b[0m][\u001b[1;37mINFO\u001b[0m   ]  \n",
      "\t\n",
      "\tPlasma stratification: (\u001b[1mbase.py\u001b[0m:515)\n"
     ]
    },
    {
     "data": {
      "text/html": [
       "<style  type=\"text/css\" >\n",
       "</style><table id=\"T_0fa21d9c_cbc6_11ec_ae89_000d3a8cf9bd\" ><thead>    <tr>        <th class=\"index_name level0\" >Shell No.</th>        <th class=\"col_heading level0 col0\" >t_rad</th>        <th class=\"col_heading level0 col1\" >next_t_rad</th>        <th class=\"col_heading level0 col2\" >w</th>        <th class=\"col_heading level0 col3\" >next_w</th>    </tr></thead><tbody>\n",
       "                <tr>\n",
       "                        <th id=\"T_0fa21d9c_cbc6_11ec_ae89_000d3a8cf9bdlevel0_row0\" class=\"row_heading level0 row0\" >0</th>\n",
       "                        <td id=\"T_0fa21d9c_cbc6_11ec_ae89_000d3a8cf9bdrow0_col0\" class=\"data row0 col0\" >1.11e+04</td>\n",
       "                        <td id=\"T_0fa21d9c_cbc6_11ec_ae89_000d3a8cf9bdrow0_col1\" class=\"data row0 col1\" >1.1e+04</td>\n",
       "                        <td id=\"T_0fa21d9c_cbc6_11ec_ae89_000d3a8cf9bdrow0_col2\" class=\"data row0 col2\" >0.469</td>\n",
       "                        <td id=\"T_0fa21d9c_cbc6_11ec_ae89_000d3a8cf9bdrow0_col3\" class=\"data row0 col3\" >0.484</td>\n",
       "            </tr>\n",
       "            <tr>\n",
       "                        <th id=\"T_0fa21d9c_cbc6_11ec_ae89_000d3a8cf9bdlevel0_row1\" class=\"row_heading level0 row1\" >5</th>\n",
       "                        <td id=\"T_0fa21d9c_cbc6_11ec_ae89_000d3a8cf9bdrow1_col0\" class=\"data row1 col0\" >1.13e+04</td>\n",
       "                        <td id=\"T_0fa21d9c_cbc6_11ec_ae89_000d3a8cf9bdrow1_col1\" class=\"data row1 col1\" >1.13e+04</td>\n",
       "                        <td id=\"T_0fa21d9c_cbc6_11ec_ae89_000d3a8cf9bdrow1_col2\" class=\"data row1 col2\" >0.182</td>\n",
       "                        <td id=\"T_0fa21d9c_cbc6_11ec_ae89_000d3a8cf9bdrow1_col3\" class=\"data row1 col3\" >0.181</td>\n",
       "            </tr>\n",
       "            <tr>\n",
       "                        <th id=\"T_0fa21d9c_cbc6_11ec_ae89_000d3a8cf9bdlevel0_row2\" class=\"row_heading level0 row2\" >10</th>\n",
       "                        <td id=\"T_0fa21d9c_cbc6_11ec_ae89_000d3a8cf9bdrow2_col0\" class=\"data row2 col0\" >1.1e+04</td>\n",
       "                        <td id=\"T_0fa21d9c_cbc6_11ec_ae89_000d3a8cf9bdrow2_col1\" class=\"data row2 col1\" >1.1e+04</td>\n",
       "                        <td id=\"T_0fa21d9c_cbc6_11ec_ae89_000d3a8cf9bdrow2_col2\" class=\"data row2 col2\" >0.113</td>\n",
       "                        <td id=\"T_0fa21d9c_cbc6_11ec_ae89_000d3a8cf9bdrow2_col3\" class=\"data row2 col3\" >0.113</td>\n",
       "            </tr>\n",
       "            <tr>\n",
       "                        <th id=\"T_0fa21d9c_cbc6_11ec_ae89_000d3a8cf9bdlevel0_row3\" class=\"row_heading level0 row3\" >15</th>\n",
       "                        <td id=\"T_0fa21d9c_cbc6_11ec_ae89_000d3a8cf9bdrow3_col0\" class=\"data row3 col0\" >1.07e+04</td>\n",
       "                        <td id=\"T_0fa21d9c_cbc6_11ec_ae89_000d3a8cf9bdrow3_col1\" class=\"data row3 col1\" >1.07e+04</td>\n",
       "                        <td id=\"T_0fa21d9c_cbc6_11ec_ae89_000d3a8cf9bdrow3_col2\" class=\"data row3 col2\" >0.0854</td>\n",
       "                        <td id=\"T_0fa21d9c_cbc6_11ec_ae89_000d3a8cf9bdrow3_col3\" class=\"data row3 col3\" >0.0858</td>\n",
       "            </tr>\n",
       "    </tbody></table>"
      ],
      "text/plain": [
       "<pandas.io.formats.style.Styler at 0x7fc852e1ab20>"
      ]
     },
     "metadata": {},
     "output_type": "display_data"
    },
    {
     "name": "stdout",
     "output_type": "stream",
     "text": [
      "[\u001b[1mtardis.simulation.base\u001b[0m][\u001b[1;37mINFO\u001b[0m   ]  \n",
      "\t\n",
      "\tCurrent t_inner = 10638.875 K\n",
      "\tExpected t_inner for next iteration = 10655.125 K\n",
      " (\u001b[1mbase.py\u001b[0m:542)\n"
     ]
    },
    {
     "name": "stdout",
     "output_type": "stream",
     "text": [
      "[\u001b[1mtardis.simulation.base\u001b[0m][\u001b[1;37mINFO\u001b[0m   ]  \n",
      "\t\n",
      "\tStarting iteration 16 of 20 (\u001b[1mbase.py\u001b[0m:378)\n"
     ]
    },
    {
     "name": "stdout",
     "output_type": "stream",
     "text": [
      "[\u001b[1mtardis.simulation.base\u001b[0m][\u001b[1;37mINFO\u001b[0m   ]  \n",
      "\t\n",
      "\tLuminosity emitted   = 1.059e+43 erg / s\n",
      "\tLuminosity absorbed  = 3.445e+42 erg / s\n",
      "\tLuminosity requested = 1.059e+43 erg / s\n",
      " (\u001b[1mbase.py\u001b[0m:547)\n"
     ]
    },
    {
     "name": "stdout",
     "output_type": "stream",
     "text": [
      "[\u001b[1mtardis.simulation.base\u001b[0m][\u001b[1;37mINFO\u001b[0m   ]  \n",
      "\tIteration converged 4/4 consecutive times. (\u001b[1mbase.py\u001b[0m:259)\n"
     ]
    },
    {
     "name": "stdout",
     "output_type": "stream",
     "text": [
      "[\u001b[1mtardis.simulation.base\u001b[0m][\u001b[1;37mINFO\u001b[0m   ]  \n",
      "\t\n",
      "\tPlasma stratification: (\u001b[1mbase.py\u001b[0m:515)\n"
     ]
    },
    {
     "data": {
      "text/html": [
       "<style  type=\"text/css\" >\n",
       "</style><table id=\"T_1026d24e_cbc6_11ec_ae89_000d3a8cf9bd\" ><thead>    <tr>        <th class=\"index_name level0\" >Shell No.</th>        <th class=\"col_heading level0 col0\" >t_rad</th>        <th class=\"col_heading level0 col1\" >next_t_rad</th>        <th class=\"col_heading level0 col2\" >w</th>        <th class=\"col_heading level0 col3\" >next_w</th>    </tr></thead><tbody>\n",
       "                <tr>\n",
       "                        <th id=\"T_1026d24e_cbc6_11ec_ae89_000d3a8cf9bdlevel0_row0\" class=\"row_heading level0 row0\" >0</th>\n",
       "                        <td id=\"T_1026d24e_cbc6_11ec_ae89_000d3a8cf9bdrow0_col0\" class=\"data row0 col0\" >1.1e+04</td>\n",
       "                        <td id=\"T_1026d24e_cbc6_11ec_ae89_000d3a8cf9bdrow0_col1\" class=\"data row0 col1\" >1.1e+04</td>\n",
       "                        <td id=\"T_1026d24e_cbc6_11ec_ae89_000d3a8cf9bdrow0_col2\" class=\"data row0 col2\" >0.484</td>\n",
       "                        <td id=\"T_1026d24e_cbc6_11ec_ae89_000d3a8cf9bdrow0_col3\" class=\"data row0 col3\" >0.472</td>\n",
       "            </tr>\n",
       "            <tr>\n",
       "                        <th id=\"T_1026d24e_cbc6_11ec_ae89_000d3a8cf9bdlevel0_row1\" class=\"row_heading level0 row1\" >5</th>\n",
       "                        <td id=\"T_1026d24e_cbc6_11ec_ae89_000d3a8cf9bdrow1_col0\" class=\"data row1 col0\" >1.13e+04</td>\n",
       "                        <td id=\"T_1026d24e_cbc6_11ec_ae89_000d3a8cf9bdrow1_col1\" class=\"data row1 col1\" >1.13e+04</td>\n",
       "                        <td id=\"T_1026d24e_cbc6_11ec_ae89_000d3a8cf9bdrow1_col2\" class=\"data row1 col2\" >0.181</td>\n",
       "                        <td id=\"T_1026d24e_cbc6_11ec_ae89_000d3a8cf9bdrow1_col3\" class=\"data row1 col3\" >0.177</td>\n",
       "            </tr>\n",
       "            <tr>\n",
       "                        <th id=\"T_1026d24e_cbc6_11ec_ae89_000d3a8cf9bdlevel0_row2\" class=\"row_heading level0 row2\" >10</th>\n",
       "                        <td id=\"T_1026d24e_cbc6_11ec_ae89_000d3a8cf9bdrow2_col0\" class=\"data row2 col0\" >1.1e+04</td>\n",
       "                        <td id=\"T_1026d24e_cbc6_11ec_ae89_000d3a8cf9bdrow2_col1\" class=\"data row2 col1\" >1.1e+04</td>\n",
       "                        <td id=\"T_1026d24e_cbc6_11ec_ae89_000d3a8cf9bdrow2_col2\" class=\"data row2 col2\" >0.113</td>\n",
       "                        <td id=\"T_1026d24e_cbc6_11ec_ae89_000d3a8cf9bdrow2_col3\" class=\"data row2 col3\" >0.113</td>\n",
       "            </tr>\n",
       "            <tr>\n",
       "                        <th id=\"T_1026d24e_cbc6_11ec_ae89_000d3a8cf9bdlevel0_row3\" class=\"row_heading level0 row3\" >15</th>\n",
       "                        <td id=\"T_1026d24e_cbc6_11ec_ae89_000d3a8cf9bdrow3_col0\" class=\"data row3 col0\" >1.07e+04</td>\n",
       "                        <td id=\"T_1026d24e_cbc6_11ec_ae89_000d3a8cf9bdrow3_col1\" class=\"data row3 col1\" >1.06e+04</td>\n",
       "                        <td id=\"T_1026d24e_cbc6_11ec_ae89_000d3a8cf9bdrow3_col2\" class=\"data row3 col2\" >0.0858</td>\n",
       "                        <td id=\"T_1026d24e_cbc6_11ec_ae89_000d3a8cf9bdrow3_col3\" class=\"data row3 col3\" >0.0858</td>\n",
       "            </tr>\n",
       "    </tbody></table>"
      ],
      "text/plain": [
       "<pandas.io.formats.style.Styler at 0x7fc85022bfa0>"
      ]
     },
     "metadata": {},
     "output_type": "display_data"
    },
    {
     "name": "stdout",
     "output_type": "stream",
     "text": [
      "[\u001b[1mtardis.simulation.base\u001b[0m][\u001b[1;37mINFO\u001b[0m   ]  \n",
      "\t\n",
      "\tCurrent t_inner = 10655.125 K\n",
      "\tExpected t_inner for next iteration = 10655.561 K\n",
      " (\u001b[1mbase.py\u001b[0m:542)\n"
     ]
    },
    {
     "name": "stdout",
     "output_type": "stream",
     "text": [
      "[\u001b[1mtardis.simulation.base\u001b[0m][\u001b[1;37mINFO\u001b[0m   ]  \n",
      "\t\n",
      "\tStarting iteration 17 of 20 (\u001b[1mbase.py\u001b[0m:378)\n"
     ]
    },
    {
     "name": "stdout",
     "output_type": "stream",
     "text": [
      "[\u001b[1mtardis.simulation.base\u001b[0m][\u001b[1;37mINFO\u001b[0m   ]  \n",
      "\t\n",
      "\tLuminosity emitted   = 1.067e+43 erg / s\n",
      "\tLuminosity absorbed  = 3.372e+42 erg / s\n",
      "\tLuminosity requested = 1.059e+43 erg / s\n",
      " (\u001b[1mbase.py\u001b[0m:547)\n"
     ]
    },
    {
     "name": "stdout",
     "output_type": "stream",
     "text": [
      "[\u001b[1mtardis.simulation.base\u001b[0m][\u001b[1;37mINFO\u001b[0m   ]  \n",
      "\t\n",
      "\tPlasma stratification: (\u001b[1mbase.py\u001b[0m:515)\n"
     ]
    },
    {
     "data": {
      "text/html": [
       "<style  type=\"text/css\" >\n",
       "</style><table id=\"T_10abfe1a_cbc6_11ec_ae89_000d3a8cf9bd\" ><thead>    <tr>        <th class=\"index_name level0\" >Shell No.</th>        <th class=\"col_heading level0 col0\" >t_rad</th>        <th class=\"col_heading level0 col1\" >next_t_rad</th>        <th class=\"col_heading level0 col2\" >w</th>        <th class=\"col_heading level0 col3\" >next_w</th>    </tr></thead><tbody>\n",
       "                <tr>\n",
       "                        <th id=\"T_10abfe1a_cbc6_11ec_ae89_000d3a8cf9bdlevel0_row0\" class=\"row_heading level0 row0\" >0</th>\n",
       "                        <td id=\"T_10abfe1a_cbc6_11ec_ae89_000d3a8cf9bdrow0_col0\" class=\"data row0 col0\" >1.1e+04</td>\n",
       "                        <td id=\"T_10abfe1a_cbc6_11ec_ae89_000d3a8cf9bdrow0_col1\" class=\"data row0 col1\" >1.11e+04</td>\n",
       "                        <td id=\"T_10abfe1a_cbc6_11ec_ae89_000d3a8cf9bdrow0_col2\" class=\"data row0 col2\" >0.472</td>\n",
       "                        <td id=\"T_10abfe1a_cbc6_11ec_ae89_000d3a8cf9bdrow0_col3\" class=\"data row0 col3\" >0.468</td>\n",
       "            </tr>\n",
       "            <tr>\n",
       "                        <th id=\"T_10abfe1a_cbc6_11ec_ae89_000d3a8cf9bdlevel0_row1\" class=\"row_heading level0 row1\" >5</th>\n",
       "                        <td id=\"T_10abfe1a_cbc6_11ec_ae89_000d3a8cf9bdrow1_col0\" class=\"data row1 col0\" >1.13e+04</td>\n",
       "                        <td id=\"T_10abfe1a_cbc6_11ec_ae89_000d3a8cf9bdrow1_col1\" class=\"data row1 col1\" >1.14e+04</td>\n",
       "                        <td id=\"T_10abfe1a_cbc6_11ec_ae89_000d3a8cf9bdrow1_col2\" class=\"data row1 col2\" >0.177</td>\n",
       "                        <td id=\"T_10abfe1a_cbc6_11ec_ae89_000d3a8cf9bdrow1_col3\" class=\"data row1 col3\" >0.175</td>\n",
       "            </tr>\n",
       "            <tr>\n",
       "                        <th id=\"T_10abfe1a_cbc6_11ec_ae89_000d3a8cf9bdlevel0_row2\" class=\"row_heading level0 row2\" >10</th>\n",
       "                        <td id=\"T_10abfe1a_cbc6_11ec_ae89_000d3a8cf9bdrow2_col0\" class=\"data row2 col0\" >1.1e+04</td>\n",
       "                        <td id=\"T_10abfe1a_cbc6_11ec_ae89_000d3a8cf9bdrow2_col1\" class=\"data row2 col1\" >1.11e+04</td>\n",
       "                        <td id=\"T_10abfe1a_cbc6_11ec_ae89_000d3a8cf9bdrow2_col2\" class=\"data row2 col2\" >0.113</td>\n",
       "                        <td id=\"T_10abfe1a_cbc6_11ec_ae89_000d3a8cf9bdrow2_col3\" class=\"data row2 col3\" >0.11</td>\n",
       "            </tr>\n",
       "            <tr>\n",
       "                        <th id=\"T_10abfe1a_cbc6_11ec_ae89_000d3a8cf9bdlevel0_row3\" class=\"row_heading level0 row3\" >15</th>\n",
       "                        <td id=\"T_10abfe1a_cbc6_11ec_ae89_000d3a8cf9bdrow3_col0\" class=\"data row3 col0\" >1.06e+04</td>\n",
       "                        <td id=\"T_10abfe1a_cbc6_11ec_ae89_000d3a8cf9bdrow3_col1\" class=\"data row3 col1\" >1.08e+04</td>\n",
       "                        <td id=\"T_10abfe1a_cbc6_11ec_ae89_000d3a8cf9bdrow3_col2\" class=\"data row3 col2\" >0.0858</td>\n",
       "                        <td id=\"T_10abfe1a_cbc6_11ec_ae89_000d3a8cf9bdrow3_col3\" class=\"data row3 col3\" >0.0816</td>\n",
       "            </tr>\n",
       "    </tbody></table>"
      ],
      "text/plain": [
       "<pandas.io.formats.style.Styler at 0x7fc850277eb0>"
      ]
     },
     "metadata": {},
     "output_type": "display_data"
    },
    {
     "name": "stdout",
     "output_type": "stream",
     "text": [
      "[\u001b[1mtardis.simulation.base\u001b[0m][\u001b[1;37mINFO\u001b[0m   ]  \n",
      "\t\n",
      "\tCurrent t_inner = 10655.561 K\n",
      "\tExpected t_inner for next iteration = 10636.536 K\n",
      " (\u001b[1mbase.py\u001b[0m:542)\n"
     ]
    },
    {
     "name": "stdout",
     "output_type": "stream",
     "text": [
      "[\u001b[1mtardis.simulation.base\u001b[0m][\u001b[1;37mINFO\u001b[0m   ]  \n",
      "\t\n",
      "\tStarting iteration 18 of 20 (\u001b[1mbase.py\u001b[0m:378)\n"
     ]
    },
    {
     "name": "stdout",
     "output_type": "stream",
     "text": [
      "[\u001b[1mtardis.simulation.base\u001b[0m][\u001b[1;37mINFO\u001b[0m   ]  \n",
      "\t\n",
      "\tLuminosity emitted   = 1.057e+43 erg / s\n",
      "\tLuminosity absorbed  = 3.365e+42 erg / s\n",
      "\tLuminosity requested = 1.059e+43 erg / s\n",
      " (\u001b[1mbase.py\u001b[0m:547)\n"
     ]
    },
    {
     "name": "stdout",
     "output_type": "stream",
     "text": [
      "[\u001b[1mtardis.simulation.base\u001b[0m][\u001b[1;37mINFO\u001b[0m   ]  \n",
      "\tIteration converged 1/4 consecutive times. (\u001b[1mbase.py\u001b[0m:259)\n"
     ]
    },
    {
     "name": "stdout",
     "output_type": "stream",
     "text": [
      "[\u001b[1mtardis.simulation.base\u001b[0m][\u001b[1;37mINFO\u001b[0m   ]  \n",
      "\t\n",
      "\tPlasma stratification: (\u001b[1mbase.py\u001b[0m:515)\n"
     ]
    },
    {
     "data": {
      "text/html": [
       "<style  type=\"text/css\" >\n",
       "</style><table id=\"T_1134743e_cbc6_11ec_ae89_000d3a8cf9bd\" ><thead>    <tr>        <th class=\"index_name level0\" >Shell No.</th>        <th class=\"col_heading level0 col0\" >t_rad</th>        <th class=\"col_heading level0 col1\" >next_t_rad</th>        <th class=\"col_heading level0 col2\" >w</th>        <th class=\"col_heading level0 col3\" >next_w</th>    </tr></thead><tbody>\n",
       "                <tr>\n",
       "                        <th id=\"T_1134743e_cbc6_11ec_ae89_000d3a8cf9bdlevel0_row0\" class=\"row_heading level0 row0\" >0</th>\n",
       "                        <td id=\"T_1134743e_cbc6_11ec_ae89_000d3a8cf9bdrow0_col0\" class=\"data row0 col0\" >1.11e+04</td>\n",
       "                        <td id=\"T_1134743e_cbc6_11ec_ae89_000d3a8cf9bdrow0_col1\" class=\"data row0 col1\" >1.11e+04</td>\n",
       "                        <td id=\"T_1134743e_cbc6_11ec_ae89_000d3a8cf9bdrow0_col2\" class=\"data row0 col2\" >0.468</td>\n",
       "                        <td id=\"T_1134743e_cbc6_11ec_ae89_000d3a8cf9bdrow0_col3\" class=\"data row0 col3\" >0.464</td>\n",
       "            </tr>\n",
       "            <tr>\n",
       "                        <th id=\"T_1134743e_cbc6_11ec_ae89_000d3a8cf9bdlevel0_row1\" class=\"row_heading level0 row1\" >5</th>\n",
       "                        <td id=\"T_1134743e_cbc6_11ec_ae89_000d3a8cf9bdrow1_col0\" class=\"data row1 col0\" >1.14e+04</td>\n",
       "                        <td id=\"T_1134743e_cbc6_11ec_ae89_000d3a8cf9bdrow1_col1\" class=\"data row1 col1\" >1.13e+04</td>\n",
       "                        <td id=\"T_1134743e_cbc6_11ec_ae89_000d3a8cf9bdrow1_col2\" class=\"data row1 col2\" >0.175</td>\n",
       "                        <td id=\"T_1134743e_cbc6_11ec_ae89_000d3a8cf9bdrow1_col3\" class=\"data row1 col3\" >0.177</td>\n",
       "            </tr>\n",
       "            <tr>\n",
       "                        <th id=\"T_1134743e_cbc6_11ec_ae89_000d3a8cf9bdlevel0_row2\" class=\"row_heading level0 row2\" >10</th>\n",
       "                        <td id=\"T_1134743e_cbc6_11ec_ae89_000d3a8cf9bdrow2_col0\" class=\"data row2 col0\" >1.11e+04</td>\n",
       "                        <td id=\"T_1134743e_cbc6_11ec_ae89_000d3a8cf9bdrow2_col1\" class=\"data row2 col1\" >1.1e+04</td>\n",
       "                        <td id=\"T_1134743e_cbc6_11ec_ae89_000d3a8cf9bdrow2_col2\" class=\"data row2 col2\" >0.11</td>\n",
       "                        <td id=\"T_1134743e_cbc6_11ec_ae89_000d3a8cf9bdrow2_col3\" class=\"data row2 col3\" >0.113</td>\n",
       "            </tr>\n",
       "            <tr>\n",
       "                        <th id=\"T_1134743e_cbc6_11ec_ae89_000d3a8cf9bdlevel0_row3\" class=\"row_heading level0 row3\" >15</th>\n",
       "                        <td id=\"T_1134743e_cbc6_11ec_ae89_000d3a8cf9bdrow3_col0\" class=\"data row3 col0\" >1.08e+04</td>\n",
       "                        <td id=\"T_1134743e_cbc6_11ec_ae89_000d3a8cf9bdrow3_col1\" class=\"data row3 col1\" >1.07e+04</td>\n",
       "                        <td id=\"T_1134743e_cbc6_11ec_ae89_000d3a8cf9bdrow3_col2\" class=\"data row3 col2\" >0.0816</td>\n",
       "                        <td id=\"T_1134743e_cbc6_11ec_ae89_000d3a8cf9bdrow3_col3\" class=\"data row3 col3\" >0.0848</td>\n",
       "            </tr>\n",
       "    </tbody></table>"
      ],
      "text/plain": [
       "<pandas.io.formats.style.Styler at 0x7fc851f9b730>"
      ]
     },
     "metadata": {},
     "output_type": "display_data"
    },
    {
     "name": "stdout",
     "output_type": "stream",
     "text": [
      "[\u001b[1mtardis.simulation.base\u001b[0m][\u001b[1;37mINFO\u001b[0m   ]  \n",
      "\t\n",
      "\tCurrent t_inner = 10636.536 K\n",
      "\tExpected t_inner for next iteration = 10641.692 K\n",
      " (\u001b[1mbase.py\u001b[0m:542)\n"
     ]
    },
    {
     "name": "stdout",
     "output_type": "stream",
     "text": [
      "[\u001b[1mtardis.simulation.base\u001b[0m][\u001b[1;37mINFO\u001b[0m   ]  \n",
      "\t\n",
      "\tStarting iteration 19 of 20 (\u001b[1mbase.py\u001b[0m:378)\n"
     ]
    },
    {
     "name": "stdout",
     "output_type": "stream",
     "text": [
      "[\u001b[1mtardis.simulation.base\u001b[0m][\u001b[1;37mINFO\u001b[0m   ]  \n",
      "\t\n",
      "\tLuminosity emitted   = 1.056e+43 erg / s\n",
      "\tLuminosity absorbed  = 3.405e+42 erg / s\n",
      "\tLuminosity requested = 1.059e+43 erg / s\n",
      " (\u001b[1mbase.py\u001b[0m:547)\n"
     ]
    },
    {
     "name": "stdout",
     "output_type": "stream",
     "text": [
      "[\u001b[1mtardis.simulation.base\u001b[0m][\u001b[1;37mINFO\u001b[0m   ]  \n",
      "\tIteration converged 2/4 consecutive times. (\u001b[1mbase.py\u001b[0m:259)\n"
     ]
    },
    {
     "name": "stdout",
     "output_type": "stream",
     "text": [
      "[\u001b[1mtardis.simulation.base\u001b[0m][\u001b[1;37mINFO\u001b[0m   ]  \n",
      "\t\n",
      "\tPlasma stratification: (\u001b[1mbase.py\u001b[0m:515)\n"
     ]
    },
    {
     "data": {
      "text/html": [
       "<style  type=\"text/css\" >\n",
       "</style><table id=\"T_11bcddec_cbc6_11ec_ae89_000d3a8cf9bd\" ><thead>    <tr>        <th class=\"index_name level0\" >Shell No.</th>        <th class=\"col_heading level0 col0\" >t_rad</th>        <th class=\"col_heading level0 col1\" >next_t_rad</th>        <th class=\"col_heading level0 col2\" >w</th>        <th class=\"col_heading level0 col3\" >next_w</th>    </tr></thead><tbody>\n",
       "                <tr>\n",
       "                        <th id=\"T_11bcddec_cbc6_11ec_ae89_000d3a8cf9bdlevel0_row0\" class=\"row_heading level0 row0\" >0</th>\n",
       "                        <td id=\"T_11bcddec_cbc6_11ec_ae89_000d3a8cf9bdrow0_col0\" class=\"data row0 col0\" >1.11e+04</td>\n",
       "                        <td id=\"T_11bcddec_cbc6_11ec_ae89_000d3a8cf9bdrow0_col1\" class=\"data row0 col1\" >1.11e+04</td>\n",
       "                        <td id=\"T_11bcddec_cbc6_11ec_ae89_000d3a8cf9bdrow0_col2\" class=\"data row0 col2\" >0.464</td>\n",
       "                        <td id=\"T_11bcddec_cbc6_11ec_ae89_000d3a8cf9bdrow0_col3\" class=\"data row0 col3\" >0.466</td>\n",
       "            </tr>\n",
       "            <tr>\n",
       "                        <th id=\"T_11bcddec_cbc6_11ec_ae89_000d3a8cf9bdlevel0_row1\" class=\"row_heading level0 row1\" >5</th>\n",
       "                        <td id=\"T_11bcddec_cbc6_11ec_ae89_000d3a8cf9bdrow1_col0\" class=\"data row1 col0\" >1.13e+04</td>\n",
       "                        <td id=\"T_11bcddec_cbc6_11ec_ae89_000d3a8cf9bdrow1_col1\" class=\"data row1 col1\" >1.13e+04</td>\n",
       "                        <td id=\"T_11bcddec_cbc6_11ec_ae89_000d3a8cf9bdrow1_col2\" class=\"data row1 col2\" >0.177</td>\n",
       "                        <td id=\"T_11bcddec_cbc6_11ec_ae89_000d3a8cf9bdrow1_col3\" class=\"data row1 col3\" >0.177</td>\n",
       "            </tr>\n",
       "            <tr>\n",
       "                        <th id=\"T_11bcddec_cbc6_11ec_ae89_000d3a8cf9bdlevel0_row2\" class=\"row_heading level0 row2\" >10</th>\n",
       "                        <td id=\"T_11bcddec_cbc6_11ec_ae89_000d3a8cf9bdrow2_col0\" class=\"data row2 col0\" >1.1e+04</td>\n",
       "                        <td id=\"T_11bcddec_cbc6_11ec_ae89_000d3a8cf9bdrow2_col1\" class=\"data row2 col1\" >1.11e+04</td>\n",
       "                        <td id=\"T_11bcddec_cbc6_11ec_ae89_000d3a8cf9bdrow2_col2\" class=\"data row2 col2\" >0.113</td>\n",
       "                        <td id=\"T_11bcddec_cbc6_11ec_ae89_000d3a8cf9bdrow2_col3\" class=\"data row2 col3\" >0.111</td>\n",
       "            </tr>\n",
       "            <tr>\n",
       "                        <th id=\"T_11bcddec_cbc6_11ec_ae89_000d3a8cf9bdlevel0_row3\" class=\"row_heading level0 row3\" >15</th>\n",
       "                        <td id=\"T_11bcddec_cbc6_11ec_ae89_000d3a8cf9bdrow3_col0\" class=\"data row3 col0\" >1.07e+04</td>\n",
       "                        <td id=\"T_11bcddec_cbc6_11ec_ae89_000d3a8cf9bdrow3_col1\" class=\"data row3 col1\" >1.07e+04</td>\n",
       "                        <td id=\"T_11bcddec_cbc6_11ec_ae89_000d3a8cf9bdrow3_col2\" class=\"data row3 col2\" >0.0848</td>\n",
       "                        <td id=\"T_11bcddec_cbc6_11ec_ae89_000d3a8cf9bdrow3_col3\" class=\"data row3 col3\" >0.0853</td>\n",
       "            </tr>\n",
       "    </tbody></table>"
      ],
      "text/plain": [
       "<pandas.io.formats.style.Styler at 0x7fc850232730>"
      ]
     },
     "metadata": {},
     "output_type": "display_data"
    },
    {
     "name": "stdout",
     "output_type": "stream",
     "text": [
      "[\u001b[1mtardis.simulation.base\u001b[0m][\u001b[1;37mINFO\u001b[0m   ]  \n",
      "\t\n",
      "\tCurrent t_inner = 10641.692 K\n",
      "\tExpected t_inner for next iteration = 10650.463 K\n",
      " (\u001b[1mbase.py\u001b[0m:542)\n"
     ]
    },
    {
     "name": "stdout",
     "output_type": "stream",
     "text": [
      "[\u001b[1mtardis.simulation.base\u001b[0m][\u001b[1;37mINFO\u001b[0m   ]  \n",
      "\t\n",
      "\tStarting iteration 20 of 20 (\u001b[1mbase.py\u001b[0m:378)\n"
     ]
    },
    {
     "name": "stdout",
     "output_type": "stream",
     "text": [
      "[\u001b[1mtardis.simulation.base\u001b[0m][\u001b[1;37mINFO\u001b[0m   ]  \n",
      "\t\n",
      "\tLuminosity emitted   = 1.061e+43 erg / s\n",
      "\tLuminosity absorbed  = 3.401e+42 erg / s\n",
      "\tLuminosity requested = 1.059e+43 erg / s\n",
      " (\u001b[1mbase.py\u001b[0m:547)\n"
     ]
    },
    {
     "name": "stdout",
     "output_type": "stream",
     "text": [
      "[\u001b[1mtardis.simulation.base\u001b[0m][\u001b[1;37mINFO\u001b[0m   ]  \n",
      "\t\n",
      "\tSimulation finished in 20 iterations \n",
      "\tSimulation took 65.21 s\n",
      " (\u001b[1mbase.py\u001b[0m:468)\n"
     ]
    },
    {
     "name": "stdout",
     "output_type": "stream",
     "text": [
      " \n",
      "*** Profile stats marshalled to file '/tmp/tmpq1lmovic'.\n",
      "Embedding SnakeViz in this document...\n"
     ]
    },
    {
     "data": {
      "text/html": [
       "\n",
       "<iframe id='snakeviz-184808bc-cbc6-11ec-ae89-000d3a8cf9bd' frameborder=0 seamless width='100%' height='1000'></iframe>\n",
       "<script>document.getElementById(\"snakeviz-184808bc-cbc6-11ec-ae89-000d3a8cf9bd\").setAttribute(\"src\", \"http://\" + document.location.hostname + \":8080/snakeviz/%2Ftmp%2Ftmpq1lmovic\")</script>\n"
      ],
      "text/plain": [
       "<IPython.core.display.HTML object>"
      ]
     },
     "metadata": {},
     "output_type": "display_data"
    }
   ],
   "source": [
    "%%snakeviz\n",
    "\n",
    "run_tardis('tardis_example.yml')"
   ]
  },
  {
   "cell_type": "markdown",
   "id": "4b52662e",
   "metadata": {},
   "source": [
    "As SnakeViz uses a web browser to create the HTML to display, when this notebook is run the HTML isn’t viewable. In order to view this a picture of the HTML output is saved and displayed below.\n",
    "\n",
    "The SnakeViz visualization gives two things. At the top is a stack trace, where you can see which functions call others, and how long those functions take in respect to the caller function. At the bottom is all of the information that cProfile provides.\n",
    "\n",
    "The bottom left montecarlo_radial1d is montecarlo_main_loop. This function does a majority of the computation, yet there is nothing below it. This is because it, and all the functions that it calls, are Numba functions. montecarlo_main_loop is visible as montecarlo_radial1d calls it, but the functions that it calls are not visible as it is a Numba function.\n",
    "\n",
    "If the SnakeViz is run again without restarting the kernel, then the times will decrease and more time will be spent in montecarlo_main_loop relative to montecarlo_radial1d, as the Numba functions will have all compiled.\n",
    "\n",
    "If you run this notebook the HTML from cell 2 will be displayed at the bottom without issue; the lower cell is  just a solution to display the SnakeViz output without having access to the HTML."
   ]
  },
  {
   "cell_type": "markdown",
   "id": "65b28478",
   "metadata": {},
   "source": [
    "![](tardis_prof.png)"
   ]
  }
 ],
 "metadata": {
  "celltoolbar": "Raw Cell Format",
  "kernelspec": {
   "display_name": "Python 3",
   "language": "python",
   "name": "python3"
  },
  "language_info": {
   "codemirror_mode": {
    "name": "ipython",
    "version": 3
   },
   "file_extension": ".py",
   "mimetype": "text/x-python",
   "name": "python",
   "nbconvert_exporter": "python",
   "pygments_lexer": "ipython3",
   "version": "3.8.13"
  },
  "widgets": {
   "application/vnd.jupyter.widget-state+json": {
    "state": {
     "02d1f1f4443c4716b58c4310d7bfbb93": {
      "model_module": "@jupyter-widgets/controls",
      "model_module_version": "1.5.0",
      "model_name": "FloatProgressModel",
      "state": {
       "_dom_classes": [],
       "_model_module": "@jupyter-widgets/controls",
       "_model_module_version": "1.5.0",
       "_model_name": "FloatProgressModel",
       "_view_count": null,
       "_view_module": "@jupyter-widgets/controls",
       "_view_module_version": "1.5.0",
       "_view_name": "ProgressView",
       "bar_style": "",
       "description": "",
       "description_tooltip": null,
       "layout": "IPY_MODEL_2eed808850d342d188c498f01f57dae5",
       "max": 20.0,
       "min": 0.0,
       "orientation": "horizontal",
       "style": "IPY_MODEL_462e91f455754a50b6d18db2c2da60d1",
       "value": 20.0
      }
     },
     "072da38e93e54e75820cf05ed8390ece": {
      "model_module": "@jupyter-widgets/base",
      "model_module_version": "1.2.0",
      "model_name": "LayoutModel",
      "state": {
       "_model_module": "@jupyter-widgets/base",
       "_model_module_version": "1.2.0",
       "_model_name": "LayoutModel",
       "_view_count": null,
       "_view_module": "@jupyter-widgets/base",
       "_view_module_version": "1.2.0",
       "_view_name": "LayoutView",
       "align_content": null,
       "align_items": null,
       "align_self": null,
       "border": null,
       "bottom": null,
       "display": null,
       "flex": null,
       "flex_flow": null,
       "grid_area": null,
       "grid_auto_columns": null,
       "grid_auto_flow": null,
       "grid_auto_rows": null,
       "grid_column": null,
       "grid_gap": null,
       "grid_row": null,
       "grid_template_areas": null,
       "grid_template_columns": null,
       "grid_template_rows": null,
       "height": null,
       "justify_content": null,
       "justify_items": null,
       "left": null,
       "margin": null,
       "max_height": null,
       "max_width": null,
       "min_height": null,
       "min_width": null,
       "object_fit": null,
       "object_position": null,
       "order": null,
       "overflow": null,
       "overflow_x": null,
       "overflow_y": null,
       "padding": null,
       "right": null,
       "top": null,
       "visibility": null,
       "width": null
      }
     },
     "15f9c716fa784b22bd5e16ec666a33d8": {
      "model_module": "@jupyter-widgets/controls",
      "model_module_version": "1.5.0",
      "model_name": "DescriptionStyleModel",
      "state": {
       "_model_module": "@jupyter-widgets/controls",
       "_model_module_version": "1.5.0",
       "_model_name": "DescriptionStyleModel",
       "_view_count": null,
       "_view_module": "@jupyter-widgets/base",
       "_view_module_version": "1.2.0",
       "_view_name": "StyleView",
       "description_width": ""
      }
     },
     "1e77b3ffb206426886a07cfdfe3e52f1": {
      "model_module": "@jupyter-widgets/base",
      "model_module_version": "1.2.0",
      "model_name": "LayoutModel",
      "state": {
       "_model_module": "@jupyter-widgets/base",
       "_model_module_version": "1.2.0",
       "_model_name": "LayoutModel",
       "_view_count": null,
       "_view_module": "@jupyter-widgets/base",
       "_view_module_version": "1.2.0",
       "_view_name": "LayoutView",
       "align_content": null,
       "align_items": null,
       "align_self": null,
       "border": null,
       "bottom": null,
       "display": null,
       "flex": null,
       "flex_flow": null,
       "grid_area": null,
       "grid_auto_columns": null,
       "grid_auto_flow": null,
       "grid_auto_rows": null,
       "grid_column": null,
       "grid_gap": null,
       "grid_row": null,
       "grid_template_areas": null,
       "grid_template_columns": null,
       "grid_template_rows": null,
       "height": null,
       "justify_content": null,
       "justify_items": null,
       "left": null,
       "margin": null,
       "max_height": null,
       "max_width": null,
       "min_height": null,
       "min_width": null,
       "object_fit": null,
       "object_position": null,
       "order": null,
       "overflow": null,
       "overflow_x": null,
       "overflow_y": null,
       "padding": null,
       "right": null,
       "top": null,
       "visibility": null,
       "width": null
      }
     },
     "1ecd04fba82743a7b643132e21bcb2fd": {
      "model_module": "@jupyter-widgets/base",
      "model_module_version": "1.2.0",
      "model_name": "LayoutModel",
      "state": {
       "_model_module": "@jupyter-widgets/base",
       "_model_module_version": "1.2.0",
       "_model_name": "LayoutModel",
       "_view_count": null,
       "_view_module": "@jupyter-widgets/base",
       "_view_module_version": "1.2.0",
       "_view_name": "LayoutView",
       "align_content": null,
       "align_items": null,
       "align_self": null,
       "border": null,
       "bottom": null,
       "display": null,
       "flex": null,
       "flex_flow": null,
       "grid_area": null,
       "grid_auto_columns": null,
       "grid_auto_flow": null,
       "grid_auto_rows": null,
       "grid_column": null,
       "grid_gap": null,
       "grid_row": null,
       "grid_template_areas": null,
       "grid_template_columns": null,
       "grid_template_rows": null,
       "height": null,
       "justify_content": null,
       "justify_items": null,
       "left": null,
       "margin": null,
       "max_height": null,
       "max_width": null,
       "min_height": null,
       "min_width": null,
       "object_fit": null,
       "object_position": null,
       "order": null,
       "overflow": null,
       "overflow_x": null,
       "overflow_y": null,
       "padding": null,
       "right": null,
       "top": null,
       "visibility": null,
       "width": null
      }
     },
     "25a4f18b258f4539b169a6508686b4fd": {
      "model_module": "@jupyter-widgets/controls",
      "model_module_version": "1.5.0",
      "model_name": "DescriptionStyleModel",
      "state": {
       "_model_module": "@jupyter-widgets/controls",
       "_model_module_version": "1.5.0",
       "_model_name": "DescriptionStyleModel",
       "_view_count": null,
       "_view_module": "@jupyter-widgets/base",
       "_view_module_version": "1.2.0",
       "_view_name": "StyleView",
       "description_width": ""
      }
     },
     "28cd102f1d104d7aa78944694e379c7b": {
      "model_module": "@jupyter-widgets/controls",
      "model_module_version": "1.5.0",
      "model_name": "FloatProgressModel",
      "state": {
       "_dom_classes": [],
       "_model_module": "@jupyter-widgets/controls",
       "_model_module_version": "1.5.0",
       "_model_name": "FloatProgressModel",
       "_view_count": null,
       "_view_module": "@jupyter-widgets/controls",
       "_view_module_version": "1.5.0",
       "_view_name": "ProgressView",
       "bar_style": "info",
       "description": "",
       "description_tooltip": null,
       "layout": "IPY_MODEL_87844810929846f08306252a3aa71606",
       "max": 1.0,
       "min": 0.0,
       "orientation": "horizontal",
       "style": "IPY_MODEL_c4c6bbd1be0549489a3a4c24cf05e7c1",
       "value": 0.0
      }
     },
     "2a3a7035ffe04eb3bacbbb603cfe1179": {
      "model_module": "@jupyter-widgets/base",
      "model_module_version": "1.2.0",
      "model_name": "LayoutModel",
      "state": {
       "_model_module": "@jupyter-widgets/base",
       "_model_module_version": "1.2.0",
       "_model_name": "LayoutModel",
       "_view_count": null,
       "_view_module": "@jupyter-widgets/base",
       "_view_module_version": "1.2.0",
       "_view_name": "LayoutView",
       "align_content": null,
       "align_items": null,
       "align_self": null,
       "border": null,
       "bottom": null,
       "display": null,
       "flex": null,
       "flex_flow": null,
       "grid_area": null,
       "grid_auto_columns": null,
       "grid_auto_flow": null,
       "grid_auto_rows": null,
       "grid_column": null,
       "grid_gap": null,
       "grid_row": null,
       "grid_template_areas": null,
       "grid_template_columns": null,
       "grid_template_rows": null,
       "height": null,
       "justify_content": null,
       "justify_items": null,
       "left": null,
       "margin": null,
       "max_height": null,
       "max_width": null,
       "min_height": null,
       "min_width": null,
       "object_fit": null,
       "object_position": null,
       "order": null,
       "overflow": null,
       "overflow_x": null,
       "overflow_y": null,
       "padding": null,
       "right": null,
       "top": null,
       "visibility": null,
       "width": "6%"
      }
     },
     "2ab3e4ec2ce244e38aa8983191898389": {
      "model_module": "@jupyter-widgets/controls",
      "model_module_version": "1.5.0",
      "model_name": "DescriptionStyleModel",
      "state": {
       "_model_module": "@jupyter-widgets/controls",
       "_model_module_version": "1.5.0",
       "_model_name": "DescriptionStyleModel",
       "_view_count": null,
       "_view_module": "@jupyter-widgets/base",
       "_view_module_version": "1.2.0",
       "_view_name": "StyleView",
       "description_width": ""
      }
     },
     "2de9d5c1b9bb474f9a6a3e51b2a15b03": {
      "model_module": "@jupyter-widgets/base",
      "model_module_version": "1.2.0",
      "model_name": "LayoutModel",
      "state": {
       "_model_module": "@jupyter-widgets/base",
       "_model_module_version": "1.2.0",
       "_model_name": "LayoutModel",
       "_view_count": null,
       "_view_module": "@jupyter-widgets/base",
       "_view_module_version": "1.2.0",
       "_view_name": "LayoutView",
       "align_content": null,
       "align_items": null,
       "align_self": null,
       "border": null,
       "bottom": null,
       "display": null,
       "flex": null,
       "flex_flow": null,
       "grid_area": null,
       "grid_auto_columns": null,
       "grid_auto_flow": null,
       "grid_auto_rows": null,
       "grid_column": null,
       "grid_gap": null,
       "grid_row": null,
       "grid_template_areas": null,
       "grid_template_columns": null,
       "grid_template_rows": null,
       "height": null,
       "justify_content": null,
       "justify_items": null,
       "left": null,
       "margin": null,
       "max_height": null,
       "max_width": null,
       "min_height": null,
       "min_width": null,
       "object_fit": null,
       "object_position": null,
       "order": null,
       "overflow": null,
       "overflow_x": null,
       "overflow_y": null,
       "padding": null,
       "right": null,
       "top": null,
       "visibility": null,
       "width": null
      }
     },
     "2eed808850d342d188c498f01f57dae5": {
      "model_module": "@jupyter-widgets/base",
      "model_module_version": "1.2.0",
      "model_name": "LayoutModel",
      "state": {
       "_model_module": "@jupyter-widgets/base",
       "_model_module_version": "1.2.0",
       "_model_name": "LayoutModel",
       "_view_count": null,
       "_view_module": "@jupyter-widgets/base",
       "_view_module_version": "1.2.0",
       "_view_name": "LayoutView",
       "align_content": null,
       "align_items": null,
       "align_self": null,
       "border": null,
       "bottom": null,
       "display": null,
       "flex": null,
       "flex_flow": null,
       "grid_area": null,
       "grid_auto_columns": null,
       "grid_auto_flow": null,
       "grid_auto_rows": null,
       "grid_column": null,
       "grid_gap": null,
       "grid_row": null,
       "grid_template_areas": null,
       "grid_template_columns": null,
       "grid_template_rows": null,
       "height": null,
       "justify_content": null,
       "justify_items": null,
       "left": null,
       "margin": null,
       "max_height": null,
       "max_width": null,
       "min_height": null,
       "min_width": null,
       "object_fit": null,
       "object_position": null,
       "order": null,
       "overflow": null,
       "overflow_x": null,
       "overflow_y": null,
       "padding": null,
       "right": null,
       "top": null,
       "visibility": null,
       "width": "60%"
      }
     },
     "32ac3d029045435094be270b1fc7a673": {
      "model_module": "@jupyter-widgets/base",
      "model_module_version": "1.2.0",
      "model_name": "LayoutModel",
      "state": {
       "_model_module": "@jupyter-widgets/base",
       "_model_module_version": "1.2.0",
       "_model_name": "LayoutModel",
       "_view_count": null,
       "_view_module": "@jupyter-widgets/base",
       "_view_module_version": "1.2.0",
       "_view_name": "LayoutView",
       "align_content": null,
       "align_items": null,
       "align_self": null,
       "border": null,
       "bottom": null,
       "display": null,
       "flex": null,
       "flex_flow": null,
       "grid_area": null,
       "grid_auto_columns": null,
       "grid_auto_flow": null,
       "grid_auto_rows": null,
       "grid_column": null,
       "grid_gap": null,
       "grid_row": null,
       "grid_template_areas": null,
       "grid_template_columns": null,
       "grid_template_rows": null,
       "height": null,
       "justify_content": null,
       "justify_items": null,
       "left": null,
       "margin": null,
       "max_height": null,
       "max_width": null,
       "min_height": null,
       "min_width": null,
       "object_fit": null,
       "object_position": null,
       "order": null,
       "overflow": null,
       "overflow_x": null,
       "overflow_y": null,
       "padding": null,
       "right": null,
       "top": null,
       "visibility": null,
       "width": null
      }
     },
     "3fc66b5c70dd4528b94fa3d22c958e14": {
      "model_module": "@jupyter-widgets/controls",
      "model_module_version": "1.5.0",
      "model_name": "HTMLModel",
      "state": {
       "_dom_classes": [],
       "_model_module": "@jupyter-widgets/controls",
       "_model_module_version": "1.5.0",
       "_model_name": "HTMLModel",
       "_view_count": null,
       "_view_module": "@jupyter-widgets/controls",
       "_view_module_version": "1.5.0",
       "_view_name": "HTMLView",
       "description": "",
       "description_tooltip": null,
       "layout": "IPY_MODEL_e988e8f24eea4b178b69e1e61107871e",
       "placeholder": "​",
       "style": "IPY_MODEL_2ab3e4ec2ce244e38aa8983191898389",
       "value": "99107/100000 [00:08&lt;00:00, 11330.04it/s]"
      }
     },
     "462e91f455754a50b6d18db2c2da60d1": {
      "model_module": "@jupyter-widgets/controls",
      "model_module_version": "1.5.0",
      "model_name": "ProgressStyleModel",
      "state": {
       "_model_module": "@jupyter-widgets/controls",
       "_model_module_version": "1.5.0",
       "_model_name": "ProgressStyleModel",
       "_view_count": null,
       "_view_module": "@jupyter-widgets/base",
       "_view_module_version": "1.2.0",
       "_view_name": "StyleView",
       "bar_color": null,
       "description_width": ""
      }
     },
     "4b181a24190a4067bcd33efb4e8630f9": {
      "model_module": "@jupyter-widgets/controls",
      "model_module_version": "1.5.0",
      "model_name": "HBoxModel",
      "state": {
       "_dom_classes": [],
       "_model_module": "@jupyter-widgets/controls",
       "_model_module_version": "1.5.0",
       "_model_name": "HBoxModel",
       "_view_count": null,
       "_view_module": "@jupyter-widgets/controls",
       "_view_module_version": "1.5.0",
       "_view_name": "HBoxView",
       "box_style": "",
       "children": [
        "IPY_MODEL_7c162698e86b41c9b49c177488764dc7",
        "IPY_MODEL_603d78421a91431c8e6cafc2ca32b1f3",
        "IPY_MODEL_71e5d12d3e5b4b4db1851dac4e23b36b"
       ],
       "layout": "IPY_MODEL_73405bfadbb644b9be4c616e462f96af"
      }
     },
     "5b7062e4857f469480e4d68bf67bad66": {
      "model_module": "@jupyter-widgets/controls",
      "model_module_version": "1.5.0",
      "model_name": "HTMLModel",
      "state": {
       "_dom_classes": [],
       "_model_module": "@jupyter-widgets/controls",
       "_model_module_version": "1.5.0",
       "_model_name": "HTMLModel",
       "_view_count": null,
       "_view_module": "@jupyter-widgets/controls",
       "_view_module_version": "1.5.0",
       "_view_name": "HTMLView",
       "description": "",
       "description_tooltip": null,
       "layout": "IPY_MODEL_072da38e93e54e75820cf05ed8390ece",
       "placeholder": "​",
       "style": "IPY_MODEL_d98df5b1ed1d4274b0a36fe04da9643a",
       "value": "20/20 [00:27&lt;00:00,  3.49s/it]"
      }
     },
     "5dc065ed34d8423c9db900dda46255d1": {
      "model_module": "@jupyter-widgets/base",
      "model_module_version": "1.2.0",
      "model_name": "LayoutModel",
      "state": {
       "_model_module": "@jupyter-widgets/base",
       "_model_module_version": "1.2.0",
       "_model_name": "LayoutModel",
       "_view_count": null,
       "_view_module": "@jupyter-widgets/base",
       "_view_module_version": "1.2.0",
       "_view_name": "LayoutView",
       "align_content": null,
       "align_items": null,
       "align_self": null,
       "border": null,
       "bottom": null,
       "display": null,
       "flex": null,
       "flex_flow": null,
       "grid_area": null,
       "grid_auto_columns": null,
       "grid_auto_flow": null,
       "grid_auto_rows": null,
       "grid_column": null,
       "grid_gap": null,
       "grid_row": null,
       "grid_template_areas": null,
       "grid_template_columns": null,
       "grid_template_rows": null,
       "height": null,
       "justify_content": null,
       "justify_items": null,
       "left": null,
       "margin": null,
       "max_height": null,
       "max_width": null,
       "min_height": null,
       "min_width": null,
       "object_fit": null,
       "object_position": null,
       "order": null,
       "overflow": null,
       "overflow_x": null,
       "overflow_y": null,
       "padding": null,
       "right": null,
       "top": null,
       "visibility": null,
       "width": "6%"
      }
     },
     "60171b5ee6c94b1abdef1b9344292746": {
      "model_module": "@jupyter-widgets/controls",
      "model_module_version": "1.5.0",
      "model_name": "HBoxModel",
      "state": {
       "_dom_classes": [],
       "_model_module": "@jupyter-widgets/controls",
       "_model_module_version": "1.5.0",
       "_model_name": "HBoxModel",
       "_view_count": null,
       "_view_module": "@jupyter-widgets/controls",
       "_view_module_version": "1.5.0",
       "_view_name": "HBoxView",
       "box_style": "",
       "children": [
        "IPY_MODEL_a78f6317d8f54a2b81987cf375a1520d",
        "IPY_MODEL_ca7fffee623141f7ae94bbba4f2ef503",
        "IPY_MODEL_3fc66b5c70dd4528b94fa3d22c958e14"
       ],
       "layout": "IPY_MODEL_a3ca8d5fb089430caea4b37d159a0acb"
      }
     },
     "603d78421a91431c8e6cafc2ca32b1f3": {
      "model_module": "@jupyter-widgets/controls",
      "model_module_version": "1.5.0",
      "model_name": "FloatProgressModel",
      "state": {
       "_dom_classes": [],
       "_model_module": "@jupyter-widgets/controls",
       "_model_module_version": "1.5.0",
       "_model_name": "FloatProgressModel",
       "_view_count": null,
       "_view_module": "@jupyter-widgets/controls",
       "_view_module_version": "1.5.0",
       "_view_name": "ProgressView",
       "bar_style": "info",
       "description": "",
       "description_tooltip": null,
       "layout": "IPY_MODEL_620aff7560384d2d9a9182fff2ea1c5b",
       "max": 1.0,
       "min": 0.0,
       "orientation": "horizontal",
       "style": "IPY_MODEL_b9e21d43ae5c4e00ba8d0e0919b71312",
       "value": 0.0
      }
     },
     "620aff7560384d2d9a9182fff2ea1c5b": {
      "model_module": "@jupyter-widgets/base",
      "model_module_version": "1.2.0",
      "model_name": "LayoutModel",
      "state": {
       "_model_module": "@jupyter-widgets/base",
       "_model_module_version": "1.2.0",
       "_model_name": "LayoutModel",
       "_view_count": null,
       "_view_module": "@jupyter-widgets/base",
       "_view_module_version": "1.2.0",
       "_view_name": "LayoutView",
       "align_content": null,
       "align_items": null,
       "align_self": null,
       "border": null,
       "bottom": null,
       "display": null,
       "flex": null,
       "flex_flow": null,
       "grid_area": null,
       "grid_auto_columns": null,
       "grid_auto_flow": null,
       "grid_auto_rows": null,
       "grid_column": null,
       "grid_gap": null,
       "grid_row": null,
       "grid_template_areas": null,
       "grid_template_columns": null,
       "grid_template_rows": null,
       "height": null,
       "justify_content": null,
       "justify_items": null,
       "left": null,
       "margin": null,
       "max_height": null,
       "max_width": null,
       "min_height": null,
       "min_width": null,
       "object_fit": null,
       "object_position": null,
       "order": null,
       "overflow": null,
       "overflow_x": null,
       "overflow_y": null,
       "padding": null,
       "right": null,
       "top": null,
       "visibility": null,
       "width": "20px"
      }
     },
     "67e40ff8ec1c42de9e98ecaa679cb154": {
      "model_module": "@jupyter-widgets/base",
      "model_module_version": "1.2.0",
      "model_name": "LayoutModel",
      "state": {
       "_model_module": "@jupyter-widgets/base",
       "_model_module_version": "1.2.0",
       "_model_name": "LayoutModel",
       "_view_count": null,
       "_view_module": "@jupyter-widgets/base",
       "_view_module_version": "1.2.0",
       "_view_name": "LayoutView",
       "align_content": null,
       "align_items": null,
       "align_self": null,
       "border": null,
       "bottom": null,
       "display": null,
       "flex": null,
       "flex_flow": null,
       "grid_area": null,
       "grid_auto_columns": null,
       "grid_auto_flow": null,
       "grid_auto_rows": null,
       "grid_column": null,
       "grid_gap": null,
       "grid_row": null,
       "grid_template_areas": null,
       "grid_template_columns": null,
       "grid_template_rows": null,
       "height": null,
       "justify_content": null,
       "justify_items": null,
       "left": null,
       "margin": null,
       "max_height": null,
       "max_width": null,
       "min_height": null,
       "min_width": null,
       "object_fit": null,
       "object_position": null,
       "order": null,
       "overflow": null,
       "overflow_x": null,
       "overflow_y": null,
       "padding": null,
       "right": null,
       "top": null,
       "visibility": null,
       "width": null
      }
     },
     "6e78436d2aaf4d3f9f19f3dfc443a702": {
      "model_module": "@jupyter-widgets/output",
      "model_module_version": "1.0.0",
      "model_name": "OutputModel",
      "state": {
       "_dom_classes": [],
       "_model_module": "@jupyter-widgets/output",
       "_model_module_version": "1.0.0",
       "_model_name": "OutputModel",
       "_view_count": null,
       "_view_module": "@jupyter-widgets/output",
       "_view_module_version": "1.0.0",
       "_view_name": "OutputView",
       "layout": "IPY_MODEL_acd437279b114c968f6fc73b3a257778",
       "msg_id": "",
       "outputs": []
      }
     },
     "71e5d12d3e5b4b4db1851dac4e23b36b": {
      "model_module": "@jupyter-widgets/controls",
      "model_module_version": "1.5.0",
      "model_name": "HTMLModel",
      "state": {
       "_dom_classes": [],
       "_model_module": "@jupyter-widgets/controls",
       "_model_module_version": "1.5.0",
       "_model_name": "HTMLModel",
       "_view_count": null,
       "_view_module": "@jupyter-widgets/controls",
       "_view_module_version": "1.5.0",
       "_view_name": "HTMLView",
       "description": "",
       "description_tooltip": null,
       "layout": "IPY_MODEL_2de9d5c1b9bb474f9a6a3e51b2a15b03",
       "placeholder": "​",
       "style": "IPY_MODEL_8ca77264b4b14b509676da192f88baa2",
       "value": "0/? [00:00&lt;?, ?it/s]"
      }
     },
     "73405bfadbb644b9be4c616e462f96af": {
      "model_module": "@jupyter-widgets/base",
      "model_module_version": "1.2.0",
      "model_name": "LayoutModel",
      "state": {
       "_model_module": "@jupyter-widgets/base",
       "_model_module_version": "1.2.0",
       "_model_name": "LayoutModel",
       "_view_count": null,
       "_view_module": "@jupyter-widgets/base",
       "_view_module_version": "1.2.0",
       "_view_name": "LayoutView",
       "align_content": null,
       "align_items": null,
       "align_self": null,
       "border": null,
       "bottom": null,
       "display": null,
       "flex": null,
       "flex_flow": null,
       "grid_area": null,
       "grid_auto_columns": null,
       "grid_auto_flow": null,
       "grid_auto_rows": null,
       "grid_column": null,
       "grid_gap": null,
       "grid_row": null,
       "grid_template_areas": null,
       "grid_template_columns": null,
       "grid_template_rows": null,
       "height": null,
       "justify_content": null,
       "justify_items": null,
       "left": null,
       "margin": null,
       "max_height": null,
       "max_width": null,
       "min_height": null,
       "min_width": null,
       "object_fit": null,
       "object_position": null,
       "order": null,
       "overflow": null,
       "overflow_x": null,
       "overflow_y": null,
       "padding": null,
       "right": null,
       "top": null,
       "visibility": null,
       "width": null
      }
     },
     "767b2acc0cf548af87e106b49ead2339": {
      "model_module": "@jupyter-widgets/controls",
      "model_module_version": "1.5.0",
      "model_name": "HBoxModel",
      "state": {
       "_dom_classes": [],
       "_model_module": "@jupyter-widgets/controls",
       "_model_module_version": "1.5.0",
       "_model_name": "HBoxModel",
       "_view_count": null,
       "_view_module": "@jupyter-widgets/controls",
       "_view_module_version": "1.5.0",
       "_view_name": "HBoxView",
       "box_style": "",
       "children": [
        "IPY_MODEL_80fa2ab9116444a48268a68d0a442fd6",
        "IPY_MODEL_02d1f1f4443c4716b58c4310d7bfbb93",
        "IPY_MODEL_5b7062e4857f469480e4d68bf67bad66"
       ],
       "layout": "IPY_MODEL_32ac3d029045435094be270b1fc7a673"
      }
     },
     "7c162698e86b41c9b49c177488764dc7": {
      "model_module": "@jupyter-widgets/controls",
      "model_module_version": "1.5.0",
      "model_name": "HTMLModel",
      "state": {
       "_dom_classes": [],
       "_model_module": "@jupyter-widgets/controls",
       "_model_module_version": "1.5.0",
       "_model_name": "HTMLModel",
       "_view_count": null,
       "_view_module": "@jupyter-widgets/controls",
       "_view_module_version": "1.5.0",
       "_view_name": "HTMLView",
       "description": "",
       "description_tooltip": null,
       "layout": "IPY_MODEL_1e77b3ffb206426886a07cfdfe3e52f1",
       "placeholder": "​",
       "style": "IPY_MODEL_15f9c716fa784b22bd5e16ec666a33d8",
       "value": "Iterations:"
      }
     },
     "80fa2ab9116444a48268a68d0a442fd6": {
      "model_module": "@jupyter-widgets/controls",
      "model_module_version": "1.5.0",
      "model_name": "HTMLModel",
      "state": {
       "_dom_classes": [],
       "_model_module": "@jupyter-widgets/controls",
       "_model_module_version": "1.5.0",
       "_model_name": "HTMLModel",
       "_view_count": null,
       "_view_module": "@jupyter-widgets/controls",
       "_view_module_version": "1.5.0",
       "_view_name": "HTMLView",
       "description": "",
       "description_tooltip": null,
       "layout": "IPY_MODEL_2a3a7035ffe04eb3bacbbb603cfe1179",
       "placeholder": "​",
       "style": "IPY_MODEL_e17d90f81b964d96890a603390d27359",
       "value": "Iterations:"
      }
     },
     "87844810929846f08306252a3aa71606": {
      "model_module": "@jupyter-widgets/base",
      "model_module_version": "1.2.0",
      "model_name": "LayoutModel",
      "state": {
       "_model_module": "@jupyter-widgets/base",
       "_model_module_version": "1.2.0",
       "_model_name": "LayoutModel",
       "_view_count": null,
       "_view_module": "@jupyter-widgets/base",
       "_view_module_version": "1.2.0",
       "_view_name": "LayoutView",
       "align_content": null,
       "align_items": null,
       "align_self": null,
       "border": null,
       "bottom": null,
       "display": null,
       "flex": null,
       "flex_flow": null,
       "grid_area": null,
       "grid_auto_columns": null,
       "grid_auto_flow": null,
       "grid_auto_rows": null,
       "grid_column": null,
       "grid_gap": null,
       "grid_row": null,
       "grid_template_areas": null,
       "grid_template_columns": null,
       "grid_template_rows": null,
       "height": null,
       "justify_content": null,
       "justify_items": null,
       "left": null,
       "margin": null,
       "max_height": null,
       "max_width": null,
       "min_height": null,
       "min_width": null,
       "object_fit": null,
       "object_position": null,
       "order": null,
       "overflow": null,
       "overflow_x": null,
       "overflow_y": null,
       "padding": null,
       "right": null,
       "top": null,
       "visibility": null,
       "width": "20px"
      }
     },
     "8890bd8ac6de44d38aba21e82b61ac5e": {
      "model_module": "@jupyter-widgets/controls",
      "model_module_version": "1.5.0",
      "model_name": "DescriptionStyleModel",
      "state": {
       "_model_module": "@jupyter-widgets/controls",
       "_model_module_version": "1.5.0",
       "_model_name": "DescriptionStyleModel",
       "_view_count": null,
       "_view_module": "@jupyter-widgets/base",
       "_view_module_version": "1.2.0",
       "_view_name": "StyleView",
       "description_width": ""
      }
     },
     "8ca77264b4b14b509676da192f88baa2": {
      "model_module": "@jupyter-widgets/controls",
      "model_module_version": "1.5.0",
      "model_name": "DescriptionStyleModel",
      "state": {
       "_model_module": "@jupyter-widgets/controls",
       "_model_module_version": "1.5.0",
       "_model_name": "DescriptionStyleModel",
       "_view_count": null,
       "_view_module": "@jupyter-widgets/base",
       "_view_module_version": "1.2.0",
       "_view_name": "StyleView",
       "description_width": ""
      }
     },
     "95cf5d872cf8450f982014f826bca3ac": {
      "model_module": "@jupyter-widgets/base",
      "model_module_version": "1.2.0",
      "model_name": "LayoutModel",
      "state": {
       "_model_module": "@jupyter-widgets/base",
       "_model_module_version": "1.2.0",
       "_model_name": "LayoutModel",
       "_view_count": null,
       "_view_module": "@jupyter-widgets/base",
       "_view_module_version": "1.2.0",
       "_view_name": "LayoutView",
       "align_content": null,
       "align_items": null,
       "align_self": null,
       "border": null,
       "bottom": null,
       "display": null,
       "flex": null,
       "flex_flow": null,
       "grid_area": null,
       "grid_auto_columns": null,
       "grid_auto_flow": null,
       "grid_auto_rows": null,
       "grid_column": null,
       "grid_gap": null,
       "grid_row": null,
       "grid_template_areas": null,
       "grid_template_columns": null,
       "grid_template_rows": null,
       "height": null,
       "justify_content": null,
       "justify_items": null,
       "left": null,
       "margin": null,
       "max_height": null,
       "max_width": null,
       "min_height": null,
       "min_width": null,
       "object_fit": null,
       "object_position": null,
       "order": null,
       "overflow": null,
       "overflow_x": null,
       "overflow_y": null,
       "padding": null,
       "right": null,
       "top": null,
       "visibility": null,
       "width": "60%"
      }
     },
     "9bd8e09512884f70894805aa5a108fca": {
      "model_module": "@jupyter-widgets/controls",
      "model_module_version": "1.5.0",
      "model_name": "HBoxModel",
      "state": {
       "_dom_classes": [],
       "_model_module": "@jupyter-widgets/controls",
       "_model_module_version": "1.5.0",
       "_model_name": "HBoxModel",
       "_view_count": null,
       "_view_module": "@jupyter-widgets/controls",
       "_view_module_version": "1.5.0",
       "_view_name": "HBoxView",
       "box_style": "",
       "children": [
        "IPY_MODEL_fd575e64881d447b9dfa989097680f0c",
        "IPY_MODEL_28cd102f1d104d7aa78944694e379c7b",
        "IPY_MODEL_9e3e4b00108149fa96d1782c395f8cf1"
       ],
       "layout": "IPY_MODEL_1ecd04fba82743a7b643132e21bcb2fd"
      }
     },
     "9e3e4b00108149fa96d1782c395f8cf1": {
      "model_module": "@jupyter-widgets/controls",
      "model_module_version": "1.5.0",
      "model_name": "HTMLModel",
      "state": {
       "_dom_classes": [],
       "_model_module": "@jupyter-widgets/controls",
       "_model_module_version": "1.5.0",
       "_model_name": "HTMLModel",
       "_view_count": null,
       "_view_module": "@jupyter-widgets/controls",
       "_view_module_version": "1.5.0",
       "_view_name": "HTMLView",
       "description": "",
       "description_tooltip": null,
       "layout": "IPY_MODEL_c5f8d67599e045d2ba819cc4d1936224",
       "placeholder": "​",
       "style": "IPY_MODEL_a3bc7a60fb52499aa55ba8b4b5cbaa7e",
       "value": "0/? [00:00&lt;?, ?it/s]"
      }
     },
     "9e9ee53e13234c6f9f8b0521054c5477": {
      "model_module": "@jupyter-widgets/output",
      "model_module_version": "1.0.0",
      "model_name": "OutputModel",
      "state": {
       "_dom_classes": [],
       "_model_module": "@jupyter-widgets/output",
       "_model_module_version": "1.0.0",
       "_model_name": "OutputModel",
       "_view_count": null,
       "_view_module": "@jupyter-widgets/output",
       "_view_module_version": "1.0.0",
       "_view_name": "OutputView",
       "layout": "IPY_MODEL_badb2d84f12e4e658e88bc5cbf56d57b",
       "msg_id": "",
       "outputs": []
      }
     },
     "a3bc7a60fb52499aa55ba8b4b5cbaa7e": {
      "model_module": "@jupyter-widgets/controls",
      "model_module_version": "1.5.0",
      "model_name": "DescriptionStyleModel",
      "state": {
       "_model_module": "@jupyter-widgets/controls",
       "_model_module_version": "1.5.0",
       "_model_name": "DescriptionStyleModel",
       "_view_count": null,
       "_view_module": "@jupyter-widgets/base",
       "_view_module_version": "1.2.0",
       "_view_name": "StyleView",
       "description_width": ""
      }
     },
     "a3ca8d5fb089430caea4b37d159a0acb": {
      "model_module": "@jupyter-widgets/base",
      "model_module_version": "1.2.0",
      "model_name": "LayoutModel",
      "state": {
       "_model_module": "@jupyter-widgets/base",
       "_model_module_version": "1.2.0",
       "_model_name": "LayoutModel",
       "_view_count": null,
       "_view_module": "@jupyter-widgets/base",
       "_view_module_version": "1.2.0",
       "_view_name": "LayoutView",
       "align_content": null,
       "align_items": null,
       "align_self": null,
       "border": null,
       "bottom": null,
       "display": null,
       "flex": null,
       "flex_flow": null,
       "grid_area": null,
       "grid_auto_columns": null,
       "grid_auto_flow": null,
       "grid_auto_rows": null,
       "grid_column": null,
       "grid_gap": null,
       "grid_row": null,
       "grid_template_areas": null,
       "grid_template_columns": null,
       "grid_template_rows": null,
       "height": null,
       "justify_content": null,
       "justify_items": null,
       "left": null,
       "margin": null,
       "max_height": null,
       "max_width": null,
       "min_height": null,
       "min_width": null,
       "object_fit": null,
       "object_position": null,
       "order": null,
       "overflow": null,
       "overflow_x": null,
       "overflow_y": null,
       "padding": null,
       "right": null,
       "top": null,
       "visibility": null,
       "width": null
      }
     },
     "a78f6317d8f54a2b81987cf375a1520d": {
      "model_module": "@jupyter-widgets/controls",
      "model_module_version": "1.5.0",
      "model_name": "HTMLModel",
      "state": {
       "_dom_classes": [],
       "_model_module": "@jupyter-widgets/controls",
       "_model_module_version": "1.5.0",
       "_model_name": "HTMLModel",
       "_view_count": null,
       "_view_module": "@jupyter-widgets/controls",
       "_view_module_version": "1.5.0",
       "_view_name": "HTMLView",
       "description": "",
       "description_tooltip": null,
       "layout": "IPY_MODEL_5dc065ed34d8423c9db900dda46255d1",
       "placeholder": "​",
       "style": "IPY_MODEL_25a4f18b258f4539b169a6508686b4fd",
       "value": "Packets:   "
      }
     },
     "acd437279b114c968f6fc73b3a257778": {
      "model_module": "@jupyter-widgets/base",
      "model_module_version": "1.2.0",
      "model_name": "LayoutModel",
      "state": {
       "_model_module": "@jupyter-widgets/base",
       "_model_module_version": "1.2.0",
       "_model_name": "LayoutModel",
       "_view_count": null,
       "_view_module": "@jupyter-widgets/base",
       "_view_module_version": "1.2.0",
       "_view_name": "LayoutView",
       "align_content": null,
       "align_items": null,
       "align_self": null,
       "border": null,
       "bottom": null,
       "display": null,
       "flex": null,
       "flex_flow": null,
       "grid_area": null,
       "grid_auto_columns": null,
       "grid_auto_flow": null,
       "grid_auto_rows": null,
       "grid_column": null,
       "grid_gap": null,
       "grid_row": null,
       "grid_template_areas": null,
       "grid_template_columns": null,
       "grid_template_rows": null,
       "height": null,
       "justify_content": null,
       "justify_items": null,
       "left": null,
       "margin": null,
       "max_height": null,
       "max_width": null,
       "min_height": null,
       "min_width": null,
       "object_fit": null,
       "object_position": null,
       "order": null,
       "overflow": null,
       "overflow_x": null,
       "overflow_y": null,
       "padding": null,
       "right": null,
       "top": null,
       "visibility": null,
       "width": null
      }
     },
     "b9e21d43ae5c4e00ba8d0e0919b71312": {
      "model_module": "@jupyter-widgets/controls",
      "model_module_version": "1.5.0",
      "model_name": "ProgressStyleModel",
      "state": {
       "_model_module": "@jupyter-widgets/controls",
       "_model_module_version": "1.5.0",
       "_model_name": "ProgressStyleModel",
       "_view_count": null,
       "_view_module": "@jupyter-widgets/base",
       "_view_module_version": "1.2.0",
       "_view_name": "StyleView",
       "bar_color": null,
       "description_width": ""
      }
     },
     "badb2d84f12e4e658e88bc5cbf56d57b": {
      "model_module": "@jupyter-widgets/base",
      "model_module_version": "1.2.0",
      "model_name": "LayoutModel",
      "state": {
       "_model_module": "@jupyter-widgets/base",
       "_model_module_version": "1.2.0",
       "_model_name": "LayoutModel",
       "_view_count": null,
       "_view_module": "@jupyter-widgets/base",
       "_view_module_version": "1.2.0",
       "_view_name": "LayoutView",
       "align_content": null,
       "align_items": null,
       "align_self": null,
       "border": null,
       "bottom": null,
       "display": null,
       "flex": null,
       "flex_flow": null,
       "grid_area": null,
       "grid_auto_columns": null,
       "grid_auto_flow": null,
       "grid_auto_rows": null,
       "grid_column": null,
       "grid_gap": null,
       "grid_row": null,
       "grid_template_areas": null,
       "grid_template_columns": null,
       "grid_template_rows": null,
       "height": null,
       "justify_content": null,
       "justify_items": null,
       "left": null,
       "margin": null,
       "max_height": null,
       "max_width": null,
       "min_height": null,
       "min_width": null,
       "object_fit": null,
       "object_position": null,
       "order": null,
       "overflow": null,
       "overflow_x": null,
       "overflow_y": null,
       "padding": null,
       "right": null,
       "top": null,
       "visibility": null,
       "width": null
      }
     },
     "c4c6bbd1be0549489a3a4c24cf05e7c1": {
      "model_module": "@jupyter-widgets/controls",
      "model_module_version": "1.5.0",
      "model_name": "ProgressStyleModel",
      "state": {
       "_model_module": "@jupyter-widgets/controls",
       "_model_module_version": "1.5.0",
       "_model_name": "ProgressStyleModel",
       "_view_count": null,
       "_view_module": "@jupyter-widgets/base",
       "_view_module_version": "1.2.0",
       "_view_name": "StyleView",
       "bar_color": null,
       "description_width": ""
      }
     },
     "c5f8d67599e045d2ba819cc4d1936224": {
      "model_module": "@jupyter-widgets/base",
      "model_module_version": "1.2.0",
      "model_name": "LayoutModel",
      "state": {
       "_model_module": "@jupyter-widgets/base",
       "_model_module_version": "1.2.0",
       "_model_name": "LayoutModel",
       "_view_count": null,
       "_view_module": "@jupyter-widgets/base",
       "_view_module_version": "1.2.0",
       "_view_name": "LayoutView",
       "align_content": null,
       "align_items": null,
       "align_self": null,
       "border": null,
       "bottom": null,
       "display": null,
       "flex": null,
       "flex_flow": null,
       "grid_area": null,
       "grid_auto_columns": null,
       "grid_auto_flow": null,
       "grid_auto_rows": null,
       "grid_column": null,
       "grid_gap": null,
       "grid_row": null,
       "grid_template_areas": null,
       "grid_template_columns": null,
       "grid_template_rows": null,
       "height": null,
       "justify_content": null,
       "justify_items": null,
       "left": null,
       "margin": null,
       "max_height": null,
       "max_width": null,
       "min_height": null,
       "min_width": null,
       "object_fit": null,
       "object_position": null,
       "order": null,
       "overflow": null,
       "overflow_x": null,
       "overflow_y": null,
       "padding": null,
       "right": null,
       "top": null,
       "visibility": null,
       "width": null
      }
     },
     "ca7fffee623141f7ae94bbba4f2ef503": {
      "model_module": "@jupyter-widgets/controls",
      "model_module_version": "1.5.0",
      "model_name": "FloatProgressModel",
      "state": {
       "_dom_classes": [],
       "_model_module": "@jupyter-widgets/controls",
       "_model_module_version": "1.5.0",
       "_model_name": "FloatProgressModel",
       "_view_count": null,
       "_view_module": "@jupyter-widgets/controls",
       "_view_module_version": "1.5.0",
       "_view_name": "ProgressView",
       "bar_style": "",
       "description": "",
       "description_tooltip": null,
       "layout": "IPY_MODEL_95cf5d872cf8450f982014f826bca3ac",
       "max": 100000.0,
       "min": 0.0,
       "orientation": "horizontal",
       "style": "IPY_MODEL_d77e543e7b6446a1891b1a940aec1ca9",
       "value": 99107.0
      }
     },
     "d77e543e7b6446a1891b1a940aec1ca9": {
      "model_module": "@jupyter-widgets/controls",
      "model_module_version": "1.5.0",
      "model_name": "ProgressStyleModel",
      "state": {
       "_model_module": "@jupyter-widgets/controls",
       "_model_module_version": "1.5.0",
       "_model_name": "ProgressStyleModel",
       "_view_count": null,
       "_view_module": "@jupyter-widgets/base",
       "_view_module_version": "1.2.0",
       "_view_name": "StyleView",
       "bar_color": null,
       "description_width": ""
      }
     },
     "d98df5b1ed1d4274b0a36fe04da9643a": {
      "model_module": "@jupyter-widgets/controls",
      "model_module_version": "1.5.0",
      "model_name": "DescriptionStyleModel",
      "state": {
       "_model_module": "@jupyter-widgets/controls",
       "_model_module_version": "1.5.0",
       "_model_name": "DescriptionStyleModel",
       "_view_count": null,
       "_view_module": "@jupyter-widgets/base",
       "_view_module_version": "1.2.0",
       "_view_name": "StyleView",
       "description_width": ""
      }
     },
     "e17d90f81b964d96890a603390d27359": {
      "model_module": "@jupyter-widgets/controls",
      "model_module_version": "1.5.0",
      "model_name": "DescriptionStyleModel",
      "state": {
       "_model_module": "@jupyter-widgets/controls",
       "_model_module_version": "1.5.0",
       "_model_name": "DescriptionStyleModel",
       "_view_count": null,
       "_view_module": "@jupyter-widgets/base",
       "_view_module_version": "1.2.0",
       "_view_name": "StyleView",
       "description_width": ""
      }
     },
     "e988e8f24eea4b178b69e1e61107871e": {
      "model_module": "@jupyter-widgets/base",
      "model_module_version": "1.2.0",
      "model_name": "LayoutModel",
      "state": {
       "_model_module": "@jupyter-widgets/base",
       "_model_module_version": "1.2.0",
       "_model_name": "LayoutModel",
       "_view_count": null,
       "_view_module": "@jupyter-widgets/base",
       "_view_module_version": "1.2.0",
       "_view_name": "LayoutView",
       "align_content": null,
       "align_items": null,
       "align_self": null,
       "border": null,
       "bottom": null,
       "display": null,
       "flex": null,
       "flex_flow": null,
       "grid_area": null,
       "grid_auto_columns": null,
       "grid_auto_flow": null,
       "grid_auto_rows": null,
       "grid_column": null,
       "grid_gap": null,
       "grid_row": null,
       "grid_template_areas": null,
       "grid_template_columns": null,
       "grid_template_rows": null,
       "height": null,
       "justify_content": null,
       "justify_items": null,
       "left": null,
       "margin": null,
       "max_height": null,
       "max_width": null,
       "min_height": null,
       "min_width": null,
       "object_fit": null,
       "object_position": null,
       "order": null,
       "overflow": null,
       "overflow_x": null,
       "overflow_y": null,
       "padding": null,
       "right": null,
       "top": null,
       "visibility": null,
       "width": null
      }
     },
     "fd575e64881d447b9dfa989097680f0c": {
      "model_module": "@jupyter-widgets/controls",
      "model_module_version": "1.5.0",
      "model_name": "HTMLModel",
      "state": {
       "_dom_classes": [],
       "_model_module": "@jupyter-widgets/controls",
       "_model_module_version": "1.5.0",
       "_model_name": "HTMLModel",
       "_view_count": null,
       "_view_module": "@jupyter-widgets/controls",
       "_view_module_version": "1.5.0",
       "_view_name": "HTMLView",
       "description": "",
       "description_tooltip": null,
       "layout": "IPY_MODEL_67e40ff8ec1c42de9e98ecaa679cb154",
       "placeholder": "​",
       "style": "IPY_MODEL_8890bd8ac6de44d38aba21e82b61ac5e",
       "value": "Packets:   "
      }
     }
    },
    "version_major": 2,
    "version_minor": 0
   }
  }
 },
 "nbformat": 4,
 "nbformat_minor": 5
}
