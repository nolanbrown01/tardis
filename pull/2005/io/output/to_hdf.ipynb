{
 "cells": [
  {
   "cell_type": "markdown",
   "metadata": {
    "raw_mimetype": "text/restructuredtext"
   },
   "source": [
    "# Storing Simulations to HDF\n",
    "\n",
    "You can ask TARDIS to store the state of each iteration of the simulation you are running. We show examples of how this is done:"
   ]
  },
  {
   "cell_type": "markdown",
   "metadata": {},
   "source": [
    "Initialize the simulation with the `tardis_example.yml` configuration file."
   ]
  },
  {
   "cell_type": "code",
   "execution_count": 1,
   "metadata": {
    "execution": {
     "iopub.execute_input": "2022-05-04T16:26:41.605373Z",
     "iopub.status.busy": "2022-05-04T16:26:41.605023Z",
     "iopub.status.idle": "2022-05-04T16:27:37.480408Z",
     "shell.execute_reply": "2022-05-04T16:27:37.479602Z"
    }
   },
   "outputs": [
    {
     "name": "stderr",
     "output_type": "stream",
     "text": [
      "/usr/share/miniconda3/envs/tardis/lib/python3.8/site-packages/setuptools_scm/git.py:105: UserWarning: \"/home/runner/work/tardis/tardis\" is shallow and may cause errors\n",
      "  warnings.warn(f'\"{wd.path}\" is shallow and may cause errors')\n"
     ]
    },
    {
     "data": {
      "application/vnd.jupyter.widget-view+json": {
       "model_id": "ece005dc66fc4a4e986273c91cd4a285",
       "version_major": 2,
       "version_minor": 0
      },
      "text/plain": [
       "Iterations:          0/? [00:00<?, ?it/s]"
      ]
     },
     "metadata": {},
     "output_type": "display_data"
    },
    {
     "data": {
      "application/vnd.jupyter.widget-view+json": {
       "model_id": "36880cae190b4d4883993775ce8b515f",
       "version_major": 2,
       "version_minor": 0
      },
      "text/plain": [
       "Packets:             0/? [00:00<?, ?it/s]"
      ]
     },
     "metadata": {},
     "output_type": "display_data"
    },
    {
     "name": "stdout",
     "output_type": "stream",
     "text": [
      "[\u001b[1mtardis.plasma.standard_plasmas\u001b[0m][\u001b[1;37mINFO\u001b[0m   ]  \n",
      "\t\n",
      "\tReading Atomic Data from kurucz_cd23_chianti_H_He.h5 (\u001b[1mstandard_plasmas.py\u001b[0m:93)\n"
     ]
    },
    {
     "name": "stdout",
     "output_type": "stream",
     "text": [
      "[\u001b[1mtardis.io.atom_data.util\u001b[0m][\u001b[1;37mINFO\u001b[0m   ]  \n",
      "\t\n",
      "\tAtom Data kurucz_cd23_chianti_H_He.h5 not found in local path.\n",
      "\tExists in TARDIS Data repo /home/runner/Downloads/tardis-data/kurucz_cd23_chianti_H_He.h5 (\u001b[1mutil.py\u001b[0m:33)\n"
     ]
    },
    {
     "name": "stdout",
     "output_type": "stream",
     "text": [
      "[\u001b[1mtardis.io.atom_data.base\u001b[0m][\u001b[1;37mINFO\u001b[0m   ]  \n",
      "\tReading Atom Data with: UUID = 6f7b09e887a311e7a06b246e96350010 MD5  = 864f1753714343c41f99cb065710cace  (\u001b[1mbase.py\u001b[0m:203)\n"
     ]
    },
    {
     "name": "stdout",
     "output_type": "stream",
     "text": [
      "[\u001b[1mtardis.io.atom_data.base\u001b[0m][\u001b[1;37mINFO\u001b[0m   ]  \n",
      "\tNon provided Atomic Data: synpp_refs, photoionization_data, yg_data, two_photon_data (\u001b[1mbase.py\u001b[0m:207)\n"
     ]
    },
    {
     "name": "stdout",
     "output_type": "stream",
     "text": [
      "[\u001b[1mpy.warnings         \u001b[0m][\u001b[1;33mWARNING\u001b[0m]  \n",
      "\t/home/runner/work/tardis/tardis/tardis/plasma/properties/radiative_properties.py:93: RuntimeWarning: invalid value encountered in true_divide\n",
      "  (g_lower * n_upper) / (g_upper * n_lower)\n",
      " (\u001b[1mwarnings.py\u001b[0m:109)\n"
     ]
    },
    {
     "name": "stdout",
     "output_type": "stream",
     "text": [
      "[\u001b[1mpy.warnings         \u001b[0m][\u001b[1;33mWARNING\u001b[0m]  \n",
      "\t/home/runner/work/tardis/tardis/tardis/plasma/properties/radiative_properties.py:93: RuntimeWarning: invalid value encountered in true_divide\n",
      "  (g_lower * n_upper) / (g_upper * n_lower)\n",
      " (\u001b[1mwarnings.py\u001b[0m:109)\n"
     ]
    },
    {
     "name": "stdout",
     "output_type": "stream",
     "text": [
      "[\u001b[1mtardis.simulation.base\u001b[0m][\u001b[1;37mINFO\u001b[0m   ]  \n",
      "\t\n",
      "\tStarting iteration 1 of 20 (\u001b[1mbase.py\u001b[0m:378)\n"
     ]
    },
    {
     "data": {
      "application/vnd.jupyter.widget-view+json": {
       "model_id": "a7ccc2bcd26148929e21dbbb13e90b1c",
       "version_major": 2,
       "version_minor": 0
      },
      "text/plain": [
       "TqdmHBox(children=(HTML(value='Iterations:', layout=Layout(width='6%')), FloatProgress(value=0.0, layout=Layou…"
      ]
     },
     "metadata": {},
     "output_type": "display_data"
    },
    {
     "data": {
      "application/vnd.jupyter.widget-view+json": {
       "model_id": "aa86420c7bfc49b2a5243344004fb46c",
       "version_major": 2,
       "version_minor": 0
      },
      "text/plain": [
       "TqdmHBox(children=(HTML(value='Packets:   ', layout=Layout(width='6%')), FloatProgress(value=0.0, layout=Layou…"
      ]
     },
     "metadata": {},
     "output_type": "display_data"
    },
    {
     "name": "stdout",
     "output_type": "stream",
     "text": [
      "[\u001b[1mtardis.simulation.base\u001b[0m][\u001b[1;37mINFO\u001b[0m   ]  \n",
      "\t\n",
      "\tLuminosity emitted   = 7.942e+42 erg / s\n",
      "\tLuminosity absorbed  = 2.659e+42 erg / s\n",
      "\tLuminosity requested = 1.059e+43 erg / s\n",
      " (\u001b[1mbase.py\u001b[0m:547)\n"
     ]
    },
    {
     "name": "stdout",
     "output_type": "stream",
     "text": [
      "[\u001b[1mtardis.simulation.base\u001b[0m][\u001b[1;37mINFO\u001b[0m   ]  \n",
      "\t\n",
      "\tPlasma stratification: (\u001b[1mbase.py\u001b[0m:515)\n"
     ]
    },
    {
     "data": {
      "text/html": [
       "<style  type=\"text/css\" >\n",
       "</style><table id=\"T_0e5a9940_cbc7_11ec_bd62_000d3a8cf9bd\" ><thead>    <tr>        <th class=\"index_name level0\" >Shell No.</th>        <th class=\"col_heading level0 col0\" >t_rad</th>        <th class=\"col_heading level0 col1\" >next_t_rad</th>        <th class=\"col_heading level0 col2\" >w</th>        <th class=\"col_heading level0 col3\" >next_w</th>    </tr></thead><tbody>\n",
       "                <tr>\n",
       "                        <th id=\"T_0e5a9940_cbc7_11ec_bd62_000d3a8cf9bdlevel0_row0\" class=\"row_heading level0 row0\" >0</th>\n",
       "                        <td id=\"T_0e5a9940_cbc7_11ec_bd62_000d3a8cf9bdrow0_col0\" class=\"data row0 col0\" >9.93e+03</td>\n",
       "                        <td id=\"T_0e5a9940_cbc7_11ec_bd62_000d3a8cf9bdrow0_col1\" class=\"data row0 col1\" >1.01e+04</td>\n",
       "                        <td id=\"T_0e5a9940_cbc7_11ec_bd62_000d3a8cf9bdrow0_col2\" class=\"data row0 col2\" >0.4</td>\n",
       "                        <td id=\"T_0e5a9940_cbc7_11ec_bd62_000d3a8cf9bdrow0_col3\" class=\"data row0 col3\" >0.507</td>\n",
       "            </tr>\n",
       "            <tr>\n",
       "                        <th id=\"T_0e5a9940_cbc7_11ec_bd62_000d3a8cf9bdlevel0_row1\" class=\"row_heading level0 row1\" >5</th>\n",
       "                        <td id=\"T_0e5a9940_cbc7_11ec_bd62_000d3a8cf9bdrow1_col0\" class=\"data row1 col0\" >9.85e+03</td>\n",
       "                        <td id=\"T_0e5a9940_cbc7_11ec_bd62_000d3a8cf9bdrow1_col1\" class=\"data row1 col1\" >1.02e+04</td>\n",
       "                        <td id=\"T_0e5a9940_cbc7_11ec_bd62_000d3a8cf9bdrow1_col2\" class=\"data row1 col2\" >0.211</td>\n",
       "                        <td id=\"T_0e5a9940_cbc7_11ec_bd62_000d3a8cf9bdrow1_col3\" class=\"data row1 col3\" >0.197</td>\n",
       "            </tr>\n",
       "            <tr>\n",
       "                        <th id=\"T_0e5a9940_cbc7_11ec_bd62_000d3a8cf9bdlevel0_row2\" class=\"row_heading level0 row2\" >10</th>\n",
       "                        <td id=\"T_0e5a9940_cbc7_11ec_bd62_000d3a8cf9bdrow2_col0\" class=\"data row2 col0\" >9.78e+03</td>\n",
       "                        <td id=\"T_0e5a9940_cbc7_11ec_bd62_000d3a8cf9bdrow2_col1\" class=\"data row2 col1\" >1.01e+04</td>\n",
       "                        <td id=\"T_0e5a9940_cbc7_11ec_bd62_000d3a8cf9bdrow2_col2\" class=\"data row2 col2\" >0.143</td>\n",
       "                        <td id=\"T_0e5a9940_cbc7_11ec_bd62_000d3a8cf9bdrow2_col3\" class=\"data row2 col3\" >0.117</td>\n",
       "            </tr>\n",
       "            <tr>\n",
       "                        <th id=\"T_0e5a9940_cbc7_11ec_bd62_000d3a8cf9bdlevel0_row3\" class=\"row_heading level0 row3\" >15</th>\n",
       "                        <td id=\"T_0e5a9940_cbc7_11ec_bd62_000d3a8cf9bdrow3_col0\" class=\"data row3 col0\" >9.71e+03</td>\n",
       "                        <td id=\"T_0e5a9940_cbc7_11ec_bd62_000d3a8cf9bdrow3_col1\" class=\"data row3 col1\" >9.87e+03</td>\n",
       "                        <td id=\"T_0e5a9940_cbc7_11ec_bd62_000d3a8cf9bdrow3_col2\" class=\"data row3 col2\" >0.105</td>\n",
       "                        <td id=\"T_0e5a9940_cbc7_11ec_bd62_000d3a8cf9bdrow3_col3\" class=\"data row3 col3\" >0.0869</td>\n",
       "            </tr>\n",
       "    </tbody></table>"
      ],
      "text/plain": [
       "<pandas.io.formats.style.Styler at 0x7fa2ce5fe4f0>"
      ]
     },
     "metadata": {},
     "output_type": "display_data"
    },
    {
     "name": "stdout",
     "output_type": "stream",
     "text": [
      "[\u001b[1mtardis.simulation.base\u001b[0m][\u001b[1;37mINFO\u001b[0m   ]  \n",
      "\t\n",
      "\tCurrent t_inner = 9933.952 K\n",
      "\tExpected t_inner for next iteration = 10703.212 K\n",
      " (\u001b[1mbase.py\u001b[0m:542)\n"
     ]
    },
    {
     "name": "stdout",
     "output_type": "stream",
     "text": [
      "[\u001b[1mpy.warnings         \u001b[0m][\u001b[1;33mWARNING\u001b[0m]  \n",
      "\t/home/runner/work/tardis/tardis/tardis/plasma/properties/radiative_properties.py:93: RuntimeWarning: invalid value encountered in true_divide\n",
      "  (g_lower * n_upper) / (g_upper * n_lower)\n",
      " (\u001b[1mwarnings.py\u001b[0m:109)\n"
     ]
    },
    {
     "name": "stdout",
     "output_type": "stream",
     "text": [
      "[\u001b[1mtardis.simulation.base\u001b[0m][\u001b[1;37mINFO\u001b[0m   ]  \n",
      "\t\n",
      "\tStarting iteration 2 of 20 (\u001b[1mbase.py\u001b[0m:378)\n"
     ]
    },
    {
     "name": "stdout",
     "output_type": "stream",
     "text": [
      "[\u001b[1mtardis.simulation.base\u001b[0m][\u001b[1;37mINFO\u001b[0m   ]  \n",
      "\t\n",
      "\tLuminosity emitted   = 1.071e+43 erg / s\n",
      "\tLuminosity absorbed  = 3.576e+42 erg / s\n",
      "\tLuminosity requested = 1.059e+43 erg / s\n",
      " (\u001b[1mbase.py\u001b[0m:547)\n"
     ]
    },
    {
     "name": "stdout",
     "output_type": "stream",
     "text": [
      "[\u001b[1mtardis.simulation.base\u001b[0m][\u001b[1;37mINFO\u001b[0m   ]  \n",
      "\t\n",
      "\tPlasma stratification: (\u001b[1mbase.py\u001b[0m:515)\n"
     ]
    },
    {
     "data": {
      "text/html": [
       "<style  type=\"text/css\" >\n",
       "</style><table id=\"T_0ed8f970_cbc7_11ec_bd62_000d3a8cf9bd\" ><thead>    <tr>        <th class=\"index_name level0\" >Shell No.</th>        <th class=\"col_heading level0 col0\" >t_rad</th>        <th class=\"col_heading level0 col1\" >next_t_rad</th>        <th class=\"col_heading level0 col2\" >w</th>        <th class=\"col_heading level0 col3\" >next_w</th>    </tr></thead><tbody>\n",
       "                <tr>\n",
       "                        <th id=\"T_0ed8f970_cbc7_11ec_bd62_000d3a8cf9bdlevel0_row0\" class=\"row_heading level0 row0\" >0</th>\n",
       "                        <td id=\"T_0ed8f970_cbc7_11ec_bd62_000d3a8cf9bdrow0_col0\" class=\"data row0 col0\" >1.01e+04</td>\n",
       "                        <td id=\"T_0ed8f970_cbc7_11ec_bd62_000d3a8cf9bdrow0_col1\" class=\"data row0 col1\" >1.08e+04</td>\n",
       "                        <td id=\"T_0ed8f970_cbc7_11ec_bd62_000d3a8cf9bdrow0_col2\" class=\"data row0 col2\" >0.507</td>\n",
       "                        <td id=\"T_0ed8f970_cbc7_11ec_bd62_000d3a8cf9bdrow0_col3\" class=\"data row0 col3\" >0.525</td>\n",
       "            </tr>\n",
       "            <tr>\n",
       "                        <th id=\"T_0ed8f970_cbc7_11ec_bd62_000d3a8cf9bdlevel0_row1\" class=\"row_heading level0 row1\" >5</th>\n",
       "                        <td id=\"T_0ed8f970_cbc7_11ec_bd62_000d3a8cf9bdrow1_col0\" class=\"data row1 col0\" >1.02e+04</td>\n",
       "                        <td id=\"T_0ed8f970_cbc7_11ec_bd62_000d3a8cf9bdrow1_col1\" class=\"data row1 col1\" >1.1e+04</td>\n",
       "                        <td id=\"T_0ed8f970_cbc7_11ec_bd62_000d3a8cf9bdrow1_col2\" class=\"data row1 col2\" >0.197</td>\n",
       "                        <td id=\"T_0ed8f970_cbc7_11ec_bd62_000d3a8cf9bdrow1_col3\" class=\"data row1 col3\" >0.203</td>\n",
       "            </tr>\n",
       "            <tr>\n",
       "                        <th id=\"T_0ed8f970_cbc7_11ec_bd62_000d3a8cf9bdlevel0_row2\" class=\"row_heading level0 row2\" >10</th>\n",
       "                        <td id=\"T_0ed8f970_cbc7_11ec_bd62_000d3a8cf9bdrow2_col0\" class=\"data row2 col0\" >1.01e+04</td>\n",
       "                        <td id=\"T_0ed8f970_cbc7_11ec_bd62_000d3a8cf9bdrow2_col1\" class=\"data row2 col1\" >1.08e+04</td>\n",
       "                        <td id=\"T_0ed8f970_cbc7_11ec_bd62_000d3a8cf9bdrow2_col2\" class=\"data row2 col2\" >0.117</td>\n",
       "                        <td id=\"T_0ed8f970_cbc7_11ec_bd62_000d3a8cf9bdrow2_col3\" class=\"data row2 col3\" >0.125</td>\n",
       "            </tr>\n",
       "            <tr>\n",
       "                        <th id=\"T_0ed8f970_cbc7_11ec_bd62_000d3a8cf9bdlevel0_row3\" class=\"row_heading level0 row3\" >15</th>\n",
       "                        <td id=\"T_0ed8f970_cbc7_11ec_bd62_000d3a8cf9bdrow3_col0\" class=\"data row3 col0\" >9.87e+03</td>\n",
       "                        <td id=\"T_0ed8f970_cbc7_11ec_bd62_000d3a8cf9bdrow3_col1\" class=\"data row3 col1\" >1.05e+04</td>\n",
       "                        <td id=\"T_0ed8f970_cbc7_11ec_bd62_000d3a8cf9bdrow3_col2\" class=\"data row3 col2\" >0.0869</td>\n",
       "                        <td id=\"T_0ed8f970_cbc7_11ec_bd62_000d3a8cf9bdrow3_col3\" class=\"data row3 col3\" >0.0933</td>\n",
       "            </tr>\n",
       "    </tbody></table>"
      ],
      "text/plain": [
       "<pandas.io.formats.style.Styler at 0x7fa2d9d2b6d0>"
      ]
     },
     "metadata": {},
     "output_type": "display_data"
    },
    {
     "name": "stdout",
     "output_type": "stream",
     "text": [
      "[\u001b[1mtardis.simulation.base\u001b[0m][\u001b[1;37mINFO\u001b[0m   ]  \n",
      "\t\n",
      "\tCurrent t_inner = 10703.212 K\n",
      "\tExpected t_inner for next iteration = 10673.712 K\n",
      " (\u001b[1mbase.py\u001b[0m:542)\n"
     ]
    },
    {
     "name": "stdout",
     "output_type": "stream",
     "text": [
      "[\u001b[1mtardis.simulation.base\u001b[0m][\u001b[1;37mINFO\u001b[0m   ]  \n",
      "\t\n",
      "\tStarting iteration 3 of 20 (\u001b[1mbase.py\u001b[0m:378)\n"
     ]
    },
    {
     "name": "stdout",
     "output_type": "stream",
     "text": [
      "[\u001b[1mtardis.simulation.base\u001b[0m][\u001b[1;37mINFO\u001b[0m   ]  \n",
      "\t\n",
      "\tLuminosity emitted   = 1.074e+43 erg / s\n",
      "\tLuminosity absorbed  = 3.391e+42 erg / s\n",
      "\tLuminosity requested = 1.059e+43 erg / s\n",
      " (\u001b[1mbase.py\u001b[0m:547)\n"
     ]
    },
    {
     "name": "stdout",
     "output_type": "stream",
     "text": [
      "[\u001b[1mtardis.simulation.base\u001b[0m][\u001b[1;37mINFO\u001b[0m   ]  \n",
      "\t\n",
      "\tPlasma stratification: (\u001b[1mbase.py\u001b[0m:515)\n"
     ]
    },
    {
     "data": {
      "text/html": [
       "<style  type=\"text/css\" >\n",
       "</style><table id=\"T_0f53f210_cbc7_11ec_bd62_000d3a8cf9bd\" ><thead>    <tr>        <th class=\"index_name level0\" >Shell No.</th>        <th class=\"col_heading level0 col0\" >t_rad</th>        <th class=\"col_heading level0 col1\" >next_t_rad</th>        <th class=\"col_heading level0 col2\" >w</th>        <th class=\"col_heading level0 col3\" >next_w</th>    </tr></thead><tbody>\n",
       "                <tr>\n",
       "                        <th id=\"T_0f53f210_cbc7_11ec_bd62_000d3a8cf9bdlevel0_row0\" class=\"row_heading level0 row0\" >0</th>\n",
       "                        <td id=\"T_0f53f210_cbc7_11ec_bd62_000d3a8cf9bdrow0_col0\" class=\"data row0 col0\" >1.08e+04</td>\n",
       "                        <td id=\"T_0f53f210_cbc7_11ec_bd62_000d3a8cf9bdrow0_col1\" class=\"data row0 col1\" >1.1e+04</td>\n",
       "                        <td id=\"T_0f53f210_cbc7_11ec_bd62_000d3a8cf9bdrow0_col2\" class=\"data row0 col2\" >0.525</td>\n",
       "                        <td id=\"T_0f53f210_cbc7_11ec_bd62_000d3a8cf9bdrow0_col3\" class=\"data row0 col3\" >0.483</td>\n",
       "            </tr>\n",
       "            <tr>\n",
       "                        <th id=\"T_0f53f210_cbc7_11ec_bd62_000d3a8cf9bdlevel0_row1\" class=\"row_heading level0 row1\" >5</th>\n",
       "                        <td id=\"T_0f53f210_cbc7_11ec_bd62_000d3a8cf9bdrow1_col0\" class=\"data row1 col0\" >1.1e+04</td>\n",
       "                        <td id=\"T_0f53f210_cbc7_11ec_bd62_000d3a8cf9bdrow1_col1\" class=\"data row1 col1\" >1.12e+04</td>\n",
       "                        <td id=\"T_0f53f210_cbc7_11ec_bd62_000d3a8cf9bdrow1_col2\" class=\"data row1 col2\" >0.203</td>\n",
       "                        <td id=\"T_0f53f210_cbc7_11ec_bd62_000d3a8cf9bdrow1_col3\" class=\"data row1 col3\" >0.189</td>\n",
       "            </tr>\n",
       "            <tr>\n",
       "                        <th id=\"T_0f53f210_cbc7_11ec_bd62_000d3a8cf9bdlevel0_row2\" class=\"row_heading level0 row2\" >10</th>\n",
       "                        <td id=\"T_0f53f210_cbc7_11ec_bd62_000d3a8cf9bdrow2_col0\" class=\"data row2 col0\" >1.08e+04</td>\n",
       "                        <td id=\"T_0f53f210_cbc7_11ec_bd62_000d3a8cf9bdrow2_col1\" class=\"data row2 col1\" >1.1e+04</td>\n",
       "                        <td id=\"T_0f53f210_cbc7_11ec_bd62_000d3a8cf9bdrow2_col2\" class=\"data row2 col2\" >0.125</td>\n",
       "                        <td id=\"T_0f53f210_cbc7_11ec_bd62_000d3a8cf9bdrow2_col3\" class=\"data row2 col3\" >0.118</td>\n",
       "            </tr>\n",
       "            <tr>\n",
       "                        <th id=\"T_0f53f210_cbc7_11ec_bd62_000d3a8cf9bdlevel0_row3\" class=\"row_heading level0 row3\" >15</th>\n",
       "                        <td id=\"T_0f53f210_cbc7_11ec_bd62_000d3a8cf9bdrow3_col0\" class=\"data row3 col0\" >1.05e+04</td>\n",
       "                        <td id=\"T_0f53f210_cbc7_11ec_bd62_000d3a8cf9bdrow3_col1\" class=\"data row3 col1\" >1.06e+04</td>\n",
       "                        <td id=\"T_0f53f210_cbc7_11ec_bd62_000d3a8cf9bdrow3_col2\" class=\"data row3 col2\" >0.0933</td>\n",
       "                        <td id=\"T_0f53f210_cbc7_11ec_bd62_000d3a8cf9bdrow3_col3\" class=\"data row3 col3\" >0.0895</td>\n",
       "            </tr>\n",
       "    </tbody></table>"
      ],
      "text/plain": [
       "<pandas.io.formats.style.Styler at 0x7fa2d9083910>"
      ]
     },
     "metadata": {},
     "output_type": "display_data"
    },
    {
     "name": "stdout",
     "output_type": "stream",
     "text": [
      "[\u001b[1mtardis.simulation.base\u001b[0m][\u001b[1;37mINFO\u001b[0m   ]  \n",
      "\t\n",
      "\tCurrent t_inner = 10673.712 K\n",
      "\tExpected t_inner for next iteration = 10635.953 K\n",
      " (\u001b[1mbase.py\u001b[0m:542)\n"
     ]
    },
    {
     "name": "stdout",
     "output_type": "stream",
     "text": [
      "[\u001b[1mtardis.simulation.base\u001b[0m][\u001b[1;37mINFO\u001b[0m   ]  \n",
      "\t\n",
      "\tStarting iteration 4 of 20 (\u001b[1mbase.py\u001b[0m:378)\n"
     ]
    },
    {
     "name": "stdout",
     "output_type": "stream",
     "text": [
      "[\u001b[1mtardis.simulation.base\u001b[0m][\u001b[1;37mINFO\u001b[0m   ]  \n",
      "\t\n",
      "\tLuminosity emitted   = 1.058e+43 erg / s\n",
      "\tLuminosity absorbed  = 3.352e+42 erg / s\n",
      "\tLuminosity requested = 1.059e+43 erg / s\n",
      " (\u001b[1mbase.py\u001b[0m:547)\n"
     ]
    },
    {
     "name": "stdout",
     "output_type": "stream",
     "text": [
      "[\u001b[1mtardis.simulation.base\u001b[0m][\u001b[1;37mINFO\u001b[0m   ]  \n",
      "\t\n",
      "\tPlasma stratification: (\u001b[1mbase.py\u001b[0m:515)\n"
     ]
    },
    {
     "data": {
      "text/html": [
       "<style  type=\"text/css\" >\n",
       "</style><table id=\"T_0fce2a58_cbc7_11ec_bd62_000d3a8cf9bd\" ><thead>    <tr>        <th class=\"index_name level0\" >Shell No.</th>        <th class=\"col_heading level0 col0\" >t_rad</th>        <th class=\"col_heading level0 col1\" >next_t_rad</th>        <th class=\"col_heading level0 col2\" >w</th>        <th class=\"col_heading level0 col3\" >next_w</th>    </tr></thead><tbody>\n",
       "                <tr>\n",
       "                        <th id=\"T_0fce2a58_cbc7_11ec_bd62_000d3a8cf9bdlevel0_row0\" class=\"row_heading level0 row0\" >0</th>\n",
       "                        <td id=\"T_0fce2a58_cbc7_11ec_bd62_000d3a8cf9bdrow0_col0\" class=\"data row0 col0\" >1.1e+04</td>\n",
       "                        <td id=\"T_0fce2a58_cbc7_11ec_bd62_000d3a8cf9bdrow0_col1\" class=\"data row0 col1\" >1.1e+04</td>\n",
       "                        <td id=\"T_0fce2a58_cbc7_11ec_bd62_000d3a8cf9bdrow0_col2\" class=\"data row0 col2\" >0.483</td>\n",
       "                        <td id=\"T_0fce2a58_cbc7_11ec_bd62_000d3a8cf9bdrow0_col3\" class=\"data row0 col3\" >0.469</td>\n",
       "            </tr>\n",
       "            <tr>\n",
       "                        <th id=\"T_0fce2a58_cbc7_11ec_bd62_000d3a8cf9bdlevel0_row1\" class=\"row_heading level0 row1\" >5</th>\n",
       "                        <td id=\"T_0fce2a58_cbc7_11ec_bd62_000d3a8cf9bdrow1_col0\" class=\"data row1 col0\" >1.12e+04</td>\n",
       "                        <td id=\"T_0fce2a58_cbc7_11ec_bd62_000d3a8cf9bdrow1_col1\" class=\"data row1 col1\" >1.12e+04</td>\n",
       "                        <td id=\"T_0fce2a58_cbc7_11ec_bd62_000d3a8cf9bdrow1_col2\" class=\"data row1 col2\" >0.189</td>\n",
       "                        <td id=\"T_0fce2a58_cbc7_11ec_bd62_000d3a8cf9bdrow1_col3\" class=\"data row1 col3\" >0.182</td>\n",
       "            </tr>\n",
       "            <tr>\n",
       "                        <th id=\"T_0fce2a58_cbc7_11ec_bd62_000d3a8cf9bdlevel0_row2\" class=\"row_heading level0 row2\" >10</th>\n",
       "                        <td id=\"T_0fce2a58_cbc7_11ec_bd62_000d3a8cf9bdrow2_col0\" class=\"data row2 col0\" >1.1e+04</td>\n",
       "                        <td id=\"T_0fce2a58_cbc7_11ec_bd62_000d3a8cf9bdrow2_col1\" class=\"data row2 col1\" >1.1e+04</td>\n",
       "                        <td id=\"T_0fce2a58_cbc7_11ec_bd62_000d3a8cf9bdrow2_col2\" class=\"data row2 col2\" >0.118</td>\n",
       "                        <td id=\"T_0fce2a58_cbc7_11ec_bd62_000d3a8cf9bdrow2_col3\" class=\"data row2 col3\" >0.113</td>\n",
       "            </tr>\n",
       "            <tr>\n",
       "                        <th id=\"T_0fce2a58_cbc7_11ec_bd62_000d3a8cf9bdlevel0_row3\" class=\"row_heading level0 row3\" >15</th>\n",
       "                        <td id=\"T_0fce2a58_cbc7_11ec_bd62_000d3a8cf9bdrow3_col0\" class=\"data row3 col0\" >1.06e+04</td>\n",
       "                        <td id=\"T_0fce2a58_cbc7_11ec_bd62_000d3a8cf9bdrow3_col1\" class=\"data row3 col1\" >1.07e+04</td>\n",
       "                        <td id=\"T_0fce2a58_cbc7_11ec_bd62_000d3a8cf9bdrow3_col2\" class=\"data row3 col2\" >0.0895</td>\n",
       "                        <td id=\"T_0fce2a58_cbc7_11ec_bd62_000d3a8cf9bdrow3_col3\" class=\"data row3 col3\" >0.0861</td>\n",
       "            </tr>\n",
       "    </tbody></table>"
      ],
      "text/plain": [
       "<pandas.io.formats.style.Styler at 0x7fa2d9cf3790>"
      ]
     },
     "metadata": {},
     "output_type": "display_data"
    },
    {
     "name": "stdout",
     "output_type": "stream",
     "text": [
      "[\u001b[1mtardis.simulation.base\u001b[0m][\u001b[1;37mINFO\u001b[0m   ]  \n",
      "\t\n",
      "\tCurrent t_inner = 10635.953 K\n",
      "\tExpected t_inner for next iteration = 10638.407 K\n",
      " (\u001b[1mbase.py\u001b[0m:542)\n"
     ]
    },
    {
     "name": "stdout",
     "output_type": "stream",
     "text": [
      "[\u001b[1mtardis.simulation.base\u001b[0m][\u001b[1;37mINFO\u001b[0m   ]  \n",
      "\t\n",
      "\tStarting iteration 5 of 20 (\u001b[1mbase.py\u001b[0m:378)\n"
     ]
    },
    {
     "name": "stdout",
     "output_type": "stream",
     "text": [
      "[\u001b[1mtardis.simulation.base\u001b[0m][\u001b[1;37mINFO\u001b[0m   ]  \n",
      "\t\n",
      "\tLuminosity emitted   = 1.055e+43 erg / s\n",
      "\tLuminosity absorbed  = 3.399e+42 erg / s\n",
      "\tLuminosity requested = 1.059e+43 erg / s\n",
      " (\u001b[1mbase.py\u001b[0m:547)\n"
     ]
    },
    {
     "name": "stdout",
     "output_type": "stream",
     "text": [
      "[\u001b[1mtardis.simulation.base\u001b[0m][\u001b[1;37mINFO\u001b[0m   ]  \n",
      "\tIteration converged 1/4 consecutive times. (\u001b[1mbase.py\u001b[0m:259)\n"
     ]
    },
    {
     "name": "stdout",
     "output_type": "stream",
     "text": [
      "[\u001b[1mtardis.simulation.base\u001b[0m][\u001b[1;37mINFO\u001b[0m   ]  \n",
      "\t\n",
      "\tPlasma stratification: (\u001b[1mbase.py\u001b[0m:515)\n"
     ]
    },
    {
     "data": {
      "text/html": [
       "<style  type=\"text/css\" >\n",
       "</style><table id=\"T_10477ade_cbc7_11ec_bd62_000d3a8cf9bd\" ><thead>    <tr>        <th class=\"index_name level0\" >Shell No.</th>        <th class=\"col_heading level0 col0\" >t_rad</th>        <th class=\"col_heading level0 col1\" >next_t_rad</th>        <th class=\"col_heading level0 col2\" >w</th>        <th class=\"col_heading level0 col3\" >next_w</th>    </tr></thead><tbody>\n",
       "                <tr>\n",
       "                        <th id=\"T_10477ade_cbc7_11ec_bd62_000d3a8cf9bdlevel0_row0\" class=\"row_heading level0 row0\" >0</th>\n",
       "                        <td id=\"T_10477ade_cbc7_11ec_bd62_000d3a8cf9bdrow0_col0\" class=\"data row0 col0\" >1.1e+04</td>\n",
       "                        <td id=\"T_10477ade_cbc7_11ec_bd62_000d3a8cf9bdrow0_col1\" class=\"data row0 col1\" >1.1e+04</td>\n",
       "                        <td id=\"T_10477ade_cbc7_11ec_bd62_000d3a8cf9bdrow0_col2\" class=\"data row0 col2\" >0.469</td>\n",
       "                        <td id=\"T_10477ade_cbc7_11ec_bd62_000d3a8cf9bdrow0_col3\" class=\"data row0 col3\" >0.479</td>\n",
       "            </tr>\n",
       "            <tr>\n",
       "                        <th id=\"T_10477ade_cbc7_11ec_bd62_000d3a8cf9bdlevel0_row1\" class=\"row_heading level0 row1\" >5</th>\n",
       "                        <td id=\"T_10477ade_cbc7_11ec_bd62_000d3a8cf9bdrow1_col0\" class=\"data row1 col0\" >1.12e+04</td>\n",
       "                        <td id=\"T_10477ade_cbc7_11ec_bd62_000d3a8cf9bdrow1_col1\" class=\"data row1 col1\" >1.13e+04</td>\n",
       "                        <td id=\"T_10477ade_cbc7_11ec_bd62_000d3a8cf9bdrow1_col2\" class=\"data row1 col2\" >0.182</td>\n",
       "                        <td id=\"T_10477ade_cbc7_11ec_bd62_000d3a8cf9bdrow1_col3\" class=\"data row1 col3\" >0.178</td>\n",
       "            </tr>\n",
       "            <tr>\n",
       "                        <th id=\"T_10477ade_cbc7_11ec_bd62_000d3a8cf9bdlevel0_row2\" class=\"row_heading level0 row2\" >10</th>\n",
       "                        <td id=\"T_10477ade_cbc7_11ec_bd62_000d3a8cf9bdrow2_col0\" class=\"data row2 col0\" >1.1e+04</td>\n",
       "                        <td id=\"T_10477ade_cbc7_11ec_bd62_000d3a8cf9bdrow2_col1\" class=\"data row2 col1\" >1.1e+04</td>\n",
       "                        <td id=\"T_10477ade_cbc7_11ec_bd62_000d3a8cf9bdrow2_col2\" class=\"data row2 col2\" >0.113</td>\n",
       "                        <td id=\"T_10477ade_cbc7_11ec_bd62_000d3a8cf9bdrow2_col3\" class=\"data row2 col3\" >0.113</td>\n",
       "            </tr>\n",
       "            <tr>\n",
       "                        <th id=\"T_10477ade_cbc7_11ec_bd62_000d3a8cf9bdlevel0_row3\" class=\"row_heading level0 row3\" >15</th>\n",
       "                        <td id=\"T_10477ade_cbc7_11ec_bd62_000d3a8cf9bdrow3_col0\" class=\"data row3 col0\" >1.07e+04</td>\n",
       "                        <td id=\"T_10477ade_cbc7_11ec_bd62_000d3a8cf9bdrow3_col1\" class=\"data row3 col1\" >1.07e+04</td>\n",
       "                        <td id=\"T_10477ade_cbc7_11ec_bd62_000d3a8cf9bdrow3_col2\" class=\"data row3 col2\" >0.0861</td>\n",
       "                        <td id=\"T_10477ade_cbc7_11ec_bd62_000d3a8cf9bdrow3_col3\" class=\"data row3 col3\" >0.0839</td>\n",
       "            </tr>\n",
       "    </tbody></table>"
      ],
      "text/plain": [
       "<pandas.io.formats.style.Styler at 0x7fa2d9d2bf70>"
      ]
     },
     "metadata": {},
     "output_type": "display_data"
    },
    {
     "name": "stdout",
     "output_type": "stream",
     "text": [
      "[\u001b[1mtardis.simulation.base\u001b[0m][\u001b[1;37mINFO\u001b[0m   ]  \n",
      "\t\n",
      "\tCurrent t_inner = 10638.407 K\n",
      "\tExpected t_inner for next iteration = 10650.202 K\n",
      " (\u001b[1mbase.py\u001b[0m:542)\n"
     ]
    },
    {
     "name": "stdout",
     "output_type": "stream",
     "text": [
      "[\u001b[1mtardis.simulation.base\u001b[0m][\u001b[1;37mINFO\u001b[0m   ]  \n",
      "\t\n",
      "\tStarting iteration 6 of 20 (\u001b[1mbase.py\u001b[0m:378)\n"
     ]
    },
    {
     "name": "stdout",
     "output_type": "stream",
     "text": [
      "[\u001b[1mtardis.simulation.base\u001b[0m][\u001b[1;37mINFO\u001b[0m   ]  \n",
      "\t\n",
      "\tLuminosity emitted   = 1.061e+43 erg / s\n",
      "\tLuminosity absorbed  = 3.398e+42 erg / s\n",
      "\tLuminosity requested = 1.059e+43 erg / s\n",
      " (\u001b[1mbase.py\u001b[0m:547)\n"
     ]
    },
    {
     "name": "stdout",
     "output_type": "stream",
     "text": [
      "[\u001b[1mtardis.simulation.base\u001b[0m][\u001b[1;37mINFO\u001b[0m   ]  \n",
      "\tIteration converged 2/4 consecutive times. (\u001b[1mbase.py\u001b[0m:259)\n"
     ]
    },
    {
     "name": "stdout",
     "output_type": "stream",
     "text": [
      "[\u001b[1mtardis.simulation.base\u001b[0m][\u001b[1;37mINFO\u001b[0m   ]  \n",
      "\t\n",
      "\tPlasma stratification: (\u001b[1mbase.py\u001b[0m:515)\n"
     ]
    },
    {
     "data": {
      "text/html": [
       "<style  type=\"text/css\" >\n",
       "</style><table id=\"T_10c1f7be_cbc7_11ec_bd62_000d3a8cf9bd\" ><thead>    <tr>        <th class=\"index_name level0\" >Shell No.</th>        <th class=\"col_heading level0 col0\" >t_rad</th>        <th class=\"col_heading level0 col1\" >next_t_rad</th>        <th class=\"col_heading level0 col2\" >w</th>        <th class=\"col_heading level0 col3\" >next_w</th>    </tr></thead><tbody>\n",
       "                <tr>\n",
       "                        <th id=\"T_10c1f7be_cbc7_11ec_bd62_000d3a8cf9bdlevel0_row0\" class=\"row_heading level0 row0\" >0</th>\n",
       "                        <td id=\"T_10c1f7be_cbc7_11ec_bd62_000d3a8cf9bdrow0_col0\" class=\"data row0 col0\" >1.1e+04</td>\n",
       "                        <td id=\"T_10c1f7be_cbc7_11ec_bd62_000d3a8cf9bdrow0_col1\" class=\"data row0 col1\" >1.1e+04</td>\n",
       "                        <td id=\"T_10c1f7be_cbc7_11ec_bd62_000d3a8cf9bdrow0_col2\" class=\"data row0 col2\" >0.479</td>\n",
       "                        <td id=\"T_10c1f7be_cbc7_11ec_bd62_000d3a8cf9bdrow0_col3\" class=\"data row0 col3\" >0.47</td>\n",
       "            </tr>\n",
       "            <tr>\n",
       "                        <th id=\"T_10c1f7be_cbc7_11ec_bd62_000d3a8cf9bdlevel0_row1\" class=\"row_heading level0 row1\" >5</th>\n",
       "                        <td id=\"T_10c1f7be_cbc7_11ec_bd62_000d3a8cf9bdrow1_col0\" class=\"data row1 col0\" >1.13e+04</td>\n",
       "                        <td id=\"T_10c1f7be_cbc7_11ec_bd62_000d3a8cf9bdrow1_col1\" class=\"data row1 col1\" >1.12e+04</td>\n",
       "                        <td id=\"T_10c1f7be_cbc7_11ec_bd62_000d3a8cf9bdrow1_col2\" class=\"data row1 col2\" >0.178</td>\n",
       "                        <td id=\"T_10c1f7be_cbc7_11ec_bd62_000d3a8cf9bdrow1_col3\" class=\"data row1 col3\" >0.185</td>\n",
       "            </tr>\n",
       "            <tr>\n",
       "                        <th id=\"T_10c1f7be_cbc7_11ec_bd62_000d3a8cf9bdlevel0_row2\" class=\"row_heading level0 row2\" >10</th>\n",
       "                        <td id=\"T_10c1f7be_cbc7_11ec_bd62_000d3a8cf9bdrow2_col0\" class=\"data row2 col0\" >1.1e+04</td>\n",
       "                        <td id=\"T_10c1f7be_cbc7_11ec_bd62_000d3a8cf9bdrow2_col1\" class=\"data row2 col1\" >1.11e+04</td>\n",
       "                        <td id=\"T_10c1f7be_cbc7_11ec_bd62_000d3a8cf9bdrow2_col2\" class=\"data row2 col2\" >0.113</td>\n",
       "                        <td id=\"T_10c1f7be_cbc7_11ec_bd62_000d3a8cf9bdrow2_col3\" class=\"data row2 col3\" >0.112</td>\n",
       "            </tr>\n",
       "            <tr>\n",
       "                        <th id=\"T_10c1f7be_cbc7_11ec_bd62_000d3a8cf9bdlevel0_row3\" class=\"row_heading level0 row3\" >15</th>\n",
       "                        <td id=\"T_10c1f7be_cbc7_11ec_bd62_000d3a8cf9bdrow3_col0\" class=\"data row3 col0\" >1.07e+04</td>\n",
       "                        <td id=\"T_10c1f7be_cbc7_11ec_bd62_000d3a8cf9bdrow3_col1\" class=\"data row3 col1\" >1.07e+04</td>\n",
       "                        <td id=\"T_10c1f7be_cbc7_11ec_bd62_000d3a8cf9bdrow3_col2\" class=\"data row3 col2\" >0.0839</td>\n",
       "                        <td id=\"T_10c1f7be_cbc7_11ec_bd62_000d3a8cf9bdrow3_col3\" class=\"data row3 col3\" >0.0856</td>\n",
       "            </tr>\n",
       "    </tbody></table>"
      ],
      "text/plain": [
       "<pandas.io.formats.style.Styler at 0x7fa2d9cf3760>"
      ]
     },
     "metadata": {},
     "output_type": "display_data"
    },
    {
     "name": "stdout",
     "output_type": "stream",
     "text": [
      "[\u001b[1mtardis.simulation.base\u001b[0m][\u001b[1;37mINFO\u001b[0m   ]  \n",
      "\t\n",
      "\tCurrent t_inner = 10650.202 K\n",
      "\tExpected t_inner for next iteration = 10645.955 K\n",
      " (\u001b[1mbase.py\u001b[0m:542)\n"
     ]
    },
    {
     "name": "stdout",
     "output_type": "stream",
     "text": [
      "[\u001b[1mtardis.simulation.base\u001b[0m][\u001b[1;37mINFO\u001b[0m   ]  \n",
      "\t\n",
      "\tStarting iteration 7 of 20 (\u001b[1mbase.py\u001b[0m:378)\n"
     ]
    },
    {
     "name": "stdout",
     "output_type": "stream",
     "text": [
      "[\u001b[1mtardis.simulation.base\u001b[0m][\u001b[1;37mINFO\u001b[0m   ]  \n",
      "\t\n",
      "\tLuminosity emitted   = 1.061e+43 erg / s\n",
      "\tLuminosity absorbed  = 3.382e+42 erg / s\n",
      "\tLuminosity requested = 1.059e+43 erg / s\n",
      " (\u001b[1mbase.py\u001b[0m:547)\n"
     ]
    },
    {
     "name": "stdout",
     "output_type": "stream",
     "text": [
      "[\u001b[1mtardis.simulation.base\u001b[0m][\u001b[1;37mINFO\u001b[0m   ]  \n",
      "\tIteration converged 3/4 consecutive times. (\u001b[1mbase.py\u001b[0m:259)\n"
     ]
    },
    {
     "name": "stdout",
     "output_type": "stream",
     "text": [
      "[\u001b[1mtardis.simulation.base\u001b[0m][\u001b[1;37mINFO\u001b[0m   ]  \n",
      "\t\n",
      "\tPlasma stratification: (\u001b[1mbase.py\u001b[0m:515)\n"
     ]
    },
    {
     "data": {
      "text/html": [
       "<style  type=\"text/css\" >\n",
       "</style><table id=\"T_113c859c_cbc7_11ec_bd62_000d3a8cf9bd\" ><thead>    <tr>        <th class=\"index_name level0\" >Shell No.</th>        <th class=\"col_heading level0 col0\" >t_rad</th>        <th class=\"col_heading level0 col1\" >next_t_rad</th>        <th class=\"col_heading level0 col2\" >w</th>        <th class=\"col_heading level0 col3\" >next_w</th>    </tr></thead><tbody>\n",
       "                <tr>\n",
       "                        <th id=\"T_113c859c_cbc7_11ec_bd62_000d3a8cf9bdlevel0_row0\" class=\"row_heading level0 row0\" >0</th>\n",
       "                        <td id=\"T_113c859c_cbc7_11ec_bd62_000d3a8cf9bdrow0_col0\" class=\"data row0 col0\" >1.1e+04</td>\n",
       "                        <td id=\"T_113c859c_cbc7_11ec_bd62_000d3a8cf9bdrow0_col1\" class=\"data row0 col1\" >1.1e+04</td>\n",
       "                        <td id=\"T_113c859c_cbc7_11ec_bd62_000d3a8cf9bdrow0_col2\" class=\"data row0 col2\" >0.47</td>\n",
       "                        <td id=\"T_113c859c_cbc7_11ec_bd62_000d3a8cf9bdrow0_col3\" class=\"data row0 col3\" >0.47</td>\n",
       "            </tr>\n",
       "            <tr>\n",
       "                        <th id=\"T_113c859c_cbc7_11ec_bd62_000d3a8cf9bdlevel0_row1\" class=\"row_heading level0 row1\" >5</th>\n",
       "                        <td id=\"T_113c859c_cbc7_11ec_bd62_000d3a8cf9bdrow1_col0\" class=\"data row1 col0\" >1.12e+04</td>\n",
       "                        <td id=\"T_113c859c_cbc7_11ec_bd62_000d3a8cf9bdrow1_col1\" class=\"data row1 col1\" >1.13e+04</td>\n",
       "                        <td id=\"T_113c859c_cbc7_11ec_bd62_000d3a8cf9bdrow1_col2\" class=\"data row1 col2\" >0.185</td>\n",
       "                        <td id=\"T_113c859c_cbc7_11ec_bd62_000d3a8cf9bdrow1_col3\" class=\"data row1 col3\" >0.178</td>\n",
       "            </tr>\n",
       "            <tr>\n",
       "                        <th id=\"T_113c859c_cbc7_11ec_bd62_000d3a8cf9bdlevel0_row2\" class=\"row_heading level0 row2\" >10</th>\n",
       "                        <td id=\"T_113c859c_cbc7_11ec_bd62_000d3a8cf9bdrow2_col0\" class=\"data row2 col0\" >1.11e+04</td>\n",
       "                        <td id=\"T_113c859c_cbc7_11ec_bd62_000d3a8cf9bdrow2_col1\" class=\"data row2 col1\" >1.11e+04</td>\n",
       "                        <td id=\"T_113c859c_cbc7_11ec_bd62_000d3a8cf9bdrow2_col2\" class=\"data row2 col2\" >0.112</td>\n",
       "                        <td id=\"T_113c859c_cbc7_11ec_bd62_000d3a8cf9bdrow2_col3\" class=\"data row2 col3\" >0.112</td>\n",
       "            </tr>\n",
       "            <tr>\n",
       "                        <th id=\"T_113c859c_cbc7_11ec_bd62_000d3a8cf9bdlevel0_row3\" class=\"row_heading level0 row3\" >15</th>\n",
       "                        <td id=\"T_113c859c_cbc7_11ec_bd62_000d3a8cf9bdrow3_col0\" class=\"data row3 col0\" >1.07e+04</td>\n",
       "                        <td id=\"T_113c859c_cbc7_11ec_bd62_000d3a8cf9bdrow3_col1\" class=\"data row3 col1\" >1.07e+04</td>\n",
       "                        <td id=\"T_113c859c_cbc7_11ec_bd62_000d3a8cf9bdrow3_col2\" class=\"data row3 col2\" >0.0856</td>\n",
       "                        <td id=\"T_113c859c_cbc7_11ec_bd62_000d3a8cf9bdrow3_col3\" class=\"data row3 col3\" >0.086</td>\n",
       "            </tr>\n",
       "    </tbody></table>"
      ],
      "text/plain": [
       "<pandas.io.formats.style.Styler at 0x7fa2cd3df3a0>"
      ]
     },
     "metadata": {},
     "output_type": "display_data"
    },
    {
     "name": "stdout",
     "output_type": "stream",
     "text": [
      "[\u001b[1mtardis.simulation.base\u001b[0m][\u001b[1;37mINFO\u001b[0m   ]  \n",
      "\t\n",
      "\tCurrent t_inner = 10645.955 K\n",
      "\tExpected t_inner for next iteration = 10642.050 K\n",
      " (\u001b[1mbase.py\u001b[0m:542)\n"
     ]
    },
    {
     "name": "stdout",
     "output_type": "stream",
     "text": [
      "[\u001b[1mtardis.simulation.base\u001b[0m][\u001b[1;37mINFO\u001b[0m   ]  \n",
      "\t\n",
      "\tStarting iteration 8 of 20 (\u001b[1mbase.py\u001b[0m:378)\n"
     ]
    },
    {
     "name": "stdout",
     "output_type": "stream",
     "text": [
      "[\u001b[1mtardis.simulation.base\u001b[0m][\u001b[1;37mINFO\u001b[0m   ]  \n",
      "\t\n",
      "\tLuminosity emitted   = 1.062e+43 erg / s\n",
      "\tLuminosity absorbed  = 3.350e+42 erg / s\n",
      "\tLuminosity requested = 1.059e+43 erg / s\n",
      " (\u001b[1mbase.py\u001b[0m:547)\n"
     ]
    },
    {
     "name": "stdout",
     "output_type": "stream",
     "text": [
      "[\u001b[1mtardis.simulation.base\u001b[0m][\u001b[1;37mINFO\u001b[0m   ]  \n",
      "\tIteration converged 4/4 consecutive times. (\u001b[1mbase.py\u001b[0m:259)\n"
     ]
    },
    {
     "name": "stdout",
     "output_type": "stream",
     "text": [
      "[\u001b[1mtardis.simulation.base\u001b[0m][\u001b[1;37mINFO\u001b[0m   ]  \n",
      "\t\n",
      "\tPlasma stratification: (\u001b[1mbase.py\u001b[0m:515)\n"
     ]
    },
    {
     "data": {
      "text/html": [
       "<style  type=\"text/css\" >\n",
       "</style><table id=\"T_11b67c62_cbc7_11ec_bd62_000d3a8cf9bd\" ><thead>    <tr>        <th class=\"index_name level0\" >Shell No.</th>        <th class=\"col_heading level0 col0\" >t_rad</th>        <th class=\"col_heading level0 col1\" >next_t_rad</th>        <th class=\"col_heading level0 col2\" >w</th>        <th class=\"col_heading level0 col3\" >next_w</th>    </tr></thead><tbody>\n",
       "                <tr>\n",
       "                        <th id=\"T_11b67c62_cbc7_11ec_bd62_000d3a8cf9bdlevel0_row0\" class=\"row_heading level0 row0\" >0</th>\n",
       "                        <td id=\"T_11b67c62_cbc7_11ec_bd62_000d3a8cf9bdrow0_col0\" class=\"data row0 col0\" >1.1e+04</td>\n",
       "                        <td id=\"T_11b67c62_cbc7_11ec_bd62_000d3a8cf9bdrow0_col1\" class=\"data row0 col1\" >1.11e+04</td>\n",
       "                        <td id=\"T_11b67c62_cbc7_11ec_bd62_000d3a8cf9bdrow0_col2\" class=\"data row0 col2\" >0.47</td>\n",
       "                        <td id=\"T_11b67c62_cbc7_11ec_bd62_000d3a8cf9bdrow0_col3\" class=\"data row0 col3\" >0.472</td>\n",
       "            </tr>\n",
       "            <tr>\n",
       "                        <th id=\"T_11b67c62_cbc7_11ec_bd62_000d3a8cf9bdlevel0_row1\" class=\"row_heading level0 row1\" >5</th>\n",
       "                        <td id=\"T_11b67c62_cbc7_11ec_bd62_000d3a8cf9bdrow1_col0\" class=\"data row1 col0\" >1.13e+04</td>\n",
       "                        <td id=\"T_11b67c62_cbc7_11ec_bd62_000d3a8cf9bdrow1_col1\" class=\"data row1 col1\" >1.14e+04</td>\n",
       "                        <td id=\"T_11b67c62_cbc7_11ec_bd62_000d3a8cf9bdrow1_col2\" class=\"data row1 col2\" >0.178</td>\n",
       "                        <td id=\"T_11b67c62_cbc7_11ec_bd62_000d3a8cf9bdrow1_col3\" class=\"data row1 col3\" >0.175</td>\n",
       "            </tr>\n",
       "            <tr>\n",
       "                        <th id=\"T_11b67c62_cbc7_11ec_bd62_000d3a8cf9bdlevel0_row2\" class=\"row_heading level0 row2\" >10</th>\n",
       "                        <td id=\"T_11b67c62_cbc7_11ec_bd62_000d3a8cf9bdrow2_col0\" class=\"data row2 col0\" >1.11e+04</td>\n",
       "                        <td id=\"T_11b67c62_cbc7_11ec_bd62_000d3a8cf9bdrow2_col1\" class=\"data row2 col1\" >1.11e+04</td>\n",
       "                        <td id=\"T_11b67c62_cbc7_11ec_bd62_000d3a8cf9bdrow2_col2\" class=\"data row2 col2\" >0.112</td>\n",
       "                        <td id=\"T_11b67c62_cbc7_11ec_bd62_000d3a8cf9bdrow2_col3\" class=\"data row2 col3\" >0.111</td>\n",
       "            </tr>\n",
       "            <tr>\n",
       "                        <th id=\"T_11b67c62_cbc7_11ec_bd62_000d3a8cf9bdlevel0_row3\" class=\"row_heading level0 row3\" >15</th>\n",
       "                        <td id=\"T_11b67c62_cbc7_11ec_bd62_000d3a8cf9bdrow3_col0\" class=\"data row3 col0\" >1.07e+04</td>\n",
       "                        <td id=\"T_11b67c62_cbc7_11ec_bd62_000d3a8cf9bdrow3_col1\" class=\"data row3 col1\" >1.07e+04</td>\n",
       "                        <td id=\"T_11b67c62_cbc7_11ec_bd62_000d3a8cf9bdrow3_col2\" class=\"data row3 col2\" >0.086</td>\n",
       "                        <td id=\"T_11b67c62_cbc7_11ec_bd62_000d3a8cf9bdrow3_col3\" class=\"data row3 col3\" >0.084</td>\n",
       "            </tr>\n",
       "    </tbody></table>"
      ],
      "text/plain": [
       "<pandas.io.formats.style.Styler at 0x7fa2d8fd67f0>"
      ]
     },
     "metadata": {},
     "output_type": "display_data"
    },
    {
     "name": "stdout",
     "output_type": "stream",
     "text": [
      "[\u001b[1mtardis.simulation.base\u001b[0m][\u001b[1;37mINFO\u001b[0m   ]  \n",
      "\t\n",
      "\tCurrent t_inner = 10642.050 K\n",
      "\tExpected t_inner for next iteration = 10636.106 K\n",
      " (\u001b[1mbase.py\u001b[0m:542)\n"
     ]
    },
    {
     "name": "stdout",
     "output_type": "stream",
     "text": [
      "[\u001b[1mtardis.simulation.base\u001b[0m][\u001b[1;37mINFO\u001b[0m   ]  \n",
      "\t\n",
      "\tStarting iteration 9 of 20 (\u001b[1mbase.py\u001b[0m:378)\n"
     ]
    },
    {
     "name": "stdout",
     "output_type": "stream",
     "text": [
      "[\u001b[1mtardis.simulation.base\u001b[0m][\u001b[1;37mINFO\u001b[0m   ]  \n",
      "\t\n",
      "\tLuminosity emitted   = 1.052e+43 erg / s\n",
      "\tLuminosity absorbed  = 3.411e+42 erg / s\n",
      "\tLuminosity requested = 1.059e+43 erg / s\n",
      " (\u001b[1mbase.py\u001b[0m:547)\n"
     ]
    },
    {
     "name": "stdout",
     "output_type": "stream",
     "text": [
      "[\u001b[1mtardis.simulation.base\u001b[0m][\u001b[1;37mINFO\u001b[0m   ]  \n",
      "\tIteration converged 5/4 consecutive times. (\u001b[1mbase.py\u001b[0m:259)\n"
     ]
    },
    {
     "name": "stdout",
     "output_type": "stream",
     "text": [
      "[\u001b[1mtardis.simulation.base\u001b[0m][\u001b[1;37mINFO\u001b[0m   ]  \n",
      "\t\n",
      "\tPlasma stratification: (\u001b[1mbase.py\u001b[0m:515)\n"
     ]
    },
    {
     "data": {
      "text/html": [
       "<style  type=\"text/css\" >\n",
       "</style><table id=\"T_12314122_cbc7_11ec_bd62_000d3a8cf9bd\" ><thead>    <tr>        <th class=\"index_name level0\" >Shell No.</th>        <th class=\"col_heading level0 col0\" >t_rad</th>        <th class=\"col_heading level0 col1\" >next_t_rad</th>        <th class=\"col_heading level0 col2\" >w</th>        <th class=\"col_heading level0 col3\" >next_w</th>    </tr></thead><tbody>\n",
       "                <tr>\n",
       "                        <th id=\"T_12314122_cbc7_11ec_bd62_000d3a8cf9bdlevel0_row0\" class=\"row_heading level0 row0\" >0</th>\n",
       "                        <td id=\"T_12314122_cbc7_11ec_bd62_000d3a8cf9bdrow0_col0\" class=\"data row0 col0\" >1.11e+04</td>\n",
       "                        <td id=\"T_12314122_cbc7_11ec_bd62_000d3a8cf9bdrow0_col1\" class=\"data row0 col1\" >1.11e+04</td>\n",
       "                        <td id=\"T_12314122_cbc7_11ec_bd62_000d3a8cf9bdrow0_col2\" class=\"data row0 col2\" >0.472</td>\n",
       "                        <td id=\"T_12314122_cbc7_11ec_bd62_000d3a8cf9bdrow0_col3\" class=\"data row0 col3\" >0.469</td>\n",
       "            </tr>\n",
       "            <tr>\n",
       "                        <th id=\"T_12314122_cbc7_11ec_bd62_000d3a8cf9bdlevel0_row1\" class=\"row_heading level0 row1\" >5</th>\n",
       "                        <td id=\"T_12314122_cbc7_11ec_bd62_000d3a8cf9bdrow1_col0\" class=\"data row1 col0\" >1.14e+04</td>\n",
       "                        <td id=\"T_12314122_cbc7_11ec_bd62_000d3a8cf9bdrow1_col1\" class=\"data row1 col1\" >1.15e+04</td>\n",
       "                        <td id=\"T_12314122_cbc7_11ec_bd62_000d3a8cf9bdrow1_col2\" class=\"data row1 col2\" >0.175</td>\n",
       "                        <td id=\"T_12314122_cbc7_11ec_bd62_000d3a8cf9bdrow1_col3\" class=\"data row1 col3\" >0.17</td>\n",
       "            </tr>\n",
       "            <tr>\n",
       "                        <th id=\"T_12314122_cbc7_11ec_bd62_000d3a8cf9bdlevel0_row2\" class=\"row_heading level0 row2\" >10</th>\n",
       "                        <td id=\"T_12314122_cbc7_11ec_bd62_000d3a8cf9bdrow2_col0\" class=\"data row2 col0\" >1.11e+04</td>\n",
       "                        <td id=\"T_12314122_cbc7_11ec_bd62_000d3a8cf9bdrow2_col1\" class=\"data row2 col1\" >1.11e+04</td>\n",
       "                        <td id=\"T_12314122_cbc7_11ec_bd62_000d3a8cf9bdrow2_col2\" class=\"data row2 col2\" >0.111</td>\n",
       "                        <td id=\"T_12314122_cbc7_11ec_bd62_000d3a8cf9bdrow2_col3\" class=\"data row2 col3\" >0.109</td>\n",
       "            </tr>\n",
       "            <tr>\n",
       "                        <th id=\"T_12314122_cbc7_11ec_bd62_000d3a8cf9bdlevel0_row3\" class=\"row_heading level0 row3\" >15</th>\n",
       "                        <td id=\"T_12314122_cbc7_11ec_bd62_000d3a8cf9bdrow3_col0\" class=\"data row3 col0\" >1.07e+04</td>\n",
       "                        <td id=\"T_12314122_cbc7_11ec_bd62_000d3a8cf9bdrow3_col1\" class=\"data row3 col1\" >1.08e+04</td>\n",
       "                        <td id=\"T_12314122_cbc7_11ec_bd62_000d3a8cf9bdrow3_col2\" class=\"data row3 col2\" >0.084</td>\n",
       "                        <td id=\"T_12314122_cbc7_11ec_bd62_000d3a8cf9bdrow3_col3\" class=\"data row3 col3\" >0.0822</td>\n",
       "            </tr>\n",
       "    </tbody></table>"
      ],
      "text/plain": [
       "<pandas.io.formats.style.Styler at 0x7fa2dce0bcd0>"
      ]
     },
     "metadata": {},
     "output_type": "display_data"
    },
    {
     "name": "stdout",
     "output_type": "stream",
     "text": [
      "[\u001b[1mtardis.simulation.base\u001b[0m][\u001b[1;37mINFO\u001b[0m   ]  \n",
      "\t\n",
      "\tCurrent t_inner = 10636.106 K\n",
      "\tExpected t_inner for next iteration = 10654.313 K\n",
      " (\u001b[1mbase.py\u001b[0m:542)\n"
     ]
    },
    {
     "name": "stdout",
     "output_type": "stream",
     "text": [
      "[\u001b[1mtardis.simulation.base\u001b[0m][\u001b[1;37mINFO\u001b[0m   ]  \n",
      "\t\n",
      "\tStarting iteration 10 of 20 (\u001b[1mbase.py\u001b[0m:378)\n"
     ]
    },
    {
     "name": "stdout",
     "output_type": "stream",
     "text": [
      "[\u001b[1mtardis.simulation.base\u001b[0m][\u001b[1;37mINFO\u001b[0m   ]  \n",
      "\t\n",
      "\tLuminosity emitted   = 1.070e+43 erg / s\n",
      "\tLuminosity absorbed  = 3.335e+42 erg / s\n",
      "\tLuminosity requested = 1.059e+43 erg / s\n",
      " (\u001b[1mbase.py\u001b[0m:547)\n"
     ]
    },
    {
     "name": "stdout",
     "output_type": "stream",
     "text": [
      "[\u001b[1mtardis.simulation.base\u001b[0m][\u001b[1;37mINFO\u001b[0m   ]  \n",
      "\t\n",
      "\tPlasma stratification: (\u001b[1mbase.py\u001b[0m:515)\n"
     ]
    },
    {
     "data": {
      "text/html": [
       "<style  type=\"text/css\" >\n",
       "</style><table id=\"T_12ae8754_cbc7_11ec_bd62_000d3a8cf9bd\" ><thead>    <tr>        <th class=\"index_name level0\" >Shell No.</th>        <th class=\"col_heading level0 col0\" >t_rad</th>        <th class=\"col_heading level0 col1\" >next_t_rad</th>        <th class=\"col_heading level0 col2\" >w</th>        <th class=\"col_heading level0 col3\" >next_w</th>    </tr></thead><tbody>\n",
       "                <tr>\n",
       "                        <th id=\"T_12ae8754_cbc7_11ec_bd62_000d3a8cf9bdlevel0_row0\" class=\"row_heading level0 row0\" >0</th>\n",
       "                        <td id=\"T_12ae8754_cbc7_11ec_bd62_000d3a8cf9bdrow0_col0\" class=\"data row0 col0\" >1.11e+04</td>\n",
       "                        <td id=\"T_12ae8754_cbc7_11ec_bd62_000d3a8cf9bdrow0_col1\" class=\"data row0 col1\" >1.1e+04</td>\n",
       "                        <td id=\"T_12ae8754_cbc7_11ec_bd62_000d3a8cf9bdrow0_col2\" class=\"data row0 col2\" >0.469</td>\n",
       "                        <td id=\"T_12ae8754_cbc7_11ec_bd62_000d3a8cf9bdrow0_col3\" class=\"data row0 col3\" >0.475</td>\n",
       "            </tr>\n",
       "            <tr>\n",
       "                        <th id=\"T_12ae8754_cbc7_11ec_bd62_000d3a8cf9bdlevel0_row1\" class=\"row_heading level0 row1\" >5</th>\n",
       "                        <td id=\"T_12ae8754_cbc7_11ec_bd62_000d3a8cf9bdrow1_col0\" class=\"data row1 col0\" >1.15e+04</td>\n",
       "                        <td id=\"T_12ae8754_cbc7_11ec_bd62_000d3a8cf9bdrow1_col1\" class=\"data row1 col1\" >1.14e+04</td>\n",
       "                        <td id=\"T_12ae8754_cbc7_11ec_bd62_000d3a8cf9bdrow1_col2\" class=\"data row1 col2\" >0.17</td>\n",
       "                        <td id=\"T_12ae8754_cbc7_11ec_bd62_000d3a8cf9bdrow1_col3\" class=\"data row1 col3\" >0.177</td>\n",
       "            </tr>\n",
       "            <tr>\n",
       "                        <th id=\"T_12ae8754_cbc7_11ec_bd62_000d3a8cf9bdlevel0_row2\" class=\"row_heading level0 row2\" >10</th>\n",
       "                        <td id=\"T_12ae8754_cbc7_11ec_bd62_000d3a8cf9bdrow2_col0\" class=\"data row2 col0\" >1.11e+04</td>\n",
       "                        <td id=\"T_12ae8754_cbc7_11ec_bd62_000d3a8cf9bdrow2_col1\" class=\"data row2 col1\" >1.11e+04</td>\n",
       "                        <td id=\"T_12ae8754_cbc7_11ec_bd62_000d3a8cf9bdrow2_col2\" class=\"data row2 col2\" >0.109</td>\n",
       "                        <td id=\"T_12ae8754_cbc7_11ec_bd62_000d3a8cf9bdrow2_col3\" class=\"data row2 col3\" >0.112</td>\n",
       "            </tr>\n",
       "            <tr>\n",
       "                        <th id=\"T_12ae8754_cbc7_11ec_bd62_000d3a8cf9bdlevel0_row3\" class=\"row_heading level0 row3\" >15</th>\n",
       "                        <td id=\"T_12ae8754_cbc7_11ec_bd62_000d3a8cf9bdrow3_col0\" class=\"data row3 col0\" >1.08e+04</td>\n",
       "                        <td id=\"T_12ae8754_cbc7_11ec_bd62_000d3a8cf9bdrow3_col1\" class=\"data row3 col1\" >1.06e+04</td>\n",
       "                        <td id=\"T_12ae8754_cbc7_11ec_bd62_000d3a8cf9bdrow3_col2\" class=\"data row3 col2\" >0.0822</td>\n",
       "                        <td id=\"T_12ae8754_cbc7_11ec_bd62_000d3a8cf9bdrow3_col3\" class=\"data row3 col3\" >0.0878</td>\n",
       "            </tr>\n",
       "    </tbody></table>"
      ],
      "text/plain": [
       "<pandas.io.formats.style.Styler at 0x7fa2cd378430>"
      ]
     },
     "metadata": {},
     "output_type": "display_data"
    },
    {
     "name": "stdout",
     "output_type": "stream",
     "text": [
      "[\u001b[1mtardis.simulation.base\u001b[0m][\u001b[1;37mINFO\u001b[0m   ]  \n",
      "\t\n",
      "\tCurrent t_inner = 10654.313 K\n",
      "\tExpected t_inner for next iteration = 10628.190 K\n",
      " (\u001b[1mbase.py\u001b[0m:542)\n"
     ]
    },
    {
     "name": "stdout",
     "output_type": "stream",
     "text": [
      "[\u001b[1mtardis.simulation.base\u001b[0m][\u001b[1;37mINFO\u001b[0m   ]  \n",
      "\t\n",
      "\tStarting iteration 11 of 20 (\u001b[1mbase.py\u001b[0m:378)\n"
     ]
    },
    {
     "name": "stdout",
     "output_type": "stream",
     "text": [
      "[\u001b[1mtardis.simulation.base\u001b[0m][\u001b[1;37mINFO\u001b[0m   ]  \n",
      "\t\n",
      "\tLuminosity emitted   = 1.053e+43 erg / s\n",
      "\tLuminosity absorbed  = 3.363e+42 erg / s\n",
      "\tLuminosity requested = 1.059e+43 erg / s\n",
      " (\u001b[1mbase.py\u001b[0m:547)\n"
     ]
    },
    {
     "name": "stdout",
     "output_type": "stream",
     "text": [
      "[\u001b[1mtardis.simulation.base\u001b[0m][\u001b[1;37mINFO\u001b[0m   ]  \n",
      "\tIteration converged 1/4 consecutive times. (\u001b[1mbase.py\u001b[0m:259)\n"
     ]
    },
    {
     "name": "stdout",
     "output_type": "stream",
     "text": [
      "[\u001b[1mtardis.simulation.base\u001b[0m][\u001b[1;37mINFO\u001b[0m   ]  \n",
      "\t\n",
      "\tPlasma stratification: (\u001b[1mbase.py\u001b[0m:515)\n"
     ]
    },
    {
     "data": {
      "text/html": [
       "<style  type=\"text/css\" >\n",
       "</style><table id=\"T_132a30fc_cbc7_11ec_bd62_000d3a8cf9bd\" ><thead>    <tr>        <th class=\"index_name level0\" >Shell No.</th>        <th class=\"col_heading level0 col0\" >t_rad</th>        <th class=\"col_heading level0 col1\" >next_t_rad</th>        <th class=\"col_heading level0 col2\" >w</th>        <th class=\"col_heading level0 col3\" >next_w</th>    </tr></thead><tbody>\n",
       "                <tr>\n",
       "                        <th id=\"T_132a30fc_cbc7_11ec_bd62_000d3a8cf9bdlevel0_row0\" class=\"row_heading level0 row0\" >0</th>\n",
       "                        <td id=\"T_132a30fc_cbc7_11ec_bd62_000d3a8cf9bdrow0_col0\" class=\"data row0 col0\" >1.1e+04</td>\n",
       "                        <td id=\"T_132a30fc_cbc7_11ec_bd62_000d3a8cf9bdrow0_col1\" class=\"data row0 col1\" >1.1e+04</td>\n",
       "                        <td id=\"T_132a30fc_cbc7_11ec_bd62_000d3a8cf9bdrow0_col2\" class=\"data row0 col2\" >0.475</td>\n",
       "                        <td id=\"T_132a30fc_cbc7_11ec_bd62_000d3a8cf9bdrow0_col3\" class=\"data row0 col3\" >0.472</td>\n",
       "            </tr>\n",
       "            <tr>\n",
       "                        <th id=\"T_132a30fc_cbc7_11ec_bd62_000d3a8cf9bdlevel0_row1\" class=\"row_heading level0 row1\" >5</th>\n",
       "                        <td id=\"T_132a30fc_cbc7_11ec_bd62_000d3a8cf9bdrow1_col0\" class=\"data row1 col0\" >1.14e+04</td>\n",
       "                        <td id=\"T_132a30fc_cbc7_11ec_bd62_000d3a8cf9bdrow1_col1\" class=\"data row1 col1\" >1.12e+04</td>\n",
       "                        <td id=\"T_132a30fc_cbc7_11ec_bd62_000d3a8cf9bdrow1_col2\" class=\"data row1 col2\" >0.177</td>\n",
       "                        <td id=\"T_132a30fc_cbc7_11ec_bd62_000d3a8cf9bdrow1_col3\" class=\"data row1 col3\" >0.184</td>\n",
       "            </tr>\n",
       "            <tr>\n",
       "                        <th id=\"T_132a30fc_cbc7_11ec_bd62_000d3a8cf9bdlevel0_row2\" class=\"row_heading level0 row2\" >10</th>\n",
       "                        <td id=\"T_132a30fc_cbc7_11ec_bd62_000d3a8cf9bdrow2_col0\" class=\"data row2 col0\" >1.11e+04</td>\n",
       "                        <td id=\"T_132a30fc_cbc7_11ec_bd62_000d3a8cf9bdrow2_col1\" class=\"data row2 col1\" >1.1e+04</td>\n",
       "                        <td id=\"T_132a30fc_cbc7_11ec_bd62_000d3a8cf9bdrow2_col2\" class=\"data row2 col2\" >0.112</td>\n",
       "                        <td id=\"T_132a30fc_cbc7_11ec_bd62_000d3a8cf9bdrow2_col3\" class=\"data row2 col3\" >0.114</td>\n",
       "            </tr>\n",
       "            <tr>\n",
       "                        <th id=\"T_132a30fc_cbc7_11ec_bd62_000d3a8cf9bdlevel0_row3\" class=\"row_heading level0 row3\" >15</th>\n",
       "                        <td id=\"T_132a30fc_cbc7_11ec_bd62_000d3a8cf9bdrow3_col0\" class=\"data row3 col0\" >1.06e+04</td>\n",
       "                        <td id=\"T_132a30fc_cbc7_11ec_bd62_000d3a8cf9bdrow3_col1\" class=\"data row3 col1\" >1.06e+04</td>\n",
       "                        <td id=\"T_132a30fc_cbc7_11ec_bd62_000d3a8cf9bdrow3_col2\" class=\"data row3 col2\" >0.0878</td>\n",
       "                        <td id=\"T_132a30fc_cbc7_11ec_bd62_000d3a8cf9bdrow3_col3\" class=\"data row3 col3\" >0.0859</td>\n",
       "            </tr>\n",
       "    </tbody></table>"
      ],
      "text/plain": [
       "<pandas.io.formats.style.Styler at 0x7fa2cd378a30>"
      ]
     },
     "metadata": {},
     "output_type": "display_data"
    },
    {
     "name": "stdout",
     "output_type": "stream",
     "text": [
      "[\u001b[1mtardis.simulation.base\u001b[0m][\u001b[1;37mINFO\u001b[0m   ]  \n",
      "\t\n",
      "\tCurrent t_inner = 10628.190 K\n",
      "\tExpected t_inner for next iteration = 10644.054 K\n",
      " (\u001b[1mbase.py\u001b[0m:542)\n"
     ]
    },
    {
     "name": "stdout",
     "output_type": "stream",
     "text": [
      "[\u001b[1mtardis.simulation.base\u001b[0m][\u001b[1;37mINFO\u001b[0m   ]  \n",
      "\t\n",
      "\tStarting iteration 12 of 20 (\u001b[1mbase.py\u001b[0m:378)\n"
     ]
    },
    {
     "name": "stdout",
     "output_type": "stream",
     "text": [
      "[\u001b[1mtardis.simulation.base\u001b[0m][\u001b[1;37mINFO\u001b[0m   ]  \n",
      "\t\n",
      "\tLuminosity emitted   = 1.056e+43 erg / s\n",
      "\tLuminosity absorbed  = 3.420e+42 erg / s\n",
      "\tLuminosity requested = 1.059e+43 erg / s\n",
      " (\u001b[1mbase.py\u001b[0m:547)\n"
     ]
    },
    {
     "name": "stdout",
     "output_type": "stream",
     "text": [
      "[\u001b[1mtardis.simulation.base\u001b[0m][\u001b[1;37mINFO\u001b[0m   ]  \n",
      "\t\n",
      "\tPlasma stratification: (\u001b[1mbase.py\u001b[0m:515)\n"
     ]
    },
    {
     "data": {
      "text/html": [
       "<style  type=\"text/css\" >\n",
       "</style><table id=\"T_13a492de_cbc7_11ec_bd62_000d3a8cf9bd\" ><thead>    <tr>        <th class=\"index_name level0\" >Shell No.</th>        <th class=\"col_heading level0 col0\" >t_rad</th>        <th class=\"col_heading level0 col1\" >next_t_rad</th>        <th class=\"col_heading level0 col2\" >w</th>        <th class=\"col_heading level0 col3\" >next_w</th>    </tr></thead><tbody>\n",
       "                <tr>\n",
       "                        <th id=\"T_13a492de_cbc7_11ec_bd62_000d3a8cf9bdlevel0_row0\" class=\"row_heading level0 row0\" >0</th>\n",
       "                        <td id=\"T_13a492de_cbc7_11ec_bd62_000d3a8cf9bdrow0_col0\" class=\"data row0 col0\" >1.1e+04</td>\n",
       "                        <td id=\"T_13a492de_cbc7_11ec_bd62_000d3a8cf9bdrow0_col1\" class=\"data row0 col1\" >1.11e+04</td>\n",
       "                        <td id=\"T_13a492de_cbc7_11ec_bd62_000d3a8cf9bdrow0_col2\" class=\"data row0 col2\" >0.472</td>\n",
       "                        <td id=\"T_13a492de_cbc7_11ec_bd62_000d3a8cf9bdrow0_col3\" class=\"data row0 col3\" >0.467</td>\n",
       "            </tr>\n",
       "            <tr>\n",
       "                        <th id=\"T_13a492de_cbc7_11ec_bd62_000d3a8cf9bdlevel0_row1\" class=\"row_heading level0 row1\" >5</th>\n",
       "                        <td id=\"T_13a492de_cbc7_11ec_bd62_000d3a8cf9bdrow1_col0\" class=\"data row1 col0\" >1.12e+04</td>\n",
       "                        <td id=\"T_13a492de_cbc7_11ec_bd62_000d3a8cf9bdrow1_col1\" class=\"data row1 col1\" >1.13e+04</td>\n",
       "                        <td id=\"T_13a492de_cbc7_11ec_bd62_000d3a8cf9bdrow1_col2\" class=\"data row1 col2\" >0.184</td>\n",
       "                        <td id=\"T_13a492de_cbc7_11ec_bd62_000d3a8cf9bdrow1_col3\" class=\"data row1 col3\" >0.176</td>\n",
       "            </tr>\n",
       "            <tr>\n",
       "                        <th id=\"T_13a492de_cbc7_11ec_bd62_000d3a8cf9bdlevel0_row2\" class=\"row_heading level0 row2\" >10</th>\n",
       "                        <td id=\"T_13a492de_cbc7_11ec_bd62_000d3a8cf9bdrow2_col0\" class=\"data row2 col0\" >1.1e+04</td>\n",
       "                        <td id=\"T_13a492de_cbc7_11ec_bd62_000d3a8cf9bdrow2_col1\" class=\"data row2 col1\" >1.11e+04</td>\n",
       "                        <td id=\"T_13a492de_cbc7_11ec_bd62_000d3a8cf9bdrow2_col2\" class=\"data row2 col2\" >0.114</td>\n",
       "                        <td id=\"T_13a492de_cbc7_11ec_bd62_000d3a8cf9bdrow2_col3\" class=\"data row2 col3\" >0.11</td>\n",
       "            </tr>\n",
       "            <tr>\n",
       "                        <th id=\"T_13a492de_cbc7_11ec_bd62_000d3a8cf9bdlevel0_row3\" class=\"row_heading level0 row3\" >15</th>\n",
       "                        <td id=\"T_13a492de_cbc7_11ec_bd62_000d3a8cf9bdrow3_col0\" class=\"data row3 col0\" >1.06e+04</td>\n",
       "                        <td id=\"T_13a492de_cbc7_11ec_bd62_000d3a8cf9bdrow3_col1\" class=\"data row3 col1\" >1.08e+04</td>\n",
       "                        <td id=\"T_13a492de_cbc7_11ec_bd62_000d3a8cf9bdrow3_col2\" class=\"data row3 col2\" >0.0859</td>\n",
       "                        <td id=\"T_13a492de_cbc7_11ec_bd62_000d3a8cf9bdrow3_col3\" class=\"data row3 col3\" >0.0821</td>\n",
       "            </tr>\n",
       "    </tbody></table>"
      ],
      "text/plain": [
       "<pandas.io.formats.style.Styler at 0x7fa2cd3df4c0>"
      ]
     },
     "metadata": {},
     "output_type": "display_data"
    },
    {
     "name": "stdout",
     "output_type": "stream",
     "text": [
      "[\u001b[1mtardis.simulation.base\u001b[0m][\u001b[1;37mINFO\u001b[0m   ]  \n",
      "\t\n",
      "\tCurrent t_inner = 10644.054 K\n",
      "\tExpected t_inner for next iteration = 10653.543 K\n",
      " (\u001b[1mbase.py\u001b[0m:542)\n"
     ]
    },
    {
     "name": "stdout",
     "output_type": "stream",
     "text": [
      "[\u001b[1mtardis.simulation.base\u001b[0m][\u001b[1;37mINFO\u001b[0m   ]  \n",
      "\t\n",
      "\tStarting iteration 13 of 20 (\u001b[1mbase.py\u001b[0m:378)\n"
     ]
    },
    {
     "name": "stdout",
     "output_type": "stream",
     "text": [
      "[\u001b[1mtardis.simulation.base\u001b[0m][\u001b[1;37mINFO\u001b[0m   ]  \n",
      "\t\n",
      "\tLuminosity emitted   = 1.062e+43 erg / s\n",
      "\tLuminosity absorbed  = 3.406e+42 erg / s\n",
      "\tLuminosity requested = 1.059e+43 erg / s\n",
      " (\u001b[1mbase.py\u001b[0m:547)\n"
     ]
    },
    {
     "name": "stdout",
     "output_type": "stream",
     "text": [
      "[\u001b[1mtardis.simulation.base\u001b[0m][\u001b[1;37mINFO\u001b[0m   ]  \n",
      "\tIteration converged 1/4 consecutive times. (\u001b[1mbase.py\u001b[0m:259)\n"
     ]
    },
    {
     "name": "stdout",
     "output_type": "stream",
     "text": [
      "[\u001b[1mtardis.simulation.base\u001b[0m][\u001b[1;37mINFO\u001b[0m   ]  \n",
      "\t\n",
      "\tPlasma stratification: (\u001b[1mbase.py\u001b[0m:515)\n"
     ]
    },
    {
     "data": {
      "text/html": [
       "<style  type=\"text/css\" >\n",
       "</style><table id=\"T_14209ad2_cbc7_11ec_bd62_000d3a8cf9bd\" ><thead>    <tr>        <th class=\"index_name level0\" >Shell No.</th>        <th class=\"col_heading level0 col0\" >t_rad</th>        <th class=\"col_heading level0 col1\" >next_t_rad</th>        <th class=\"col_heading level0 col2\" >w</th>        <th class=\"col_heading level0 col3\" >next_w</th>    </tr></thead><tbody>\n",
       "                <tr>\n",
       "                        <th id=\"T_14209ad2_cbc7_11ec_bd62_000d3a8cf9bdlevel0_row0\" class=\"row_heading level0 row0\" >0</th>\n",
       "                        <td id=\"T_14209ad2_cbc7_11ec_bd62_000d3a8cf9bdrow0_col0\" class=\"data row0 col0\" >1.11e+04</td>\n",
       "                        <td id=\"T_14209ad2_cbc7_11ec_bd62_000d3a8cf9bdrow0_col1\" class=\"data row0 col1\" >1.11e+04</td>\n",
       "                        <td id=\"T_14209ad2_cbc7_11ec_bd62_000d3a8cf9bdrow0_col2\" class=\"data row0 col2\" >0.467</td>\n",
       "                        <td id=\"T_14209ad2_cbc7_11ec_bd62_000d3a8cf9bdrow0_col3\" class=\"data row0 col3\" >0.466</td>\n",
       "            </tr>\n",
       "            <tr>\n",
       "                        <th id=\"T_14209ad2_cbc7_11ec_bd62_000d3a8cf9bdlevel0_row1\" class=\"row_heading level0 row1\" >5</th>\n",
       "                        <td id=\"T_14209ad2_cbc7_11ec_bd62_000d3a8cf9bdrow1_col0\" class=\"data row1 col0\" >1.13e+04</td>\n",
       "                        <td id=\"T_14209ad2_cbc7_11ec_bd62_000d3a8cf9bdrow1_col1\" class=\"data row1 col1\" >1.13e+04</td>\n",
       "                        <td id=\"T_14209ad2_cbc7_11ec_bd62_000d3a8cf9bdrow1_col2\" class=\"data row1 col2\" >0.176</td>\n",
       "                        <td id=\"T_14209ad2_cbc7_11ec_bd62_000d3a8cf9bdrow1_col3\" class=\"data row1 col3\" >0.18</td>\n",
       "            </tr>\n",
       "            <tr>\n",
       "                        <th id=\"T_14209ad2_cbc7_11ec_bd62_000d3a8cf9bdlevel0_row2\" class=\"row_heading level0 row2\" >10</th>\n",
       "                        <td id=\"T_14209ad2_cbc7_11ec_bd62_000d3a8cf9bdrow2_col0\" class=\"data row2 col0\" >1.11e+04</td>\n",
       "                        <td id=\"T_14209ad2_cbc7_11ec_bd62_000d3a8cf9bdrow2_col1\" class=\"data row2 col1\" >1.11e+04</td>\n",
       "                        <td id=\"T_14209ad2_cbc7_11ec_bd62_000d3a8cf9bdrow2_col2\" class=\"data row2 col2\" >0.11</td>\n",
       "                        <td id=\"T_14209ad2_cbc7_11ec_bd62_000d3a8cf9bdrow2_col3\" class=\"data row2 col3\" >0.111</td>\n",
       "            </tr>\n",
       "            <tr>\n",
       "                        <th id=\"T_14209ad2_cbc7_11ec_bd62_000d3a8cf9bdlevel0_row3\" class=\"row_heading level0 row3\" >15</th>\n",
       "                        <td id=\"T_14209ad2_cbc7_11ec_bd62_000d3a8cf9bdrow3_col0\" class=\"data row3 col0\" >1.08e+04</td>\n",
       "                        <td id=\"T_14209ad2_cbc7_11ec_bd62_000d3a8cf9bdrow3_col1\" class=\"data row3 col1\" >1.08e+04</td>\n",
       "                        <td id=\"T_14209ad2_cbc7_11ec_bd62_000d3a8cf9bdrow3_col2\" class=\"data row3 col2\" >0.0821</td>\n",
       "                        <td id=\"T_14209ad2_cbc7_11ec_bd62_000d3a8cf9bdrow3_col3\" class=\"data row3 col3\" >0.0841</td>\n",
       "            </tr>\n",
       "    </tbody></table>"
      ],
      "text/plain": [
       "<pandas.io.formats.style.Styler at 0x7fa2cd27abe0>"
      ]
     },
     "metadata": {},
     "output_type": "display_data"
    },
    {
     "name": "stdout",
     "output_type": "stream",
     "text": [
      "[\u001b[1mtardis.simulation.base\u001b[0m][\u001b[1;37mINFO\u001b[0m   ]  \n",
      "\t\n",
      "\tCurrent t_inner = 10653.543 K\n",
      "\tExpected t_inner for next iteration = 10647.277 K\n",
      " (\u001b[1mbase.py\u001b[0m:542)\n"
     ]
    },
    {
     "name": "stdout",
     "output_type": "stream",
     "text": [
      "[\u001b[1mtardis.simulation.base\u001b[0m][\u001b[1;37mINFO\u001b[0m   ]  \n",
      "\t\n",
      "\tStarting iteration 14 of 20 (\u001b[1mbase.py\u001b[0m:378)\n"
     ]
    },
    {
     "name": "stdout",
     "output_type": "stream",
     "text": [
      "[\u001b[1mtardis.simulation.base\u001b[0m][\u001b[1;37mINFO\u001b[0m   ]  \n",
      "\t\n",
      "\tLuminosity emitted   = 1.063e+43 erg / s\n",
      "\tLuminosity absorbed  = 3.369e+42 erg / s\n",
      "\tLuminosity requested = 1.059e+43 erg / s\n",
      " (\u001b[1mbase.py\u001b[0m:547)\n"
     ]
    },
    {
     "name": "stdout",
     "output_type": "stream",
     "text": [
      "[\u001b[1mtardis.simulation.base\u001b[0m][\u001b[1;37mINFO\u001b[0m   ]  \n",
      "\tIteration converged 2/4 consecutive times. (\u001b[1mbase.py\u001b[0m:259)\n"
     ]
    },
    {
     "name": "stdout",
     "output_type": "stream",
     "text": [
      "[\u001b[1mtardis.simulation.base\u001b[0m][\u001b[1;37mINFO\u001b[0m   ]  \n",
      "\t\n",
      "\tPlasma stratification: (\u001b[1mbase.py\u001b[0m:515)\n"
     ]
    },
    {
     "data": {
      "text/html": [
       "<style  type=\"text/css\" >\n",
       "</style><table id=\"T_149b5470_cbc7_11ec_bd62_000d3a8cf9bd\" ><thead>    <tr>        <th class=\"index_name level0\" >Shell No.</th>        <th class=\"col_heading level0 col0\" >t_rad</th>        <th class=\"col_heading level0 col1\" >next_t_rad</th>        <th class=\"col_heading level0 col2\" >w</th>        <th class=\"col_heading level0 col3\" >next_w</th>    </tr></thead><tbody>\n",
       "                <tr>\n",
       "                        <th id=\"T_149b5470_cbc7_11ec_bd62_000d3a8cf9bdlevel0_row0\" class=\"row_heading level0 row0\" >0</th>\n",
       "                        <td id=\"T_149b5470_cbc7_11ec_bd62_000d3a8cf9bdrow0_col0\" class=\"data row0 col0\" >1.11e+04</td>\n",
       "                        <td id=\"T_149b5470_cbc7_11ec_bd62_000d3a8cf9bdrow0_col1\" class=\"data row0 col1\" >1.11e+04</td>\n",
       "                        <td id=\"T_149b5470_cbc7_11ec_bd62_000d3a8cf9bdrow0_col2\" class=\"data row0 col2\" >0.466</td>\n",
       "                        <td id=\"T_149b5470_cbc7_11ec_bd62_000d3a8cf9bdrow0_col3\" class=\"data row0 col3\" >0.469</td>\n",
       "            </tr>\n",
       "            <tr>\n",
       "                        <th id=\"T_149b5470_cbc7_11ec_bd62_000d3a8cf9bdlevel0_row1\" class=\"row_heading level0 row1\" >5</th>\n",
       "                        <td id=\"T_149b5470_cbc7_11ec_bd62_000d3a8cf9bdrow1_col0\" class=\"data row1 col0\" >1.13e+04</td>\n",
       "                        <td id=\"T_149b5470_cbc7_11ec_bd62_000d3a8cf9bdrow1_col1\" class=\"data row1 col1\" >1.13e+04</td>\n",
       "                        <td id=\"T_149b5470_cbc7_11ec_bd62_000d3a8cf9bdrow1_col2\" class=\"data row1 col2\" >0.18</td>\n",
       "                        <td id=\"T_149b5470_cbc7_11ec_bd62_000d3a8cf9bdrow1_col3\" class=\"data row1 col3\" >0.182</td>\n",
       "            </tr>\n",
       "            <tr>\n",
       "                        <th id=\"T_149b5470_cbc7_11ec_bd62_000d3a8cf9bdlevel0_row2\" class=\"row_heading level0 row2\" >10</th>\n",
       "                        <td id=\"T_149b5470_cbc7_11ec_bd62_000d3a8cf9bdrow2_col0\" class=\"data row2 col0\" >1.11e+04</td>\n",
       "                        <td id=\"T_149b5470_cbc7_11ec_bd62_000d3a8cf9bdrow2_col1\" class=\"data row2 col1\" >1.1e+04</td>\n",
       "                        <td id=\"T_149b5470_cbc7_11ec_bd62_000d3a8cf9bdrow2_col2\" class=\"data row2 col2\" >0.111</td>\n",
       "                        <td id=\"T_149b5470_cbc7_11ec_bd62_000d3a8cf9bdrow2_col3\" class=\"data row2 col3\" >0.113</td>\n",
       "            </tr>\n",
       "            <tr>\n",
       "                        <th id=\"T_149b5470_cbc7_11ec_bd62_000d3a8cf9bdlevel0_row3\" class=\"row_heading level0 row3\" >15</th>\n",
       "                        <td id=\"T_149b5470_cbc7_11ec_bd62_000d3a8cf9bdrow3_col0\" class=\"data row3 col0\" >1.08e+04</td>\n",
       "                        <td id=\"T_149b5470_cbc7_11ec_bd62_000d3a8cf9bdrow3_col1\" class=\"data row3 col1\" >1.07e+04</td>\n",
       "                        <td id=\"T_149b5470_cbc7_11ec_bd62_000d3a8cf9bdrow3_col2\" class=\"data row3 col2\" >0.0841</td>\n",
       "                        <td id=\"T_149b5470_cbc7_11ec_bd62_000d3a8cf9bdrow3_col3\" class=\"data row3 col3\" >0.0854</td>\n",
       "            </tr>\n",
       "    </tbody></table>"
      ],
      "text/plain": [
       "<pandas.io.formats.style.Styler at 0x7fa2cd3e4ee0>"
      ]
     },
     "metadata": {},
     "output_type": "display_data"
    },
    {
     "name": "stdout",
     "output_type": "stream",
     "text": [
      "[\u001b[1mtardis.simulation.base\u001b[0m][\u001b[1;37mINFO\u001b[0m   ]  \n",
      "\t\n",
      "\tCurrent t_inner = 10647.277 K\n",
      "\tExpected t_inner for next iteration = 10638.875 K\n",
      " (\u001b[1mbase.py\u001b[0m:542)\n"
     ]
    },
    {
     "name": "stdout",
     "output_type": "stream",
     "text": [
      "[\u001b[1mtardis.simulation.base\u001b[0m][\u001b[1;37mINFO\u001b[0m   ]  \n",
      "\t\n",
      "\tStarting iteration 15 of 20 (\u001b[1mbase.py\u001b[0m:378)\n"
     ]
    },
    {
     "name": "stdout",
     "output_type": "stream",
     "text": [
      "[\u001b[1mtardis.simulation.base\u001b[0m][\u001b[1;37mINFO\u001b[0m   ]  \n",
      "\t\n",
      "\tLuminosity emitted   = 1.053e+43 erg / s\n",
      "\tLuminosity absorbed  = 3.417e+42 erg / s\n",
      "\tLuminosity requested = 1.059e+43 erg / s\n",
      " (\u001b[1mbase.py\u001b[0m:547)\n"
     ]
    },
    {
     "name": "stdout",
     "output_type": "stream",
     "text": [
      "[\u001b[1mtardis.simulation.base\u001b[0m][\u001b[1;37mINFO\u001b[0m   ]  \n",
      "\tIteration converged 3/4 consecutive times. (\u001b[1mbase.py\u001b[0m:259)\n"
     ]
    },
    {
     "name": "stdout",
     "output_type": "stream",
     "text": [
      "[\u001b[1mtardis.simulation.base\u001b[0m][\u001b[1;37mINFO\u001b[0m   ]  \n",
      "\t\n",
      "\tPlasma stratification: (\u001b[1mbase.py\u001b[0m:515)\n"
     ]
    },
    {
     "data": {
      "text/html": [
       "<style  type=\"text/css\" >\n",
       "</style><table id=\"T_15171b1e_cbc7_11ec_bd62_000d3a8cf9bd\" ><thead>    <tr>        <th class=\"index_name level0\" >Shell No.</th>        <th class=\"col_heading level0 col0\" >t_rad</th>        <th class=\"col_heading level0 col1\" >next_t_rad</th>        <th class=\"col_heading level0 col2\" >w</th>        <th class=\"col_heading level0 col3\" >next_w</th>    </tr></thead><tbody>\n",
       "                <tr>\n",
       "                        <th id=\"T_15171b1e_cbc7_11ec_bd62_000d3a8cf9bdlevel0_row0\" class=\"row_heading level0 row0\" >0</th>\n",
       "                        <td id=\"T_15171b1e_cbc7_11ec_bd62_000d3a8cf9bdrow0_col0\" class=\"data row0 col0\" >1.11e+04</td>\n",
       "                        <td id=\"T_15171b1e_cbc7_11ec_bd62_000d3a8cf9bdrow0_col1\" class=\"data row0 col1\" >1.1e+04</td>\n",
       "                        <td id=\"T_15171b1e_cbc7_11ec_bd62_000d3a8cf9bdrow0_col2\" class=\"data row0 col2\" >0.469</td>\n",
       "                        <td id=\"T_15171b1e_cbc7_11ec_bd62_000d3a8cf9bdrow0_col3\" class=\"data row0 col3\" >0.484</td>\n",
       "            </tr>\n",
       "            <tr>\n",
       "                        <th id=\"T_15171b1e_cbc7_11ec_bd62_000d3a8cf9bdlevel0_row1\" class=\"row_heading level0 row1\" >5</th>\n",
       "                        <td id=\"T_15171b1e_cbc7_11ec_bd62_000d3a8cf9bdrow1_col0\" class=\"data row1 col0\" >1.13e+04</td>\n",
       "                        <td id=\"T_15171b1e_cbc7_11ec_bd62_000d3a8cf9bdrow1_col1\" class=\"data row1 col1\" >1.13e+04</td>\n",
       "                        <td id=\"T_15171b1e_cbc7_11ec_bd62_000d3a8cf9bdrow1_col2\" class=\"data row1 col2\" >0.182</td>\n",
       "                        <td id=\"T_15171b1e_cbc7_11ec_bd62_000d3a8cf9bdrow1_col3\" class=\"data row1 col3\" >0.181</td>\n",
       "            </tr>\n",
       "            <tr>\n",
       "                        <th id=\"T_15171b1e_cbc7_11ec_bd62_000d3a8cf9bdlevel0_row2\" class=\"row_heading level0 row2\" >10</th>\n",
       "                        <td id=\"T_15171b1e_cbc7_11ec_bd62_000d3a8cf9bdrow2_col0\" class=\"data row2 col0\" >1.1e+04</td>\n",
       "                        <td id=\"T_15171b1e_cbc7_11ec_bd62_000d3a8cf9bdrow2_col1\" class=\"data row2 col1\" >1.1e+04</td>\n",
       "                        <td id=\"T_15171b1e_cbc7_11ec_bd62_000d3a8cf9bdrow2_col2\" class=\"data row2 col2\" >0.113</td>\n",
       "                        <td id=\"T_15171b1e_cbc7_11ec_bd62_000d3a8cf9bdrow2_col3\" class=\"data row2 col3\" >0.113</td>\n",
       "            </tr>\n",
       "            <tr>\n",
       "                        <th id=\"T_15171b1e_cbc7_11ec_bd62_000d3a8cf9bdlevel0_row3\" class=\"row_heading level0 row3\" >15</th>\n",
       "                        <td id=\"T_15171b1e_cbc7_11ec_bd62_000d3a8cf9bdrow3_col0\" class=\"data row3 col0\" >1.07e+04</td>\n",
       "                        <td id=\"T_15171b1e_cbc7_11ec_bd62_000d3a8cf9bdrow3_col1\" class=\"data row3 col1\" >1.07e+04</td>\n",
       "                        <td id=\"T_15171b1e_cbc7_11ec_bd62_000d3a8cf9bdrow3_col2\" class=\"data row3 col2\" >0.0854</td>\n",
       "                        <td id=\"T_15171b1e_cbc7_11ec_bd62_000d3a8cf9bdrow3_col3\" class=\"data row3 col3\" >0.0858</td>\n",
       "            </tr>\n",
       "    </tbody></table>"
      ],
      "text/plain": [
       "<pandas.io.formats.style.Styler at 0x7fa2ce5fe5b0>"
      ]
     },
     "metadata": {},
     "output_type": "display_data"
    },
    {
     "name": "stdout",
     "output_type": "stream",
     "text": [
      "[\u001b[1mtardis.simulation.base\u001b[0m][\u001b[1;37mINFO\u001b[0m   ]  \n",
      "\t\n",
      "\tCurrent t_inner = 10638.875 K\n",
      "\tExpected t_inner for next iteration = 10655.125 K\n",
      " (\u001b[1mbase.py\u001b[0m:542)\n"
     ]
    },
    {
     "name": "stdout",
     "output_type": "stream",
     "text": [
      "[\u001b[1mtardis.simulation.base\u001b[0m][\u001b[1;37mINFO\u001b[0m   ]  \n",
      "\t\n",
      "\tStarting iteration 16 of 20 (\u001b[1mbase.py\u001b[0m:378)\n"
     ]
    },
    {
     "name": "stdout",
     "output_type": "stream",
     "text": [
      "[\u001b[1mtardis.simulation.base\u001b[0m][\u001b[1;37mINFO\u001b[0m   ]  \n",
      "\t\n",
      "\tLuminosity emitted   = 1.059e+43 erg / s\n",
      "\tLuminosity absorbed  = 3.445e+42 erg / s\n",
      "\tLuminosity requested = 1.059e+43 erg / s\n",
      " (\u001b[1mbase.py\u001b[0m:547)\n"
     ]
    },
    {
     "name": "stdout",
     "output_type": "stream",
     "text": [
      "[\u001b[1mtardis.simulation.base\u001b[0m][\u001b[1;37mINFO\u001b[0m   ]  \n",
      "\tIteration converged 4/4 consecutive times. (\u001b[1mbase.py\u001b[0m:259)\n"
     ]
    },
    {
     "name": "stdout",
     "output_type": "stream",
     "text": [
      "[\u001b[1mtardis.simulation.base\u001b[0m][\u001b[1;37mINFO\u001b[0m   ]  \n",
      "\t\n",
      "\tPlasma stratification: (\u001b[1mbase.py\u001b[0m:515)\n"
     ]
    },
    {
     "data": {
      "text/html": [
       "<style  type=\"text/css\" >\n",
       "</style><table id=\"T_159154c4_cbc7_11ec_bd62_000d3a8cf9bd\" ><thead>    <tr>        <th class=\"index_name level0\" >Shell No.</th>        <th class=\"col_heading level0 col0\" >t_rad</th>        <th class=\"col_heading level0 col1\" >next_t_rad</th>        <th class=\"col_heading level0 col2\" >w</th>        <th class=\"col_heading level0 col3\" >next_w</th>    </tr></thead><tbody>\n",
       "                <tr>\n",
       "                        <th id=\"T_159154c4_cbc7_11ec_bd62_000d3a8cf9bdlevel0_row0\" class=\"row_heading level0 row0\" >0</th>\n",
       "                        <td id=\"T_159154c4_cbc7_11ec_bd62_000d3a8cf9bdrow0_col0\" class=\"data row0 col0\" >1.1e+04</td>\n",
       "                        <td id=\"T_159154c4_cbc7_11ec_bd62_000d3a8cf9bdrow0_col1\" class=\"data row0 col1\" >1.1e+04</td>\n",
       "                        <td id=\"T_159154c4_cbc7_11ec_bd62_000d3a8cf9bdrow0_col2\" class=\"data row0 col2\" >0.484</td>\n",
       "                        <td id=\"T_159154c4_cbc7_11ec_bd62_000d3a8cf9bdrow0_col3\" class=\"data row0 col3\" >0.472</td>\n",
       "            </tr>\n",
       "            <tr>\n",
       "                        <th id=\"T_159154c4_cbc7_11ec_bd62_000d3a8cf9bdlevel0_row1\" class=\"row_heading level0 row1\" >5</th>\n",
       "                        <td id=\"T_159154c4_cbc7_11ec_bd62_000d3a8cf9bdrow1_col0\" class=\"data row1 col0\" >1.13e+04</td>\n",
       "                        <td id=\"T_159154c4_cbc7_11ec_bd62_000d3a8cf9bdrow1_col1\" class=\"data row1 col1\" >1.13e+04</td>\n",
       "                        <td id=\"T_159154c4_cbc7_11ec_bd62_000d3a8cf9bdrow1_col2\" class=\"data row1 col2\" >0.181</td>\n",
       "                        <td id=\"T_159154c4_cbc7_11ec_bd62_000d3a8cf9bdrow1_col3\" class=\"data row1 col3\" >0.177</td>\n",
       "            </tr>\n",
       "            <tr>\n",
       "                        <th id=\"T_159154c4_cbc7_11ec_bd62_000d3a8cf9bdlevel0_row2\" class=\"row_heading level0 row2\" >10</th>\n",
       "                        <td id=\"T_159154c4_cbc7_11ec_bd62_000d3a8cf9bdrow2_col0\" class=\"data row2 col0\" >1.1e+04</td>\n",
       "                        <td id=\"T_159154c4_cbc7_11ec_bd62_000d3a8cf9bdrow2_col1\" class=\"data row2 col1\" >1.1e+04</td>\n",
       "                        <td id=\"T_159154c4_cbc7_11ec_bd62_000d3a8cf9bdrow2_col2\" class=\"data row2 col2\" >0.113</td>\n",
       "                        <td id=\"T_159154c4_cbc7_11ec_bd62_000d3a8cf9bdrow2_col3\" class=\"data row2 col3\" >0.113</td>\n",
       "            </tr>\n",
       "            <tr>\n",
       "                        <th id=\"T_159154c4_cbc7_11ec_bd62_000d3a8cf9bdlevel0_row3\" class=\"row_heading level0 row3\" >15</th>\n",
       "                        <td id=\"T_159154c4_cbc7_11ec_bd62_000d3a8cf9bdrow3_col0\" class=\"data row3 col0\" >1.07e+04</td>\n",
       "                        <td id=\"T_159154c4_cbc7_11ec_bd62_000d3a8cf9bdrow3_col1\" class=\"data row3 col1\" >1.06e+04</td>\n",
       "                        <td id=\"T_159154c4_cbc7_11ec_bd62_000d3a8cf9bdrow3_col2\" class=\"data row3 col2\" >0.0858</td>\n",
       "                        <td id=\"T_159154c4_cbc7_11ec_bd62_000d3a8cf9bdrow3_col3\" class=\"data row3 col3\" >0.0858</td>\n",
       "            </tr>\n",
       "    </tbody></table>"
      ],
      "text/plain": [
       "<pandas.io.formats.style.Styler at 0x7fa2cd3e43a0>"
      ]
     },
     "metadata": {},
     "output_type": "display_data"
    },
    {
     "name": "stdout",
     "output_type": "stream",
     "text": [
      "[\u001b[1mtardis.simulation.base\u001b[0m][\u001b[1;37mINFO\u001b[0m   ]  \n",
      "\t\n",
      "\tCurrent t_inner = 10655.125 K\n",
      "\tExpected t_inner for next iteration = 10655.561 K\n",
      " (\u001b[1mbase.py\u001b[0m:542)\n"
     ]
    },
    {
     "name": "stdout",
     "output_type": "stream",
     "text": [
      "[\u001b[1mtardis.simulation.base\u001b[0m][\u001b[1;37mINFO\u001b[0m   ]  \n",
      "\t\n",
      "\tStarting iteration 17 of 20 (\u001b[1mbase.py\u001b[0m:378)\n"
     ]
    },
    {
     "name": "stdout",
     "output_type": "stream",
     "text": [
      "[\u001b[1mtardis.simulation.base\u001b[0m][\u001b[1;37mINFO\u001b[0m   ]  \n",
      "\t\n",
      "\tLuminosity emitted   = 1.067e+43 erg / s\n",
      "\tLuminosity absorbed  = 3.372e+42 erg / s\n",
      "\tLuminosity requested = 1.059e+43 erg / s\n",
      " (\u001b[1mbase.py\u001b[0m:547)\n"
     ]
    },
    {
     "name": "stdout",
     "output_type": "stream",
     "text": [
      "[\u001b[1mtardis.simulation.base\u001b[0m][\u001b[1;37mINFO\u001b[0m   ]  \n",
      "\t\n",
      "\tPlasma stratification: (\u001b[1mbase.py\u001b[0m:515)\n"
     ]
    },
    {
     "data": {
      "text/html": [
       "<style  type=\"text/css\" >\n",
       "</style><table id=\"T_160c2abe_cbc7_11ec_bd62_000d3a8cf9bd\" ><thead>    <tr>        <th class=\"index_name level0\" >Shell No.</th>        <th class=\"col_heading level0 col0\" >t_rad</th>        <th class=\"col_heading level0 col1\" >next_t_rad</th>        <th class=\"col_heading level0 col2\" >w</th>        <th class=\"col_heading level0 col3\" >next_w</th>    </tr></thead><tbody>\n",
       "                <tr>\n",
       "                        <th id=\"T_160c2abe_cbc7_11ec_bd62_000d3a8cf9bdlevel0_row0\" class=\"row_heading level0 row0\" >0</th>\n",
       "                        <td id=\"T_160c2abe_cbc7_11ec_bd62_000d3a8cf9bdrow0_col0\" class=\"data row0 col0\" >1.1e+04</td>\n",
       "                        <td id=\"T_160c2abe_cbc7_11ec_bd62_000d3a8cf9bdrow0_col1\" class=\"data row0 col1\" >1.11e+04</td>\n",
       "                        <td id=\"T_160c2abe_cbc7_11ec_bd62_000d3a8cf9bdrow0_col2\" class=\"data row0 col2\" >0.472</td>\n",
       "                        <td id=\"T_160c2abe_cbc7_11ec_bd62_000d3a8cf9bdrow0_col3\" class=\"data row0 col3\" >0.468</td>\n",
       "            </tr>\n",
       "            <tr>\n",
       "                        <th id=\"T_160c2abe_cbc7_11ec_bd62_000d3a8cf9bdlevel0_row1\" class=\"row_heading level0 row1\" >5</th>\n",
       "                        <td id=\"T_160c2abe_cbc7_11ec_bd62_000d3a8cf9bdrow1_col0\" class=\"data row1 col0\" >1.13e+04</td>\n",
       "                        <td id=\"T_160c2abe_cbc7_11ec_bd62_000d3a8cf9bdrow1_col1\" class=\"data row1 col1\" >1.14e+04</td>\n",
       "                        <td id=\"T_160c2abe_cbc7_11ec_bd62_000d3a8cf9bdrow1_col2\" class=\"data row1 col2\" >0.177</td>\n",
       "                        <td id=\"T_160c2abe_cbc7_11ec_bd62_000d3a8cf9bdrow1_col3\" class=\"data row1 col3\" >0.175</td>\n",
       "            </tr>\n",
       "            <tr>\n",
       "                        <th id=\"T_160c2abe_cbc7_11ec_bd62_000d3a8cf9bdlevel0_row2\" class=\"row_heading level0 row2\" >10</th>\n",
       "                        <td id=\"T_160c2abe_cbc7_11ec_bd62_000d3a8cf9bdrow2_col0\" class=\"data row2 col0\" >1.1e+04</td>\n",
       "                        <td id=\"T_160c2abe_cbc7_11ec_bd62_000d3a8cf9bdrow2_col1\" class=\"data row2 col1\" >1.11e+04</td>\n",
       "                        <td id=\"T_160c2abe_cbc7_11ec_bd62_000d3a8cf9bdrow2_col2\" class=\"data row2 col2\" >0.113</td>\n",
       "                        <td id=\"T_160c2abe_cbc7_11ec_bd62_000d3a8cf9bdrow2_col3\" class=\"data row2 col3\" >0.11</td>\n",
       "            </tr>\n",
       "            <tr>\n",
       "                        <th id=\"T_160c2abe_cbc7_11ec_bd62_000d3a8cf9bdlevel0_row3\" class=\"row_heading level0 row3\" >15</th>\n",
       "                        <td id=\"T_160c2abe_cbc7_11ec_bd62_000d3a8cf9bdrow3_col0\" class=\"data row3 col0\" >1.06e+04</td>\n",
       "                        <td id=\"T_160c2abe_cbc7_11ec_bd62_000d3a8cf9bdrow3_col1\" class=\"data row3 col1\" >1.08e+04</td>\n",
       "                        <td id=\"T_160c2abe_cbc7_11ec_bd62_000d3a8cf9bdrow3_col2\" class=\"data row3 col2\" >0.0858</td>\n",
       "                        <td id=\"T_160c2abe_cbc7_11ec_bd62_000d3a8cf9bdrow3_col3\" class=\"data row3 col3\" >0.0816</td>\n",
       "            </tr>\n",
       "    </tbody></table>"
      ],
      "text/plain": [
       "<pandas.io.formats.style.Styler at 0x7fa2cd3df910>"
      ]
     },
     "metadata": {},
     "output_type": "display_data"
    },
    {
     "name": "stdout",
     "output_type": "stream",
     "text": [
      "[\u001b[1mtardis.simulation.base\u001b[0m][\u001b[1;37mINFO\u001b[0m   ]  \n",
      "\t\n",
      "\tCurrent t_inner = 10655.561 K\n",
      "\tExpected t_inner for next iteration = 10636.536 K\n",
      " (\u001b[1mbase.py\u001b[0m:542)\n"
     ]
    },
    {
     "name": "stdout",
     "output_type": "stream",
     "text": [
      "[\u001b[1mtardis.simulation.base\u001b[0m][\u001b[1;37mINFO\u001b[0m   ]  \n",
      "\t\n",
      "\tStarting iteration 18 of 20 (\u001b[1mbase.py\u001b[0m:378)\n"
     ]
    },
    {
     "name": "stdout",
     "output_type": "stream",
     "text": [
      "[\u001b[1mtardis.simulation.base\u001b[0m][\u001b[1;37mINFO\u001b[0m   ]  \n",
      "\t\n",
      "\tLuminosity emitted   = 1.057e+43 erg / s\n",
      "\tLuminosity absorbed  = 3.365e+42 erg / s\n",
      "\tLuminosity requested = 1.059e+43 erg / s\n",
      " (\u001b[1mbase.py\u001b[0m:547)\n"
     ]
    },
    {
     "name": "stdout",
     "output_type": "stream",
     "text": [
      "[\u001b[1mtardis.simulation.base\u001b[0m][\u001b[1;37mINFO\u001b[0m   ]  \n",
      "\tIteration converged 1/4 consecutive times. (\u001b[1mbase.py\u001b[0m:259)\n"
     ]
    },
    {
     "name": "stdout",
     "output_type": "stream",
     "text": [
      "[\u001b[1mtardis.simulation.base\u001b[0m][\u001b[1;37mINFO\u001b[0m   ]  \n",
      "\t\n",
      "\tPlasma stratification: (\u001b[1mbase.py\u001b[0m:515)\n"
     ]
    },
    {
     "data": {
      "text/html": [
       "<style  type=\"text/css\" >\n",
       "</style><table id=\"T_1687135a_cbc7_11ec_bd62_000d3a8cf9bd\" ><thead>    <tr>        <th class=\"index_name level0\" >Shell No.</th>        <th class=\"col_heading level0 col0\" >t_rad</th>        <th class=\"col_heading level0 col1\" >next_t_rad</th>        <th class=\"col_heading level0 col2\" >w</th>        <th class=\"col_heading level0 col3\" >next_w</th>    </tr></thead><tbody>\n",
       "                <tr>\n",
       "                        <th id=\"T_1687135a_cbc7_11ec_bd62_000d3a8cf9bdlevel0_row0\" class=\"row_heading level0 row0\" >0</th>\n",
       "                        <td id=\"T_1687135a_cbc7_11ec_bd62_000d3a8cf9bdrow0_col0\" class=\"data row0 col0\" >1.11e+04</td>\n",
       "                        <td id=\"T_1687135a_cbc7_11ec_bd62_000d3a8cf9bdrow0_col1\" class=\"data row0 col1\" >1.11e+04</td>\n",
       "                        <td id=\"T_1687135a_cbc7_11ec_bd62_000d3a8cf9bdrow0_col2\" class=\"data row0 col2\" >0.468</td>\n",
       "                        <td id=\"T_1687135a_cbc7_11ec_bd62_000d3a8cf9bdrow0_col3\" class=\"data row0 col3\" >0.464</td>\n",
       "            </tr>\n",
       "            <tr>\n",
       "                        <th id=\"T_1687135a_cbc7_11ec_bd62_000d3a8cf9bdlevel0_row1\" class=\"row_heading level0 row1\" >5</th>\n",
       "                        <td id=\"T_1687135a_cbc7_11ec_bd62_000d3a8cf9bdrow1_col0\" class=\"data row1 col0\" >1.14e+04</td>\n",
       "                        <td id=\"T_1687135a_cbc7_11ec_bd62_000d3a8cf9bdrow1_col1\" class=\"data row1 col1\" >1.13e+04</td>\n",
       "                        <td id=\"T_1687135a_cbc7_11ec_bd62_000d3a8cf9bdrow1_col2\" class=\"data row1 col2\" >0.175</td>\n",
       "                        <td id=\"T_1687135a_cbc7_11ec_bd62_000d3a8cf9bdrow1_col3\" class=\"data row1 col3\" >0.177</td>\n",
       "            </tr>\n",
       "            <tr>\n",
       "                        <th id=\"T_1687135a_cbc7_11ec_bd62_000d3a8cf9bdlevel0_row2\" class=\"row_heading level0 row2\" >10</th>\n",
       "                        <td id=\"T_1687135a_cbc7_11ec_bd62_000d3a8cf9bdrow2_col0\" class=\"data row2 col0\" >1.11e+04</td>\n",
       "                        <td id=\"T_1687135a_cbc7_11ec_bd62_000d3a8cf9bdrow2_col1\" class=\"data row2 col1\" >1.1e+04</td>\n",
       "                        <td id=\"T_1687135a_cbc7_11ec_bd62_000d3a8cf9bdrow2_col2\" class=\"data row2 col2\" >0.11</td>\n",
       "                        <td id=\"T_1687135a_cbc7_11ec_bd62_000d3a8cf9bdrow2_col3\" class=\"data row2 col3\" >0.113</td>\n",
       "            </tr>\n",
       "            <tr>\n",
       "                        <th id=\"T_1687135a_cbc7_11ec_bd62_000d3a8cf9bdlevel0_row3\" class=\"row_heading level0 row3\" >15</th>\n",
       "                        <td id=\"T_1687135a_cbc7_11ec_bd62_000d3a8cf9bdrow3_col0\" class=\"data row3 col0\" >1.08e+04</td>\n",
       "                        <td id=\"T_1687135a_cbc7_11ec_bd62_000d3a8cf9bdrow3_col1\" class=\"data row3 col1\" >1.07e+04</td>\n",
       "                        <td id=\"T_1687135a_cbc7_11ec_bd62_000d3a8cf9bdrow3_col2\" class=\"data row3 col2\" >0.0816</td>\n",
       "                        <td id=\"T_1687135a_cbc7_11ec_bd62_000d3a8cf9bdrow3_col3\" class=\"data row3 col3\" >0.0848</td>\n",
       "            </tr>\n",
       "    </tbody></table>"
      ],
      "text/plain": [
       "<pandas.io.formats.style.Styler at 0x7fa2cd3e4e80>"
      ]
     },
     "metadata": {},
     "output_type": "display_data"
    },
    {
     "name": "stdout",
     "output_type": "stream",
     "text": [
      "[\u001b[1mtardis.simulation.base\u001b[0m][\u001b[1;37mINFO\u001b[0m   ]  \n",
      "\t\n",
      "\tCurrent t_inner = 10636.536 K\n",
      "\tExpected t_inner for next iteration = 10641.692 K\n",
      " (\u001b[1mbase.py\u001b[0m:542)\n"
     ]
    },
    {
     "name": "stdout",
     "output_type": "stream",
     "text": [
      "[\u001b[1mtardis.simulation.base\u001b[0m][\u001b[1;37mINFO\u001b[0m   ]  \n",
      "\t\n",
      "\tStarting iteration 19 of 20 (\u001b[1mbase.py\u001b[0m:378)\n"
     ]
    },
    {
     "name": "stdout",
     "output_type": "stream",
     "text": [
      "[\u001b[1mtardis.simulation.base\u001b[0m][\u001b[1;37mINFO\u001b[0m   ]  \n",
      "\t\n",
      "\tLuminosity emitted   = 1.056e+43 erg / s\n",
      "\tLuminosity absorbed  = 3.405e+42 erg / s\n",
      "\tLuminosity requested = 1.059e+43 erg / s\n",
      " (\u001b[1mbase.py\u001b[0m:547)\n"
     ]
    },
    {
     "name": "stdout",
     "output_type": "stream",
     "text": [
      "[\u001b[1mtardis.simulation.base\u001b[0m][\u001b[1;37mINFO\u001b[0m   ]  \n",
      "\tIteration converged 2/4 consecutive times. (\u001b[1mbase.py\u001b[0m:259)\n"
     ]
    },
    {
     "name": "stdout",
     "output_type": "stream",
     "text": [
      "[\u001b[1mtardis.simulation.base\u001b[0m][\u001b[1;37mINFO\u001b[0m   ]  \n",
      "\t\n",
      "\tPlasma stratification: (\u001b[1mbase.py\u001b[0m:515)\n"
     ]
    },
    {
     "data": {
      "text/html": [
       "<style  type=\"text/css\" >\n",
       "</style><table id=\"T_17015246_cbc7_11ec_bd62_000d3a8cf9bd\" ><thead>    <tr>        <th class=\"index_name level0\" >Shell No.</th>        <th class=\"col_heading level0 col0\" >t_rad</th>        <th class=\"col_heading level0 col1\" >next_t_rad</th>        <th class=\"col_heading level0 col2\" >w</th>        <th class=\"col_heading level0 col3\" >next_w</th>    </tr></thead><tbody>\n",
       "                <tr>\n",
       "                        <th id=\"T_17015246_cbc7_11ec_bd62_000d3a8cf9bdlevel0_row0\" class=\"row_heading level0 row0\" >0</th>\n",
       "                        <td id=\"T_17015246_cbc7_11ec_bd62_000d3a8cf9bdrow0_col0\" class=\"data row0 col0\" >1.11e+04</td>\n",
       "                        <td id=\"T_17015246_cbc7_11ec_bd62_000d3a8cf9bdrow0_col1\" class=\"data row0 col1\" >1.11e+04</td>\n",
       "                        <td id=\"T_17015246_cbc7_11ec_bd62_000d3a8cf9bdrow0_col2\" class=\"data row0 col2\" >0.464</td>\n",
       "                        <td id=\"T_17015246_cbc7_11ec_bd62_000d3a8cf9bdrow0_col3\" class=\"data row0 col3\" >0.466</td>\n",
       "            </tr>\n",
       "            <tr>\n",
       "                        <th id=\"T_17015246_cbc7_11ec_bd62_000d3a8cf9bdlevel0_row1\" class=\"row_heading level0 row1\" >5</th>\n",
       "                        <td id=\"T_17015246_cbc7_11ec_bd62_000d3a8cf9bdrow1_col0\" class=\"data row1 col0\" >1.13e+04</td>\n",
       "                        <td id=\"T_17015246_cbc7_11ec_bd62_000d3a8cf9bdrow1_col1\" class=\"data row1 col1\" >1.13e+04</td>\n",
       "                        <td id=\"T_17015246_cbc7_11ec_bd62_000d3a8cf9bdrow1_col2\" class=\"data row1 col2\" >0.177</td>\n",
       "                        <td id=\"T_17015246_cbc7_11ec_bd62_000d3a8cf9bdrow1_col3\" class=\"data row1 col3\" >0.177</td>\n",
       "            </tr>\n",
       "            <tr>\n",
       "                        <th id=\"T_17015246_cbc7_11ec_bd62_000d3a8cf9bdlevel0_row2\" class=\"row_heading level0 row2\" >10</th>\n",
       "                        <td id=\"T_17015246_cbc7_11ec_bd62_000d3a8cf9bdrow2_col0\" class=\"data row2 col0\" >1.1e+04</td>\n",
       "                        <td id=\"T_17015246_cbc7_11ec_bd62_000d3a8cf9bdrow2_col1\" class=\"data row2 col1\" >1.11e+04</td>\n",
       "                        <td id=\"T_17015246_cbc7_11ec_bd62_000d3a8cf9bdrow2_col2\" class=\"data row2 col2\" >0.113</td>\n",
       "                        <td id=\"T_17015246_cbc7_11ec_bd62_000d3a8cf9bdrow2_col3\" class=\"data row2 col3\" >0.111</td>\n",
       "            </tr>\n",
       "            <tr>\n",
       "                        <th id=\"T_17015246_cbc7_11ec_bd62_000d3a8cf9bdlevel0_row3\" class=\"row_heading level0 row3\" >15</th>\n",
       "                        <td id=\"T_17015246_cbc7_11ec_bd62_000d3a8cf9bdrow3_col0\" class=\"data row3 col0\" >1.07e+04</td>\n",
       "                        <td id=\"T_17015246_cbc7_11ec_bd62_000d3a8cf9bdrow3_col1\" class=\"data row3 col1\" >1.07e+04</td>\n",
       "                        <td id=\"T_17015246_cbc7_11ec_bd62_000d3a8cf9bdrow3_col2\" class=\"data row3 col2\" >0.0848</td>\n",
       "                        <td id=\"T_17015246_cbc7_11ec_bd62_000d3a8cf9bdrow3_col3\" class=\"data row3 col3\" >0.0853</td>\n",
       "            </tr>\n",
       "    </tbody></table>"
      ],
      "text/plain": [
       "<pandas.io.formats.style.Styler at 0x7fa2cd27ae20>"
      ]
     },
     "metadata": {},
     "output_type": "display_data"
    },
    {
     "name": "stdout",
     "output_type": "stream",
     "text": [
      "[\u001b[1mtardis.simulation.base\u001b[0m][\u001b[1;37mINFO\u001b[0m   ]  \n",
      "\t\n",
      "\tCurrent t_inner = 10641.692 K\n",
      "\tExpected t_inner for next iteration = 10650.463 K\n",
      " (\u001b[1mbase.py\u001b[0m:542)\n"
     ]
    },
    {
     "name": "stdout",
     "output_type": "stream",
     "text": [
      "[\u001b[1mtardis.simulation.base\u001b[0m][\u001b[1;37mINFO\u001b[0m   ]  \n",
      "\t\n",
      "\tStarting iteration 20 of 20 (\u001b[1mbase.py\u001b[0m:378)\n"
     ]
    },
    {
     "name": "stdout",
     "output_type": "stream",
     "text": [
      "[\u001b[1mtardis.simulation.base\u001b[0m][\u001b[1;37mINFO\u001b[0m   ]  \n",
      "\t\n",
      "\tLuminosity emitted   = 1.061e+43 erg / s\n",
      "\tLuminosity absorbed  = 3.401e+42 erg / s\n",
      "\tLuminosity requested = 1.059e+43 erg / s\n",
      " (\u001b[1mbase.py\u001b[0m:547)\n"
     ]
    },
    {
     "name": "stdout",
     "output_type": "stream",
     "text": [
      "[\u001b[1mtardis.simulation.base\u001b[0m][\u001b[1;37mINFO\u001b[0m   ]  \n",
      "\t\n",
      "\tSimulation finished in 20 iterations \n",
      "\tSimulation took 48.60 s\n",
      " (\u001b[1mbase.py\u001b[0m:468)\n"
     ]
    }
   ],
   "source": [
    "from tardis import run_tardis\n",
    "from tardis.io.atom_data.util import download_atom_data\n",
    "\n",
    "# We download the atomic data needed to run the simulation\n",
    "download_atom_data('kurucz_cd23_chianti_H_He')\n",
    "\n",
    "# We run the simulation\n",
    "simulation = run_tardis('tardis_example.yml')"
   ]
  },
  {
   "cell_type": "markdown",
   "metadata": {},
   "source": [
    "You can now use the `to_hdf` method, to save properties to a HDF file.\n",
    "\n",
    "#### Parameters  \n",
    "\n",
    "`file_path`: Path where the HDF file should be stored. (Required)  \n",
    "`path`: Path inside the HDF store to store the elements. (Optional)  \n",
    "`name`: Name of the group inside HDF store, under which properties will be saved.(Optional)\n",
    "`overwrite`: If the HDF file already exists, do you overwrite the existing file (Optional, default `False`)\n",
    "\n",
    "<div class=\"alert alert-info\">\n",
    "\n",
    "Note\n",
    "    \n",
    "Throughout this notebook, we set ``overwrite=True`` so that the notebook can be run repeatedly if needed.\n",
    "\n",
    "</div>"
   ]
  },
  {
   "cell_type": "code",
   "execution_count": 2,
   "metadata": {
    "execution": {
     "iopub.execute_input": "2022-05-04T16:27:37.483897Z",
     "iopub.status.busy": "2022-05-04T16:27:37.483372Z",
     "iopub.status.idle": "2022-05-04T16:27:38.016609Z",
     "shell.execute_reply": "2022-05-04T16:27:38.015446Z"
    }
   },
   "outputs": [
    {
     "name": "stdout",
     "output_type": "stream",
     "text": [
      "[\u001b[1mpy.warnings         \u001b[0m][\u001b[1;33mWARNING\u001b[0m]  \n",
      "\t/usr/share/miniconda3/envs/tardis/lib/python3.8/site-packages/pandas/core/generic.py:2490: PerformanceWarning: \n",
      "your performance may suffer as PyTables will pickle object types that it cannot\n",
      "map directly to c-types [inferred_type->mixed,key->block0_values] [items->Int64Index([0], dtype='int64')]\n",
      "\n",
      "  pytables.to_hdf(\n",
      " (\u001b[1mwarnings.py\u001b[0m:109)\n"
     ]
    },
    {
     "name": "stdout",
     "output_type": "stream",
     "text": [
      "[\u001b[1mpy.warnings         \u001b[0m][\u001b[1;33mWARNING\u001b[0m]  \n",
      "\t/usr/share/miniconda3/envs/tardis/lib/python3.8/site-packages/pandas/core/generic.py:2490: PerformanceWarning: \n",
      "your performance may suffer as PyTables will pickle object types that it cannot\n",
      "map directly to c-types [inferred_type->mixed,key->values] [items->None]\n",
      "\n",
      "  pytables.to_hdf(\n",
      " (\u001b[1mwarnings.py\u001b[0m:109)\n"
     ]
    }
   ],
   "source": [
    "simulation.to_hdf('/tmp/full_example.hdf', overwrite=True)\n",
    "\n",
    "# The commented out code below shows an example of to_hdf with more parameters\n",
    "#simulation.to_hdf(file_path='/tmp/full_example.hdf', path='/', name='simulation')"
   ]
  },
  {
   "cell_type": "markdown",
   "metadata": {},
   "source": [
    "Open the stored HDF file with pandas and print a list of its entries using the `keys()` method:"
   ]
  },
  {
   "cell_type": "code",
   "execution_count": 3,
   "metadata": {
    "execution": {
     "iopub.execute_input": "2022-05-04T16:27:38.021094Z",
     "iopub.status.busy": "2022-05-04T16:27:38.020755Z",
     "iopub.status.idle": "2022-05-04T16:27:38.078781Z",
     "shell.execute_reply": "2022-05-04T16:27:38.078085Z"
    },
    "scrolled": false
   },
   "outputs": [
    {
     "data": {
      "text/plain": [
       "['/simulation/iterations_electron_densities',\n",
       " '/simulation/iterations_t_inner',\n",
       " '/simulation/iterations_t_rad',\n",
       " '/simulation/iterations_w',\n",
       " '/simulation/runner/emitted_packet_mask',\n",
       " '/simulation/runner/j_estimator',\n",
       " '/simulation/runner/last_interaction_in_nu',\n",
       " '/simulation/runner/last_interaction_type',\n",
       " '/simulation/runner/last_line_interaction_in_id',\n",
       " '/simulation/runner/last_line_interaction_out_id',\n",
       " '/simulation/runner/last_line_interaction_shell_id',\n",
       " '/simulation/runner/montecarlo_virtual_luminosity',\n",
       " '/simulation/runner/nu_bar_estimator',\n",
       " '/simulation/runner/output_energy',\n",
       " '/simulation/runner/output_nu',\n",
       " '/simulation/runner/packet_luminosity',\n",
       " '/simulation/runner/scalars',\n",
       " '/simulation/runner/spectrum_virtual/_frequency',\n",
       " '/simulation/runner/spectrum_virtual/luminosity',\n",
       " '/simulation/runner/spectrum_virtual/luminosity_density_lambda',\n",
       " '/simulation/runner/spectrum_virtual/scalars',\n",
       " '/simulation/runner/spectrum_virtual/wavelength',\n",
       " '/simulation/runner/spectrum_reabsorbed/_frequency',\n",
       " '/simulation/runner/spectrum_reabsorbed/luminosity',\n",
       " '/simulation/runner/spectrum_reabsorbed/luminosity_density_lambda',\n",
       " '/simulation/runner/spectrum_reabsorbed/scalars',\n",
       " '/simulation/runner/spectrum_reabsorbed/wavelength',\n",
       " '/simulation/runner/spectrum/_frequency',\n",
       " '/simulation/runner/spectrum/luminosity',\n",
       " '/simulation/runner/spectrum/luminosity_density_lambda',\n",
       " '/simulation/runner/spectrum/scalars',\n",
       " '/simulation/runner/spectrum/wavelength',\n",
       " '/simulation/plasma/abundance',\n",
       " '/simulation/plasma/atomic_mass',\n",
       " '/simulation/plasma/beta_rad',\n",
       " '/simulation/plasma/beta_sobolev',\n",
       " '/simulation/plasma/continuum_interaction_species',\n",
       " '/simulation/plasma/density',\n",
       " '/simulation/plasma/electron_densities',\n",
       " '/simulation/plasma/excitation_energy',\n",
       " '/simulation/plasma/f_lu',\n",
       " '/simulation/plasma/g',\n",
       " '/simulation/plasma/g_electron',\n",
       " '/simulation/plasma/general_level_boltzmann_factor',\n",
       " '/simulation/plasma/ion_number_density',\n",
       " '/simulation/plasma/ionization_data',\n",
       " '/simulation/plasma/j_blues',\n",
       " '/simulation/plasma/level_boltzmann_factor',\n",
       " '/simulation/plasma/level_number_density',\n",
       " '/simulation/plasma/levels',\n",
       " '/simulation/plasma/lines',\n",
       " '/simulation/plasma/lines_lower_level_index',\n",
       " '/simulation/plasma/lines_upper_level_index',\n",
       " '/simulation/plasma/macro_atom_data',\n",
       " '/simulation/plasma/metastability',\n",
       " '/simulation/plasma/nu',\n",
       " '/simulation/plasma/number_density',\n",
       " '/simulation/plasma/partition_function',\n",
       " '/simulation/plasma/phi',\n",
       " '/simulation/plasma/scalars',\n",
       " '/simulation/plasma/selected_atoms',\n",
       " '/simulation/plasma/stimulated_emission_factor',\n",
       " '/simulation/plasma/t_electrons',\n",
       " '/simulation/plasma/t_rad',\n",
       " '/simulation/plasma/tau_sobolevs',\n",
       " '/simulation/plasma/transition_probabilities',\n",
       " '/simulation/plasma/w',\n",
       " '/simulation/plasma/wavelength_cm',\n",
       " '/simulation/model/r_inner',\n",
       " '/simulation/model/scalars',\n",
       " '/simulation/model/t_radiative',\n",
       " '/simulation/model/v_inner',\n",
       " '/simulation/model/v_outer',\n",
       " '/simulation/model/w',\n",
       " '/simulation/model/homologous_density/density_0',\n",
       " '/simulation/model/homologous_density/scalars']"
      ]
     },
     "execution_count": 3,
     "metadata": {},
     "output_type": "execute_result"
    }
   ],
   "source": [
    "import pandas as pd\n",
    "\n",
    "data = pd.HDFStore('/tmp/full_example.hdf', overwrite=True)\n",
    "\n",
    "data.keys()"
   ]
  },
  {
   "cell_type": "markdown",
   "metadata": {},
   "source": [
    "Access `model.homologous_density.density_0` under simulation, which is a one-dimensional array"
   ]
  },
  {
   "cell_type": "code",
   "execution_count": 4,
   "metadata": {
    "execution": {
     "iopub.execute_input": "2022-05-04T16:27:38.082144Z",
     "iopub.status.busy": "2022-05-04T16:27:38.081702Z",
     "iopub.status.idle": "2022-05-04T16:27:38.089470Z",
     "shell.execute_reply": "2022-05-04T16:27:38.088828Z"
    }
   },
   "outputs": [
    {
     "name": "stdout",
     "output_type": "stream",
     "text": [
      "0     1970.527174\n",
      "1       13.360318\n",
      "2       10.146658\n",
      "3        7.786621\n",
      "4        6.033444\n",
      "5        4.717122\n",
      "6        3.718946\n",
      "7        2.954982\n",
      "8        2.365191\n",
      "9        1.906156\n",
      "10       1.546154\n",
      "11       1.261789\n",
      "12       1.035646\n",
      "13       0.854653\n",
      "14       0.708918\n",
      "15       0.590901\n",
      "16       0.494811\n",
      "17       0.416168\n",
      "18       0.351490\n",
      "19       0.298047\n",
      "20       0.253691\n",
      "dtype: float64\n"
     ]
    }
   ],
   "source": [
    "print(data['/simulation/model/homologous_density/density_0'])"
   ]
  },
  {
   "cell_type": "markdown",
   "metadata": {
    "collapsed": true
   },
   "source": [
    "Scalars are stored in a `scalars` `pandas.Series` for every module. For example to access `model.t_inner` under simulation, one would need to do the following."
   ]
  },
  {
   "cell_type": "code",
   "execution_count": 5,
   "metadata": {
    "execution": {
     "iopub.execute_input": "2022-05-04T16:27:38.092981Z",
     "iopub.status.busy": "2022-05-04T16:27:38.092408Z",
     "iopub.status.idle": "2022-05-04T16:27:38.098868Z",
     "shell.execute_reply": "2022-05-04T16:27:38.098220Z"
    }
   },
   "outputs": [
    {
     "name": "stdout",
     "output_type": "stream",
     "text": [
      "10650.463255529794\n"
     ]
    }
   ],
   "source": [
    "print(data['/simulation/model/scalars']['t_inner'])"
   ]
  },
  {
   "cell_type": "markdown",
   "metadata": {},
   "source": [
    "## Breakdown of the various to_hdf methods\n",
    "Every module in TARDIS has its own `to_hdf` method responsible to store its own data to an HDF file."
   ]
  },
  {
   "cell_type": "markdown",
   "metadata": {},
   "source": [
    "### Plasma\n",
    "The following call will store every plasma property to `/tmp/plasma_output.hdf` under `/parent/plasma`"
   ]
  },
  {
   "cell_type": "code",
   "execution_count": 6,
   "metadata": {
    "execution": {
     "iopub.execute_input": "2022-05-04T16:27:38.101656Z",
     "iopub.status.busy": "2022-05-04T16:27:38.101337Z",
     "iopub.status.idle": "2022-05-04T16:27:38.395534Z",
     "shell.execute_reply": "2022-05-04T16:27:38.394745Z"
    }
   },
   "outputs": [],
   "source": [
    "simulation.plasma.to_hdf('/tmp/plasma_output.hdf', path='parent', overwrite=True)"
   ]
  },
  {
   "cell_type": "code",
   "execution_count": 7,
   "metadata": {
    "execution": {
     "iopub.execute_input": "2022-05-04T16:27:38.399094Z",
     "iopub.status.busy": "2022-05-04T16:27:38.398636Z",
     "iopub.status.idle": "2022-05-04T16:27:38.428585Z",
     "shell.execute_reply": "2022-05-04T16:27:38.427955Z"
    },
    "scrolled": false
   },
   "outputs": [
    {
     "data": {
      "text/plain": [
       "['/parent/plasma/abundance',\n",
       " '/parent/plasma/atomic_mass',\n",
       " '/parent/plasma/beta_rad',\n",
       " '/parent/plasma/beta_sobolev',\n",
       " '/parent/plasma/continuum_interaction_species',\n",
       " '/parent/plasma/density',\n",
       " '/parent/plasma/electron_densities',\n",
       " '/parent/plasma/excitation_energy',\n",
       " '/parent/plasma/f_lu',\n",
       " '/parent/plasma/g',\n",
       " '/parent/plasma/g_electron',\n",
       " '/parent/plasma/general_level_boltzmann_factor',\n",
       " '/parent/plasma/ion_number_density',\n",
       " '/parent/plasma/ionization_data',\n",
       " '/parent/plasma/j_blues',\n",
       " '/parent/plasma/level_boltzmann_factor',\n",
       " '/parent/plasma/level_number_density',\n",
       " '/parent/plasma/levels',\n",
       " '/parent/plasma/lines',\n",
       " '/parent/plasma/lines_lower_level_index',\n",
       " '/parent/plasma/lines_upper_level_index',\n",
       " '/parent/plasma/macro_atom_data',\n",
       " '/parent/plasma/metastability',\n",
       " '/parent/plasma/nu',\n",
       " '/parent/plasma/number_density',\n",
       " '/parent/plasma/partition_function',\n",
       " '/parent/plasma/phi',\n",
       " '/parent/plasma/scalars',\n",
       " '/parent/plasma/selected_atoms',\n",
       " '/parent/plasma/stimulated_emission_factor',\n",
       " '/parent/plasma/t_electrons',\n",
       " '/parent/plasma/t_rad',\n",
       " '/parent/plasma/tau_sobolevs',\n",
       " '/parent/plasma/transition_probabilities',\n",
       " '/parent/plasma/w',\n",
       " '/parent/plasma/wavelength_cm']"
      ]
     },
     "execution_count": 7,
     "metadata": {},
     "output_type": "execute_result"
    }
   ],
   "source": [
    "import pandas\n",
    "\n",
    "plasma_data = pandas.HDFStore('/tmp/plasma_output.hdf')\n",
    "\n",
    "plasma_data.keys()"
   ]
  },
  {
   "cell_type": "markdown",
   "metadata": {},
   "source": [
    "Plasma's `to_hdf` method can also accept a `collection` parameter which can specify which types of plasma properties will be stored. For example if we wanted to only store Input plasma properties, we would do the following:"
   ]
  },
  {
   "cell_type": "code",
   "execution_count": 8,
   "metadata": {
    "execution": {
     "iopub.execute_input": "2022-05-04T16:27:38.431869Z",
     "iopub.status.busy": "2022-05-04T16:27:38.431350Z",
     "iopub.status.idle": "2022-05-04T16:27:38.465780Z",
     "shell.execute_reply": "2022-05-04T16:27:38.465115Z"
    }
   },
   "outputs": [],
   "source": [
    "from tardis.plasma.properties.base import Input\n",
    "simulation.plasma.to_hdf('/tmp/plasma_input_output.hdf', collection=[Input], overwrite=True)"
   ]
  },
  {
   "cell_type": "code",
   "execution_count": 9,
   "metadata": {
    "execution": {
     "iopub.execute_input": "2022-05-04T16:27:38.469635Z",
     "iopub.status.busy": "2022-05-04T16:27:38.469285Z",
     "iopub.status.idle": "2022-05-04T16:27:38.478871Z",
     "shell.execute_reply": "2022-05-04T16:27:38.478242Z"
    }
   },
   "outputs": [
    {
     "data": {
      "text/plain": [
       "['/plasma/abundance',\n",
       " '/plasma/continuum_interaction_species',\n",
       " '/plasma/density',\n",
       " '/plasma/scalars',\n",
       " '/plasma/t_rad',\n",
       " '/plasma/w']"
      ]
     },
     "execution_count": 9,
     "metadata": {},
     "output_type": "execute_result"
    }
   ],
   "source": [
    "import pandas\n",
    "\n",
    "plasma_input_data = pandas.HDFStore('/tmp/plasma_input_output.hdf')\n",
    "\n",
    "plasma_input_data.keys()"
   ]
  },
  {
   "cell_type": "markdown",
   "metadata": {},
   "source": [
    "### Model\n",
    "The following call will store properties of the `Radial1DModel` to `/tmp/model_output.hdf` under `/model`."
   ]
  },
  {
   "cell_type": "code",
   "execution_count": 10,
   "metadata": {
    "execution": {
     "iopub.execute_input": "2022-05-04T16:27:38.481874Z",
     "iopub.status.busy": "2022-05-04T16:27:38.481477Z",
     "iopub.status.idle": "2022-05-04T16:27:38.515781Z",
     "shell.execute_reply": "2022-05-04T16:27:38.515086Z"
    }
   },
   "outputs": [],
   "source": [
    "simulation.model.to_hdf('/tmp/model_output.hdf', overwrite=True)"
   ]
  },
  {
   "cell_type": "code",
   "execution_count": 11,
   "metadata": {
    "execution": {
     "iopub.execute_input": "2022-05-04T16:27:38.519190Z",
     "iopub.status.busy": "2022-05-04T16:27:38.518738Z",
     "iopub.status.idle": "2022-05-04T16:27:38.530441Z",
     "shell.execute_reply": "2022-05-04T16:27:38.529760Z"
    }
   },
   "outputs": [
    {
     "data": {
      "text/plain": [
       "['/model/r_inner',\n",
       " '/model/scalars',\n",
       " '/model/t_radiative',\n",
       " '/model/v_inner',\n",
       " '/model/v_outer',\n",
       " '/model/w',\n",
       " '/model/homologous_density/density_0',\n",
       " '/model/homologous_density/scalars']"
      ]
     },
     "execution_count": 11,
     "metadata": {},
     "output_type": "execute_result"
    }
   ],
   "source": [
    "import pandas\n",
    "\n",
    "model_data = pandas.HDFStore('/tmp/model_output.hdf')\n",
    "\n",
    "model_data.keys()"
   ]
  },
  {
   "cell_type": "markdown",
   "metadata": {},
   "source": [
    "### MontecarloRunner\n",
    "The following call will store properties of the `MontecarloRunner` to `/tmp/runner_output.hdf` under `/runner`."
   ]
  },
  {
   "cell_type": "code",
   "execution_count": 12,
   "metadata": {
    "execution": {
     "iopub.execute_input": "2022-05-04T16:27:38.533717Z",
     "iopub.status.busy": "2022-05-04T16:27:38.533207Z",
     "iopub.status.idle": "2022-05-04T16:27:38.688483Z",
     "shell.execute_reply": "2022-05-04T16:27:38.687761Z"
    }
   },
   "outputs": [],
   "source": [
    "simulation.runner.to_hdf('/tmp/runner_output.hdf', overwrite=True)"
   ]
  },
  {
   "cell_type": "code",
   "execution_count": 13,
   "metadata": {
    "execution": {
     "iopub.execute_input": "2022-05-04T16:27:38.693061Z",
     "iopub.status.busy": "2022-05-04T16:27:38.692546Z",
     "iopub.status.idle": "2022-05-04T16:27:38.717301Z",
     "shell.execute_reply": "2022-05-04T16:27:38.716654Z"
    }
   },
   "outputs": [
    {
     "data": {
      "text/plain": [
       "['/runner/emitted_packet_mask',\n",
       " '/runner/j_estimator',\n",
       " '/runner/last_interaction_in_nu',\n",
       " '/runner/last_interaction_type',\n",
       " '/runner/last_line_interaction_in_id',\n",
       " '/runner/last_line_interaction_out_id',\n",
       " '/runner/last_line_interaction_shell_id',\n",
       " '/runner/montecarlo_virtual_luminosity',\n",
       " '/runner/nu_bar_estimator',\n",
       " '/runner/output_energy',\n",
       " '/runner/output_nu',\n",
       " '/runner/packet_luminosity',\n",
       " '/runner/scalars',\n",
       " '/runner/spectrum_virtual/_frequency',\n",
       " '/runner/spectrum_virtual/luminosity',\n",
       " '/runner/spectrum_virtual/luminosity_density_lambda',\n",
       " '/runner/spectrum_virtual/scalars',\n",
       " '/runner/spectrum_virtual/wavelength',\n",
       " '/runner/spectrum_reabsorbed/_frequency',\n",
       " '/runner/spectrum_reabsorbed/luminosity',\n",
       " '/runner/spectrum_reabsorbed/luminosity_density_lambda',\n",
       " '/runner/spectrum_reabsorbed/scalars',\n",
       " '/runner/spectrum_reabsorbed/wavelength',\n",
       " '/runner/spectrum/_frequency',\n",
       " '/runner/spectrum/luminosity',\n",
       " '/runner/spectrum/luminosity_density_lambda',\n",
       " '/runner/spectrum/scalars',\n",
       " '/runner/spectrum/wavelength']"
      ]
     },
     "execution_count": 13,
     "metadata": {},
     "output_type": "execute_result"
    }
   ],
   "source": [
    "import pandas\n",
    "\n",
    "runner_data = pandas.HDFStore('/tmp/runner_output.hdf')\n",
    "\n",
    "runner_data.keys()"
   ]
  }
 ],
 "metadata": {
  "celltoolbar": "Raw Cell Format",
  "kernelspec": {
   "display_name": "Python 3",
   "language": "python",
   "name": "python3"
  },
  "language_info": {
   "codemirror_mode": {
    "name": "ipython",
    "version": 3
   },
   "file_extension": ".py",
   "mimetype": "text/x-python",
   "name": "python",
   "nbconvert_exporter": "python",
   "pygments_lexer": "ipython3",
   "version": "3.8.13"
  },
  "widgets": {
   "application/vnd.jupyter.widget-state+json": {
    "state": {
     "01b63a352cec48cc99a06ff2b7f838b6": {
      "model_module": "@jupyter-widgets/controls",
      "model_module_version": "1.5.0",
      "model_name": "DescriptionStyleModel",
      "state": {
       "_model_module": "@jupyter-widgets/controls",
       "_model_module_version": "1.5.0",
       "_model_name": "DescriptionStyleModel",
       "_view_count": null,
       "_view_module": "@jupyter-widgets/base",
       "_view_module_version": "1.2.0",
       "_view_name": "StyleView",
       "description_width": ""
      }
     },
     "03c97ce31f6a4628a494d402c25918ba": {
      "model_module": "@jupyter-widgets/controls",
      "model_module_version": "1.5.0",
      "model_name": "DescriptionStyleModel",
      "state": {
       "_model_module": "@jupyter-widgets/controls",
       "_model_module_version": "1.5.0",
       "_model_name": "DescriptionStyleModel",
       "_view_count": null,
       "_view_module": "@jupyter-widgets/base",
       "_view_module_version": "1.2.0",
       "_view_name": "StyleView",
       "description_width": ""
      }
     },
     "146dfe3a757d4ade9a72c1686325c4f9": {
      "model_module": "@jupyter-widgets/base",
      "model_module_version": "1.2.0",
      "model_name": "LayoutModel",
      "state": {
       "_model_module": "@jupyter-widgets/base",
       "_model_module_version": "1.2.0",
       "_model_name": "LayoutModel",
       "_view_count": null,
       "_view_module": "@jupyter-widgets/base",
       "_view_module_version": "1.2.0",
       "_view_name": "LayoutView",
       "align_content": null,
       "align_items": null,
       "align_self": null,
       "border": null,
       "bottom": null,
       "display": null,
       "flex": null,
       "flex_flow": null,
       "grid_area": null,
       "grid_auto_columns": null,
       "grid_auto_flow": null,
       "grid_auto_rows": null,
       "grid_column": null,
       "grid_gap": null,
       "grid_row": null,
       "grid_template_areas": null,
       "grid_template_columns": null,
       "grid_template_rows": null,
       "height": null,
       "justify_content": null,
       "justify_items": null,
       "left": null,
       "margin": null,
       "max_height": null,
       "max_width": null,
       "min_height": null,
       "min_width": null,
       "object_fit": null,
       "object_position": null,
       "order": null,
       "overflow": null,
       "overflow_x": null,
       "overflow_y": null,
       "padding": null,
       "right": null,
       "top": null,
       "visibility": null,
       "width": null
      }
     },
     "1839e1778ca74469beb49fd345a3346a": {
      "model_module": "@jupyter-widgets/base",
      "model_module_version": "1.2.0",
      "model_name": "LayoutModel",
      "state": {
       "_model_module": "@jupyter-widgets/base",
       "_model_module_version": "1.2.0",
       "_model_name": "LayoutModel",
       "_view_count": null,
       "_view_module": "@jupyter-widgets/base",
       "_view_module_version": "1.2.0",
       "_view_name": "LayoutView",
       "align_content": null,
       "align_items": null,
       "align_self": null,
       "border": null,
       "bottom": null,
       "display": null,
       "flex": null,
       "flex_flow": null,
       "grid_area": null,
       "grid_auto_columns": null,
       "grid_auto_flow": null,
       "grid_auto_rows": null,
       "grid_column": null,
       "grid_gap": null,
       "grid_row": null,
       "grid_template_areas": null,
       "grid_template_columns": null,
       "grid_template_rows": null,
       "height": null,
       "justify_content": null,
       "justify_items": null,
       "left": null,
       "margin": null,
       "max_height": null,
       "max_width": null,
       "min_height": null,
       "min_width": null,
       "object_fit": null,
       "object_position": null,
       "order": null,
       "overflow": null,
       "overflow_x": null,
       "overflow_y": null,
       "padding": null,
       "right": null,
       "top": null,
       "visibility": null,
       "width": null
      }
     },
     "1e28540b099147c28e1295d3325d0354": {
      "model_module": "@jupyter-widgets/base",
      "model_module_version": "1.2.0",
      "model_name": "LayoutModel",
      "state": {
       "_model_module": "@jupyter-widgets/base",
       "_model_module_version": "1.2.0",
       "_model_name": "LayoutModel",
       "_view_count": null,
       "_view_module": "@jupyter-widgets/base",
       "_view_module_version": "1.2.0",
       "_view_name": "LayoutView",
       "align_content": null,
       "align_items": null,
       "align_self": null,
       "border": null,
       "bottom": null,
       "display": null,
       "flex": null,
       "flex_flow": null,
       "grid_area": null,
       "grid_auto_columns": null,
       "grid_auto_flow": null,
       "grid_auto_rows": null,
       "grid_column": null,
       "grid_gap": null,
       "grid_row": null,
       "grid_template_areas": null,
       "grid_template_columns": null,
       "grid_template_rows": null,
       "height": null,
       "justify_content": null,
       "justify_items": null,
       "left": null,
       "margin": null,
       "max_height": null,
       "max_width": null,
       "min_height": null,
       "min_width": null,
       "object_fit": null,
       "object_position": null,
       "order": null,
       "overflow": null,
       "overflow_x": null,
       "overflow_y": null,
       "padding": null,
       "right": null,
       "top": null,
       "visibility": null,
       "width": null
      }
     },
     "20ba98f646d14abf8f2a8b0229546ca7": {
      "model_module": "@jupyter-widgets/controls",
      "model_module_version": "1.5.0",
      "model_name": "DescriptionStyleModel",
      "state": {
       "_model_module": "@jupyter-widgets/controls",
       "_model_module_version": "1.5.0",
       "_model_name": "DescriptionStyleModel",
       "_view_count": null,
       "_view_module": "@jupyter-widgets/base",
       "_view_module_version": "1.2.0",
       "_view_name": "StyleView",
       "description_width": ""
      }
     },
     "23f8fb97b5214ffd911ed18cea39b16b": {
      "model_module": "@jupyter-widgets/controls",
      "model_module_version": "1.5.0",
      "model_name": "HTMLModel",
      "state": {
       "_dom_classes": [],
       "_model_module": "@jupyter-widgets/controls",
       "_model_module_version": "1.5.0",
       "_model_name": "HTMLModel",
       "_view_count": null,
       "_view_module": "@jupyter-widgets/controls",
       "_view_module_version": "1.5.0",
       "_view_name": "HTMLView",
       "description": "",
       "description_tooltip": null,
       "layout": "IPY_MODEL_1e28540b099147c28e1295d3325d0354",
       "placeholder": "​",
       "style": "IPY_MODEL_03c97ce31f6a4628a494d402c25918ba",
       "value": "99155/100000 [00:08&lt;00:00, 12239.19it/s]"
      }
     },
     "2c0e68bc87e74110b4bbb22ea6011069": {
      "model_module": "@jupyter-widgets/controls",
      "model_module_version": "1.5.0",
      "model_name": "HTMLModel",
      "state": {
       "_dom_classes": [],
       "_model_module": "@jupyter-widgets/controls",
       "_model_module_version": "1.5.0",
       "_model_name": "HTMLModel",
       "_view_count": null,
       "_view_module": "@jupyter-widgets/controls",
       "_view_module_version": "1.5.0",
       "_view_name": "HTMLView",
       "description": "",
       "description_tooltip": null,
       "layout": "IPY_MODEL_af9c419a5cb24a9ca75f301ee72d5044",
       "placeholder": "​",
       "style": "IPY_MODEL_20ba98f646d14abf8f2a8b0229546ca7",
       "value": "20/20 [00:23&lt;00:00,  3.19s/it]"
      }
     },
     "2c312400b6074f1a9c6fed8f4cbb475e": {
      "model_module": "@jupyter-widgets/base",
      "model_module_version": "1.2.0",
      "model_name": "LayoutModel",
      "state": {
       "_model_module": "@jupyter-widgets/base",
       "_model_module_version": "1.2.0",
       "_model_name": "LayoutModel",
       "_view_count": null,
       "_view_module": "@jupyter-widgets/base",
       "_view_module_version": "1.2.0",
       "_view_name": "LayoutView",
       "align_content": null,
       "align_items": null,
       "align_self": null,
       "border": null,
       "bottom": null,
       "display": null,
       "flex": null,
       "flex_flow": null,
       "grid_area": null,
       "grid_auto_columns": null,
       "grid_auto_flow": null,
       "grid_auto_rows": null,
       "grid_column": null,
       "grid_gap": null,
       "grid_row": null,
       "grid_template_areas": null,
       "grid_template_columns": null,
       "grid_template_rows": null,
       "height": null,
       "justify_content": null,
       "justify_items": null,
       "left": null,
       "margin": null,
       "max_height": null,
       "max_width": null,
       "min_height": null,
       "min_width": null,
       "object_fit": null,
       "object_position": null,
       "order": null,
       "overflow": null,
       "overflow_x": null,
       "overflow_y": null,
       "padding": null,
       "right": null,
       "top": null,
       "visibility": null,
       "width": null
      }
     },
     "36880cae190b4d4883993775ce8b515f": {
      "model_module": "@jupyter-widgets/controls",
      "model_module_version": "1.5.0",
      "model_name": "HBoxModel",
      "state": {
       "_dom_classes": [],
       "_model_module": "@jupyter-widgets/controls",
       "_model_module_version": "1.5.0",
       "_model_name": "HBoxModel",
       "_view_count": null,
       "_view_module": "@jupyter-widgets/controls",
       "_view_module_version": "1.5.0",
       "_view_name": "HBoxView",
       "box_style": "",
       "children": [
        "IPY_MODEL_e5e6083bff034607ab53ef5c2bd606a5",
        "IPY_MODEL_df4212a6fa594670b28cb89f8ccb9cf4",
        "IPY_MODEL_52b30110ab3542b188370f9a672eea61"
       ],
       "layout": "IPY_MODEL_c6b30059f30c4d9288d3d22900708b5e"
      }
     },
     "36cbad9ea78b453791df75408523acbf": {
      "model_module": "@jupyter-widgets/controls",
      "model_module_version": "1.5.0",
      "model_name": "HTMLModel",
      "state": {
       "_dom_classes": [],
       "_model_module": "@jupyter-widgets/controls",
       "_model_module_version": "1.5.0",
       "_model_name": "HTMLModel",
       "_view_count": null,
       "_view_module": "@jupyter-widgets/controls",
       "_view_module_version": "1.5.0",
       "_view_name": "HTMLView",
       "description": "",
       "description_tooltip": null,
       "layout": "IPY_MODEL_2c312400b6074f1a9c6fed8f4cbb475e",
       "placeholder": "​",
       "style": "IPY_MODEL_837c3ced8bd543a29e5717d5b4ae336b",
       "value": "Iterations:"
      }
     },
     "375d900cb49b40b49b55c99932fa5be4": {
      "model_module": "@jupyter-widgets/base",
      "model_module_version": "1.2.0",
      "model_name": "LayoutModel",
      "state": {
       "_model_module": "@jupyter-widgets/base",
       "_model_module_version": "1.2.0",
       "_model_name": "LayoutModel",
       "_view_count": null,
       "_view_module": "@jupyter-widgets/base",
       "_view_module_version": "1.2.0",
       "_view_name": "LayoutView",
       "align_content": null,
       "align_items": null,
       "align_self": null,
       "border": null,
       "bottom": null,
       "display": null,
       "flex": null,
       "flex_flow": null,
       "grid_area": null,
       "grid_auto_columns": null,
       "grid_auto_flow": null,
       "grid_auto_rows": null,
       "grid_column": null,
       "grid_gap": null,
       "grid_row": null,
       "grid_template_areas": null,
       "grid_template_columns": null,
       "grid_template_rows": null,
       "height": null,
       "justify_content": null,
       "justify_items": null,
       "left": null,
       "margin": null,
       "max_height": null,
       "max_width": null,
       "min_height": null,
       "min_width": null,
       "object_fit": null,
       "object_position": null,
       "order": null,
       "overflow": null,
       "overflow_x": null,
       "overflow_y": null,
       "padding": null,
       "right": null,
       "top": null,
       "visibility": null,
       "width": "6%"
      }
     },
     "41721766ffdf41c488835f7011401983": {
      "model_module": "@jupyter-widgets/controls",
      "model_module_version": "1.5.0",
      "model_name": "ProgressStyleModel",
      "state": {
       "_model_module": "@jupyter-widgets/controls",
       "_model_module_version": "1.5.0",
       "_model_name": "ProgressStyleModel",
       "_view_count": null,
       "_view_module": "@jupyter-widgets/base",
       "_view_module_version": "1.2.0",
       "_view_name": "StyleView",
       "bar_color": null,
       "description_width": ""
      }
     },
     "4370b6cb4ec94698842e497386221a9f": {
      "model_module": "@jupyter-widgets/base",
      "model_module_version": "1.2.0",
      "model_name": "LayoutModel",
      "state": {
       "_model_module": "@jupyter-widgets/base",
       "_model_module_version": "1.2.0",
       "_model_name": "LayoutModel",
       "_view_count": null,
       "_view_module": "@jupyter-widgets/base",
       "_view_module_version": "1.2.0",
       "_view_name": "LayoutView",
       "align_content": null,
       "align_items": null,
       "align_self": null,
       "border": null,
       "bottom": null,
       "display": null,
       "flex": null,
       "flex_flow": null,
       "grid_area": null,
       "grid_auto_columns": null,
       "grid_auto_flow": null,
       "grid_auto_rows": null,
       "grid_column": null,
       "grid_gap": null,
       "grid_row": null,
       "grid_template_areas": null,
       "grid_template_columns": null,
       "grid_template_rows": null,
       "height": null,
       "justify_content": null,
       "justify_items": null,
       "left": null,
       "margin": null,
       "max_height": null,
       "max_width": null,
       "min_height": null,
       "min_width": null,
       "object_fit": null,
       "object_position": null,
       "order": null,
       "overflow": null,
       "overflow_x": null,
       "overflow_y": null,
       "padding": null,
       "right": null,
       "top": null,
       "visibility": null,
       "width": null
      }
     },
     "4caba8b2cbca48448a844bed14d5c110": {
      "model_module": "@jupyter-widgets/base",
      "model_module_version": "1.2.0",
      "model_name": "LayoutModel",
      "state": {
       "_model_module": "@jupyter-widgets/base",
       "_model_module_version": "1.2.0",
       "_model_name": "LayoutModel",
       "_view_count": null,
       "_view_module": "@jupyter-widgets/base",
       "_view_module_version": "1.2.0",
       "_view_name": "LayoutView",
       "align_content": null,
       "align_items": null,
       "align_self": null,
       "border": null,
       "bottom": null,
       "display": null,
       "flex": null,
       "flex_flow": null,
       "grid_area": null,
       "grid_auto_columns": null,
       "grid_auto_flow": null,
       "grid_auto_rows": null,
       "grid_column": null,
       "grid_gap": null,
       "grid_row": null,
       "grid_template_areas": null,
       "grid_template_columns": null,
       "grid_template_rows": null,
       "height": null,
       "justify_content": null,
       "justify_items": null,
       "left": null,
       "margin": null,
       "max_height": null,
       "max_width": null,
       "min_height": null,
       "min_width": null,
       "object_fit": null,
       "object_position": null,
       "order": null,
       "overflow": null,
       "overflow_x": null,
       "overflow_y": null,
       "padding": null,
       "right": null,
       "top": null,
       "visibility": null,
       "width": null
      }
     },
     "4ecd9722a1dc483fad756ee332b67a7f": {
      "model_module": "@jupyter-widgets/base",
      "model_module_version": "1.2.0",
      "model_name": "LayoutModel",
      "state": {
       "_model_module": "@jupyter-widgets/base",
       "_model_module_version": "1.2.0",
       "_model_name": "LayoutModel",
       "_view_count": null,
       "_view_module": "@jupyter-widgets/base",
       "_view_module_version": "1.2.0",
       "_view_name": "LayoutView",
       "align_content": null,
       "align_items": null,
       "align_self": null,
       "border": null,
       "bottom": null,
       "display": null,
       "flex": null,
       "flex_flow": null,
       "grid_area": null,
       "grid_auto_columns": null,
       "grid_auto_flow": null,
       "grid_auto_rows": null,
       "grid_column": null,
       "grid_gap": null,
       "grid_row": null,
       "grid_template_areas": null,
       "grid_template_columns": null,
       "grid_template_rows": null,
       "height": null,
       "justify_content": null,
       "justify_items": null,
       "left": null,
       "margin": null,
       "max_height": null,
       "max_width": null,
       "min_height": null,
       "min_width": null,
       "object_fit": null,
       "object_position": null,
       "order": null,
       "overflow": null,
       "overflow_x": null,
       "overflow_y": null,
       "padding": null,
       "right": null,
       "top": null,
       "visibility": null,
       "width": "20px"
      }
     },
     "4fa64b83e18e426baf8a1a0d42ac57e0": {
      "model_module": "@jupyter-widgets/base",
      "model_module_version": "1.2.0",
      "model_name": "LayoutModel",
      "state": {
       "_model_module": "@jupyter-widgets/base",
       "_model_module_version": "1.2.0",
       "_model_name": "LayoutModel",
       "_view_count": null,
       "_view_module": "@jupyter-widgets/base",
       "_view_module_version": "1.2.0",
       "_view_name": "LayoutView",
       "align_content": null,
       "align_items": null,
       "align_self": null,
       "border": null,
       "bottom": null,
       "display": null,
       "flex": null,
       "flex_flow": null,
       "grid_area": null,
       "grid_auto_columns": null,
       "grid_auto_flow": null,
       "grid_auto_rows": null,
       "grid_column": null,
       "grid_gap": null,
       "grid_row": null,
       "grid_template_areas": null,
       "grid_template_columns": null,
       "grid_template_rows": null,
       "height": null,
       "justify_content": null,
       "justify_items": null,
       "left": null,
       "margin": null,
       "max_height": null,
       "max_width": null,
       "min_height": null,
       "min_width": null,
       "object_fit": null,
       "object_position": null,
       "order": null,
       "overflow": null,
       "overflow_x": null,
       "overflow_y": null,
       "padding": null,
       "right": null,
       "top": null,
       "visibility": null,
       "width": "20px"
      }
     },
     "52b30110ab3542b188370f9a672eea61": {
      "model_module": "@jupyter-widgets/controls",
      "model_module_version": "1.5.0",
      "model_name": "HTMLModel",
      "state": {
       "_dom_classes": [],
       "_model_module": "@jupyter-widgets/controls",
       "_model_module_version": "1.5.0",
       "_model_name": "HTMLModel",
       "_view_count": null,
       "_view_module": "@jupyter-widgets/controls",
       "_view_module_version": "1.5.0",
       "_view_name": "HTMLView",
       "description": "",
       "description_tooltip": null,
       "layout": "IPY_MODEL_ad4de3e8b8ac4513b7c77381822ec036",
       "placeholder": "​",
       "style": "IPY_MODEL_01b63a352cec48cc99a06ff2b7f838b6",
       "value": "0/? [00:00&lt;?, ?it/s]"
      }
     },
     "53ab3bb1f14445c6a196b703975d5930": {
      "model_module": "@jupyter-widgets/controls",
      "model_module_version": "1.5.0",
      "model_name": "ProgressStyleModel",
      "state": {
       "_model_module": "@jupyter-widgets/controls",
       "_model_module_version": "1.5.0",
       "_model_name": "ProgressStyleModel",
       "_view_count": null,
       "_view_module": "@jupyter-widgets/base",
       "_view_module_version": "1.2.0",
       "_view_name": "StyleView",
       "bar_color": null,
       "description_width": ""
      }
     },
     "6f104f09862d46858dc844c754cb1b5d": {
      "model_module": "@jupyter-widgets/base",
      "model_module_version": "1.2.0",
      "model_name": "LayoutModel",
      "state": {
       "_model_module": "@jupyter-widgets/base",
       "_model_module_version": "1.2.0",
       "_model_name": "LayoutModel",
       "_view_count": null,
       "_view_module": "@jupyter-widgets/base",
       "_view_module_version": "1.2.0",
       "_view_name": "LayoutView",
       "align_content": null,
       "align_items": null,
       "align_self": null,
       "border": null,
       "bottom": null,
       "display": null,
       "flex": null,
       "flex_flow": null,
       "grid_area": null,
       "grid_auto_columns": null,
       "grid_auto_flow": null,
       "grid_auto_rows": null,
       "grid_column": null,
       "grid_gap": null,
       "grid_row": null,
       "grid_template_areas": null,
       "grid_template_columns": null,
       "grid_template_rows": null,
       "height": null,
       "justify_content": null,
       "justify_items": null,
       "left": null,
       "margin": null,
       "max_height": null,
       "max_width": null,
       "min_height": null,
       "min_width": null,
       "object_fit": null,
       "object_position": null,
       "order": null,
       "overflow": null,
       "overflow_x": null,
       "overflow_y": null,
       "padding": null,
       "right": null,
       "top": null,
       "visibility": null,
       "width": "60%"
      }
     },
     "6f829647df8f4beab0afe3908ad31885": {
      "model_module": "@jupyter-widgets/controls",
      "model_module_version": "1.5.0",
      "model_name": "DescriptionStyleModel",
      "state": {
       "_model_module": "@jupyter-widgets/controls",
       "_model_module_version": "1.5.0",
       "_model_name": "DescriptionStyleModel",
       "_view_count": null,
       "_view_module": "@jupyter-widgets/base",
       "_view_module_version": "1.2.0",
       "_view_name": "StyleView",
       "description_width": ""
      }
     },
     "702bf141b8364646874e625d624d6f05": {
      "model_module": "@jupyter-widgets/controls",
      "model_module_version": "1.5.0",
      "model_name": "ProgressStyleModel",
      "state": {
       "_model_module": "@jupyter-widgets/controls",
       "_model_module_version": "1.5.0",
       "_model_name": "ProgressStyleModel",
       "_view_count": null,
       "_view_module": "@jupyter-widgets/base",
       "_view_module_version": "1.2.0",
       "_view_name": "StyleView",
       "bar_color": null,
       "description_width": ""
      }
     },
     "837c3ced8bd543a29e5717d5b4ae336b": {
      "model_module": "@jupyter-widgets/controls",
      "model_module_version": "1.5.0",
      "model_name": "DescriptionStyleModel",
      "state": {
       "_model_module": "@jupyter-widgets/controls",
       "_model_module_version": "1.5.0",
       "_model_name": "DescriptionStyleModel",
       "_view_count": null,
       "_view_module": "@jupyter-widgets/base",
       "_view_module_version": "1.2.0",
       "_view_name": "StyleView",
       "description_width": ""
      }
     },
     "8ac8614785684ff18e46c95f4fbf9793": {
      "model_module": "@jupyter-widgets/controls",
      "model_module_version": "1.5.0",
      "model_name": "FloatProgressModel",
      "state": {
       "_dom_classes": [],
       "_model_module": "@jupyter-widgets/controls",
       "_model_module_version": "1.5.0",
       "_model_name": "FloatProgressModel",
       "_view_count": null,
       "_view_module": "@jupyter-widgets/controls",
       "_view_module_version": "1.5.0",
       "_view_name": "ProgressView",
       "bar_style": "info",
       "description": "",
       "description_tooltip": null,
       "layout": "IPY_MODEL_4ecd9722a1dc483fad756ee332b67a7f",
       "max": 1.0,
       "min": 0.0,
       "orientation": "horizontal",
       "style": "IPY_MODEL_e9ea80271df94158bebee44a2e61b14d",
       "value": 0.0
      }
     },
     "8f310242c05a45829924ab15e9ee2f8f": {
      "model_module": "@jupyter-widgets/base",
      "model_module_version": "1.2.0",
      "model_name": "LayoutModel",
      "state": {
       "_model_module": "@jupyter-widgets/base",
       "_model_module_version": "1.2.0",
       "_model_name": "LayoutModel",
       "_view_count": null,
       "_view_module": "@jupyter-widgets/base",
       "_view_module_version": "1.2.0",
       "_view_name": "LayoutView",
       "align_content": null,
       "align_items": null,
       "align_self": null,
       "border": null,
       "bottom": null,
       "display": null,
       "flex": null,
       "flex_flow": null,
       "grid_area": null,
       "grid_auto_columns": null,
       "grid_auto_flow": null,
       "grid_auto_rows": null,
       "grid_column": null,
       "grid_gap": null,
       "grid_row": null,
       "grid_template_areas": null,
       "grid_template_columns": null,
       "grid_template_rows": null,
       "height": null,
       "justify_content": null,
       "justify_items": null,
       "left": null,
       "margin": null,
       "max_height": null,
       "max_width": null,
       "min_height": null,
       "min_width": null,
       "object_fit": null,
       "object_position": null,
       "order": null,
       "overflow": null,
       "overflow_x": null,
       "overflow_y": null,
       "padding": null,
       "right": null,
       "top": null,
       "visibility": null,
       "width": null
      }
     },
     "94f010e42fb74099bd97b8ebce28ed51": {
      "model_module": "@jupyter-widgets/controls",
      "model_module_version": "1.5.0",
      "model_name": "DescriptionStyleModel",
      "state": {
       "_model_module": "@jupyter-widgets/controls",
       "_model_module_version": "1.5.0",
       "_model_name": "DescriptionStyleModel",
       "_view_count": null,
       "_view_module": "@jupyter-widgets/base",
       "_view_module_version": "1.2.0",
       "_view_name": "StyleView",
       "description_width": ""
      }
     },
     "a7ccc2bcd26148929e21dbbb13e90b1c": {
      "model_module": "@jupyter-widgets/controls",
      "model_module_version": "1.5.0",
      "model_name": "HBoxModel",
      "state": {
       "_dom_classes": [],
       "_model_module": "@jupyter-widgets/controls",
       "_model_module_version": "1.5.0",
       "_model_name": "HBoxModel",
       "_view_count": null,
       "_view_module": "@jupyter-widgets/controls",
       "_view_module_version": "1.5.0",
       "_view_name": "HBoxView",
       "box_style": "",
       "children": [
        "IPY_MODEL_c73fd621572a4b11aac4c2d4c4814da4",
        "IPY_MODEL_ffb082b4084b4595b27f92b51eb5cb6c",
        "IPY_MODEL_2c0e68bc87e74110b4bbb22ea6011069"
       ],
       "layout": "IPY_MODEL_1839e1778ca74469beb49fd345a3346a"
      }
     },
     "aa86420c7bfc49b2a5243344004fb46c": {
      "model_module": "@jupyter-widgets/controls",
      "model_module_version": "1.5.0",
      "model_name": "HBoxModel",
      "state": {
       "_dom_classes": [],
       "_model_module": "@jupyter-widgets/controls",
       "_model_module_version": "1.5.0",
       "_model_name": "HBoxModel",
       "_view_count": null,
       "_view_module": "@jupyter-widgets/controls",
       "_view_module_version": "1.5.0",
       "_view_name": "HBoxView",
       "box_style": "",
       "children": [
        "IPY_MODEL_d529eef08e9747249255411cd247806b",
        "IPY_MODEL_bc9c9d839ab24906afbb92beb4a7277b",
        "IPY_MODEL_23f8fb97b5214ffd911ed18cea39b16b"
       ],
       "layout": "IPY_MODEL_4370b6cb4ec94698842e497386221a9f"
      }
     },
     "acfe9f4a62cc4739b09bf62c5f705942": {
      "model_module": "@jupyter-widgets/controls",
      "model_module_version": "1.5.0",
      "model_name": "DescriptionStyleModel",
      "state": {
       "_model_module": "@jupyter-widgets/controls",
       "_model_module_version": "1.5.0",
       "_model_name": "DescriptionStyleModel",
       "_view_count": null,
       "_view_module": "@jupyter-widgets/base",
       "_view_module_version": "1.2.0",
       "_view_name": "StyleView",
       "description_width": ""
      }
     },
     "ad1deeebf3b64300a2cf75e3555a35fe": {
      "model_module": "@jupyter-widgets/output",
      "model_module_version": "1.0.0",
      "model_name": "OutputModel",
      "state": {
       "_dom_classes": [],
       "_model_module": "@jupyter-widgets/output",
       "_model_module_version": "1.0.0",
       "_model_name": "OutputModel",
       "_view_count": null,
       "_view_module": "@jupyter-widgets/output",
       "_view_module_version": "1.0.0",
       "_view_name": "OutputView",
       "layout": "IPY_MODEL_146dfe3a757d4ade9a72c1686325c4f9",
       "msg_id": "",
       "outputs": []
      }
     },
     "ad4de3e8b8ac4513b7c77381822ec036": {
      "model_module": "@jupyter-widgets/base",
      "model_module_version": "1.2.0",
      "model_name": "LayoutModel",
      "state": {
       "_model_module": "@jupyter-widgets/base",
       "_model_module_version": "1.2.0",
       "_model_name": "LayoutModel",
       "_view_count": null,
       "_view_module": "@jupyter-widgets/base",
       "_view_module_version": "1.2.0",
       "_view_name": "LayoutView",
       "align_content": null,
       "align_items": null,
       "align_self": null,
       "border": null,
       "bottom": null,
       "display": null,
       "flex": null,
       "flex_flow": null,
       "grid_area": null,
       "grid_auto_columns": null,
       "grid_auto_flow": null,
       "grid_auto_rows": null,
       "grid_column": null,
       "grid_gap": null,
       "grid_row": null,
       "grid_template_areas": null,
       "grid_template_columns": null,
       "grid_template_rows": null,
       "height": null,
       "justify_content": null,
       "justify_items": null,
       "left": null,
       "margin": null,
       "max_height": null,
       "max_width": null,
       "min_height": null,
       "min_width": null,
       "object_fit": null,
       "object_position": null,
       "order": null,
       "overflow": null,
       "overflow_x": null,
       "overflow_y": null,
       "padding": null,
       "right": null,
       "top": null,
       "visibility": null,
       "width": null
      }
     },
     "af9c419a5cb24a9ca75f301ee72d5044": {
      "model_module": "@jupyter-widgets/base",
      "model_module_version": "1.2.0",
      "model_name": "LayoutModel",
      "state": {
       "_model_module": "@jupyter-widgets/base",
       "_model_module_version": "1.2.0",
       "_model_name": "LayoutModel",
       "_view_count": null,
       "_view_module": "@jupyter-widgets/base",
       "_view_module_version": "1.2.0",
       "_view_name": "LayoutView",
       "align_content": null,
       "align_items": null,
       "align_self": null,
       "border": null,
       "bottom": null,
       "display": null,
       "flex": null,
       "flex_flow": null,
       "grid_area": null,
       "grid_auto_columns": null,
       "grid_auto_flow": null,
       "grid_auto_rows": null,
       "grid_column": null,
       "grid_gap": null,
       "grid_row": null,
       "grid_template_areas": null,
       "grid_template_columns": null,
       "grid_template_rows": null,
       "height": null,
       "justify_content": null,
       "justify_items": null,
       "left": null,
       "margin": null,
       "max_height": null,
       "max_width": null,
       "min_height": null,
       "min_width": null,
       "object_fit": null,
       "object_position": null,
       "order": null,
       "overflow": null,
       "overflow_x": null,
       "overflow_y": null,
       "padding": null,
       "right": null,
       "top": null,
       "visibility": null,
       "width": null
      }
     },
     "b5df1f34f2894fa4995d7e44431703cb": {
      "model_module": "@jupyter-widgets/output",
      "model_module_version": "1.0.0",
      "model_name": "OutputModel",
      "state": {
       "_dom_classes": [],
       "_model_module": "@jupyter-widgets/output",
       "_model_module_version": "1.0.0",
       "_model_name": "OutputModel",
       "_view_count": null,
       "_view_module": "@jupyter-widgets/output",
       "_view_module_version": "1.0.0",
       "_view_name": "OutputView",
       "layout": "IPY_MODEL_e8ef3b9dce6e448a89bf6e2c9b736f0e",
       "msg_id": "",
       "outputs": []
      }
     },
     "bc9c9d839ab24906afbb92beb4a7277b": {
      "model_module": "@jupyter-widgets/controls",
      "model_module_version": "1.5.0",
      "model_name": "FloatProgressModel",
      "state": {
       "_dom_classes": [],
       "_model_module": "@jupyter-widgets/controls",
       "_model_module_version": "1.5.0",
       "_model_name": "FloatProgressModel",
       "_view_count": null,
       "_view_module": "@jupyter-widgets/controls",
       "_view_module_version": "1.5.0",
       "_view_name": "ProgressView",
       "bar_style": "",
       "description": "",
       "description_tooltip": null,
       "layout": "IPY_MODEL_6f104f09862d46858dc844c754cb1b5d",
       "max": 100000.0,
       "min": 0.0,
       "orientation": "horizontal",
       "style": "IPY_MODEL_702bf141b8364646874e625d624d6f05",
       "value": 99155.0
      }
     },
     "bdd2e01e6b0e48588cbf726be22f25ca": {
      "model_module": "@jupyter-widgets/base",
      "model_module_version": "1.2.0",
      "model_name": "LayoutModel",
      "state": {
       "_model_module": "@jupyter-widgets/base",
       "_model_module_version": "1.2.0",
       "_model_name": "LayoutModel",
       "_view_count": null,
       "_view_module": "@jupyter-widgets/base",
       "_view_module_version": "1.2.0",
       "_view_name": "LayoutView",
       "align_content": null,
       "align_items": null,
       "align_self": null,
       "border": null,
       "bottom": null,
       "display": null,
       "flex": null,
       "flex_flow": null,
       "grid_area": null,
       "grid_auto_columns": null,
       "grid_auto_flow": null,
       "grid_auto_rows": null,
       "grid_column": null,
       "grid_gap": null,
       "grid_row": null,
       "grid_template_areas": null,
       "grid_template_columns": null,
       "grid_template_rows": null,
       "height": null,
       "justify_content": null,
       "justify_items": null,
       "left": null,
       "margin": null,
       "max_height": null,
       "max_width": null,
       "min_height": null,
       "min_width": null,
       "object_fit": null,
       "object_position": null,
       "order": null,
       "overflow": null,
       "overflow_x": null,
       "overflow_y": null,
       "padding": null,
       "right": null,
       "top": null,
       "visibility": null,
       "width": null
      }
     },
     "c6b30059f30c4d9288d3d22900708b5e": {
      "model_module": "@jupyter-widgets/base",
      "model_module_version": "1.2.0",
      "model_name": "LayoutModel",
      "state": {
       "_model_module": "@jupyter-widgets/base",
       "_model_module_version": "1.2.0",
       "_model_name": "LayoutModel",
       "_view_count": null,
       "_view_module": "@jupyter-widgets/base",
       "_view_module_version": "1.2.0",
       "_view_name": "LayoutView",
       "align_content": null,
       "align_items": null,
       "align_self": null,
       "border": null,
       "bottom": null,
       "display": null,
       "flex": null,
       "flex_flow": null,
       "grid_area": null,
       "grid_auto_columns": null,
       "grid_auto_flow": null,
       "grid_auto_rows": null,
       "grid_column": null,
       "grid_gap": null,
       "grid_row": null,
       "grid_template_areas": null,
       "grid_template_columns": null,
       "grid_template_rows": null,
       "height": null,
       "justify_content": null,
       "justify_items": null,
       "left": null,
       "margin": null,
       "max_height": null,
       "max_width": null,
       "min_height": null,
       "min_width": null,
       "object_fit": null,
       "object_position": null,
       "order": null,
       "overflow": null,
       "overflow_x": null,
       "overflow_y": null,
       "padding": null,
       "right": null,
       "top": null,
       "visibility": null,
       "width": null
      }
     },
     "c73fd621572a4b11aac4c2d4c4814da4": {
      "model_module": "@jupyter-widgets/controls",
      "model_module_version": "1.5.0",
      "model_name": "HTMLModel",
      "state": {
       "_dom_classes": [],
       "_model_module": "@jupyter-widgets/controls",
       "_model_module_version": "1.5.0",
       "_model_name": "HTMLModel",
       "_view_count": null,
       "_view_module": "@jupyter-widgets/controls",
       "_view_module_version": "1.5.0",
       "_view_name": "HTMLView",
       "description": "",
       "description_tooltip": null,
       "layout": "IPY_MODEL_d361412907714583872eaebe84c50a14",
       "placeholder": "​",
       "style": "IPY_MODEL_acfe9f4a62cc4739b09bf62c5f705942",
       "value": "Iterations:"
      }
     },
     "cb60c7b3d81c4887ae3238d61c9f9496": {
      "model_module": "@jupyter-widgets/controls",
      "model_module_version": "1.5.0",
      "model_name": "HTMLModel",
      "state": {
       "_dom_classes": [],
       "_model_module": "@jupyter-widgets/controls",
       "_model_module_version": "1.5.0",
       "_model_name": "HTMLModel",
       "_view_count": null,
       "_view_module": "@jupyter-widgets/controls",
       "_view_module_version": "1.5.0",
       "_view_name": "HTMLView",
       "description": "",
       "description_tooltip": null,
       "layout": "IPY_MODEL_4caba8b2cbca48448a844bed14d5c110",
       "placeholder": "​",
       "style": "IPY_MODEL_e1902a3936154fca9df029eab1e68945",
       "value": "0/? [00:00&lt;?, ?it/s]"
      }
     },
     "cfe6640d02d442928da06a1ec521c8c2": {
      "model_module": "@jupyter-widgets/base",
      "model_module_version": "1.2.0",
      "model_name": "LayoutModel",
      "state": {
       "_model_module": "@jupyter-widgets/base",
       "_model_module_version": "1.2.0",
       "_model_name": "LayoutModel",
       "_view_count": null,
       "_view_module": "@jupyter-widgets/base",
       "_view_module_version": "1.2.0",
       "_view_name": "LayoutView",
       "align_content": null,
       "align_items": null,
       "align_self": null,
       "border": null,
       "bottom": null,
       "display": null,
       "flex": null,
       "flex_flow": null,
       "grid_area": null,
       "grid_auto_columns": null,
       "grid_auto_flow": null,
       "grid_auto_rows": null,
       "grid_column": null,
       "grid_gap": null,
       "grid_row": null,
       "grid_template_areas": null,
       "grid_template_columns": null,
       "grid_template_rows": null,
       "height": null,
       "justify_content": null,
       "justify_items": null,
       "left": null,
       "margin": null,
       "max_height": null,
       "max_width": null,
       "min_height": null,
       "min_width": null,
       "object_fit": null,
       "object_position": null,
       "order": null,
       "overflow": null,
       "overflow_x": null,
       "overflow_y": null,
       "padding": null,
       "right": null,
       "top": null,
       "visibility": null,
       "width": "60%"
      }
     },
     "d361412907714583872eaebe84c50a14": {
      "model_module": "@jupyter-widgets/base",
      "model_module_version": "1.2.0",
      "model_name": "LayoutModel",
      "state": {
       "_model_module": "@jupyter-widgets/base",
       "_model_module_version": "1.2.0",
       "_model_name": "LayoutModel",
       "_view_count": null,
       "_view_module": "@jupyter-widgets/base",
       "_view_module_version": "1.2.0",
       "_view_name": "LayoutView",
       "align_content": null,
       "align_items": null,
       "align_self": null,
       "border": null,
       "bottom": null,
       "display": null,
       "flex": null,
       "flex_flow": null,
       "grid_area": null,
       "grid_auto_columns": null,
       "grid_auto_flow": null,
       "grid_auto_rows": null,
       "grid_column": null,
       "grid_gap": null,
       "grid_row": null,
       "grid_template_areas": null,
       "grid_template_columns": null,
       "grid_template_rows": null,
       "height": null,
       "justify_content": null,
       "justify_items": null,
       "left": null,
       "margin": null,
       "max_height": null,
       "max_width": null,
       "min_height": null,
       "min_width": null,
       "object_fit": null,
       "object_position": null,
       "order": null,
       "overflow": null,
       "overflow_x": null,
       "overflow_y": null,
       "padding": null,
       "right": null,
       "top": null,
       "visibility": null,
       "width": "6%"
      }
     },
     "d529eef08e9747249255411cd247806b": {
      "model_module": "@jupyter-widgets/controls",
      "model_module_version": "1.5.0",
      "model_name": "HTMLModel",
      "state": {
       "_dom_classes": [],
       "_model_module": "@jupyter-widgets/controls",
       "_model_module_version": "1.5.0",
       "_model_name": "HTMLModel",
       "_view_count": null,
       "_view_module": "@jupyter-widgets/controls",
       "_view_module_version": "1.5.0",
       "_view_name": "HTMLView",
       "description": "",
       "description_tooltip": null,
       "layout": "IPY_MODEL_375d900cb49b40b49b55c99932fa5be4",
       "placeholder": "​",
       "style": "IPY_MODEL_94f010e42fb74099bd97b8ebce28ed51",
       "value": "Packets:   "
      }
     },
     "df4212a6fa594670b28cb89f8ccb9cf4": {
      "model_module": "@jupyter-widgets/controls",
      "model_module_version": "1.5.0",
      "model_name": "FloatProgressModel",
      "state": {
       "_dom_classes": [],
       "_model_module": "@jupyter-widgets/controls",
       "_model_module_version": "1.5.0",
       "_model_name": "FloatProgressModel",
       "_view_count": null,
       "_view_module": "@jupyter-widgets/controls",
       "_view_module_version": "1.5.0",
       "_view_name": "ProgressView",
       "bar_style": "info",
       "description": "",
       "description_tooltip": null,
       "layout": "IPY_MODEL_4fa64b83e18e426baf8a1a0d42ac57e0",
       "max": 1.0,
       "min": 0.0,
       "orientation": "horizontal",
       "style": "IPY_MODEL_41721766ffdf41c488835f7011401983",
       "value": 0.0
      }
     },
     "e1902a3936154fca9df029eab1e68945": {
      "model_module": "@jupyter-widgets/controls",
      "model_module_version": "1.5.0",
      "model_name": "DescriptionStyleModel",
      "state": {
       "_model_module": "@jupyter-widgets/controls",
       "_model_module_version": "1.5.0",
       "_model_name": "DescriptionStyleModel",
       "_view_count": null,
       "_view_module": "@jupyter-widgets/base",
       "_view_module_version": "1.2.0",
       "_view_name": "StyleView",
       "description_width": ""
      }
     },
     "e5e6083bff034607ab53ef5c2bd606a5": {
      "model_module": "@jupyter-widgets/controls",
      "model_module_version": "1.5.0",
      "model_name": "HTMLModel",
      "state": {
       "_dom_classes": [],
       "_model_module": "@jupyter-widgets/controls",
       "_model_module_version": "1.5.0",
       "_model_name": "HTMLModel",
       "_view_count": null,
       "_view_module": "@jupyter-widgets/controls",
       "_view_module_version": "1.5.0",
       "_view_name": "HTMLView",
       "description": "",
       "description_tooltip": null,
       "layout": "IPY_MODEL_8f310242c05a45829924ab15e9ee2f8f",
       "placeholder": "​",
       "style": "IPY_MODEL_6f829647df8f4beab0afe3908ad31885",
       "value": "Packets:   "
      }
     },
     "e8ef3b9dce6e448a89bf6e2c9b736f0e": {
      "model_module": "@jupyter-widgets/base",
      "model_module_version": "1.2.0",
      "model_name": "LayoutModel",
      "state": {
       "_model_module": "@jupyter-widgets/base",
       "_model_module_version": "1.2.0",
       "_model_name": "LayoutModel",
       "_view_count": null,
       "_view_module": "@jupyter-widgets/base",
       "_view_module_version": "1.2.0",
       "_view_name": "LayoutView",
       "align_content": null,
       "align_items": null,
       "align_self": null,
       "border": null,
       "bottom": null,
       "display": null,
       "flex": null,
       "flex_flow": null,
       "grid_area": null,
       "grid_auto_columns": null,
       "grid_auto_flow": null,
       "grid_auto_rows": null,
       "grid_column": null,
       "grid_gap": null,
       "grid_row": null,
       "grid_template_areas": null,
       "grid_template_columns": null,
       "grid_template_rows": null,
       "height": null,
       "justify_content": null,
       "justify_items": null,
       "left": null,
       "margin": null,
       "max_height": null,
       "max_width": null,
       "min_height": null,
       "min_width": null,
       "object_fit": null,
       "object_position": null,
       "order": null,
       "overflow": null,
       "overflow_x": null,
       "overflow_y": null,
       "padding": null,
       "right": null,
       "top": null,
       "visibility": null,
       "width": null
      }
     },
     "e9ea80271df94158bebee44a2e61b14d": {
      "model_module": "@jupyter-widgets/controls",
      "model_module_version": "1.5.0",
      "model_name": "ProgressStyleModel",
      "state": {
       "_model_module": "@jupyter-widgets/controls",
       "_model_module_version": "1.5.0",
       "_model_name": "ProgressStyleModel",
       "_view_count": null,
       "_view_module": "@jupyter-widgets/base",
       "_view_module_version": "1.2.0",
       "_view_name": "StyleView",
       "bar_color": null,
       "description_width": ""
      }
     },
     "ece005dc66fc4a4e986273c91cd4a285": {
      "model_module": "@jupyter-widgets/controls",
      "model_module_version": "1.5.0",
      "model_name": "HBoxModel",
      "state": {
       "_dom_classes": [],
       "_model_module": "@jupyter-widgets/controls",
       "_model_module_version": "1.5.0",
       "_model_name": "HBoxModel",
       "_view_count": null,
       "_view_module": "@jupyter-widgets/controls",
       "_view_module_version": "1.5.0",
       "_view_name": "HBoxView",
       "box_style": "",
       "children": [
        "IPY_MODEL_36cbad9ea78b453791df75408523acbf",
        "IPY_MODEL_8ac8614785684ff18e46c95f4fbf9793",
        "IPY_MODEL_cb60c7b3d81c4887ae3238d61c9f9496"
       ],
       "layout": "IPY_MODEL_bdd2e01e6b0e48588cbf726be22f25ca"
      }
     },
     "ffb082b4084b4595b27f92b51eb5cb6c": {
      "model_module": "@jupyter-widgets/controls",
      "model_module_version": "1.5.0",
      "model_name": "FloatProgressModel",
      "state": {
       "_dom_classes": [],
       "_model_module": "@jupyter-widgets/controls",
       "_model_module_version": "1.5.0",
       "_model_name": "FloatProgressModel",
       "_view_count": null,
       "_view_module": "@jupyter-widgets/controls",
       "_view_module_version": "1.5.0",
       "_view_name": "ProgressView",
       "bar_style": "",
       "description": "",
       "description_tooltip": null,
       "layout": "IPY_MODEL_cfe6640d02d442928da06a1ec521c8c2",
       "max": 20.0,
       "min": 0.0,
       "orientation": "horizontal",
       "style": "IPY_MODEL_53ab3bb1f14445c6a196b703975d5930",
       "value": 20.0
      }
     }
    },
    "version_major": 2,
    "version_minor": 0
   }
  }
 },
 "nbformat": 4,
 "nbformat_minor": 1
}
